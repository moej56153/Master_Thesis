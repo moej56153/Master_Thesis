{
 "cells": [
  {
   "cell_type": "code",
   "execution_count": 232,
   "metadata": {},
   "outputs": [],
   "source": [
    "from IntegralQuery import SearchQuery, IntegralQuery, Filter, Range #################################################\n",
    "import numpy as np\n",
    "from dataclasses import dataclass\n",
    "import astropy.units as u\n",
    "from astropy.coordinates import SkyCoord\n",
    "from datetime import datetime\n",
    "from numba import njit, vectorize\n",
    "\n",
    "\n",
    "\n",
    "@njit\n",
    "def calculate_distance_matrix(quick_list, angle_weight, time_weight, max_distance):\n",
    "    l = len(quick_list)\n",
    "    distances = np.full((l,l), 2*max_distance)\n",
    "    \n",
    "    partitions = [0]\n",
    "    for i in range(1,l):\n",
    "        if quick_list[i,2]-quick_list[i-1,2] > max_distance/angle_weight:\n",
    "            partitions.append(i)\n",
    "    partitions.append(l)\n",
    "    \n",
    "    for i in range(len(partitions)-1):\n",
    "        for j in range(partitions[i], partitions[i+1]):\n",
    "            for k in range(j+1, partitions[i+1]):\n",
    "                distances[j,k] = distances[k,j] = calculate_distance(quick_list[j],quick_list[k],\n",
    "                                                                     angle_weight,time_weight)\n",
    "                \n",
    "    np.fill_diagonal(distances,0.)\n",
    "            \n",
    "    return partitions, distances\n",
    "\n",
    "@njit\n",
    "def calculate_distance(point1, point2, angle_weight, time_weight):\n",
    "    ang_dis = np.arccos( np.sin(point1[1])*np.sin(point2[1]) # Large Error for very small angles\n",
    "                        + np.cos(point1[1])*np.cos(point2[1]) * np.cos(point1[0] - point2[0]) )\n",
    "    time_dis = abs(point1[2] - point2[2])\n",
    "    return ( (angle_weight*ang_dis)**2 + (time_weight*time_dis)**2 )**0.5\n",
    "\n",
    "@njit\n",
    "def find_regions(distances, max_distance): ####################### Include Partitions?\n",
    "    unconnected = [i for i in range(len(distances))]\n",
    "    regions = []\n",
    "    \n",
    "    while not len(unconnected)==0:\n",
    "        temp_region = [unconnected.pop(0)]\n",
    "        search_index = 0\n",
    "        while search_index < len(temp_region):\n",
    "            l = len(unconnected)\n",
    "            for i in range(l-1,-1,-1):\n",
    "                if distances[ temp_region[search_index], unconnected[i] ] < max_distance:\n",
    "                    temp_region.append(unconnected.pop(i))\n",
    "            search_index += 1\n",
    "        regions.append(temp_region)\n",
    "        \n",
    "    return regions\n",
    "        \n",
    "        \n",
    "    \n",
    "    \n",
    "\n",
    "\n",
    "class Cluster:\n",
    "    pass\n",
    "\n",
    "@dataclass\n",
    "class Pointing:\n",
    "    '''\n",
    "    Dataclass that represents a single Pointing\n",
    "    '''\n",
    "    scw_id: str\n",
    "    sky_coords: SkyCoord\n",
    "    start_time: datetime\n",
    "    cluster: Cluster = None\n",
    "    \n",
    "    def distance_calculator(self, pointing2, angle_weight: float, time_weight: float): #####################################################\n",
    "        return ( (angle_weight * self.sky_coords.separation(pointing2.sky_coords).deg)**2\n",
    "                + (time_weight * abs( (self.start_time - pointing2.start_time).total_seconds()/86400 ) )**2 )**0.5\n",
    "\n",
    "\n",
    "\n",
    "\n",
    "\n",
    "\n",
    "class ClusteredQuery:\n",
    "    def __init__(self,\n",
    "                 scw_ids, # Has to be sorted by START_DATE\n",
    "                 angle_weight,\n",
    "                 time_weight,\n",
    "                 max_distance,\n",
    "                 cluster_size_range = (3,5),\n",
    "                 cluster_size_preferece_threshold = (2,2)):\n",
    "        \"\"\"\n",
    "        Init the Clustered Query object. Used to cluster pointings\n",
    "        \n",
    "        \"\"\"\n",
    "        \n",
    "        \n",
    "        self._num_pointings = len(scw_ids)\n",
    "        \n",
    "        self.quick_list = np.zeros((self._num_pointings, 3))\n",
    "        self.quick_list[:,0:2] = scw_ids[:,1:3]\n",
    "        for i in range(self._num_pointings):\n",
    "            self.quick_list[i,2] = (scw_ids[i,3] - datetime(2000,1,1,0,0,0)).total_seconds()/86400\n",
    "            \n",
    "        self.partitions, self.distance = calculate_distance_matrix(self.quick_list, angle_weight, time_weight, max_distance)\n",
    "        \n",
    "        \n",
    "        self._pointings = np.array([Pointing(pointing[0],\n",
    "                                       SkyCoord(pointing[1],pointing[2],frame=\"icrs\",unit=\"deg\"),\n",
    "                                       pointing[3])\n",
    "                              for pointing in scw_ids])\n",
    "        \n",
    "        self._distances = np.zeros((self._num_pointings, self._num_pointings))\n",
    "        \n",
    "        # for i in range(self._num_pointings):\n",
    "        #     for j in range(i+1, self._num_pointings):\n",
    "        #         self._distances[i,j] = self._distances[j,i] = self._pointings[i].distance_calculator(self._pointings[j], angle_weight, time_weight)\n",
    "        \n",
    "        \n",
    "    @property\n",
    "    def num_pointings(self):\n",
    "        \"\"\"\n",
    "        :returns: Number of Pointings\n",
    "        \"\"\"\n",
    "        return self._num_pointings\n",
    "    \n",
    "    @property\n",
    "    def pointings(self):\n",
    "        \"\"\"\n",
    "        :returns: Base List of Pointings\n",
    "        \"\"\"\n",
    "        return self._pointings\n",
    "    \n",
    "    @property\n",
    "    def distances(self):\n",
    "        \"\"\"\n",
    "        :returns: Base Distance Matrix of Pointings\n",
    "        \"\"\"\n",
    "        return self._distances\n",
    "    \n",
    "\n",
    "\n",
    "\n",
    "\n",
    "\n"
   ]
  },
  {
   "cell_type": "code",
   "execution_count": 233,
   "metadata": {},
   "outputs": [
    {
     "name": "stderr",
     "output_type": "stream",
     "text": [
      "WARNING: UnitsWarning: 'ISO' did not parse as fits unit: At col 0, Unit 'ISO' not supported by the FITS standard.  If this is meant to be a custom unit, define it with 'u.def_unit'. To have it recognized inside a file reader or other code, enable it with 'u.add_enabled_units'. For details, see https://docs.astropy.org/en/latest/units/combining_and_defining.html [astropy.units.core]\n"
     ]
    }
   ],
   "source": [
    "searchquerry = SearchQuery(object_name=\"Cyg X-1\", resultmax=0)\n",
    "cat = IntegralQuery(searchquerry)\n",
    "f = Filter(SCW_TYPE=\"POINTING\")\n",
    "scw_ids = cat.apply_filter(f,True)"
   ]
  },
  {
   "cell_type": "code",
   "execution_count": 234,
   "metadata": {},
   "outputs": [],
   "source": [
    "test = ClusteredQuery(scw_ids, 1., 1., 10.)"
   ]
  },
  {
   "cell_type": "code",
   "execution_count": 235,
   "metadata": {},
   "outputs": [
    {
     "data": {
      "text/plain": [
       "array([Pointing(scw_id='001130000050', sky_coords=<SkyCoord (ICRS): (ra, dec) in deg\n",
       "           (299.543488, 35.301971)>, start_time=datetime.datetime(2002, 11, 16, 20, 6, 11), cluster=None),\n",
       "       Pointing(scw_id='001130000070', sky_coords=<SkyCoord (ICRS): (ra, dec) in deg\n",
       "           (299.590179, 35.201195)>, start_time=datetime.datetime(2002, 11, 16, 20, 18, 23), cluster=None),\n",
       "       Pointing(scw_id='001130000080', sky_coords=<SkyCoord (ICRS): (ra, dec) in deg\n",
       "           (299.590179, 35.201195)>, start_time=datetime.datetime(2002, 11, 16, 20, 55, 43), cluster=None),\n",
       "       ...,\n",
       "       Pointing(scw_id='250300240010', sky_coords=<SkyCoord (ICRS): (ra, dec) in deg\n",
       "           (306.328033, 35.514473)>, start_time=datetime.datetime(2022, 5, 16, 13, 17, 35), cluster=None),\n",
       "       Pointing(scw_id='250300250010', sky_coords=<SkyCoord (ICRS): (ra, dec) in deg\n",
       "           (307.85379, 33.744278)>, start_time=datetime.datetime(2022, 5, 16, 14, 15, 5), cluster=None),\n",
       "       Pointing(scw_id='250300260010', sky_coords=<SkyCoord (ICRS): (ra, dec) in deg\n",
       "           (305.735168, 32.48539)>, start_time=datetime.datetime(2022, 5, 16, 15, 12, 35), cluster=None)],\n",
       "      dtype=object)"
      ]
     },
     "execution_count": 235,
     "metadata": {},
     "output_type": "execute_result"
    }
   ],
   "source": [
    "test.pointings"
   ]
  },
  {
   "cell_type": "code",
   "execution_count": 236,
   "metadata": {},
   "outputs": [
    {
     "data": {
      "text/plain": [
       "array([[ 299.543488  ,   35.301971  , 1050.83762731],\n",
       "       [ 299.590179  ,   35.201195  , 1050.84609954],\n",
       "       [ 299.590179  ,   35.201195  , 1050.87202546],\n",
       "       ...,\n",
       "       [ 306.328033  ,   35.514473  , 8171.55387731],\n",
       "       [ 307.85379   ,   33.744278  , 8171.59380787],\n",
       "       [ 305.735168  ,   32.48539   , 8171.63373843]])"
      ]
     },
     "execution_count": 236,
     "metadata": {},
     "output_type": "execute_result"
    }
   ],
   "source": [
    "test.quick_list"
   ]
  },
  {
   "cell_type": "code",
   "execution_count": 237,
   "metadata": {},
   "outputs": [
    {
     "data": {
      "text/plain": [
       "array([[42.64875815, 42.70224952, 42.7878189 , 42.77155362, 42.79569216,\n",
       "        42.84393261, 42.8753621 , 42.86977125, 43.10530103, 43.14840649],\n",
       "       [42.63738565, 42.69088279, 42.78198787, 42.75972509, 42.78659251,\n",
       "        42.83143798, 42.86694702, 42.85780199, 43.09848836, 43.14159253],\n",
       "       [42.61146921, 42.66496636, 42.75611051, 42.73381798, 42.76068543,\n",
       "        42.80554186, 42.84105626, 42.83188945, 43.07258586, 43.11569   ],\n",
       "       [42.60777955, 42.66095546, 42.66034825, 42.75620607, 42.70830223,\n",
       "        42.81091715, 42.76584051, 42.84679913, 43.00230918, 43.04543676],\n",
       "       [42.58642898, 42.63960472, 42.63898384, 42.73487617, 42.68693497,\n",
       "        42.78958778, 42.74447535, 42.82546095, 42.98093686, 43.02406443],\n",
       "       [42.52039343, 42.57387612, 42.61470036, 42.6218912 , 42.67099874,\n",
       "        42.67405563, 42.72021416, 42.72879144, 42.98969254, 43.03278601],\n",
       "       [42.5005703 , 42.55387378, 42.5795149 , 42.62111885, 42.62734607,\n",
       "        42.67039836, 42.68041171, 42.71928964, 42.93867442, 42.98179865],\n",
       "       [42.54480985, 42.59783499, 42.56413566, 42.65790274, 42.62747301,\n",
       "        42.69459675, 42.67574473, 42.78952615, 42.91597034, 42.95909435],\n",
       "       [42.49861511, 42.55238445, 42.5761443 , 42.57523906, 42.67035741,\n",
       "        42.63082921, 42.70619238, 42.69652455, 42.94505136, 42.98812244],\n",
       "       [42.43811993, 42.49161718, 42.58302853, 42.56052818, 42.58740201,\n",
       "        42.63232518, 42.66788399, 42.65856498, 42.89933308, 42.94243692]])"
      ]
     },
     "execution_count": 237,
     "metadata": {},
     "output_type": "execute_result"
    }
   ],
   "source": [
    "test.distance[0:10,770:780]"
   ]
  },
  {
   "cell_type": "code",
   "execution_count": 238,
   "metadata": {},
   "outputs": [
    {
     "data": {
      "text/plain": [
       "0.10000000000000056"
      ]
     },
     "execution_count": 238,
     "metadata": {},
     "output_type": "execute_result"
    }
   ],
   "source": [
    "p1 = np.array([300.,40.,0.])\n",
    "p2 = np.array([300.,40.1,0.])\n",
    "calculate_distance(p1,p2,1.,1.)"
   ]
  },
  {
   "cell_type": "code",
   "execution_count": 239,
   "metadata": {},
   "outputs": [
    {
     "data": {
      "text/plain": [
       "([0,\n",
       "  783,\n",
       "  788,\n",
       "  796,\n",
       "  802,\n",
       "  806,\n",
       "  926,\n",
       "  930,\n",
       "  933,\n",
       "  940,\n",
       "  952,\n",
       "  953,\n",
       "  962,\n",
       "  979,\n",
       "  982,\n",
       "  985,\n",
       "  1226,\n",
       "  1230,\n",
       "  1233,\n",
       "  1236,\n",
       "  1480,\n",
       "  1482,\n",
       "  1490,\n",
       "  1493,\n",
       "  1496,\n",
       "  1498,\n",
       "  1501,\n",
       "  1504,\n",
       "  1509,\n",
       "  1513,\n",
       "  1516,\n",
       "  1518,\n",
       "  1521,\n",
       "  1527,\n",
       "  1533,\n",
       "  1540,\n",
       "  1545,\n",
       "  1550,\n",
       "  1609,\n",
       "  1611,\n",
       "  1617,\n",
       "  1644,\n",
       "  1703,\n",
       "  1774,\n",
       "  1924,\n",
       "  1930,\n",
       "  1936,\n",
       "  1938,\n",
       "  1939,\n",
       "  2207,\n",
       "  2209,\n",
       "  2237,\n",
       "  2397,\n",
       "  2399,\n",
       "  2691,\n",
       "  2708,\n",
       "  2723,\n",
       "  2927,\n",
       "  2936,\n",
       "  2939,\n",
       "  3089,\n",
       "  3148,\n",
       "  3207,\n",
       "  3704,\n",
       "  3706,\n",
       "  3763,\n",
       "  3822,\n",
       "  4032,\n",
       "  4194,\n",
       "  4202,\n",
       "  4260,\n",
       "  4332,\n",
       "  4442,\n",
       "  4444,\n",
       "  4448,\n",
       "  4529,\n",
       "  4683,\n",
       "  4707,\n",
       "  4715,\n",
       "  4724,\n",
       "  5008,\n",
       "  5091,\n",
       "  5134,\n",
       "  5139,\n",
       "  5240,\n",
       "  5781,\n",
       "  6174,\n",
       "  6605,\n",
       "  7441,\n",
       "  7443,\n",
       "  7544,\n",
       "  7704,\n",
       "  7758,\n",
       "  7782,\n",
       "  7786,\n",
       "  7787,\n",
       "  7813,\n",
       "  7819,\n",
       "  7834,\n",
       "  7836,\n",
       "  8142,\n",
       "  8415,\n",
       "  8422,\n",
       "  8424,\n",
       "  8428,\n",
       "  8469,\n",
       "  8471,\n",
       "  8485,\n",
       "  8933,\n",
       "  8957,\n",
       "  8963,\n",
       "  8974,\n",
       "  8976,\n",
       "  8979,\n",
       "  8983,\n",
       "  9336,\n",
       "  9356,\n",
       "  9371,\n",
       "  9384,\n",
       "  9571,\n",
       "  9676,\n",
       "  9702],\n",
       " array([[ 0.        ,  0.10729474,  0.11235486, ..., 20.        ,\n",
       "         20.        , 20.        ],\n",
       "        [ 0.10729474,  0.        ,  0.02592593, ..., 20.        ,\n",
       "         20.        , 20.        ],\n",
       "        [ 0.11235486,  0.02592593,  0.        , ..., 20.        ,\n",
       "         20.        , 20.        ],\n",
       "        ...,\n",
       "        [20.        , 20.        , 20.        , ...,  0.        ,\n",
       "          2.18506734,  2.81393936],\n",
       "        [20.        , 20.        , 20.        , ...,  2.18506734,\n",
       "          0.        ,  0.62942099],\n",
       "        [20.        , 20.        , 20.        , ...,  2.81393936,\n",
       "          0.62942099,  0.        ]]))"
      ]
     },
     "execution_count": 239,
     "metadata": {},
     "output_type": "execute_result"
    }
   ],
   "source": [
    "calculate_distance_matrix(test.quick_list,1.,1.,10.)"
   ]
  },
  {
   "cell_type": "code",
   "execution_count": 240,
   "metadata": {},
   "outputs": [],
   "source": [
    "test.test=1"
   ]
  },
  {
   "cell_type": "code",
   "execution_count": 241,
   "metadata": {},
   "outputs": [
    {
     "data": {
      "text/plain": [
       "1"
      ]
     },
     "execution_count": 241,
     "metadata": {},
     "output_type": "execute_result"
    }
   ],
   "source": [
    "test.test"
   ]
  },
  {
   "cell_type": "code",
   "execution_count": 244,
   "metadata": {},
   "outputs": [],
   "source": [
    "d = np.array([[0.,1.,1.,20.,20.,20.],\n",
    "              [1.,0.,1.,20.,20.,3.],\n",
    "              [1.,1.,0.,20.,20.,20.],\n",
    "              [20.,20.,20.,0.,2.,20.],\n",
    "              [20.,20.,20.,2.,0.,20.],\n",
    "              [20.,3.,20.,20.,20.,20.]])"
   ]
  },
  {
   "cell_type": "code",
   "execution_count": 245,
   "metadata": {},
   "outputs": [
    {
     "data": {
      "text/plain": [
       "[[0, 2, 1, 5], [3, 4]]"
      ]
     },
     "execution_count": 245,
     "metadata": {},
     "output_type": "execute_result"
    }
   ],
   "source": [
    "find_regions(d,10.)"
   ]
  },
  {
   "cell_type": "code",
   "execution_count": null,
   "metadata": {},
   "outputs": [],
   "source": []
  }
 ],
 "metadata": {
  "kernelspec": {
   "display_name": "Python 3.9.13 64-bit ('MT')",
   "language": "python",
   "name": "python3"
  },
  "language_info": {
   "codemirror_mode": {
    "name": "ipython",
    "version": 3
   },
   "file_extension": ".py",
   "mimetype": "text/x-python",
   "name": "python",
   "nbconvert_exporter": "python",
   "pygments_lexer": "ipython3",
   "version": "3.9.13"
  },
  "orig_nbformat": 4,
  "vscode": {
   "interpreter": {
    "hash": "77c6aaad9a34bae581a83e51509dc60b9a05d4f3ba3ef918f772e036566f2e96"
   }
  }
 },
 "nbformat": 4,
 "nbformat_minor": 2
}
