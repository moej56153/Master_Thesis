{
 "cells": [
  {
   "cell_type": "code",
   "execution_count": 580,
   "metadata": {},
   "outputs": [],
   "source": [
    "from IntegralQuery import SearchQuery, IntegralQuery, Filter, Range #################################################\n",
    "import numpy as np\n",
    "from dataclasses import dataclass\n",
    "import astropy.units as u\n",
    "from astropy.coordinates import SkyCoord\n",
    "from datetime import datetime\n",
    "from numba import njit, vectorize\n",
    "\n",
    "\n",
    "\n",
    "@njit\n",
    "def calculate_distance_matrix(quick_list, angle_weight, time_weight, max_distance):\n",
    "    l = len(quick_list)\n",
    "    distances = np.full((l,l), 2*max_distance)\n",
    "    \n",
    "    partitions = [0]\n",
    "    for i in range(1,l):\n",
    "        if quick_list[i,2]-quick_list[i-1,2] > max_distance/time_weight:\n",
    "            partitions.append(i)\n",
    "    partitions.append(l)\n",
    "    \n",
    "    for i in range(len(partitions)-1):\n",
    "        for j in range(partitions[i], partitions[i+1]):\n",
    "\n",
    "            for k in range(j+1, partitions[i+1]):\n",
    "                distances[j,k] = distances[k,j] = calculate_distance(quick_list[j],quick_list[k],\n",
    "                                                                     angle_weight,time_weight)\n",
    "                \n",
    "    np.fill_diagonal(distances,0.)\n",
    "            \n",
    "    return np.array(partitions), distances\n",
    "\n",
    "@njit\n",
    "def calculate_distance(point1, point2, angle_weight, time_weight):\n",
    "    ang_dis = np.arccos( np.sin(point1[1])*np.sin(point2[1]) # Large Error for very small angles\n",
    "                        + np.cos(point1[1])*np.cos(point2[1]) * np.cos(point1[0] - point2[0]) )\n",
    "    time_dis = abs(point1[2] - point2[2])\n",
    "    return ( (angle_weight*ang_dis)**2 + (time_weight*time_dis)**2 )**0.5\n",
    "\n",
    "@njit\n",
    "def find_regions(distances, max_distance, partitions):\n",
    "    regions = []\n",
    "    for i,partition in enumerate(partitions[:-1]):\n",
    "        unconnected = [j for j in range(partition, partitions[i+1])]\n",
    "        while not len(unconnected)==0:\n",
    "            temp_region = [unconnected.pop(0)]\n",
    "            search_index = 0\n",
    "            while search_index < len(temp_region):\n",
    "                l = len(unconnected)\n",
    "                for j in range(l-1,-1,-1):\n",
    "                    if distances[ temp_region[search_index], unconnected[j] ] < max_distance:\n",
    "                        temp_region.append(unconnected.pop(j))\n",
    "                search_index += 1\n",
    "            regions.append(sorted(temp_region))\n",
    "    return regions\n",
    "\n",
    "@njit\n",
    "def choose_random_weighted_interval(weights):\n",
    "    r = np.random.random(1)[0] * np.sum(weights)\n",
    "    s = 0.\n",
    "    for i, w in enumerate(weights):\n",
    "        s += w\n",
    "        if r < s:\n",
    "            return i\n",
    "        \n",
    "@njit\n",
    "def calc_pair_combinations(number):\n",
    "    return (number)*(number-1)/2\n",
    "    \n",
    "    \n",
    "\n",
    "class Cluster:\n",
    "    def __init__(self,\n",
    "                 pointing,\n",
    "                 region):\n",
    "        self.indices = [pointing.index]\n",
    "        self.avg_distance = 0.\n",
    "        self.num_pointings = 1\n",
    "        self.pointings = [pointing]\n",
    "        self.region = region\n",
    "        \n",
    "    def add_pointing(self, pointing):\n",
    "        self.avg_distance = self.calc_new_avg_dist(pointing)\n",
    "        self.indices.append(pointing.index)\n",
    "        self.pointings.append(pointing)\n",
    "        self.num_pointings += 1\n",
    "        \n",
    "    def should_add_pointing(self, pointing):\n",
    "        if self.num_pointings < self.region.query._cluster_size_range[1]:\n",
    "            if self.find_new_max_dist(pointing) < self.region.query._max_distance:\n",
    "                if self.num_pointings >= self.region.query._cluster_size_range[0]:\n",
    "                    if (self.calc_new_avg_dist(pointing)/self.avg_distance \n",
    "                        < self.region.query._cluster_size_preference_threshold[self.num_pointings \n",
    "                                                                                - self.region.query._cluster_size_range[0]]):\n",
    "                        return True\n",
    "                else:\n",
    "                    return True\n",
    "        return False\n",
    "    \n",
    "        \n",
    "    def dissolve_cluster(self):\n",
    "        for p in self.pointings:\n",
    "            p.cluster = None\n",
    "            \n",
    "        \n",
    "        \n",
    "    def calc_new_avg_dist(self, pointing):\n",
    "        return ((self.avg_distance * calc_pair_combinations(self.num_pointings)\n",
    "                 + np.sum(self.region.query._distances[pointing.index,self.indices]))\n",
    "                 / calc_pair_combinations(self.num_pointings+1) )\n",
    "        \n",
    "    def find_new_max_dist(self, pointing):\n",
    "        temp_indices = self.indices.copy()\n",
    "        temp_indices.append(pointing.index)\n",
    "        return np.amax(self.region.query._distances[temp_indices,:][:,temp_indices])\n",
    "\n",
    "    def find_closest_pointings(self, cluster2):\n",
    "        d = self.region.query._distances[self.indices,:][:,cluster2.indices]\n",
    "        print(d)\n",
    "        c = np.unravel_index(d.argmin(), d.shape)\n",
    "        print(c)\n",
    "        return self.pointings[c[0]], cluster2.pointings[c[1]]\n",
    "    \n",
    "        \n",
    "\n",
    "@dataclass\n",
    "class Pointing:\n",
    "    '''\n",
    "    Dataclass that represents a single Pointing\n",
    "    '''\n",
    "    scw_id: str\n",
    "    sky_coords: SkyCoord\n",
    "    start_time: datetime\n",
    "    index: int\n",
    "    cluster: Cluster = None\n",
    "    cluster2: Cluster = None ############ Reset this, delete unnecessary clusters and regions ##############################################\n",
    "    \n",
    "    def distance_calculator(self, pointing2, angle_weight: float, time_weight: float): #####################################################\n",
    "        return ( (angle_weight * self.sky_coords.separation(pointing2.sky_coords).deg)**2\n",
    "                + (time_weight * abs( (self.start_time - pointing2.start_time).total_seconds()/86400 ) )**2 )**0.5\n",
    "        \n",
    "    def angle_between_three_pointings(self, pointing2, pointing3):\n",
    "        pass #####################\n",
    "\n",
    "\n",
    "\n",
    "\n",
    "\n",
    "\n",
    "class ClusteredQuery:\n",
    "    def __init__(self,\n",
    "                 scw_ids, # Has to be sorted by START_DATE\n",
    "                 angle_weight,\n",
    "                 time_weight,\n",
    "                 max_distance,\n",
    "                 cluster_size_range = (3,5),\n",
    "                 cluster_size_preference_threshold = (3,3),\n",
    "                 failed_improvements_max = 4,\n",
    "                 suboptimal_cluster_size_range = (1,2), #has to start at 1\n",
    "                 close_suboptimal_cluster_size_range = (1,3) # above has to be subset\n",
    "                 ):\n",
    "        \"\"\"\n",
    "        Init the Clustered Query object. Used to cluster pointings\n",
    "        \n",
    "        \"\"\"\n",
    "        self._max_distance = float(max_distance)\n",
    "        self._cluster_size_range = cluster_size_range\n",
    "        self._cluster_size_preference_threshold = cluster_size_preference_threshold\n",
    "        self._failed_improvements_max = failed_improvements_max\n",
    "        self._suboptimal_cluster_size_range = suboptimal_cluster_size_range\n",
    "        self._close_suboptimal_cluster_size_range = close_suboptimal_cluster_size_range\n",
    "        \n",
    "        self._num_pointings = len(scw_ids)\n",
    "        \n",
    "        self.quick_list = np.zeros((self._num_pointings, 3))\n",
    "        self.quick_list[:,0:2] = scw_ids[:,1:3]\n",
    "        for i in range(self._num_pointings):\n",
    "            self.quick_list[i,2] = (scw_ids[i,3] - datetime(2000,1,1,0,0,0)).total_seconds()/86400\n",
    "            \n",
    "        partitions, self._distances = calculate_distance_matrix(self.quick_list, angle_weight, time_weight, self._max_distance)\n",
    "        \n",
    "        self._sortable_distances = np.concatenate((self.distances,np.array([np.arange(self._num_pointings)]).T),axis=1) ################# point?\n",
    "        \n",
    "        self._region_indices = find_regions(self._distances, self._max_distance, partitions)\n",
    "        \n",
    "        \n",
    "        self._pointings = np.array([Pointing(pointing[0],\n",
    "                                            SkyCoord(pointing[1],pointing[2],frame=\"icrs\",unit=\"deg\"),\n",
    "                                            pointing[3], index)\n",
    "                                    for index, pointing in enumerate(scw_ids)])\n",
    "                \n",
    "        self._regions = []\n",
    "        \n",
    "        for i in self._region_indices:\n",
    "            self._regions.append(Region(i, self))\n",
    "            \n",
    "    \n",
    "    \n",
    "    @property\n",
    "    def pointings(self):\n",
    "        \"\"\"\n",
    "        :returns: Base List of Pointings\n",
    "        \"\"\"\n",
    "        return self._pointings\n",
    "    \n",
    "    @property\n",
    "    def distances(self):\n",
    "        \"\"\"\n",
    "        :returns: Base Distance Matrix of Pointings\n",
    "        \"\"\"\n",
    "        return self._distances\n",
    "    \n",
    "\n",
    "    \n",
    "    \n",
    "class Region:\n",
    "    def __init__(self,\n",
    "                 region_indices,\n",
    "                 query\n",
    "                 ):\n",
    "        self.indices = region_indices\n",
    "        \n",
    "        self.query = query\n",
    "        \n",
    "        self.distances = query._distances[self.indices,:][:,self.indices] ############ point?\n",
    "        self.sortable_distances = np.concatenate((self.distances,np.array([self.indices]).T),axis=1) # Adds indices as right column, sort using a[a[:,x].argsort()]\n",
    "        \n",
    "        self.clusters = {}\n",
    "        self.potential_clusters1 = {}\n",
    "        self.potential_clusters2 = {}\n",
    "        for i in range(query._cluster_size_range[1]):\n",
    "            self.clusters[i+1]=[]\n",
    "            self.potential_clusters1[i+1]=[]\n",
    "            self.potential_clusters2[i+1]=[]\n",
    "            \n",
    "\n",
    "        \n",
    "        self.initial_clustering()\n",
    "        \n",
    "        for key, value in self.clusters.items():\n",
    "            for c in value:\n",
    "                print(f\"{c.indices}, {c.avg_distance}\")\n",
    "        print(self.has_suboptimal_clusters())\n",
    "        \n",
    "        self.attempt_improvement()\n",
    "        \n",
    "        # failed_improvements = 0\n",
    "        # while failed_improvements < self.query._failed_improvements_max and self.has_suboptimal_clusters():\n",
    "        #     if not self.attempt_improvement():\n",
    "        #         failed_improvements += 1\n",
    "        #     else:\n",
    "        #         failed_improvements = 0\n",
    "        \n",
    "    \n",
    "    def initial_clustering(self):\n",
    "        cluster = Cluster(self.query._pointings[self.indices[0]], self)\n",
    "        for index in self.indices[1:]:\n",
    "            if cluster.should_add_pointing(self.query._pointings[index]):\n",
    "                cluster.add_pointing(self.query._pointings[index])\n",
    "            else:\n",
    "                self.clusters[cluster.num_pointings].append(cluster)\n",
    "                cluster = Cluster(self.query._pointings[index], self)\n",
    "        self.clusters[cluster.num_pointings].append(cluster)\n",
    "        \n",
    "    def attempt_improvement(self):\n",
    "        c1 = self.find_suboptimal_cluster()\n",
    "        c2 = self.find_close_suboptimal_cluster(c1)\n",
    "        if not self.find_cluster_path(c1,c2):\n",
    "            return False\n",
    "        \n",
    "    \n",
    "    def find_suboptimal_cluster(self):\n",
    "        size_weights = np.array([len(self.clusters[i]) / i**2\n",
    "                                 for i in range(self.query._suboptimal_cluster_size_range[0],\n",
    "                                                self.query._suboptimal_cluster_size_range[1] + 1)])\n",
    "        size = choose_random_weighted_interval(size_weights) + 1\n",
    "        index = np.random.randint(len(self.clusters[size]))\n",
    "        cluster = self.clusters[size].pop(index)\n",
    "        self.potential_clusters1[size].append(cluster)\n",
    "        return cluster\n",
    "    \n",
    "    def find_close_suboptimal_cluster(self, cluster):\n",
    "        clusters = []\n",
    "        cluster_size_indices = [0]\n",
    "        for i in range(self.query._close_suboptimal_cluster_size_range[0], \n",
    "                       self.query._close_suboptimal_cluster_size_range[1] + 1):\n",
    "            clusters.extend(self.clusters[i])\n",
    "            cluster_size_indices.append( len(self.clusters[i]) + cluster_size_indices[i-1] )\n",
    "        cluster_weights = np.zeros(len(clusters))\n",
    "        for i, c in enumerate(clusters):\n",
    "            d = self.query._distances[cluster.indices,:][:,c.indices]\n",
    "            cluster_weights[i] = np.exp( -2.*np.amin(d) / self.query._max_distance )\n",
    "        for i in range(1, self.query._close_suboptimal_cluster_size_range[1] + 1):\n",
    "            cluster_weights[cluster_size_indices[i-1]:cluster_size_indices[i]] /= i\n",
    "        index = choose_random_weighted_interval( cluster_weights )\n",
    "        for size, csi in enumerate(cluster_size_indices):\n",
    "            if not index >= csi:\n",
    "                break\n",
    "        true_index = index - cluster_size_indices[size-1]\n",
    "        \n",
    "        cluster2 = self.clusters[size].pop(true_index)\n",
    "        self.potential_clusters1[size].append(cluster2)\n",
    "        return cluster2\n",
    "        \n",
    "        \n",
    "        \n",
    "        \n",
    "    \n",
    "    def find_cluster_path(self, cluster1, cluster2):\n",
    "        indices_in = set(cluster1.indices)\n",
    "        indices_to = set(cluster2.indices)\n",
    "        arrived = False\n",
    "        while not arrived:\n",
    "        \n",
    "            indices_out = np.array([i for i in self.indices if i not in indices_in])\n",
    "            pointing1, pointing2 = cluster1.find_closest_pointings(cluster2)\n",
    "            print(pointing1.index,pointing2.index)\n",
    "            \n",
    "            num_points = min(self.query._cluster_size_range[1]*4, len(indices_out))\n",
    "\n",
    "            sortable_pointings = [i for i in range(num_points)]\n",
    "            distances = self.query._distances[pointing1.index,indices_out]\n",
    "            print()\n",
    "            print(num_points)\n",
    "            print(sortable_pointings)\n",
    "            print(distances)\n",
    "            close_indices = indices_out[np.argpartition(distances, sortable_pointings)[:num_points]]\n",
    "            print(close_indices)\n",
    "            print()\n",
    "            close_indices_weights = np.zeros(num_points)\n",
    "            for i in range(num_points):\n",
    "                d = self.query._distances[pointing1.index, close_indices[i]]\n",
    "                a = pointing1.angle_between_three_pointings(pointing2, self.query._pointings[close_indices[i]])\n",
    "                if d < self.query._max_distance:\n",
    "                    close_indices_weights[i] = np.exp(-3. * d / self.query._max_distance) * np.cos(a/2)**4\n",
    "            index = choose_random_weighted_interval(close_indices_weights)\n",
    "            if index is None:\n",
    "                return False\n",
    "            cluster1 = self.query._pointings[index].cluster\n",
    "            indices_in = indices_in | set(cluster1.indices)\n",
    "            if close_indices[index] in indices_to:\n",
    "                arrived = True\n",
    "            else:\n",
    "                self.clusters[cluster1.size].remove(cluster1)\n",
    "                self.potential_clusters1[cluster1].append(cluster1)\n",
    "            \n",
    "            arrived = True #################\n",
    "        return True\n",
    "        \n",
    "        \n",
    "        \n",
    "        \n",
    "        \n",
    "    \n",
    "    def calc_cluster_cost(self, clusters):\n",
    "        pass\n",
    "    \n",
    "    def recluster_pointings(self, pointings):\n",
    "        pass # make preference probabilistic\n",
    "    \n",
    "    def has_suboptimal_clusters(self):\n",
    "        s = 0\n",
    "        for i in range(self.query._suboptimal_cluster_size_range[0], \n",
    "                       self.query._suboptimal_cluster_size_range[1] + 1):\n",
    "            s += len(self.clusters[i])\n",
    "        if s >= 2:\n",
    "            return True\n",
    "        elif s >= 1:\n",
    "            for i in range(self.query._suboptimal_cluster_size_range[1] + 1,\n",
    "                           self.query._close_suboptimal_cluster_size_range[1] + 1):\n",
    "                s += len(self.clusters[i])\n",
    "            if s >= 2:\n",
    "                return True\n",
    "        return False\n",
    "            \n",
    "        \n",
    "\n",
    "\n",
    "\n",
    "\n"
   ]
  },
  {
   "cell_type": "code",
   "execution_count": 581,
   "metadata": {},
   "outputs": [
    {
     "name": "stderr",
     "output_type": "stream",
     "text": [
      "WARNING: UnitsWarning: 'ISO' did not parse as fits unit: At col 0, Unit 'ISO' not supported by the FITS standard.  If this is meant to be a custom unit, define it with 'u.def_unit'. To have it recognized inside a file reader or other code, enable it with 'u.add_enabled_units'. For details, see https://docs.astropy.org/en/latest/units/combining_and_defining.html [astropy.units.core]\n"
     ]
    }
   ],
   "source": [
    "searchquerry = SearchQuery(object_name=\"Cyg X-1\", resultmax=0)\n",
    "cat = IntegralQuery(searchquerry)\n",
    "f = Filter(SCW_TYPE=\"POINTING\")\n",
    "scw_ids = cat.apply_filter(f,True)"
   ]
  },
  {
   "cell_type": "code",
   "execution_count": 582,
   "metadata": {},
   "outputs": [
    {
     "name": "stdout",
     "output_type": "stream",
     "text": [
      "[19], 0.0\n",
      "[5, 6, 7], 1.831296171661494\n",
      "[12, 13, 14], 1.8267541396306226\n",
      "[8, 9, 10, 11], 1.2999530762680331\n",
      "[15, 16, 17, 18], 1.2981536904708968\n",
      "[0, 1, 2, 3, 4], 0.7751899214493297\n",
      "True\n",
      "[[0.17564257 0.89737088 2.61885778]]\n",
      "(0, 0)\n",
      "19 12\n",
      "\n",
      "19\n",
      "(0, 1, 2, 3, 4, 5, 6, 7, 8, 9, 10, 11, 12, 13, 14, 15, 16, 17, 18)\n",
      "[2.13134336 2.02585686 2.02037569 2.83672194 2.83398732 0.32954735\n",
      " 0.94084485 2.6388627  1.9844859  1.99202434 2.82089881 1.96970354\n",
      " 0.17564257 0.89737088 2.61885778 1.97031682 1.97810561 2.81000306\n",
      " 1.96682056]\n",
      "[12  5 13  6 18 11 15 16  8  9  2  1  0 14  7 17 10  4  3]\n"
     ]
    }
   ],
   "source": [
    "test = ClusteredQuery(scw_ids[:20], 1, 1, 2.8, cluster_size_preference_threshold = (100,100))\n",
    "#print(test._region_indices)"
   ]
  },
  {
   "cell_type": "code",
   "execution_count": 583,
   "metadata": {},
   "outputs": [
    {
     "name": "stdout",
     "output_type": "stream",
     "text": [
      "[3], 0.0\n",
      "[0, 1, 2], 0.08185850791460011\n",
      "True\n",
      "[[1.18375462 1.2789768  1.27787504]]\n",
      "(0, 0)\n",
      "3 0\n",
      "\n",
      "3\n",
      "(0, 1, 2)\n",
      "[1.18375462 1.2789768  1.27787504]\n",
      "[0 2 1]\n"
     ]
    }
   ],
   "source": [
    "test = ClusteredQuery(scw_ids[:4], 1, 1, 2.8, cluster_size_preference_threshold = (1,1))"
   ]
  },
  {
   "cell_type": "code",
   "execution_count": 584,
   "metadata": {},
   "outputs": [
    {
     "data": {
      "text/plain": [
       "array([[0.        , 0.10729474, 0.11235486, 1.18375462, 0.        ],\n",
       "       [0.10729474, 0.        , 0.02592593, 1.2789768 , 1.        ],\n",
       "       [0.11235486, 0.02592593, 0.        , 1.27787504, 2.        ],\n",
       "       [1.18375462, 1.2789768 , 1.27787504, 0.        , 3.        ]])"
      ]
     },
     "execution_count": 584,
     "metadata": {},
     "output_type": "execute_result"
    }
   ],
   "source": [
    "test._sortable_distances"
   ]
  },
  {
   "cell_type": "code",
   "execution_count": 585,
   "metadata": {},
   "outputs": [
    {
     "data": {
      "text/plain": [
       "array([[13, 17, 18, 19],\n",
       "       [43, 47, 48, 49],\n",
       "       [53, 57, 58, 59]])"
      ]
     },
     "execution_count": 585,
     "metadata": {},
     "output_type": "execute_result"
    }
   ],
   "source": [
    "a = np.reshape( np.arange(100), (10,10) )\n",
    "a[[1,4,5],:][:,[3,7,8,9]]"
   ]
  },
  {
   "cell_type": "code",
   "execution_count": 660,
   "metadata": {},
   "outputs": [
    {
     "data": {
      "text/plain": [
       "{1, 2, 3, 4, 5, 6}"
      ]
     },
     "execution_count": 660,
     "metadata": {},
     "output_type": "execute_result"
    }
   ],
   "source": [
    "a = [1,2,3]\n",
    "b = {4,5,6}\n",
    "a = set(a)\n",
    "a|b\n"
   ]
  },
  {
   "cell_type": "code",
   "execution_count": 587,
   "metadata": {},
   "outputs": [
    {
     "data": {
      "text/plain": [
       "array([[481, 662, 242, 157, 820, 200,  84, 564,  84, 238,   0],\n",
       "       [ 73, 803, 664, 720, 115, 696, 842, 679, 445, 520,   1],\n",
       "       [899, 263, 493, 405, 284,  80, 248, 753, 181, 604,   2],\n",
       "       [112, 524, 795, 962,  38, 747, 181, 446, 300, 536,   3],\n",
       "       [237, 970, 374, 697,  30, 852, 881, 473, 838, 561,   4],\n",
       "       [ 65, 975,  90, 306, 688, 617,  56, 598, 723, 726,   5],\n",
       "       [660, 197, 948, 798, 581, 945, 398, 672, 519, 977,   6],\n",
       "       [388, 171, 247, 361, 401, 747, 570, 872, 801, 415,   7],\n",
       "       [706, 866, 211, 287, 274, 997, 217, 310, 627, 384,   8],\n",
       "       [124, 309, 961,  85, 623, 474, 875, 569, 310, 928,   9]])"
      ]
     },
     "execution_count": 587,
     "metadata": {},
     "output_type": "execute_result"
    }
   ],
   "source": [
    "c = np.reshape( np.random.randint(1000, size=100), (10,10) )\n",
    "c = np.concatenate((c,np.array([np.arange(10)]).T),axis=1)\n",
    "d = (0,1,2,3,4)\n",
    "c"
   ]
  },
  {
   "cell_type": "code",
   "execution_count": 588,
   "metadata": {},
   "outputs": [
    {
     "data": {
      "text/plain": [
       "array([[ 65, 975,  90, 306, 688, 617,  56, 598, 723, 726,   5],\n",
       "       [ 73, 803, 664, 720, 115, 696, 842, 679, 445, 520,   1],\n",
       "       [112, 524, 795, 962,  38, 747, 181, 446, 300, 536,   3],\n",
       "       [124, 309, 961,  85, 623, 474, 875, 569, 310, 928,   9],\n",
       "       [237, 970, 374, 697,  30, 852, 881, 473, 838, 561,   4],\n",
       "       [481, 662, 242, 157, 820, 200,  84, 564,  84, 238,   0],\n",
       "       [660, 197, 948, 798, 581, 945, 398, 672, 519, 977,   6],\n",
       "       [388, 171, 247, 361, 401, 747, 570, 872, 801, 415,   7],\n",
       "       [706, 866, 211, 287, 274, 997, 217, 310, 627, 384,   8],\n",
       "       [899, 263, 493, 405, 284,  80, 248, 753, 181, 604,   2]])"
      ]
     },
     "execution_count": 588,
     "metadata": {},
     "output_type": "execute_result"
    }
   ],
   "source": [
    "c[np.argpartition(c[:,0], d)]"
   ]
  },
  {
   "cell_type": "code",
   "execution_count": 589,
   "metadata": {},
   "outputs": [
    {
     "data": {
      "text/plain": [
       "array([524, 795, 962, 747, 181, 446])"
      ]
     },
     "execution_count": 589,
     "metadata": {},
     "output_type": "execute_result"
    }
   ],
   "source": [
    "d = c[3,[1,2,3,5,6,7]]\n",
    "e = [i for i in range(6)]\n",
    "d"
   ]
  },
  {
   "cell_type": "code",
   "execution_count": 590,
   "metadata": {},
   "outputs": [
    {
     "data": {
      "text/plain": [
       "array([4, 5, 0, 3, 1, 2])"
      ]
     },
     "execution_count": 590,
     "metadata": {},
     "output_type": "execute_result"
    }
   ],
   "source": [
    "np.argpartition(d,e)"
   ]
  },
  {
   "cell_type": "code",
   "execution_count": 591,
   "metadata": {},
   "outputs": [
    {
     "data": {
      "text/plain": [
       "(8, 5)"
      ]
     },
     "execution_count": 591,
     "metadata": {},
     "output_type": "execute_result"
    }
   ],
   "source": [
    "np.unravel_index(np.argmax(c),c.shape)"
   ]
  },
  {
   "cell_type": "code",
   "execution_count": 656,
   "metadata": {},
   "outputs": [
    {
     "name": "stdout",
     "output_type": "stream",
     "text": [
      "2\n"
     ]
    }
   ],
   "source": [
    "a=choose_random_weighted_interval(np.array([0,0,1,0,0,1]))\n",
    "print(a)"
   ]
  },
  {
   "cell_type": "code",
   "execution_count": 633,
   "metadata": {},
   "outputs": [
    {
     "name": "stdout",
     "output_type": "stream",
     "text": [
      "5\n"
     ]
    }
   ],
   "source": [
    "print(a)"
   ]
  },
  {
   "cell_type": "code",
   "execution_count": 662,
   "metadata": {},
   "outputs": [
    {
     "name": "stdout",
     "output_type": "stream",
     "text": [
      "[ 0  2  4  6  8 10 12 14 16 18]\n"
     ]
    }
   ],
   "source": [
    "a = np.arange(10)\n",
    "for i, e in enumerate(a):\n",
    "    a[i] = i*2\n",
    "print(a)"
   ]
  },
  {
   "cell_type": "code",
   "execution_count": null,
   "metadata": {},
   "outputs": [],
   "source": []
  }
 ],
 "metadata": {
  "kernelspec": {
   "display_name": "Python 3.9.13 64-bit ('MT')",
   "language": "python",
   "name": "python3"
  },
  "language_info": {
   "codemirror_mode": {
    "name": "ipython",
    "version": 3
   },
   "file_extension": ".py",
   "mimetype": "text/x-python",
   "name": "python",
   "nbconvert_exporter": "python",
   "pygments_lexer": "ipython3",
   "version": "3.9.13"
  },
  "orig_nbformat": 4,
  "vscode": {
   "interpreter": {
    "hash": "77c6aaad9a34bae581a83e51509dc60b9a05d4f3ba3ef918f772e036566f2e96"
   }
  }
 },
 "nbformat": 4,
 "nbformat_minor": 2
}
