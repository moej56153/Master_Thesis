{
 "cells": [
  {
   "cell_type": "code",
   "execution_count": 3,
   "metadata": {},
   "outputs": [],
   "source": [
    "from IntegralQuery import SearchQuery, IntegralQuery, Filter, Range #################################################\n",
    "import numpy as np\n",
    "from dataclasses import dataclass\n",
    "import astropy.units as u\n",
    "from astropy.coordinates import SkyCoord\n",
    "\n",
    "@dataclass\n",
    "class Pointing:\n",
    "    '''\n",
    "    Dataclass that represents a single Pointing\n",
    "    '''\n",
    "    scw_id: str\n",
    "    sky_coords: SkyCoord\n",
    "    start_time: \n",
    "\n",
    "\n",
    "\n",
    "\n",
    "\n",
    "\n",
    "class ClusteredQuery:\n",
    "    pass\n",
    "\n",
    "\n",
    "\n",
    "\n",
    "\n",
    "\n"
   ]
  },
  {
   "cell_type": "code",
   "execution_count": 14,
   "metadata": {},
   "outputs": [],
   "source": [
    "c = SkyCoord(304.286499, 36.094223, frame=\"icrs\", unit=\"deg\")\n",
    "d = SkyCoord(304.286499, 34.094223, frame=\"icrs\", unit=\"deg\")"
   ]
  },
  {
   "cell_type": "code",
   "execution_count": 18,
   "metadata": {},
   "outputs": [
    {
     "data": {
      "text/plain": [
       "astropy.coordinates.sky_coordinate.SkyCoord"
      ]
     },
     "execution_count": 18,
     "metadata": {},
     "output_type": "execute_result"
    }
   ],
   "source": [
    "type(c)"
   ]
  },
  {
   "cell_type": "code",
   "execution_count": 16,
   "metadata": {},
   "outputs": [],
   "source": [
    "s=c.separation(d)"
   ]
  },
  {
   "cell_type": "code",
   "execution_count": 17,
   "metadata": {},
   "outputs": [
    {
     "data": {
      "text/plain": [
       "2.0000000000000067"
      ]
     },
     "execution_count": 17,
     "metadata": {},
     "output_type": "execute_result"
    }
   ],
   "source": [
    "s.deg"
   ]
  },
  {
   "cell_type": "code",
   "execution_count": null,
   "metadata": {},
   "outputs": [],
   "source": []
  }
 ],
 "metadata": {
  "kernelspec": {
   "display_name": "Python 3.9.13 64-bit ('MT')",
   "language": "python",
   "name": "python3"
  },
  "language_info": {
   "codemirror_mode": {
    "name": "ipython",
    "version": 3
   },
   "file_extension": ".py",
   "mimetype": "text/x-python",
   "name": "python",
   "nbconvert_exporter": "python",
   "pygments_lexer": "ipython3",
   "version": "3.9.13"
  },
  "orig_nbformat": 4,
  "vscode": {
   "interpreter": {
    "hash": "77c6aaad9a34bae581a83e51509dc60b9a05d4f3ba3ef918f772e036566f2e96"
   }
  }
 },
 "nbformat": 4,
 "nbformat_minor": 2
}
