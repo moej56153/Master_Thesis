{
 "cells": [
  {
   "cell_type": "code",
   "execution_count": 10,
   "id": "623aacee-d1a9-4fb8-98fc-55c7e90ad15c",
   "metadata": {},
   "outputs": [],
   "source": [
    "# CODING STYLE: https://peps.python.org/pep-0008/\n",
    "from dataclasses import dataclass, asdict \n",
    "from asciitree import LeftAligned\n",
    "from asciitree.drawing import BOX_DOUBLE, BoxStyle\n",
    "from typing import Union\n",
    "from datetime import datetime\n",
    "import warnings \n",
    "from astroquery.heasarc import Heasarc, Conf\n",
    "import astropy.units as u\n",
    "from astropy.coordinates import SkyCoord\n",
    "import pandas as pd \n",
    "import numpy as np\n",
    "\n",
    "heasarc = Heasarc()\n",
    "Conf.server.set('https://www.isdc.unige.ch/browse/w3query.pl')\n",
    "\n",
    "def _to_print_dict(conf):\n",
    "    out = {}\n",
    "\n",
    "    if not isinstance(conf, dict):\n",
    "\n",
    "        dummy = {}\n",
    "        dummy[f\"{conf}\"] = {}\n",
    "\n",
    "        return dummy\n",
    "    \n",
    "    else:\n",
    "        for k, v in conf.items():\n",
    "\n",
    "            text = f\"{k}\"\n",
    "\n",
    "            out[text] = _to_print_dict(v)\n",
    "\n",
    "    return out\n",
    "\n",
    "\n",
    "class BaseDataClass:\n",
    "    def show(self):\n",
    "        final = {}\n",
    "        final[type(self).__name__] = _to_print_dict(asdict(self))\n",
    "        tr = LeftAligned(draw=BoxStyle(gfx=BOX_DOUBLE, horiz_len=1))\n",
    "        print(tr(final))\n",
    "\n",
    "        \n",
    "@dataclass\n",
    "class Range(BaseDataClass):\n",
    "    \"\"\"\n",
    "    Simple dataclass that represents a range\n",
    "    \"\"\"\n",
    "    min_val: Union[str, float, None] = None \n",
    "    max_val: Union[str, float, None] = None \n",
    "    \n",
    "    \n",
    "@dataclass\n",
    "class Filter(BaseDataClass):\n",
    "    \"\"\"\n",
    "    Dataclass to handle the filter parameters\n",
    "    \"\"\"\n",
    "    SCW_ID: Union[str, None] = None \n",
    "    SCW_VER: Union[int, None] = None \n",
    "    SCW_TYPE: Union[int, None] = None \n",
    "    RA_X: Union[Range, None] = None\n",
    "    DEC_X: Union[Range, None] = None\n",
    "    TIME: Union[Range, None] = None\n",
    "    #END_DATE: Union[Range, None] = None\n",
    "    OBS_ID: Union[str, None] = None\n",
    "    OBS_TYPE: Union[str, None]  = None\n",
    "    PS: Union[str, None]  = None\n",
    "    PI_NAME: Union[str, None]  = None\n",
    "    GOOD_SPI: Union[Range, None]  = None\n",
    "    GOOD_PICSIT: Union[Range, None] = None\n",
    "    GOOD_JMEX: Union[Range, None] = None\n",
    "    GOOD_JMEX1: Union[Range, None] = None\n",
    "    GOOD_JMEX2: Union[Range, None] = None\n",
    "    GOOD_OMC: Union[Range, None] = None\n",
    "    DSIZE: Union[Range, None] = None\n",
    "    _SEARCH_OFFSET: Union[Range, None] = None\n",
    "    \n",
    "    \n",
    "@dataclass\n",
    "class SearchQuery(BaseDataClass):\n",
    "    \"\"\"\n",
    "    Dataclass to handle the inital search query parameters\n",
    "    \"\"\"\n",
    "    object_name: Union[str, None] = None\n",
    "    position: Union[SkyCoord, None] = None\n",
    "    radius: Union[float, str, None] = None\n",
    "    mission: Union[str, None] = \"integral_rev3_scw\"\n",
    "    sortvar: Union[str, None] = \"START_DATE\"\n",
    "    resultmax: Union[int, None] = 0\n",
    "    \n",
    "    @property\n",
    "    def object_dict(self):\n",
    "        \"\"\"\n",
    "        Get dict for the object modus => drop radius and position\n",
    "        :returns:\n",
    "        \"\"\"\n",
    "        dic = asdict(self)\n",
    "        dic.pop(\"radius\")\n",
    "        dic.pop(\"position\")\n",
    "        return dic\n",
    "    \n",
    "    @property\n",
    "    def region_dict(self):\n",
    "        \"\"\"\n",
    "        Get dict for the region modus => drop object_name\n",
    "        :returns:\n",
    "        \"\"\"\n",
    "        dic = asdict(self)\n",
    "        dic.pop(\"object_name\")\n",
    "        return dic\n",
    "    \n",
    "\n",
    "class IntegralQuery:\n",
    "    def __init__(self, search_query: SearchQuery):\n",
    "        \"\"\"\n",
    "        Init the Integral query object. Used to get the SCW_ID for a certain position or\n",
    "        object and apply different filters to it\n",
    "        \"\"\"\n",
    "        assert (search_query.object_name is not None or \n",
    "                (search_query.position is not None and \n",
    "                 search_query.radius is not None)), \"Please specify either object_name, or position and radius\"\n",
    "        \n",
    "        if search_query.object_name:\n",
    "            self._table = heasarc.query_object(**search_query.object_dict)\n",
    "\n",
    "        else:\n",
    "            self._table = heasarc.query_region(**search_query.region_dict)\n",
    "            \n",
    "        self._format_table()\n",
    "\n",
    "    def _format_table(self):\n",
    "        \"\"\"\n",
    "        Format the table\n",
    "        :returns:\n",
    "        \"\"\"\n",
    "        # BB: self._table\n",
    "        self._table.convert_bytestring_to_unicode()\n",
    "        self._table = self._table.to_pandas()\n",
    "\n",
    "        int_columns = [\"SCW_VER\"]\n",
    "        float_columns = [\"RA_X\", \"DEC_X\", \"GOOD_SPI\", \"GOOD_PICSIT\", \"GOOD_ISGRI\", \n",
    "                         \"GOOD_JEMX\", \"GOOD_JEMX1\", \"GOOD_JEMX2\", \"GOOD_OMC\", \"DSIZE\"]\n",
    "        string_columns = [\"SCW_ID\", \"SCW_TYPE\", \"OBS_TYPE\",\"OBS_ID\", \"PS\", \"PI_NAME\"]\n",
    "        datetime_columns = [\"START_DATE\", \"END_DATE\"]\n",
    "        \n",
    "        for c in int_columns:\n",
    "            self._table[c] = self._table[c].astype(int)\n",
    "            \n",
    "        for c in float_columns:\n",
    "            self._table[c] = self._table[c].str.strip()\n",
    "            mask = self._table.copy()[c]==\"\"\n",
    "            with warnings.catch_warnings():\n",
    "                warnings.simplefilter(\"ignore\")\n",
    "                self._table[c].loc[mask] = 0\n",
    "            self._table[c] = self._table[c].astype(float)\n",
    "            \n",
    "        for c in string_columns:\n",
    "            self._table[c] = self._table[c].str.strip()\n",
    "            \n",
    "        for c in datetime_columns:\n",
    "            self._table[c] = pd.to_datetime(self._table[c])\n",
    "\n",
    "    def sort_by(self, sortvar):\n",
    "        \"\"\"\n",
    "        Sort the tables by a new Variable\n",
    "        :param sortvar: Variable to use for the sort\n",
    "        :returns:\n",
    "        \"\"\"\n",
    "        self._table = self._table.sort_values(sortvar)\n",
    "\n",
    "    def apply_filter(self, filter_ob: Filter, return_coordinates=False, remove_duplicates = True) -> np.array:\n",
    "        \"\"\"\n",
    "        Apply a filter to the base table\n",
    "        :param filter_ob: Filter Object with all the filter parameters\n",
    "        :param return_coordintes: Specifies if coordintes should be returned\n",
    "        :returns:\n",
    "        \"\"\"\n",
    "        new_table = self._table.copy()\n",
    "        for key, value in asdict(filter_ob).items():\n",
    "            if value:\n",
    "                if type(value) is dict:\n",
    "                    if key==\"TIME\":\n",
    "                        if value[\"min_val\"]:\n",
    "                            new_table = new_table[new_table[\"START_DATE\"]>=\n",
    "                                                  datetime.fromisoformat(value[\"min_val\"])]\n",
    "                        if value[\"max_val\"]:\n",
    "                            new_table = new_table[new_table[\"END_DATE\"]<=\n",
    "                                                  datetime.fromisoformat(value[\"max_val\"])]\n",
    "                    else:\n",
    "                        if value[\"min_val\"]:\n",
    "                            new_table = new_table[new_table[key]>=value[\"min_val\"]]\n",
    "                        if value[\"max_val\"]:\n",
    "                            new_table = new_table[new_table[key]<=value[\"max_val\"]]\n",
    "                else:\n",
    "                    new_table = new_table[new_table[key]==value]\n",
    "                    \n",
    "        if remove_duplicates:\n",
    "            new_table = new_table.drop_duplicates(\"SCW_ID\", keep=\"last\")\n",
    "        \n",
    "        if not return_coordinates:\n",
    "            return new_table[\"SCW_ID\"].to_numpy()\n",
    "        else:\n",
    "            return np.concatenate((new_table[[\"SCW_ID\",\"RA_X\",\"DEC_X\"]].to_numpy(), \n",
    "                                   np.array([new_table[\"START_DATE\"].dt.to_pydatetime()]).T), axis=1)\n",
    "    \n",
    "    @property\n",
    "    def table(self):\n",
    "        \"\"\"\n",
    "        :returns: Base Table of Query\n",
    "        \"\"\"\n",
    "        return self._table"
   ]
  },
  {
   "cell_type": "code",
   "execution_count": 17,
   "id": "7da196d7-d5a7-42c9-b7a9-be5f9477c4ad",
   "metadata": {},
   "outputs": [
    {
     "name": "stdout",
     "output_type": "stream",
     "text": [
      "SearchQuery\n",
      " ╠═ object_name\n",
      " ║  ╚═ None\n",
      " ╠═ position\n",
      " ║  ╚═ <SkyCoord (ICRS): (ra, dec) in deg\n",
      "    (300., 40.)>\n",
      " ╠═ radius\n",
      " ║  ╚═ 5.1 degree\n",
      " ╠═ mission\n",
      " ║  ╚═ integral_rev3_scw\n",
      " ╠═ sortvar\n",
      " ║  ╚═ START_DATE\n",
      " ╚═ resultmax\n",
      "    ╚═ 0\n"
     ]
    }
   ],
   "source": [
    "p = SkyCoord(300., 40., frame=\"icrs\", unit=\"deg\")\n",
    "searchquerry = SearchQuery(position=p, radius=\"5.1 degree\")\n",
    "searchquerry.show()\n"
   ]
  },
  {
   "cell_type": "code",
   "execution_count": 18,
   "id": "6205f685-3ab2-4197-94b4-66ea0047f23e",
   "metadata": {},
   "outputs": [
    {
     "name": "stderr",
     "output_type": "stream",
     "text": [
      "WARNING: UnitsWarning: 'ISO' did not parse as fits unit: At col 0, Unit 'ISO' not supported by the FITS standard.  If this is meant to be a custom unit, define it with 'u.def_unit'. To have it recognized inside a file reader or other code, enable it with 'u.add_enabled_units'. For details, see https://docs.astropy.org/en/latest/units/combining_and_defining.html [astropy.units.core]\n"
     ]
    }
   ],
   "source": [
    "cat = IntegralQuery(searchquerry)"
   ]
  },
  {
   "cell_type": "code",
   "execution_count": null,
   "id": "3c46ba06",
   "metadata": {},
   "outputs": [],
   "source": []
  },
  {
   "cell_type": "code",
   "execution_count": 19,
   "id": "04bb1748-830a-4b4e-9e63-b087d9996f56",
   "metadata": {},
   "outputs": [
    {
     "name": "stdout",
     "output_type": "stream",
     "text": [
      "Filter\n",
      " ╠═ SCW_ID\n",
      " ║  ╚═ None\n",
      " ╠═ SCW_VER\n",
      " ║  ╚═ None\n",
      " ╠═ SCW_TYPE\n",
      " ║  ╚═ POINTING\n",
      " ╠═ RA_X\n",
      " ║  ╚═ None\n",
      " ╠═ DEC_X\n",
      " ║  ╚═ None\n",
      " ╠═ TIME\n",
      " ║  ╚═ None\n",
      " ╠═ OBS_ID\n",
      " ║  ╚═ None\n",
      " ╠═ OBS_TYPE\n",
      " ║  ╚═ None\n",
      " ╠═ PS\n",
      " ║  ╚═ None\n",
      " ╠═ PI_NAME\n",
      " ║  ╚═ None\n",
      " ╠═ GOOD_SPI\n",
      " ║  ╚═ None\n",
      " ╠═ GOOD_PICSIT\n",
      " ║  ╚═ None\n",
      " ╠═ GOOD_JMEX\n",
      " ║  ╚═ None\n",
      " ╠═ GOOD_JMEX1\n",
      " ║  ╚═ None\n",
      " ╠═ GOOD_JMEX2\n",
      " ║  ╚═ None\n",
      " ╠═ GOOD_OMC\n",
      " ║  ╚═ None\n",
      " ╠═ DSIZE\n",
      " ║  ╚═ None\n",
      " ╚═ _SEARCH_OFFSET\n",
      "    ╚═ None\n"
     ]
    }
   ],
   "source": [
    "f = Filter(SCW_TYPE=\"POINTING\")\n",
    "f.show()"
   ]
  },
  {
   "cell_type": "code",
   "execution_count": 6,
   "id": "6657c3c2-4977-47fb-bb64-3212ebc3ecff",
   "metadata": {},
   "outputs": [],
   "source": [
    "scw_ids = cat.apply_filter(f,True, remove_duplicates=False)"
   ]
  },
  {
   "cell_type": "code",
   "execution_count": 7,
   "id": "10b70eac-9c18-420b-a792-f5deaad41c3c",
   "metadata": {},
   "outputs": [
    {
     "data": {
      "text/plain": [
       "array([['021100220010', 303.236969, 36.953415,\n",
       "        datetime.datetime(2004, 7, 6, 10, 35, 53)],\n",
       "       ['021100220010', 303.236969, 36.953415,\n",
       "        datetime.datetime(2004, 7, 6, 10, 35, 53)]], dtype=object)"
      ]
     },
     "execution_count": 7,
     "metadata": {},
     "output_type": "execute_result"
    }
   ],
   "source": [
    "scw_ids[1009:1011]"
   ]
  },
  {
   "cell_type": "code",
   "execution_count": 8,
   "id": "ca32ddbc-443f-4d52-ad41-987728e831d3",
   "metadata": {},
   "outputs": [
    {
     "data": {
      "text/plain": [
       "numpy.ndarray"
      ]
     },
     "execution_count": 8,
     "metadata": {},
     "output_type": "execute_result"
    }
   ],
   "source": [
    "type(scw_ids)"
   ]
  },
  {
   "cell_type": "code",
   "execution_count": 9,
   "id": "65b4536b",
   "metadata": {},
   "outputs": [
    {
     "data": {
      "text/plain": [
       "float"
      ]
     },
     "execution_count": 9,
     "metadata": {},
     "output_type": "execute_result"
    }
   ],
   "source": [
    "type(scw_ids[0,2])"
   ]
  },
  {
   "cell_type": "code",
   "execution_count": null,
   "id": "3588718b",
   "metadata": {},
   "outputs": [],
   "source": []
  }
 ],
 "metadata": {
  "kernelspec": {
   "display_name": "Python 3.9.13 64-bit ('MT')",
   "language": "python",
   "name": "python3"
  },
  "language_info": {
   "codemirror_mode": {
    "name": "ipython",
    "version": 3
   },
   "file_extension": ".py",
   "mimetype": "text/x-python",
   "name": "python",
   "nbconvert_exporter": "python",
   "pygments_lexer": "ipython3",
   "version": "3.9.13"
  },
  "vscode": {
   "interpreter": {
    "hash": "77c6aaad9a34bae581a83e51509dc60b9a05d4f3ba3ef918f772e036566f2e96"
   }
  }
 },
 "nbformat": 4,
 "nbformat_minor": 5
}
