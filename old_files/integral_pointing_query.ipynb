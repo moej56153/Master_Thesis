{
 "cells": [
  {
   "cell_type": "code",
   "execution_count": 1,
   "id": "5d0f921a-1826-4965-b9d3-643a7d3427f2",
   "metadata": {},
   "outputs": [],
   "source": [
    "from astroquery.heasarc import Heasarc, Conf\n",
    "import astropy.units as u\n",
    "from astropy.coordinates import SkyCoord\n",
    "import numpy as np\n",
    "import pandas as pd"
   ]
  },
  {
   "cell_type": "code",
   "execution_count": 2,
   "id": "720a3d86-f102-42c2-9b87-12bac47071bf",
   "metadata": {},
   "outputs": [
    {
     "name": "stderr",
     "output_type": "stream",
     "text": [
      "WARNING: UnitsWarning: 'ISO' did not parse as fits unit: At col 0, Unit 'ISO' not supported by the FITS standard.  If this is meant to be a custom unit, define it with 'u.def_unit'. To have it recognized inside a file reader or other code, enable it with 'u.add_enabled_units'. For details, see https://docs.astropy.org/en/latest/units/combining_and_defining.html [astropy.units.core]\n"
     ]
    }
   ],
   "source": [
    "object_name = \"Cyg X-1\"\n",
    "\n",
    "# setup server (see https://astroquery.readthedocs.io/en/latest/heasarc/heasarc.html?highlight=INTEGRAL#using-alternative-heasarc-servers)\n",
    "integral_query = Heasarc()\n",
    "Conf.server.set('https://www.isdc.unige.ch/browse/w3query.pl')\n",
    "\n",
    "query_dict= {}\n",
    "# mission name (see https://astroquery.readthedocs.io/en/latest/heasarc/heasarc.html?highlight=INTEGRAL#using-alternative-heasarc-servers)\n",
    "query_dict[\"mission\"] = \"integral_rev3_scw\"\n",
    "\n",
    "# # object_name\n",
    "# query_dict[\"object_name\"] = object_name\n",
    "\n",
    "query_dict[\"position\"] = SkyCoord(83.6333, 22.0144, frame=\"icrs\", unit=\"deg\")\n",
    "query_dict[\"radius\"] = \"3 degree\"\n",
    "\n",
    "# Sort the table according to one of the Columns\n",
    "query_dict[\"sortvar\"] = \"START_DATE\"\n",
    "# max number of results returned (0=unendlich)\n",
    "query_dict[\"resultmax\"] = 0\n",
    "# for all possible input in query_dict see https://astroquery.readthedocs.io/en/latest/heasarc/heasarc.html\n",
    "\n",
    "r = integral_query.query_region(**query_dict)\n",
    "# convert bytestrings to unicode - makes it easier to use in the following\n",
    "r.convert_bytestring_to_unicode()\n",
    "# convert from astropy table to pandas - easier to use\n",
    "p = r.to_pandas()\n"
   ]
  },
  {
   "cell_type": "code",
   "execution_count": 31,
   "id": "c6b685d8-8352-4359-9721-c299bf08aa4a",
   "metadata": {},
   "outputs": [
    {
     "data": {
      "text/html": [
       "<div>\n",
       "<style scoped>\n",
       "    .dataframe tbody tr th:only-of-type {\n",
       "        vertical-align: middle;\n",
       "    }\n",
       "\n",
       "    .dataframe tbody tr th {\n",
       "        vertical-align: top;\n",
       "    }\n",
       "\n",
       "    .dataframe thead th {\n",
       "        text-align: right;\n",
       "    }\n",
       "</style>\n",
       "<table border=\"1\" class=\"dataframe\">\n",
       "  <thead>\n",
       "    <tr style=\"text-align: right;\">\n",
       "      <th></th>\n",
       "      <th>SCW_ID</th>\n",
       "      <th>SCW_VER</th>\n",
       "      <th>SCW_TYPE</th>\n",
       "      <th>RA_X</th>\n",
       "      <th>DEC_X</th>\n",
       "      <th>START_DATE</th>\n",
       "      <th>END_DATE</th>\n",
       "      <th>OBS_ID</th>\n",
       "      <th>OBS_TYPE</th>\n",
       "      <th>PS</th>\n",
       "      <th>PI_NAME</th>\n",
       "      <th>GOOD_SPI</th>\n",
       "      <th>GOOD_PICSIT</th>\n",
       "      <th>GOOD_ISGRI</th>\n",
       "      <th>GOOD_JEMX</th>\n",
       "      <th>GOOD_JEMX1</th>\n",
       "      <th>GOOD_JEMX2</th>\n",
       "      <th>GOOD_OMC</th>\n",
       "      <th>DSIZE</th>\n",
       "      <th>_SEARCH_OFFSET</th>\n",
       "    </tr>\n",
       "  </thead>\n",
       "  <tbody>\n",
       "    <tr>\n",
       "      <th>506</th>\n",
       "      <td>042200080010</td>\n",
       "      <td>001</td>\n",
       "      <td>POINTING</td>\n",
       "      <td>80.854958</td>\n",
       "      <td>23.445110</td>\n",
       "      <td>2006-03-28 20:40:15</td>\n",
       "      <td>2006-03-28 21:10:15</td>\n",
       "      <td>88600980001</td>\n",
       "      <td>CALIBRATION</td>\n",
       "      <td>PUBLIC</td>\n",
       "      <td>PUBLIC</td>\n",
       "      <td>1736</td>\n",
       "      <td>1727</td>\n",
       "      <td>1740</td>\n",
       "      <td>1382</td>\n",
       "      <td>1382</td>\n",
       "      <td>1337</td>\n",
       "      <td>1751</td>\n",
       "      <td>81240064</td>\n",
       "      <td>176.088</td>\n",
       "    </tr>\n",
       "  </tbody>\n",
       "</table>\n",
       "</div>"
      ],
      "text/plain": [
       "           SCW_ID  SCW_VER  SCW_TYPE       RA_X      DEC_X  \\\n",
       "506  042200080010  001      POINTING  80.854958  23.445110   \n",
       "\n",
       "              START_DATE             END_DATE       OBS_ID     OBS_TYPE  \\\n",
       "506  2006-03-28 20:40:15  2006-03-28 21:10:15  88600980001  CALIBRATION   \n",
       "\n",
       "          PS                  PI_NAME  GOOD_SPI  GOOD_PICSIT  GOOD_ISGRI  \\\n",
       "506  PUBLIC   PUBLIC                       1736         1727        1740   \n",
       "\n",
       "     GOOD_JEMX  GOOD_JEMX1  GOOD_JEMX2  GOOD_OMC      DSIZE  _SEARCH_OFFSET  \n",
       "506       1382        1382        1337      1751   81240064         176.088  "
      ]
     },
     "execution_count": 31,
     "metadata": {},
     "output_type": "execute_result"
    }
   ],
   "source": [
    "p[p[\"SCW_ID\"]=='042200080010']"
   ]
  },
  {
   "cell_type": "code",
   "execution_count": 34,
   "id": "9a333fe7",
   "metadata": {},
   "outputs": [
    {
     "data": {
      "text/html": [
       "<div>\n",
       "<style scoped>\n",
       "    .dataframe tbody tr th:only-of-type {\n",
       "        vertical-align: middle;\n",
       "    }\n",
       "\n",
       "    .dataframe tbody tr th {\n",
       "        vertical-align: top;\n",
       "    }\n",
       "\n",
       "    .dataframe thead th {\n",
       "        text-align: right;\n",
       "    }\n",
       "</style>\n",
       "<table border=\"1\" class=\"dataframe\">\n",
       "  <thead>\n",
       "    <tr style=\"text-align: right;\">\n",
       "      <th></th>\n",
       "      <th>SCW_ID</th>\n",
       "      <th>SCW_VER</th>\n",
       "      <th>SCW_TYPE</th>\n",
       "      <th>RA_X</th>\n",
       "      <th>DEC_X</th>\n",
       "      <th>START_DATE</th>\n",
       "      <th>END_DATE</th>\n",
       "      <th>OBS_ID</th>\n",
       "      <th>OBS_TYPE</th>\n",
       "      <th>PS</th>\n",
       "      <th>PI_NAME</th>\n",
       "      <th>GOOD_SPI</th>\n",
       "      <th>GOOD_PICSIT</th>\n",
       "      <th>GOOD_ISGRI</th>\n",
       "      <th>GOOD_JEMX</th>\n",
       "      <th>GOOD_JEMX1</th>\n",
       "      <th>GOOD_JEMX2</th>\n",
       "      <th>GOOD_OMC</th>\n",
       "      <th>DSIZE</th>\n",
       "      <th>_SEARCH_OFFSET</th>\n",
       "    </tr>\n",
       "  </thead>\n",
       "  <tbody>\n",
       "    <tr>\n",
       "      <th>1285</th>\n",
       "      <td>101900600010</td>\n",
       "      <td>001</td>\n",
       "      <td>POINTING</td>\n",
       "      <td>81.028214</td>\n",
       "      <td>21.510889</td>\n",
       "      <td>2011-02-17 19:39:19</td>\n",
       "      <td>2011-02-17 20:10:01</td>\n",
       "      <td>88602270001</td>\n",
       "      <td>CALIBRATION</td>\n",
       "      <td>PUBLIC</td>\n",
       "      <td>PUBLIC</td>\n",
       "      <td>1800</td>\n",
       "      <td>1788</td>\n",
       "      <td>1596</td>\n",
       "      <td>1796</td>\n",
       "      <td>1796</td>\n",
       "      <td>1796</td>\n",
       "      <td>1800</td>\n",
       "      <td>85938176</td>\n",
       "      <td>148.273</td>\n",
       "    </tr>\n",
       "  </tbody>\n",
       "</table>\n",
       "</div>"
      ],
      "text/plain": [
       "            SCW_ID  SCW_VER  SCW_TYPE       RA_X      DEC_X  \\\n",
       "1285  101900600010  001      POINTING  81.028214  21.510889   \n",
       "\n",
       "               START_DATE             END_DATE       OBS_ID     OBS_TYPE  \\\n",
       "1285  2011-02-17 19:39:19  2011-02-17 20:10:01  88602270001  CALIBRATION   \n",
       "\n",
       "           PS                  PI_NAME  GOOD_SPI  GOOD_PICSIT  GOOD_ISGRI  \\\n",
       "1285  PUBLIC   PUBLIC                       1800         1788        1596   \n",
       "\n",
       "      GOOD_JEMX  GOOD_JEMX1  GOOD_JEMX2  GOOD_OMC      DSIZE  _SEARCH_OFFSET  \n",
       "1285       1796        1796        1796      1800   85938176         148.273  "
      ]
     },
     "execution_count": 34,
     "metadata": {},
     "output_type": "execute_result"
    }
   ],
   "source": [
    "p[p[\"SCW_ID\"]=='101900600010']"
   ]
  },
  {
   "cell_type": "code",
   "execution_count": 41,
   "id": "e20ab514",
   "metadata": {},
   "outputs": [
    {
     "name": "stdout",
     "output_type": "stream",
     "text": [
      "2006-03-28 20:42:08.184\n",
      "2006-03-28 21:11:26.261\n"
     ]
    }
   ],
   "source": [
    "import astropy.time as at\n",
    "\n",
    "T = at.Time(f\"{2278.86259472222+2451544.5}\", format=\"jd\")\n",
    "print(T.iso)\n",
    "t = at.Time(f\"{2278.88294283536+2451544.5}\", format=\"jd\")\n",
    "print(t.iso)"
   ]
  },
  {
   "cell_type": "code",
   "execution_count": 42,
   "id": "5d0d54a6",
   "metadata": {},
   "outputs": [
    {
     "name": "stdout",
     "output_type": "stream",
     "text": [
      "2011-02-17 19:41:06.184\n",
      "2011-02-17 20:11:11.274\n"
     ]
    }
   ],
   "source": [
    "T2 = at.Time(f\"{4065.82021046296+2451544.5}\", format=\"jd\")\n",
    "print(T2.iso)\n",
    "t2 = at.Time(f\"{4065.84110271147+2451544.5}\", format=\"jd\")\n",
    "print(t2.iso)\n",
    "\n",
    "## end dates 1min 10 sec late"
   ]
  },
  {
   "cell_type": "code",
   "execution_count": 5,
   "id": "175710a3-9253-41f6-aebd-b74c8f7ae16b",
   "metadata": {},
   "outputs": [],
   "source": [
    "import pandas as pd\n",
    "import numpy as np"
   ]
  },
  {
   "cell_type": "code",
   "execution_count": 6,
   "id": "7fb0946f",
   "metadata": {},
   "outputs": [],
   "source": [
    "a = np.random.rand(100)\n"
   ]
  },
  {
   "cell_type": "code",
   "execution_count": 7,
   "id": "b8535072",
   "metadata": {},
   "outputs": [
    {
     "data": {
      "text/plain": [
       "array([0.62234015, 0.51510374, 0.56693197, 0.85043499, 0.55142741,\n",
       "       0.67132513, 0.86049707, 0.69141279, 0.55944578, 0.82677777,\n",
       "       0.62234088, 0.51972122, 0.57078457, 0.68891545, 0.50052482,\n",
       "       0.61841601, 0.5105579 , 0.66305097, 0.94402096, 0.74897383,\n",
       "       0.90918926, 0.96279382, 0.79723449, 0.77915931, 0.77503766,\n",
       "       0.62594516, 0.7706974 , 0.56663862, 0.81974844, 0.7079689 ,\n",
       "       0.62538205, 0.68749091, 0.72640077, 0.98790525, 0.95772414,\n",
       "       0.57751921, 0.89328979, 0.91629062, 0.71244089, 0.61590793,\n",
       "       0.62955828, 0.76038255, 0.91476059, 0.70957898, 0.56868945,\n",
       "       0.9427608 , 0.99546253, 0.61251427, 0.85089993, 0.90805542,\n",
       "       0.56619208, 0.59674997])"
      ]
     },
     "execution_count": 7,
     "metadata": {},
     "output_type": "execute_result"
    }
   ],
   "source": [
    "a[a>0.5]"
   ]
  },
  {
   "cell_type": "code",
   "execution_count": 8,
   "id": "c35cbf71",
   "metadata": {},
   "outputs": [
    {
     "name": "stdout",
     "output_type": "stream",
     "text": [
      "   Mission    ...                Table Description               \n",
      "------------- ... -----------------------------------------------\n",
      "CTASST1M-REV1 ...                                             Run\n",
      "    FACT-REV1 ...                                             Run\n",
      "INTEGRAL-REV3 ...                                       Proposals\n",
      "INTEGRAL-REV3 ... Proposal Information and Observation Parameters\n",
      "INTEGRAL-REV3 ...                       SCW - Science Window Data\n"
     ]
    }
   ],
   "source": [
    "heasarc = Heasarc()\n",
    "table = heasarc.query_mission_list()\n",
    "table.pprint()  \n"
   ]
  },
  {
   "cell_type": "code",
   "execution_count": 9,
   "id": "c8316e57",
   "metadata": {},
   "outputs": [
    {
     "data": {
      "text/html": [
       "<div><i>Table length=5</i>\n",
       "<table id=\"table140412221788416\" class=\"table-striped table-bordered table-condensed\">\n",
       "<thead><tr><th>Mission</th><th>Table</th><th>Table Description</th></tr></thead>\n",
       "<thead><tr><th>str13</th><th>str22</th><th>str47</th></tr></thead>\n",
       "<tr><td>CTASST1M-REV1</td><td>cta_sst1m_rev1_run</td><td>Run</td></tr>\n",
       "<tr><td>FACT-REV1</td><td>fact_rev1_run</td><td>Run</td></tr>\n",
       "<tr><td>INTEGRAL-REV3</td><td>integral_rev3_prop</td><td>Proposals</td></tr>\n",
       "<tr><td>INTEGRAL-REV3</td><td>integral_rev3_prop_obs</td><td>Proposal Information and Observation Parameters</td></tr>\n",
       "<tr><td>INTEGRAL-REV3</td><td>integral_rev3_scw</td><td>SCW - Science Window Data</td></tr>\n",
       "</table></div>"
      ],
      "text/plain": [
       "<Table length=5>\n",
       "   Mission    ...                Table Description               \n",
       "    str13     ...                      str47                     \n",
       "------------- ... -----------------------------------------------\n",
       "CTASST1M-REV1 ...                                             Run\n",
       "    FACT-REV1 ...                                             Run\n",
       "INTEGRAL-REV3 ...                                       Proposals\n",
       "INTEGRAL-REV3 ... Proposal Information and Observation Parameters\n",
       "INTEGRAL-REV3 ...                       SCW - Science Window Data"
      ]
     },
     "execution_count": 9,
     "metadata": {},
     "output_type": "execute_result"
    }
   ],
   "source": [
    "table"
   ]
  },
  {
   "cell_type": "code",
   "execution_count": 16,
   "id": "80f0196e",
   "metadata": {},
   "outputs": [
    {
     "name": "stderr",
     "output_type": "stream",
     "text": [
      "WARNING: UnitsWarning: 'ISO' did not parse as fits unit: At col 0, Unit 'ISO' not supported by the FITS standard.  If this is meant to be a custom unit, define it with 'u.def_unit'. To have it recognized inside a file reader or other code, enable it with 'u.add_enabled_units'. For details, see https://docs.astropy.org/en/latest/units/combining_and_defining.html [astropy.units.core]\n"
     ]
    }
   ],
   "source": [
    "from astroquery.heasarc import Heasarc, Conf\n",
    "import astropy.units as u\n",
    "from astropy.coordinates import SkyCoord\n",
    "import pandas as pd \n",
    "heasarc = Heasarc()\n",
    "Conf.server.set('https://www.isdc.unige.ch/browse/w3query.pl')\n",
    "mission = \"integral_rev3_scw\"\n",
    "coords = SkyCoord('12h29m06.70s +02d03m08.7s', frame='icrs')\n",
    "table = heasarc.query_region(position=coords, mission=mission, radius='1 degree', resultsmax=0, sortvar=\"_SEARCH_OFFSET\")\n",
    "table.convert_bytestring_to_unicode()\n",
    "# convert from astropy table to pandas - easier to use\n",
    "table = table.to_pandas()\n",
    "table[\"SCW_VER\"] = pd.to_numeric(table[\"SCW_VER\"], errors=\"coerce\")"
   ]
  },
  {
   "cell_type": "code",
   "execution_count": 19,
   "id": "73fa9fc2",
   "metadata": {},
   "outputs": [
    {
     "ename": "AttributeError",
     "evalue": "'Series' object has no attribute 'strip'",
     "output_type": "error",
     "traceback": [
      "\u001b[0;31m---------------------------------------------------------------------------\u001b[0m",
      "\u001b[0;31mAttributeError\u001b[0m                            Traceback (most recent call last)",
      "\u001b[1;32m/home/moej56153/Master_Thesis/integral_pointing_query.ipynb Cell 11'\u001b[0m in \u001b[0;36m<cell line: 1>\u001b[0;34m()\u001b[0m\n\u001b[0;32m----> <a href='vscode-notebook-cell://wsl%2Bubuntu/home/moej56153/Master_Thesis/integral_pointing_query.ipynb#ch0000010vscode-remote?line=0'>1</a>\u001b[0m table[\u001b[39m\"\u001b[39;49m\u001b[39mSCW_TYPE\u001b[39;49m\u001b[39m\"\u001b[39;49m]\u001b[39m.\u001b[39;49mstrip()\n",
      "File \u001b[0;32m~/.pyenv/versions/MT/lib/python3.9/site-packages/pandas/core/generic.py:5487\u001b[0m, in \u001b[0;36mNDFrame.__getattr__\u001b[0;34m(self, name)\u001b[0m\n\u001b[1;32m   5480\u001b[0m \u001b[39mif\u001b[39;00m (\n\u001b[1;32m   5481\u001b[0m     name \u001b[39mnot\u001b[39;00m \u001b[39min\u001b[39;00m \u001b[39mself\u001b[39m\u001b[39m.\u001b[39m_internal_names_set\n\u001b[1;32m   5482\u001b[0m     \u001b[39mand\u001b[39;00m name \u001b[39mnot\u001b[39;00m \u001b[39min\u001b[39;00m \u001b[39mself\u001b[39m\u001b[39m.\u001b[39m_metadata\n\u001b[1;32m   5483\u001b[0m     \u001b[39mand\u001b[39;00m name \u001b[39mnot\u001b[39;00m \u001b[39min\u001b[39;00m \u001b[39mself\u001b[39m\u001b[39m.\u001b[39m_accessors\n\u001b[1;32m   5484\u001b[0m     \u001b[39mand\u001b[39;00m \u001b[39mself\u001b[39m\u001b[39m.\u001b[39m_info_axis\u001b[39m.\u001b[39m_can_hold_identifiers_and_holds_name(name)\n\u001b[1;32m   5485\u001b[0m ):\n\u001b[1;32m   5486\u001b[0m     \u001b[39mreturn\u001b[39;00m \u001b[39mself\u001b[39m[name]\n\u001b[0;32m-> 5487\u001b[0m \u001b[39mreturn\u001b[39;00m \u001b[39mobject\u001b[39;49m\u001b[39m.\u001b[39;49m\u001b[39m__getattribute__\u001b[39;49m(\u001b[39mself\u001b[39;49m, name)\n",
      "\u001b[0;31mAttributeError\u001b[0m: 'Series' object has no attribute 'strip'"
     ]
    }
   ],
   "source": [
    "table[\"SCW_TYPE\"].strip()"
   ]
  },
  {
   "cell_type": "code",
   "execution_count": null,
   "id": "4a74eae3",
   "metadata": {},
   "outputs": [],
   "source": []
  },
  {
   "cell_type": "code",
   "execution_count": null,
   "id": "382aca1d",
   "metadata": {},
   "outputs": [],
   "source": []
  }
 ],
 "metadata": {
  "interpreter": {
   "hash": "77c6aaad9a34bae581a83e51509dc60b9a05d4f3ba3ef918f772e036566f2e96"
  },
  "kernelspec": {
   "display_name": "Python 3.9.13 64-bit ('MT')",
   "language": "python",
   "name": "python3"
  },
  "language_info": {
   "codemirror_mode": {
    "name": "ipython",
    "version": 3
   },
   "file_extension": ".py",
   "mimetype": "text/x-python",
   "name": "python",
   "nbconvert_exporter": "python",
   "pygments_lexer": "ipython3",
   "version": "3.9.13"
  }
 },
 "nbformat": 4,
 "nbformat_minor": 5
}
