{
 "cells": [
  {
   "cell_type": "code",
   "execution_count": 2,
   "metadata": {},
   "outputs": [],
   "source": [
    "import numpy as np\n",
    "import matplotlib.pyplot as plt\n",
    "from matplotlib.patches import Ellipse\n",
    "import matplotlib.transforms as transforms\n",
    "import pickle"
   ]
  },
  {
   "cell_type": "code",
   "execution_count": 3,
   "metadata": {},
   "outputs": [],
   "source": [
    "def confidence_ellipse(val, cov, ax, n_std=1.0, facecolor='none', **kwargs):\n",
    "    pearson = cov[0, 1]/np.sqrt(cov[0, 0] * cov[1, 1])\n",
    "    # Using a special case to obtain the eigenvalues of this\n",
    "    # two-dimensional dataset.\n",
    "    ell_radius_x = np.sqrt(1 + pearson)\n",
    "    ell_radius_y = np.sqrt(1 - pearson)\n",
    "    ellipse = Ellipse((0, 0), width=ell_radius_x * 2, height=ell_radius_y * 2,\n",
    "                      facecolor=facecolor, **kwargs)\n",
    "\n",
    "    # Calculating the standard deviation of x from\n",
    "    # the squareroot of the variance and multiplying\n",
    "    # with the given number of standard deviations.\n",
    "    scale_x = np.sqrt(cov[0, 0]) * n_std\n",
    "    mean_x = val[0]\n",
    "\n",
    "    # calculating the standard deviation of y ...\n",
    "    scale_y = np.sqrt(cov[1, 1]) * n_std\n",
    "    mean_y = val[1]\n",
    "\n",
    "    transf = transforms.Affine2D() \\\n",
    "        .rotate_deg(45) \\\n",
    "        .scale(scale_x, scale_y) \\\n",
    "        .translate(mean_x, mean_y)\n",
    "\n",
    "    ellipse.set_transform(transf + ax.transData)\n",
    "    return ax.add_patch(ellipse)"
   ]
  },
  {
   "cell_type": "code",
   "execution_count": 8,
   "metadata": {},
   "outputs": [
    {
     "name": "stdout",
     "output_type": "stream",
     "text": [
      "[ 0.00461552 -2.2072653 ] [[1.20484223e-10 2.58248681e-08]\n",
      " [2.58248681e-08 6.75377881e-05]]\n",
      "[ 0.0048634  -2.16428586] [[2.02044195e-10 3.71683187e-08]\n",
      " [3.71683187e-08 1.02931809e-04]]\n",
      "[ 0.00481711 -2.14838868] [[1.27520041e-10 2.09052181e-08]\n",
      " [2.09052181e-08 6.39235069e-05]]\n",
      "[ 0.00468884 -2.14003083] [[6.73109907e-10 1.12368622e-07]\n",
      " [1.12368622e-07 3.80662556e-04]]\n",
      "[ 0.00477073 -2.086128  ] [[2.73873151e-10 3.76591868e-08]\n",
      " [3.76591868e-08 9.70340497e-05]]\n",
      "[ 0.00446477 -2.09483014] [[2.96839499e-10 4.85460744e-08]\n",
      " [4.85460744e-08 1.22352358e-04]]\n",
      "[ 0.00499287 -2.02159428] [[2.96854362e-10 3.22024315e-08]\n",
      " [3.22024315e-08 1.01429766e-04]]\n",
      "[ 0.0044768  -1.99551408] [[1.47842319e-09 1.23991360e-07]\n",
      " [1.23991360e-07 6.33165511e-04]]\n"
     ]
    },
    {
     "data": {
      "image/png": "[encoded data removed]",
      "text/plain": [
       "<Figure size 432x288 with 1 Axes>"
      ]
     },
     "metadata": {
      "needs_background": "light"
     },
     "output_type": "display_data"
    }
   ],
   "source": [
    "folders = [\n",
    "    \"spimodfit/0422_crab_only\",\n",
    "    \"spimodfit/0727_crab_only\",\n",
    "    \"spimodfit/1327_crab_only\",\n",
    "    \"spimodfit/1644_crab_only\",\n",
    "    \"orbit_0422\",\n",
    "    \"orbit_0727\",\n",
    "    \"orbit_1327\",\n",
    "    \"orbit_1644\"\n",
    "]\n",
    "names = [\n",
    "    \"spimodfit_0422\",\n",
    "    \"spimodfit_0727\",\n",
    "    \"spimodfit_1327\",\n",
    "    \"spimodfit_1644\",\n",
    "    \"0422\",\n",
    "    \"0727\",\n",
    "    \"1327\",\n",
    "    \"1644\"\n",
    "]\n",
    "edgecolors = [\n",
    "    \"blue\",\n",
    "    \"red\",\n",
    "    \"green\",\n",
    "    \"black\",\n",
    "    \"blue\",\n",
    "    \"red\",\n",
    "    \"green\",\n",
    "    \"black\",\n",
    "]\n",
    "linestyles = [\n",
    "    \"solid\",\n",
    "    \"solid\",\n",
    "    \"solid\",\n",
    "    \"solid\",\n",
    "    \"dashed\",\n",
    "    \"dashed\",\n",
    "    \"dashed\",\n",
    "    \"dashed\",\n",
    "]\n",
    "\n",
    "fig, ax = plt.subplots()\n",
    "for folder, name, edgecolor, linestyle in zip(folders, names, edgecolors, linestyles):\n",
    "    with open(f\"./{folder}/crab_parameters.pickle\", \"rb\") as f:\n",
    "        val, cov = pickle.load(f)\n",
    "    print (val, cov)\n",
    "    confidence_ellipse(val, cov, ax, 1, edgecolor=edgecolor, label=name, ls=linestyle)\n",
    "ax.autoscale()\n",
    "plt.legend(bbox_to_anchor=(1.05, 1), loc=2, borderaxespad=0.)\n",
    "plt.xlabel(\"Crab K\")\n",
    "plt.ylabel(\"Crab index\")\n",
    "plt.savefig(\"spimodfit_comparison.pdf\")"
   ]
  }
 ],
 "metadata": {
  "kernelspec": {
   "display_name": "MT",
   "language": "python",
   "name": "python3"
  },
  "language_info": {
   "codemirror_mode": {
    "name": "ipython",
    "version": 3
   },
   "file_extension": ".py",
   "mimetype": "text/x-python",
   "name": "python",
   "nbconvert_exporter": "python",
   "pygments_lexer": "ipython3",
   "version": "3.9.13"
  },
  "orig_nbformat": 4,
  "vscode": {
   "interpreter": {
    "hash": "77c6aaad9a34bae581a83e51509dc60b9a05d4f3ba3ef918f772e036566f2e96"
   }
  }
 },
 "nbformat": 4,
 "nbformat_minor": 2
}
