{
 "cells": [
  {
   "cell_type": "code",
   "execution_count": 1,
   "metadata": {},
   "outputs": [],
   "source": [
    "import numpy as np\n",
    "import matplotlib.pyplot as plt\n",
    "from matplotlib.patches import Ellipse\n",
    "import matplotlib.transforms as transforms\n",
    "import pickle"
   ]
  },
  {
   "cell_type": "code",
   "execution_count": 2,
   "metadata": {},
   "outputs": [],
   "source": [
    "def confidence_ellipse(val, cov, ax, n_std=1.0, facecolor='none', **kwargs):\n",
    "    pearson = cov[0, 1]/np.sqrt(cov[0, 0] * cov[1, 1])\n",
    "    # Using a special case to obtain the eigenvalues of this\n",
    "    # two-dimensional dataset.\n",
    "    ell_radius_x = np.sqrt(1 + pearson)\n",
    "    ell_radius_y = np.sqrt(1 - pearson)\n",
    "    ellipse = Ellipse((0, 0), width=ell_radius_x * 2, height=ell_radius_y * 2,\n",
    "                      facecolor=facecolor, **kwargs)\n",
    "\n",
    "    # Calculating the standard deviation of x from\n",
    "    # the squareroot of the variance and multiplying\n",
    "    # with the given number of standard deviations.\n",
    "    scale_x = np.sqrt(cov[0, 0]) * n_std\n",
    "    mean_x = val[0]\n",
    "\n",
    "    # calculating the standard deviation of y ...\n",
    "    scale_y = np.sqrt(cov[1, 1]) * n_std\n",
    "    mean_y = val[1]\n",
    "\n",
    "    transf = transforms.Affine2D() \\\n",
    "        .rotate_deg(45) \\\n",
    "        .scale(scale_x, scale_y) \\\n",
    "        .translate(mean_x, mean_y)\n",
    "\n",
    "    ellipse.set_transform(transf + ax.transData)\n",
    "    return ax.add_patch(ellipse)"
   ]
  },
  {
   "cell_type": "code",
   "execution_count": 5,
   "metadata": {},
   "outputs": [
    {
     "data": {
      "image/png": "[encoded data removed]",
      "text/plain": [
       "<Figure size 432x288 with 1 Axes>"
      ]
     },
     "metadata": {
      "needs_background": "light"
     },
     "output_type": "display_data"
    }
   ],
   "source": [
    "folders = [\n",
    "    \"spimodfit/1644_crab_only\",\n",
    "    \"spimodfit/1658_crab_only\",\n",
    "    \"spimodfit/1662_crab_only\",\n",
    "    \"spimodfit/1664_crab_only\",\n",
    "    \"spimodfit/1667_crab_only\",\n",
    "    \"orbit_1644\",\n",
    "    \"orbit_1658\",\n",
    "    \"orbit_1661\",\n",
    "    \"orbit_1662\",\n",
    "    \"orbit_1664\",\n",
    "    \"orbit_1667\"\n",
    "]\n",
    "names = [\n",
    "    \"spimodfit_1644\",\n",
    "    \"spimodfit_1658\",\n",
    "    \"spimodfit_1662\",\n",
    "    \"spimodfit_1664\",\n",
    "    \"spimodfit_1667\",\n",
    "    \"1644\",\n",
    "    \"1658\",\n",
    "    \"1661\",\n",
    "    \"1662\",\n",
    "    \"1664\",\n",
    "    \"1667\"\n",
    "]\n",
    "edgecolors = [\n",
    "    \"C1\",\n",
    "    \"C2\",\n",
    "    \"C4\",\n",
    "    \"C5\",\n",
    "    \"C6\",\n",
    "    \"C1\",\n",
    "    \"C2\",\n",
    "    \"C3\",\n",
    "    \"C4\",\n",
    "    \"C5\",\n",
    "    \"C6\",\n",
    "]\n",
    "linestyles = [\n",
    "    \"solid\",\n",
    "    \"solid\",\n",
    "    \"solid\",\n",
    "    \"solid\",\n",
    "    \"solid\",\n",
    "    \"dashed\",\n",
    "    \"dashed\",\n",
    "    \"dashed\",\n",
    "    \"dashed\",\n",
    "    \"dashed\",\n",
    "    \"dashed\",\n",
    "]\n",
    "\n",
    "fig, ax = plt.subplots()\n",
    "for folder, name, edgecolor, linestyle in zip(folders, names, edgecolors, linestyles):\n",
    "    with open(f\"./{folder}/crab_parameters.pickle\", \"rb\") as f:\n",
    "        val, cov = pickle.load(f)\n",
    "    confidence_ellipse(val, cov, ax, 1, edgecolor=edgecolor, label=name, ls=linestyle)\n",
    "ax.autoscale()\n",
    "lgd = plt.legend(bbox_to_anchor=(1.02, 1), loc=2, borderaxespad=0.)\n",
    "plt.xlabel(\"Crab K\")\n",
    "plt.ylabel(\"Crab index\")\n",
    "plt.savefig(\"spimodfit_comparison.pdf\", bbox_extra_artists=(lgd,), bbox_inches='tight')"
   ]
  },
  {
   "cell_type": "code",
   "execution_count": null,
   "metadata": {},
   "outputs": [],
   "source": [
    "folders = [\n",
    "    \"spimodfit/1019_sec\",\n",
    "    \"orbit_1019\"\n",
    "]\n",
    "names = [\n",
    "    \"spimodfit_1019\",\n",
    "    \"1019\",\n",
    "]\n",
    "edgecolors = [\n",
    "    \"C1\",\n",
    "    \"C1\",\n",
    "]\n",
    "linestyles = [\n",
    "    \"solid\",\n",
    "    \"dashed\",\n",
    "]\n",
    "\n",
    "fig, ax = plt.subplots()\n",
    "for folder, name, edgecolor, linestyle in zip(folders, names, edgecolors, linestyles):\n",
    "    with open(f\"./{folder}/crab_parameters.pickle\", \"rb\") as f:\n",
    "        val, cov = pickle.load(f)\n",
    "    confidence_ellipse(val, cov, ax, 1, edgecolor=edgecolor, label=name, ls=linestyle)\n",
    "ax.autoscale()\n",
    "lgd = plt.legend(bbox_to_anchor=(1.02, 1), loc=2, borderaxespad=0.)\n",
    "plt.xlabel(\"Crab K\")\n",
    "plt.ylabel(\"Crab index\")\n",
    "plt.savefig(\"spimodfit_comparison.pdf\", bbox_extra_artists=(lgd,), bbox_inches='tight')"
   ]
  }
 ],
 "metadata": {
  "kernelspec": {
   "display_name": "MT",
   "language": "python",
   "name": "python3"
  },
  "language_info": {
   "codemirror_mode": {
    "name": "ipython",
    "version": 3
   },
   "file_extension": ".py",
   "mimetype": "text/x-python",
   "name": "python",
   "nbconvert_exporter": "python",
   "pygments_lexer": "ipython3",
   "version": "3.9.13 (main, Jun  9 2022, 14:24:47) \n[GCC 11.2.0]"
  },
  "orig_nbformat": 4,
  "vscode": {
   "interpreter": {
    "hash": "77c6aaad9a34bae581a83e51509dc60b9a05d4f3ba3ef918f772e036566f2e96"
   }
  }
 },
 "nbformat": 4,
 "nbformat_minor": 2
}
