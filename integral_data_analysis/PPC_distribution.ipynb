{
 "cells": [
  {
   "cell_type": "code",
   "execution_count": 1,
   "metadata": {},
   "outputs": [],
   "source": [
    "import numpy as np\n",
    "import matplotlib.pyplot as plt\n",
    "from scipy.stats import norm"
   ]
  },
  {
   "cell_type": "code",
   "execution_count": 2,
   "metadata": {},
   "outputs": [],
   "source": [
    "normal_dist = lambda x, m, s: 1 / (np.sqrt(2*np.pi) * s) * np.exp(-1/2 * ((x - m) / s)**2)\n",
    "\n",
    "def b_maxL_2(m, t, C):\n",
    "    first = C[0]+C[1]-(m[0]+m[1])*(t[0]+t[1])\n",
    "    root = (C[0]+C[1]+(m[0]-m[1])*(t[0]+t[1]))**2-4*C[0]*(m[0]-m[1])*(t[0]+t[1])\n",
    "    res = (first+np.sqrt(root))/(2*(t[0]+t[1]))\n",
    "    if res < 0:\n",
    "        return 0\n",
    "    return res"
   ]
  },
  {
   "cell_type": "code",
   "execution_count": 72,
   "metadata": {},
   "outputs": [],
   "source": [
    "# true incoming rates\n",
    "s1 = 200.\n",
    "s2 = 1000.\n",
    "b = 300.\n",
    "\n",
    "# include time, even though rates = counts here, only included so that b_max_L doesn't have to be rewritten\n",
    "t1 = 1.\n",
    "t2 = 1.\n",
    "\n",
    "true_counts = np.array([s1, s2, b, b])\n",
    "cluster_size = 2\n",
    "\n",
    "# How many posterior samples\n",
    "num_posterior_samples = 300\n",
    "# How many predictive samples, equivalent to number of real data bins in real analysis\n",
    "num_predictive_samples = 10000\n",
    "# Bins in plot\n",
    "num_bins = 50\n",
    "\n",
    "# standard deviation of posterior\n",
    "posterior_std = np.array([50., 50.])\n",
    "# samples of posterior\n",
    "posterior_samples = np.random.normal(true_counts[:cluster_size], posterior_std, size=(num_posterior_samples, cluster_size))\n",
    "\n",
    "# Each posterior sample is sampled into the predictive samples\n",
    "posterior_predictive_source_counts = np.random.poisson(posterior_samples, (num_predictive_samples, num_posterior_samples, cluster_size))\n",
    "# posterior_predictive_source_counts = posterior_predictive_source_counts.swapaxes(0, 1)\n",
    "# posterior_predictive_source_counts = posterior_predictive_source_counts.swapaxes(1, 2)\n",
    "\n",
    "# actual measured counts, available to use in analysis\n",
    "measured_counts = np.random.poisson(true_counts, (num_predictive_samples, len(true_counts)))\n",
    "measured_counts_combined = measured_counts[:,:cluster_size] + measured_counts[:,cluster_size:]\n",
    "\n",
    "# maximum likelihood background\n",
    "b_max_L = np.zeros((num_predictive_samples, num_posterior_samples))\n",
    "for i in range(num_posterior_samples):\n",
    "    for j in range(num_predictive_samples):\n",
    "        b_max_L[j, i] = b_maxL_2(posterior_samples[i], [t1, t2], measured_counts_combined[j])\n",
    "# _ = plt.hist(b_max_L, bins=num_bins)\n"
   ]
  },
  {
   "cell_type": "code",
   "execution_count": 73,
   "metadata": {},
   "outputs": [],
   "source": [
    "# Repeat for easier usage\n",
    "posterior_predictive_background_counts = np.repeat(b_max_L[:,:,np.newaxis], 2, axis=2)\n",
    "# Sample posterior predictive counts\n",
    "posterior_predictive_counts = np.random.poisson(posterior_predictive_background_counts + posterior_predictive_source_counts)"
   ]
  },
  {
   "cell_type": "code",
   "execution_count": 74,
   "metadata": {},
   "outputs": [
    {
     "data": {
      "image/png": "[encoded data removed]",
      "text/plain": [
       "<Figure size 432x288 with 1 Axes>"
      ]
     },
     "metadata": {
      "needs_background": "light"
     },
     "output_type": "display_data"
    }
   ],
   "source": [
    "# Sort posterior predictive counts for each predictive sample, i.e. sort posterior samples\n",
    "argsort = np.argsort(posterior_predictive_counts, axis=1)\n",
    "total = np.take_along_axis(posterior_predictive_counts, argsort, axis=1)\n",
    "\n",
    "# Find placement of measured counts in sorted array\n",
    "cdf = np.zeros(num_predictive_samples)\n",
    "for i in range(num_predictive_samples):\n",
    "    cdf[i] = ((np.searchsorted(total[i,:,0], measured_counts_combined[i, 0], \"left\")\n",
    "                     + np.searchsorted(total[i,:,0], measured_counts_combined[i, 0], \"right\"))\n",
    "                     / (2 * num_posterior_samples))\n",
    "    \n",
    "_ = plt.hist(cdf, bins=num_bins)\n"
   ]
  },
  {
   "cell_type": "code",
   "execution_count": null,
   "metadata": {},
   "outputs": [],
   "source": []
  }
 ],
 "metadata": {
  "kernelspec": {
   "display_name": "MT",
   "language": "python",
   "name": "python3"
  },
  "language_info": {
   "codemirror_mode": {
    "name": "ipython",
    "version": 3
   },
   "file_extension": ".py",
   "mimetype": "text/x-python",
   "name": "python",
   "nbconvert_exporter": "python",
   "pygments_lexer": "ipython3",
   "version": "3.9.13"
  },
  "orig_nbformat": 4
 },
 "nbformat": 4,
 "nbformat_minor": 2
}
