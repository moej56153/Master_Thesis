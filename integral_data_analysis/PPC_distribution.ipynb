{
 "cells": [
  {
   "cell_type": "code",
   "execution_count": 1,
   "metadata": {},
   "outputs": [],
   "source": [
    "import numpy as np\n",
    "import matplotlib.pyplot as plt\n",
    "from scipy.stats import norm\n",
    "from numba import njit\n",
    "import numba"
   ]
  },
  {
   "cell_type": "code",
   "execution_count": 2,
   "metadata": {},
   "outputs": [],
   "source": [
    "normal_dist = lambda x, m, s: 1 / (np.sqrt(2*np.pi) * s) * np.exp(-1/2 * ((x - m) / s)**2)\n",
    "\n",
    "@njit\n",
    "def b_maxL_2(m, t, C):\n",
    "    first = C[0]+C[1]-(m[0]+m[1])*(t[0]+t[1])\n",
    "    root = (C[0]+C[1]+(m[0]-m[1])*(t[0]+t[1]))**2-4*C[0]*(m[0]-m[1])*(t[0]+t[1])\n",
    "    res = (first+np.sqrt(root))/(2*(t[0]+t[1]))\n",
    "    if res < 0:\n",
    "        return 0\n",
    "    return res"
   ]
  },
  {
   "cell_type": "code",
   "execution_count": 13,
   "metadata": {},
   "outputs": [],
   "source": [
    "@njit\n",
    "def interpolate_const(ys):\n",
    "    return np.average(ys)\n",
    "\n",
    "@njit\n",
    "def interpolate_linear(ys, xs, x):\n",
    "    idx = np.searchsorted(xs, x, side=\"left\")\n",
    "    if idx == 0:\n",
    "        return ys[0]\n",
    "    elif idx == len(xs):\n",
    "        return ys[-1]\n",
    "    else:\n",
    "        return ys[idx-1] + (ys[idx] - ys[idx-1]) * (x - xs[idx-1]) / (xs[idx] - xs[idx-1])\n",
    "    \n",
    "@njit\n",
    "def solve_quad_coef(xs, ys):\n",
    "    A = np.array([[x**e for e in range(2,-1,-1)] for x in xs])\n",
    "    print(A)\n",
    "    inv = np.linalg.inv(A)\n",
    "    return inv\n",
    "    # return np.dot(inv, ys)\n",
    "    \n",
    "# @njit\n",
    "def interpolate_quadratic(ys, xs, x):\n",
    "    idx = np.searchsorted(xs, x, side=\"left\")\n",
    "    if idx == 0:\n",
    "        return ys[0]\n",
    "    elif idx == len(xs):\n",
    "        return ys[-1]\n",
    "    left_quad = True if idx > 1 else False\n",
    "    right_quad = True if idx < len(xs)-1 else False\n",
    "    \n",
    "    \n",
    "    res = 0.\n",
    "    if left_quad:\n",
    "        quad_xs = np.array([idx-2, idx-1, idx])\n",
    "        coef = solve_quad_coef(quad_xs, ys[quad_xs])\n",
    "        res += coef[0]*x**2 + coef[1]*x + coef[2]\n",
    "    if right_quad:\n",
    "        quad_xs = np.array([idx-1, idx, idx+1])\n",
    "        coef = solve_quad_coef(quad_xs, ys[quad_xs])\n",
    "        res += coef[0]*x**2 + coef[1]*x + coef[2]\n",
    "    if left_quad and right_quad:\n",
    "        res /= 2\n",
    "    return res\n",
    "    "
   ]
  },
  {
   "cell_type": "code",
   "execution_count": null,
   "metadata": {},
   "outputs": [],
   "source": []
  },
  {
   "cell_type": "code",
   "execution_count": 14,
   "metadata": {},
   "outputs": [
    {
     "ename": "TypingError",
     "evalue": "Failed in nopython mode pipeline (step: nopython frontend)\n\u001b[1m\u001b[1mNo implementation of function Function(<built-in function setitem>) found for signature:\n \n >>> setitem(array(undefined, 1d, C), int64, array(int64, 1d, C))\n \nThere are 16 candidate implementations:\n\u001b[1m      - Of which 16 did not match due to:\n      Overload of function 'setitem': File: <numerous>: Line N/A.\n        With argument(s): '(array(undefined, 1d, C), int64, array(int64, 1d, C))':\u001b[0m\n\u001b[1m       No match.\u001b[0m\n\u001b[0m\n\u001b[0m\u001b[1mDuring: typing of setitem at /tmp/ipykernel_10018/11607247.py (17)\u001b[0m\n\u001b[1m\nFile \"../../../../tmp/ipykernel_10018/11607247.py\", line 17:\u001b[0m\n\u001b[1m<source missing, REPL/exec in use?>\u001b[0m\n",
     "output_type": "error",
     "traceback": [
      "\u001b[0;31m---------------------------------------------------------------------------\u001b[0m",
      "\u001b[0;31mTypingError\u001b[0m                               Traceback (most recent call last)",
      "\u001b[1;32m/home/moej56153/Master_Thesis/integral_data_analysis/PPC_distribution.ipynb Cell 4\u001b[0m in \u001b[0;36m<cell line: 1>\u001b[0;34m()\u001b[0m\n\u001b[0;32m----> <a href='vscode-notebook-cell://wsl%2Bubuntu/home/moej56153/Master_Thesis/integral_data_analysis/PPC_distribution.ipynb#Y100sdnNjb2RlLXJlbW90ZQ%3D%3D?line=0'>1</a>\u001b[0m solve_quad_coef(np\u001b[39m.\u001b[39;49marray([\u001b[39m0\u001b[39;49m,\u001b[39m1\u001b[39;49m,\u001b[39m2\u001b[39;49m]), np\u001b[39m.\u001b[39;49marray([\u001b[39m0\u001b[39;49m,\u001b[39m1\u001b[39;49m,\u001b[39m4\u001b[39;49m]))\n",
      "File \u001b[0;32m~/.pyenv/versions/MT/lib/python3.9/site-packages/numba/core/dispatcher.py:468\u001b[0m, in \u001b[0;36m_DispatcherBase._compile_for_args\u001b[0;34m(self, *args, **kws)\u001b[0m\n\u001b[1;32m    464\u001b[0m         msg \u001b[39m=\u001b[39m (\u001b[39mf\u001b[39m\u001b[39m\"\u001b[39m\u001b[39m{\u001b[39;00m\u001b[39mstr\u001b[39m(e)\u001b[39m.\u001b[39mrstrip()\u001b[39m}\u001b[39;00m\u001b[39m \u001b[39m\u001b[39m\\n\u001b[39;00m\u001b[39m\\n\u001b[39;00m\u001b[39mThis error may have been caused \u001b[39m\u001b[39m\"\u001b[39m\n\u001b[1;32m    465\u001b[0m                \u001b[39mf\u001b[39m\u001b[39m\"\u001b[39m\u001b[39mby the following argument(s):\u001b[39m\u001b[39m\\n\u001b[39;00m\u001b[39m{\u001b[39;00margs_str\u001b[39m}\u001b[39;00m\u001b[39m\\n\u001b[39;00m\u001b[39m\"\u001b[39m)\n\u001b[1;32m    466\u001b[0m         e\u001b[39m.\u001b[39mpatch_message(msg)\n\u001b[0;32m--> 468\u001b[0m     error_rewrite(e, \u001b[39m'\u001b[39;49m\u001b[39mtyping\u001b[39;49m\u001b[39m'\u001b[39;49m)\n\u001b[1;32m    469\u001b[0m \u001b[39mexcept\u001b[39;00m errors\u001b[39m.\u001b[39mUnsupportedError \u001b[39mas\u001b[39;00m e:\n\u001b[1;32m    470\u001b[0m     \u001b[39m# Something unsupported is present in the user code, add help info\u001b[39;00m\n\u001b[1;32m    471\u001b[0m     error_rewrite(e, \u001b[39m'\u001b[39m\u001b[39munsupported_error\u001b[39m\u001b[39m'\u001b[39m)\n",
      "File \u001b[0;32m~/.pyenv/versions/MT/lib/python3.9/site-packages/numba/core/dispatcher.py:409\u001b[0m, in \u001b[0;36m_DispatcherBase._compile_for_args.<locals>.error_rewrite\u001b[0;34m(e, issue_type)\u001b[0m\n\u001b[1;32m    407\u001b[0m     \u001b[39mraise\u001b[39;00m e\n\u001b[1;32m    408\u001b[0m \u001b[39melse\u001b[39;00m:\n\u001b[0;32m--> 409\u001b[0m     \u001b[39mraise\u001b[39;00m e\u001b[39m.\u001b[39mwith_traceback(\u001b[39mNone\u001b[39;00m)\n",
      "\u001b[0;31mTypingError\u001b[0m: Failed in nopython mode pipeline (step: nopython frontend)\n\u001b[1m\u001b[1mNo implementation of function Function(<built-in function setitem>) found for signature:\n \n >>> setitem(array(undefined, 1d, C), int64, array(int64, 1d, C))\n \nThere are 16 candidate implementations:\n\u001b[1m      - Of which 16 did not match due to:\n      Overload of function 'setitem': File: <numerous>: Line N/A.\n        With argument(s): '(array(undefined, 1d, C), int64, array(int64, 1d, C))':\u001b[0m\n\u001b[1m       No match.\u001b[0m\n\u001b[0m\n\u001b[0m\u001b[1mDuring: typing of setitem at /tmp/ipykernel_10018/11607247.py (17)\u001b[0m\n\u001b[1m\nFile \"../../../../tmp/ipykernel_10018/11607247.py\", line 17:\u001b[0m\n\u001b[1m<source missing, REPL/exec in use?>\u001b[0m\n"
     ]
    }
   ],
   "source": [
    "solve_quad_coef(np.array([0,1,2]), np.array([0,1,4]))"
   ]
  },
  {
   "cell_type": "code",
   "execution_count": 103,
   "metadata": {},
   "outputs": [
    {
     "name": "stdout",
     "output_type": "stream",
     "text": [
      "112.00000000000318\n",
      "112\n"
     ]
    }
   ],
   "source": [
    "xs = np.linspace(0, 10, 11)\n",
    "ys = xs**2 + xs + 2\n",
    "x = 10\n",
    "print(interpolate_quadratic(ys, xs, x))\n",
    "print(x**2 + x +2)"
   ]
  },
  {
   "cell_type": "code",
   "execution_count": 70,
   "metadata": {},
   "outputs": [
    {
     "name": "stdout",
     "output_type": "stream",
     "text": [
      "2\n",
      "1\n",
      "0\n"
     ]
    }
   ],
   "source": [
    "for i in range(2,-1,-1):\n",
    "    print(i)"
   ]
  },
  {
   "cell_type": "code",
   "execution_count": 67,
   "metadata": {},
   "outputs": [
    {
     "data": {
      "text/plain": [
       "10"
      ]
     },
     "execution_count": 67,
     "metadata": {},
     "output_type": "execute_result"
    }
   ],
   "source": [
    "a = np.linspace(0, 10, 11)\n",
    "np.searchsorted(a, 10.0, side=\"left\")"
   ]
  },
  {
   "cell_type": "code",
   "execution_count": 145,
   "metadata": {},
   "outputs": [],
   "source": [
    "# true incoming rates\n",
    "s1 = 200.\n",
    "s2 = 100.\n",
    "b = 300.\n",
    "\n",
    "# include time, even though rates = counts here, only included so that b_max_L doesn't have to be rewritten\n",
    "t1 = 1.\n",
    "t2 = 1.\n",
    "\n",
    "true_counts = np.array([s1, s2, b, b])\n",
    "cluster_size = 2\n",
    "\n",
    "# How many posterior samples\n",
    "num_posterior_samples = 300\n",
    "# How many predictive samples, equivalent to number of real data bins in real analysis\n",
    "num_predictive_samples = 1000\n",
    "# Bins in plot\n",
    "num_bins = 100\n",
    "\n",
    "# standard deviation of posterior\n",
    "posterior_std = np.array([0., 0.])\n",
    "# samples of posterior\n",
    "posterior_samples = np.random.normal(true_counts[:cluster_size], posterior_std, size=(num_posterior_samples, cluster_size))\n",
    "\n",
    "# Each posterior sample is sampled into the predictive samples\n",
    "posterior_predictive_source_counts = np.random.poisson(posterior_samples, (num_predictive_samples, num_posterior_samples, cluster_size))\n",
    "# posterior_predictive_source_counts = posterior_predictive_source_counts.swapaxes(0, 1)\n",
    "# posterior_predictive_source_counts = posterior_predictive_source_counts.swapaxes(1, 2)\n",
    "\n",
    "# actual measured counts, available to use in analysis\n",
    "measured_counts = np.random.poisson(true_counts, (num_predictive_samples, len(true_counts)))\n",
    "measured_counts_combined = measured_counts[:,:cluster_size] + measured_counts[:,cluster_size:]\n",
    "\n",
    "# maximum likelihood background\n",
    "b_max_L = np.zeros((num_predictive_samples, num_posterior_samples))\n",
    "for i in range(num_posterior_samples):\n",
    "    for j in range(num_predictive_samples):\n",
    "        b_max_L[j, i] = b_maxL_2(posterior_samples[i], [t1, t2], measured_counts_combined[j])\n",
    "# n, bins, _ = plt.hist(b_max_L.flatten(), bins=num_bins)\n",
    "# x = bins\n",
    "# y = normal_dist(bins, b, np.sqrt(b))\n",
    "# y = y * np.amax(n) / np.amax(y)\n",
    "# plt.plot(x, y)\n"
   ]
  },
  {
   "cell_type": "code",
   "execution_count": 146,
   "metadata": {},
   "outputs": [],
   "source": [
    "# Repeat for easier usage\n",
    "posterior_predictive_background_counts = np.repeat(b_max_L[:,:,np.newaxis], 2, axis=2)\n",
    "# Sample posterior predictive counts\n",
    "posterior_predictive_counts = np.random.poisson(posterior_predictive_background_counts + posterior_predictive_source_counts)"
   ]
  },
  {
   "cell_type": "code",
   "execution_count": 147,
   "metadata": {},
   "outputs": [
    {
     "data": {
      "image/png": "[encoded data removed]",
      "text/plain": [
       "<Figure size 432x288 with 1 Axes>"
      ]
     },
     "metadata": {
      "needs_background": "light"
     },
     "output_type": "display_data"
    }
   ],
   "source": [
    "# Sort posterior predictive counts for each predictive sample, i.e. sort posterior samples\n",
    "argsort = np.argsort(posterior_predictive_counts, axis=1)\n",
    "total = np.take_along_axis(posterior_predictive_counts, argsort, axis=1)\n",
    "\n",
    "# Find placement of measured counts in sorted array\n",
    "cdf = np.zeros(num_predictive_samples)\n",
    "for i in range(num_predictive_samples):\n",
    "    cdf[i] = ((np.searchsorted(total[i,:,0], measured_counts_combined[i, 0], \"left\")\n",
    "                     + np.searchsorted(total[i,:,0], measured_counts_combined[i, 0], \"right\"))\n",
    "                     / (2 * num_posterior_samples))\n",
    "    \n",
    "_ = plt.hist(cdf, bins=num_bins)\n"
   ]
  },
  {
   "cell_type": "code",
   "execution_count": null,
   "metadata": {},
   "outputs": [],
   "source": []
  },
  {
   "cell_type": "code",
   "execution_count": 4,
   "metadata": {},
   "outputs": [],
   "source": [
    "@njit\n",
    "def calc_bmaxL_variance_matrix(b_array, s1_array, t1_array, s2_array, t2_array, num_samples=1000000):\n",
    "    variance_matrix = np.zeros((len(b_array), len(s1_array), len(t1_array), len(s2_array), len(t2_array), 2, 2, 2))\n",
    "    for b_i, b in enumerate(b_array):\n",
    "        for s1_i, s1 in enumerate(s1_array):\n",
    "            for t1_i, t1 in enumerate(t1_array):\n",
    "                for s2_i, s2 in enumerate(s2_array):\n",
    "                    for t2_i, t2 in enumerate(t2_array):\n",
    "                        print(b_i, s1_i, t1_i, s2_i, t2_i)\n",
    "                        bd1 = np.zeros(num_samples)\n",
    "                        bd2 = np.zeros(num_samples)\n",
    "                        sd1 = np.zeros(num_samples)\n",
    "                        sd2 = np.zeros(num_samples)\n",
    "                        for n_i in range(num_samples):\n",
    "                            s1m = np.random.poisson(t1 * s1)\n",
    "                            s2m = np.random.poisson(t2 * s2)\n",
    "                            b1m = np.random.poisson(t1 * b)\n",
    "                            b2m = np.random.poisson(t2 * b)\n",
    "                            \n",
    "                            c1m = s1m + b1m\n",
    "                            c2m = s2m + b2m\n",
    "                            b_max_L = b_maxL_2(np.array([s1, s2]), np.array([t1, t2]), np.array([c1m, c2m]))\n",
    "                            \n",
    "                            bd1[n_i] = b1m - b_max_L*t1\n",
    "                            bd2[n_i] = b2m - b_max_L*t2\n",
    "                            sd1[n_i] = s1m - s1*t1\n",
    "                            sd2[n_i] = s2m - s2*t2\n",
    "                            \n",
    "                        # if b_i == 0 and s1_i == 0 and s2_i == 0:\n",
    "                        #     print(b, s1, t1, s2, t2)\n",
    "                        #     print(s1m, s2m, b1m, b2m)\n",
    "                        #     print([s1, s2], [t1, t2], [c1m, c2m])\n",
    "                        #     print(b_maxL_2([s1, s2], [t1, t2], [c1m, c2m]))\n",
    "                        #     print(b1m - b_max_L*t1, b2m - b_max_L*t2)\n",
    "                        #     print(s1m - s1*t1, s2m - s2*t2)\n",
    "                        #     print(np.cov(bd1, sd1))\n",
    "                        variance_matrix[b_i, s1_i, t1_i, s2_i, t2_i, 0, :, :] = np.cov(bd1, sd1)\n",
    "                        variance_matrix[b_i, s1_i, t1_i, s2_i, t2_i, 1, :, :] = np.cov(bd2, sd2)\n",
    "                        \n",
    "    return variance_matrix"
   ]
  },
  {
   "cell_type": "code",
   "execution_count": 4,
   "metadata": {},
   "outputs": [],
   "source": [
    "input_b = np.geomspace(0.1,100,3)\n",
    "input_s1 = np.geomspace(0.01,10,3)\n",
    "input_t1 = np.geomspace(600, 6000, 3)\n",
    "input_s2 = np.geomspace(0.01,10,3)\n",
    "input_t2 = np.geomspace(600, 6000, 3)"
   ]
  },
  {
   "cell_type": "code",
   "execution_count": 5,
   "metadata": {},
   "outputs": [
    {
     "name": "stdout",
     "output_type": "stream",
     "text": [
      "0 0 0 0 0\n",
      "0 0 0 0 1\n",
      "0 0 0 0 2\n",
      "0 0 0 1 0\n",
      "0 0 0 1 1\n",
      "0 0 0 1 2\n",
      "0 0 0 2 0\n",
      "0 0 0 2 1\n",
      "0 0 0 2 2\n",
      "0 0 1 0 0\n",
      "0 0 1 0 1\n",
      "0 0 1 0 2\n",
      "0 0 1 1 0\n",
      "0 0 1 1 1\n",
      "0 0 1 1 2\n",
      "0 0 1 2 0\n",
      "0 0 1 2 1\n",
      "0 0 1 2 2\n",
      "0 0 2 0 0\n",
      "0 0 2 0 1\n",
      "0 0 2 0 2\n",
      "0 0 2 1 0\n",
      "0 0 2 1 1\n",
      "0 0 2 1 2\n",
      "0 0 2 2 0\n",
      "0 0 2 2 1\n",
      "0 0 2 2 2\n",
      "0 1 0 0 0\n",
      "0 1 0 0 1\n",
      "0 1 0 0 2\n",
      "0 1 0 1 0\n",
      "0 1 0 1 1\n",
      "0 1 0 1 2\n",
      "0 1 0 2 0\n",
      "0 1 0 2 1\n",
      "0 1 0 2 2\n",
      "0 1 1 0 0\n",
      "0 1 1 0 1\n",
      "0 1 1 0 2\n",
      "0 1 1 1 0\n",
      "0 1 1 1 1\n",
      "0 1 1 1 2\n",
      "0 1 1 2 0\n",
      "0 1 1 2 1\n",
      "0 1 1 2 2\n",
      "0 1 2 0 0\n",
      "0 1 2 0 1\n",
      "0 1 2 0 2\n",
      "0 1 2 1 0\n",
      "0 1 2 1 1\n",
      "0 1 2 1 2\n",
      "0 1 2 2 0\n",
      "0 1 2 2 1\n",
      "0 1 2 2 2\n",
      "0 2 0 0 0\n",
      "0 2 0 0 1\n",
      "0 2 0 0 2\n",
      "0 2 0 1 0\n",
      "0 2 0 1 1\n",
      "0 2 0 1 2\n",
      "0 2 0 2 0\n",
      "0 2 0 2 1\n",
      "0 2 0 2 2\n",
      "0 2 1 0 0\n",
      "0 2 1 0 1\n",
      "0 2 1 0 2\n",
      "0 2 1 1 0\n",
      "0 2 1 1 1\n",
      "0 2 1 1 2\n",
      "0 2 1 2 0\n",
      "0 2 1 2 1\n",
      "0 2 1 2 2\n",
      "0 2 2 0 0\n",
      "0 2 2 0 1\n",
      "0 2 2 0 2\n",
      "0 2 2 1 0\n",
      "0 2 2 1 1\n",
      "0 2 2 1 2\n",
      "0 2 2 2 0\n",
      "0 2 2 2 1\n",
      "0 2 2 2 2\n",
      "1 0 0 0 0\n",
      "1 0 0 0 1\n",
      "1 0 0 0 2\n",
      "1 0 0 1 0\n",
      "1 0 0 1 1\n",
      "1 0 0 1 2\n",
      "1 0 0 2 0\n",
      "1 0 0 2 1\n",
      "1 0 0 2 2\n",
      "1 0 1 0 0\n",
      "1 0 1 0 1\n",
      "1 0 1 0 2\n",
      "1 0 1 1 0\n",
      "1 0 1 1 1\n",
      "1 0 1 1 2\n",
      "1 0 1 2 0\n",
      "1 0 1 2 1\n",
      "1 0 1 2 2\n",
      "1 0 2 0 0\n",
      "1 0 2 0 1\n",
      "1 0 2 0 2\n",
      "1 0 2 1 0\n",
      "1 0 2 1 1\n",
      "1 0 2 1 2\n",
      "1 0 2 2 0\n",
      "1 0 2 2 1\n",
      "1 0 2 2 2\n",
      "1 1 0 0 0\n",
      "1 1 0 0 1\n",
      "1 1 0 0 2\n",
      "1 1 0 1 0\n",
      "1 1 0 1 1\n",
      "1 1 0 1 2\n",
      "1 1 0 2 0\n",
      "1 1 0 2 1\n",
      "1 1 0 2 2\n",
      "1 1 1 0 0\n",
      "1 1 1 0 1\n",
      "1 1 1 0 2\n",
      "1 1 1 1 0\n",
      "1 1 1 1 1\n",
      "1 1 1 1 2\n",
      "1 1 1 2 0\n",
      "1 1 1 2 1\n",
      "1 1 1 2 2\n",
      "1 1 2 0 0\n",
      "1 1 2 0 1\n",
      "1 1 2 0 2\n",
      "1 1 2 1 0\n",
      "1 1 2 1 1\n",
      "1 1 2 1 2\n",
      "1 1 2 2 0\n",
      "1 1 2 2 1\n",
      "1 1 2 2 2\n",
      "1 2 0 0 0\n",
      "1 2 0 0 1\n",
      "1 2 0 0 2\n",
      "1 2 0 1 0\n",
      "1 2 0 1 1\n",
      "1 2 0 1 2\n",
      "1 2 0 2 0\n",
      "1 2 0 2 1\n",
      "1 2 0 2 2\n",
      "1 2 1 0 0\n",
      "1 2 1 0 1\n",
      "1 2 1 0 2\n",
      "1 2 1 1 0\n",
      "1 2 1 1 1\n",
      "1 2 1 1 2\n",
      "1 2 1 2 0\n",
      "1 2 1 2 1\n",
      "1 2 1 2 2\n",
      "1 2 2 0 0\n",
      "1 2 2 0 1\n",
      "1 2 2 0 2\n",
      "1 2 2 1 0\n",
      "1 2 2 1 1\n",
      "1 2 2 1 2\n",
      "1 2 2 2 0\n",
      "1 2 2 2 1\n",
      "1 2 2 2 2\n",
      "2 0 0 0 0\n",
      "2 0 0 0 1\n",
      "2 0 0 0 2\n",
      "2 0 0 1 0\n",
      "2 0 0 1 1\n",
      "2 0 0 1 2\n",
      "2 0 0 2 0\n",
      "2 0 0 2 1\n",
      "2 0 0 2 2\n",
      "2 0 1 0 0\n",
      "2 0 1 0 1\n",
      "2 0 1 0 2\n",
      "2 0 1 1 0\n",
      "2 0 1 1 1\n",
      "2 0 1 1 2\n",
      "2 0 1 2 0\n",
      "2 0 1 2 1\n",
      "2 0 1 2 2\n",
      "2 0 2 0 0\n",
      "2 0 2 0 1\n",
      "2 0 2 0 2\n",
      "2 0 2 1 0\n",
      "2 0 2 1 1\n",
      "2 0 2 1 2\n",
      "2 0 2 2 0\n",
      "2 0 2 2 1\n",
      "2 0 2 2 2\n",
      "2 1 0 0 0\n",
      "2 1 0 0 1\n",
      "2 1 0 0 2\n",
      "2 1 0 1 0\n",
      "2 1 0 1 1\n",
      "2 1 0 1 2\n",
      "2 1 0 2 0\n",
      "2 1 0 2 1\n",
      "2 1 0 2 2\n",
      "2 1 1 0 0\n",
      "2 1 1 0 1\n",
      "2 1 1 0 2\n",
      "2 1 1 1 0\n",
      "2 1 1 1 1\n",
      "2 1 1 1 2\n",
      "2 1 1 2 0\n",
      "2 1 1 2 1\n",
      "2 1 1 2 2\n",
      "2 1 2 0 0\n",
      "2 1 2 0 1\n",
      "2 1 2 0 2\n",
      "2 1 2 1 0\n",
      "2 1 2 1 1\n",
      "2 1 2 1 2\n",
      "2 1 2 2 0\n",
      "2 1 2 2 1\n",
      "2 1 2 2 2\n",
      "2 2 0 0 0\n",
      "2 2 0 0 1\n",
      "2 2 0 0 2\n",
      "2 2 0 1 0\n",
      "2 2 0 1 1\n",
      "2 2 0 1 2\n",
      "2 2 0 2 0\n",
      "2 2 0 2 1\n",
      "2 2 0 2 2\n",
      "2 2 1 0 0\n",
      "2 2 1 0 1\n",
      "2 2 1 0 2\n",
      "2 2 1 1 0\n",
      "2 2 1 1 1\n",
      "2 2 1 1 2\n",
      "2 2 1 2 0\n",
      "2 2 1 2 1\n",
      "2 2 1 2 2\n",
      "2 2 2 0 0\n",
      "2 2 2 0 1\n",
      "2 2 2 0 2\n",
      "2 2 2 1 0\n",
      "2 2 2 1 1\n",
      "2 2 2 1 2\n",
      "2 2 2 2 0\n",
      "2 2 2 2 1\n",
      "2 2 2 2 2\n"
     ]
    }
   ],
   "source": [
    "v = calc_bmaxL_variance_matrix(input_b, input_s1, input_t1, input_s2, input_t2)"
   ]
  },
  {
   "cell_type": "code",
   "execution_count": 6,
   "metadata": {},
   "outputs": [
    {
     "data": {
      "text/plain": [
       "array([[ 4.44896558e+03, -4.39584417e+00],\n",
       "       [-4.39584417e+00,  1.90468154e+01]])"
      ]
     },
     "execution_count": 6,
     "metadata": {},
     "output_type": "execute_result"
    }
   ],
   "source": [
    "v[1,0,1,1,2,0,:,:]"
   ]
  },
  {
   "cell_type": "code",
   "execution_count": null,
   "metadata": {},
   "outputs": [],
   "source": []
  },
  {
   "cell_type": "code",
   "execution_count": 7,
   "metadata": {},
   "outputs": [],
   "source": [
    "@njit\n",
    "def calc_multivariate_normal(num_predictive_samples, num_posterior_samples, b_max_L, posterior_samples, v):\n",
    "    posterior_predictive_counts = np.zeros((num_predictive_samples, num_posterior_samples))\n",
    "    for i in range(num_predictive_samples):\n",
    "        for j in range(num_posterior_samples):\n",
    "            counts = np.random.multivariate_normal([b_max_L[i, j], posterior_samples[j, 0]], v[0,0,0,0,0,0,:,:])\n",
    "            posterior_predictive_counts[i, j] = np.sum(counts)\n",
    "    return posterior_predictive_counts"
   ]
  },
  {
   "cell_type": "code",
   "execution_count": 8,
   "metadata": {},
   "outputs": [
    {
     "data": {
      "image/png": "[encoded data removed]",
      "text/plain": [
       "<Figure size 640x480 with 1 Axes>"
      ]
     },
     "metadata": {},
     "output_type": "display_data"
    }
   ],
   "source": [
    "# true incoming rates\n",
    "s1 = input_s1[0]\n",
    "s2 = input_s2[1]\n",
    "b = input_b[1]\n",
    "\n",
    "# include time, even though rates = counts here, only included so that b_max_L doesn't have to be rewritten\n",
    "t1 = input_t1[1]\n",
    "t2 = input_t1[2]\n",
    "\n",
    "times = np.array([t1, t2])\n",
    "\n",
    "true_rates = np.array([s1, s2, b, b])\n",
    "cluster_size = 2\n",
    "\n",
    "# How many posterior samples\n",
    "num_posterior_samples = 300\n",
    "# How many predictive samples, equivalent to number of real data bins in real analysis\n",
    "num_predictive_samples = 3000\n",
    "# Bins in plot\n",
    "num_bins = 10\n",
    "\n",
    "# standard deviation of posterior\n",
    "posterior_std = np.array([0.0, 0.0])\n",
    "# samples of posterior\n",
    "posterior_samples = np.random.normal(true_rates[:cluster_size], posterior_std, size=(num_posterior_samples, cluster_size))\n",
    "\n",
    "# Each posterior sample is sampled into the predictive samples\n",
    "posterior_predictive_source_counts = np.random.poisson(posterior_samples * times, (num_predictive_samples, num_posterior_samples, cluster_size))\n",
    "\n",
    "# actual measured counts, available to use in analysis\n",
    "measured_counts = np.random.poisson(true_rates * np.tile(times, 2), (num_predictive_samples, len(true_rates)))\n",
    "measured_counts_combined = measured_counts[:,:cluster_size] + measured_counts[:,cluster_size:]\n",
    "\n",
    "# maximum likelihood background\n",
    "b_max_L = np.zeros((num_predictive_samples, num_posterior_samples))\n",
    "for i in range(num_posterior_samples):\n",
    "    for j in range(num_predictive_samples):\n",
    "        b_max_L[j, i] = b_maxL_2(posterior_samples[i], times, measured_counts_combined[j])\n",
    "# n, bins, _ = plt.hist(b_max_L.flatten(), bins=num_bins)\n",
    "# x = bins\n",
    "# y = normal_dist(bins, b, v[2,2,0,2,0])\n",
    "# y = y * np.amax(n) / np.amax(y)\n",
    "# plt.plot(x, y)\n",
    "\n",
    "# print(np.var(b_max_L - b))\n",
    "# print(v[2, 2, 0, 2, 0])\n",
    "\n",
    "\n",
    "\n",
    "posterior_predictive_counts = np.zeros((num_predictive_samples, num_posterior_samples))\n",
    "for i in range(num_predictive_samples):\n",
    "    for j in range(num_posterior_samples):\n",
    "        counts = np.random.multivariate_normal([b_max_L[i, j]*t1, posterior_samples[j, 0]*t1], v[1,0,1,1,2,0,:,:])\n",
    "        # print([b_max_L[i, j], posterior_samples[j, 0]])\n",
    "        # print(v[0,0,0,0,0,0,:,:])\n",
    "        # print(counts)\n",
    "        # print()\n",
    "        posterior_predictive_counts[i, j] = np.sum(counts)\n",
    "        \n",
    "\n",
    "\n",
    "# # Repeat for easier usage\n",
    "# posterior_predictive_background_counts = np.repeat(b_max_L[:,:,np.newaxis], 2, axis=2)\n",
    "# # Sample posterior predictive counts\n",
    "# posterior_predictive_counts = np.random.poisson(posterior_predictive_background_counts + posterior_predictive_source_counts)\n",
    "# Sort posterior predictive counts for each predictive sample, i.e. sort posterior samples\n",
    "argsort = np.argsort(posterior_predictive_counts, axis=1)\n",
    "total = np.take_along_axis(posterior_predictive_counts, argsort, axis=1)\n",
    "\n",
    "# Find placement of measured counts in sorted array\n",
    "cdf = np.zeros(num_predictive_samples)\n",
    "for i in range(num_predictive_samples):\n",
    "    cdf[i] = ((np.searchsorted(total[i,:], measured_counts_combined[i, 0], \"left\")\n",
    "                     + np.searchsorted(total[i,:], measured_counts_combined[i, 0], \"right\"))\n",
    "                     / (2 * num_posterior_samples))\n",
    "    \n",
    "_ = plt.hist(cdf, bins=num_bins)\n",
    "\n",
    "\n"
   ]
  },
  {
   "cell_type": "code",
   "execution_count": null,
   "metadata": {},
   "outputs": [],
   "source": []
  },
  {
   "cell_type": "code",
   "execution_count": null,
   "metadata": {},
   "outputs": [],
   "source": []
  },
  {
   "cell_type": "code",
   "execution_count": 6,
   "metadata": {},
   "outputs": [],
   "source": [
    "input_b = np.geomspace(0.1,100,20)\n",
    "input_s1 = np.geomspace(0.01,10,20)\n",
    "input_t1 = np.geomspace(600, 6000, 20)\n",
    "input_s2 = np.geomspace(0.01,10,20)\n",
    "input_t2 = np.geomspace(600, 6000, 20)"
   ]
  },
  {
   "cell_type": "code",
   "execution_count": null,
   "metadata": {},
   "outputs": [],
   "source": []
  },
  {
   "cell_type": "code",
   "execution_count": 10,
   "metadata": {},
   "outputs": [
    {
     "name": "stdout",
     "output_type": "stream",
     "text": [
      "0 0 0 0 0\n",
      "1 0 0 0 0\n",
      "2 0 0 0 0\n",
      "3 0 0 0 0\n",
      "4 0 0 0 0\n",
      "5 0 0 0 0\n",
      "6 0 0 0 0\n",
      "7 0 0 0 0\n",
      "8 0 0 0 0\n",
      "9 0 0 0 0\n",
      "10 0 0 0 0\n",
      "11 0 0 0 0\n",
      "12 0 0 0 0\n",
      "13 0 0 0 0\n",
      "14 0 0 0 0\n",
      "15 0 0 0 0\n",
      "16 0 0 0 0\n",
      "17 0 0 0 0\n",
      "18 0 0 0 0\n",
      "19 0 0 0 0\n"
     ]
    }
   ],
   "source": [
    "v_b = calc_bmaxL_variance_matrix(\n",
    "    np.array(input_b),\n",
    "    np.array([input_s1[10]]),\n",
    "    np.array([input_t1[10]]),\n",
    "    np.array([input_s2[5]]),\n",
    "    np.array([input_t2[6]])\n",
    ")"
   ]
  },
  {
   "cell_type": "code",
   "execution_count": 47,
   "metadata": {},
   "outputs": [
    {
     "data": {
      "image/png": "[encoded data removed]",
      "text/plain": [
       "<Figure size 640x480 with 3 Axes>"
      ]
     },
     "metadata": {},
     "output_type": "display_data"
    }
   ],
   "source": [
    "fig, ax = plt.subplots(nrows=3)\n",
    "ax[0].plot(input_b, v_b[:,0,0,0,0,0,0,0])\n",
    "ax[1].plot(input_b, v_b[:,0,0,0,0,0,1,0])\n",
    "ax[2].plot(input_b, v_b[:,0,0,0,0,0,1,1])\n",
    "\n",
    "# ax[0].set_xscale(\"log\")\n",
    "ax[1].set_xscale(\"log\")\n",
    "# ax[1].set_xscale(\"symlog\")\n",
    "ax[2].set_xscale(\"log\")"
   ]
  },
  {
   "cell_type": "code",
   "execution_count": null,
   "metadata": {},
   "outputs": [],
   "source": []
  },
  {
   "cell_type": "code",
   "execution_count": 17,
   "metadata": {},
   "outputs": [
    {
     "name": "stdout",
     "output_type": "stream",
     "text": [
      "0 0 0 0 0\n",
      "0 1 0 0 0\n",
      "0 2 0 0 0\n",
      "0 3 0 0 0\n",
      "0 4 0 0 0\n",
      "0 5 0 0 0\n",
      "0 6 0 0 0\n",
      "0 7 0 0 0\n",
      "0 8 0 0 0\n",
      "0 9 0 0 0\n",
      "0 10 0 0 0\n",
      "0 11 0 0 0\n",
      "0 12 0 0 0\n",
      "0 13 0 0 0\n",
      "0 14 0 0 0\n",
      "0 15 0 0 0\n",
      "0 16 0 0 0\n",
      "0 17 0 0 0\n",
      "0 18 0 0 0\n",
      "0 19 0 0 0\n"
     ]
    }
   ],
   "source": [
    "v_s1 = calc_bmaxL_variance_matrix(\n",
    "    np.array([input_b[12]]),\n",
    "    np.array(input_s1),\n",
    "    np.array([input_t1[10]]),\n",
    "    np.array([input_s2[5]]),\n",
    "    np.array([input_t2[6]])\n",
    ")"
   ]
  },
  {
   "cell_type": "code",
   "execution_count": 19,
   "metadata": {},
   "outputs": [
    {
     "data": {
      "text/plain": [
       "[<matplotlib.lines.Line2D at 0x17d9c8c70>]"
      ]
     },
     "execution_count": 19,
     "metadata": {},
     "output_type": "execute_result"
    },
    {
     "data": {
      "image/png": "[encoded data removed]",
      "text/plain": [
       "<Figure size 640x480 with 3 Axes>"
      ]
     },
     "metadata": {},
     "output_type": "display_data"
    }
   ],
   "source": [
    "fig, ax = plt.subplots(nrows=3)\n",
    "ax[0].plot(input_b, v_s1[0,:,0,0,0,0,0,0])\n",
    "ax[1].plot(input_b, v_s1[0,:,0,0,0,0,1,0])\n",
    "ax[2].plot(input_b, v_s1[0,:,0,0,0,0,1,1])\n",
    "\n",
    "# ax[0].set_xscale(\"log\")\n",
    "# ax[1].set_xscale(\"log\")\n",
    "# ax[2].set_xscale(\"log\")"
   ]
  },
  {
   "cell_type": "code",
   "execution_count": null,
   "metadata": {},
   "outputs": [],
   "source": []
  },
  {
   "cell_type": "code",
   "execution_count": 20,
   "metadata": {},
   "outputs": [
    {
     "name": "stdout",
     "output_type": "stream",
     "text": [
      "0 0 0 0 0\n",
      "0 0 1 0 0\n",
      "0 0 2 0 0\n",
      "0 0 3 0 0\n",
      "0 0 4 0 0\n",
      "0 0 5 0 0\n",
      "0 0 6 0 0\n",
      "0 0 7 0 0\n",
      "0 0 8 0 0\n",
      "0 0 9 0 0\n",
      "0 0 10 0 0\n",
      "0 0 11 0 0\n",
      "0 0 12 0 0\n",
      "0 0 13 0 0\n",
      "0 0 14 0 0\n",
      "0 0 15 0 0\n",
      "0 0 16 0 0\n",
      "0 0 17 0 0\n",
      "0 0 18 0 0\n",
      "0 0 19 0 0\n"
     ]
    }
   ],
   "source": [
    "v_t1 = calc_bmaxL_variance_matrix(\n",
    "    np.array([input_b[12]]),\n",
    "    np.array([input_s1[10]]),\n",
    "    np.array(input_t1),\n",
    "    np.array([input_s2[5]]),\n",
    "    np.array([input_t2[6]])\n",
    ")"
   ]
  },
  {
   "cell_type": "code",
   "execution_count": 34,
   "metadata": {},
   "outputs": [
    {
     "name": "stdout",
     "output_type": "stream",
     "text": [
      "[  -71.81713315   -88.20870992  -110.04423954  -132.99645254\n",
      "  -159.71634215  -191.98398507  -231.71509846  -276.35253736\n",
      "  -329.57514804  -396.31688405  -467.69293025  -555.94020151\n",
      "  -648.07920572  -757.78185126  -892.47322981 -1044.41091155\n",
      " -1205.90706814 -1404.2965434  -1620.12863321 -1865.19101398]\n"
     ]
    },
    {
     "data": {
      "image/png": "[encoded data removed]",
      "text/plain": [
       "<Figure size 640x480 with 3 Axes>"
      ]
     },
     "metadata": {},
     "output_type": "display_data"
    }
   ],
   "source": [
    "fig, ax = plt.subplots(nrows=3)\n",
    "ax[0].plot(input_b, v_t1[0,0,:,0,0,0,0,0])\n",
    "ax[1].plot(input_b, v_t1[0,0,:,0,0,0,1,0])\n",
    "ax[2].plot(input_b, v_t1[0,0,:,0,0,0,1,1])\n",
    "\n",
    "ax[0].set_xscale(\"log\")\n",
    "ax[1].set_xscale(\"log\")\n",
    "ax[1].set_yscale(\"symlog\")\n",
    "ax[1].set_ylim(1.1*np.amin(v_t1[0,0,:,0,0,0,1,0]), 0.9*np.amax(v_t1[0,0,:,0,0,0,1,0]))\n",
    "ax[2].set_xscale(\"log\")\n",
    "ax[2].set_yscale(\"log\")\n",
    "print(v_t1[0,0,:,0,0,0,1,0])"
   ]
  },
  {
   "cell_type": "code",
   "execution_count": null,
   "metadata": {},
   "outputs": [],
   "source": []
  },
  {
   "cell_type": "code",
   "execution_count": 7,
   "metadata": {},
   "outputs": [
    {
     "name": "stdout",
     "output_type": "stream",
     "text": [
      "0 0 0 0 0\n",
      "0 0 0 1 0\n",
      "0 0 0 2 0\n",
      "0 0 0 3 0\n",
      "0 0 0 4 0\n",
      "0 0 0 5 0\n",
      "0 0 0 6 0\n",
      "0 0 0 7 0\n",
      "0 0 0 8 0\n",
      "0 0 0 9 0\n",
      "0 0 0 10 0\n",
      "0 0 0 11 0\n",
      "0 0 0 12 0\n",
      "0 0 0 13 0\n",
      "0 0 0 14 0\n",
      "0 0 0 15 0\n",
      "0 0 0 16 0\n",
      "0 0 0 17 0\n",
      "0 0 0 18 0\n",
      "0 0 0 19 0\n"
     ]
    }
   ],
   "source": [
    "v_s2 = calc_bmaxL_variance_matrix(\n",
    "    np.array([input_b[12]]),\n",
    "    np.array([input_s1[10]]),\n",
    "    np.array([input_t1[10]]),\n",
    "    np.array(input_s2),\n",
    "    np.array([input_t2[6]])\n",
    ")"
   ]
  },
  {
   "cell_type": "code",
   "execution_count": 8,
   "metadata": {},
   "outputs": [
    {
     "data": {
      "text/plain": [
       "[<matplotlib.lines.Line2D at 0x7ff5b2e2b6d0>]"
      ]
     },
     "execution_count": 8,
     "metadata": {},
     "output_type": "execute_result"
    },
    {
     "data": {
      "image/png": "[encoded data removed]",
      "text/plain": [
       "<Figure size 432x288 with 3 Axes>"
      ]
     },
     "metadata": {
      "needs_background": "light"
     },
     "output_type": "display_data"
    }
   ],
   "source": [
    "fig, ax = plt.subplots(nrows=3)\n",
    "ax[0].plot(input_b, v_s2[0,0,0,:,0,0,0,0])\n",
    "ax[1].plot(input_b, v_s2[0,0,0,:,0,0,1,0])\n",
    "ax[2].plot(input_b, v_s2[0,0,0,:,0,0,1,1])\n",
    "\n",
    "# ax[0].set_xscale(\"log\")\n",
    "# ax[1].set_xscale(\"log\")\n",
    "# ax[2].set_xscale(\"log\")"
   ]
  },
  {
   "cell_type": "code",
   "execution_count": null,
   "metadata": {},
   "outputs": [],
   "source": []
  },
  {
   "cell_type": "code",
   "execution_count": 39,
   "metadata": {},
   "outputs": [
    {
     "name": "stdout",
     "output_type": "stream",
     "text": [
      "0 0 0 0 0\n",
      "0 0 0 0 1\n",
      "0 0 0 0 2\n",
      "0 0 0 0 3\n",
      "0 0 0 0 4\n",
      "0 0 0 0 5\n",
      "0 0 0 0 6\n",
      "0 0 0 0 7\n",
      "0 0 0 0 8\n",
      "0 0 0 0 9\n",
      "0 0 0 0 10\n",
      "0 0 0 0 11\n",
      "0 0 0 0 12\n",
      "0 0 0 0 13\n",
      "0 0 0 0 14\n",
      "0 0 0 0 15\n",
      "0 0 0 0 16\n",
      "0 0 0 0 17\n",
      "0 0 0 0 18\n",
      "0 0 0 0 19\n"
     ]
    }
   ],
   "source": [
    "v_t2 = calc_bmaxL_variance_matrix(\n",
    "    np.array([input_b[12]]),\n",
    "    np.array([input_s1[10]]),\n",
    "    np.array([input_t1[10]]),\n",
    "    np.array([input_s2[5]]),\n",
    "    np.array(input_t2)\n",
    ")"
   ]
  },
  {
   "cell_type": "code",
   "execution_count": 42,
   "metadata": {},
   "outputs": [
    {
     "name": "stdout",
     "output_type": "stream",
     "text": [
      "[-582.62968196]\n"
     ]
    },
    {
     "data": {
      "image/png": "[encoded data removed]",
      "text/plain": [
       "<Figure size 640x480 with 3 Axes>"
      ]
     },
     "metadata": {},
     "output_type": "display_data"
    }
   ],
   "source": [
    "fig, ax = plt.subplots(nrows=3)\n",
    "ax[0].plot(input_b, v_t2[0,0,0,0,:,0,0,0])\n",
    "ax[1].plot(input_b, v_t2[0,0,0,0,:,0,1,0])\n",
    "ax[2].plot(input_b, v_t2[0,0,0,0,:,0,1,1])\n",
    "\n",
    "ax[0].set_xscale(\"log\")\n",
    "ax[1].set_xscale(\"log\")\n",
    "# ax[1].set_yscale(\"symlog\")\n",
    "# ax[1].set_ylim(1.1*np.amin(v_t2[0,0,:,0,0,0,1,0]), 0.9*np.amax(v_t2[0,0,:,0,0,0,1,0]))\n",
    "ax[2].set_xscale(\"log\")\n",
    "ax[2].set_yscale(\"log\")"
   ]
  }
 ],
 "metadata": {
  "kernelspec": {
   "display_name": "MT",
   "language": "python",
   "name": "python3"
  },
  "language_info": {
   "codemirror_mode": {
    "name": "ipython",
    "version": 3
   },
   "file_extension": ".py",
   "mimetype": "text/x-python",
   "name": "python",
   "nbconvert_exporter": "python",
   "pygments_lexer": "ipython3",
   "version": "3.9.13"
  },
  "orig_nbformat": 4,
  "vscode": {
   "interpreter": {
    "hash": "3039a3459533209a69fdcd0eca4a82e0380b08faf874289ddcd789b1853692ba"
   }
  }
 },
 "nbformat": 4,
 "nbformat_minor": 2
}
