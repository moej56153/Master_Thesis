{
 "cells": [
  {
   "cell_type": "code",
   "execution_count": 1,
   "metadata": {},
   "outputs": [],
   "source": [
    "import numpy as np\n",
    "import matplotlib.pyplot as plt\n",
    "from scipy.stats import norm\n",
    "from numba import njit"
   ]
  },
  {
   "cell_type": "code",
   "execution_count": 2,
   "metadata": {},
   "outputs": [],
   "source": [
    "normal_dist = lambda x, m, s: 1 / (np.sqrt(2*np.pi) * s) * np.exp(-1/2 * ((x - m) / s)**2)\n",
    "\n",
    "@njit\n",
    "def b_maxL_2(m, t, C):\n",
    "    first = C[0]+C[1]-(m[0]+m[1])*(t[0]+t[1])\n",
    "    root = (C[0]+C[1]+(m[0]-m[1])*(t[0]+t[1]))**2-4*C[0]*(m[0]-m[1])*(t[0]+t[1])\n",
    "    res = (first+np.sqrt(root))/(2*(t[0]+t[1]))\n",
    "    if res < 0:\n",
    "        return 0\n",
    "    return res"
   ]
  },
  {
   "cell_type": "code",
   "execution_count": 3,
   "metadata": {},
   "outputs": [
    {
     "name": "stderr",
     "output_type": "stream",
     "text": [
      "/home/moej56153/.pyenv/versions/MT/lib/python3.9/site-packages/numba/core/ir_utils.py:2152: NumbaPendingDeprecationWarning: \u001b[1m\n",
      "Encountered the use of a type that is scheduled for deprecation: type 'reflected list' found for argument 't' of function 'b_maxL_2'.\n",
      "\n",
      "For more information visit https://numba.readthedocs.io/en/stable/reference/deprecation.html#deprecation-of-reflection-for-list-and-set-types\n",
      "\u001b[1m\n",
      "File \"../../../../tmp/ipykernel_605/841175681.py\", line 3:\u001b[0m\n",
      "\u001b[1m<source missing, REPL/exec in use?>\u001b[0m\n",
      "\u001b[0m\n",
      "  warnings.warn(NumbaPendingDeprecationWarning(msg, loc=loc))\n"
     ]
    }
   ],
   "source": [
    "# true incoming rates\n",
    "s1 = 200.\n",
    "s2 = 100.\n",
    "b = 300.\n",
    "\n",
    "# include time, even though rates = counts here, only included so that b_max_L doesn't have to be rewritten\n",
    "t1 = 1.\n",
    "t2 = 1.\n",
    "\n",
    "true_counts = np.array([s1, s2, b, b])\n",
    "cluster_size = 2\n",
    "\n",
    "# How many posterior samples\n",
    "num_posterior_samples = 300\n",
    "# How many predictive samples, equivalent to number of real data bins in real analysis\n",
    "num_predictive_samples = 1000\n",
    "# Bins in plot\n",
    "num_bins = 100\n",
    "\n",
    "# standard deviation of posterior\n",
    "posterior_std = np.array([5., 5.])\n",
    "# samples of posterior\n",
    "posterior_samples = np.random.normal(true_counts[:cluster_size], posterior_std, size=(num_posterior_samples, cluster_size))\n",
    "\n",
    "# Each posterior sample is sampled into the predictive samples\n",
    "posterior_predictive_source_counts = np.random.poisson(posterior_samples, (num_predictive_samples, num_posterior_samples, cluster_size))\n",
    "# posterior_predictive_source_counts = posterior_predictive_source_counts.swapaxes(0, 1)\n",
    "# posterior_predictive_source_counts = posterior_predictive_source_counts.swapaxes(1, 2)\n",
    "\n",
    "# actual measured counts, available to use in analysis\n",
    "measured_counts = np.random.poisson(true_counts, (num_predictive_samples, len(true_counts)))\n",
    "measured_counts_combined = measured_counts[:,:cluster_size] + measured_counts[:,cluster_size:]\n",
    "\n",
    "# maximum likelihood background\n",
    "b_max_L = np.zeros((num_predictive_samples, num_posterior_samples))\n",
    "for i in range(num_posterior_samples):\n",
    "    for j in range(num_predictive_samples):\n",
    "        b_max_L[j, i] = b_maxL_2(posterior_samples[i], [t1, t2], measured_counts_combined[j])\n",
    "# n, bins, _ = plt.hist(b_max_L.flatten(), bins=num_bins)\n",
    "# x = bins\n",
    "# y = normal_dist(bins, b, np.sqrt(b))\n",
    "# y = y * np.amax(n) / np.amax(y)\n",
    "# plt.plot(x, y)\n"
   ]
  },
  {
   "cell_type": "code",
   "execution_count": 4,
   "metadata": {},
   "outputs": [],
   "source": [
    "# Repeat for easier usage\n",
    "posterior_predictive_background_counts = np.repeat(b_max_L[:,:,np.newaxis], 2, axis=2)\n",
    "# Sample posterior predictive counts\n",
    "posterior_predictive_counts = np.random.poisson(posterior_predictive_background_counts + posterior_predictive_source_counts)"
   ]
  },
  {
   "cell_type": "code",
   "execution_count": 5,
   "metadata": {},
   "outputs": [
    {
     "data": {
      "image/png": "[encoded data removed]",
      "text/plain": [
       "<Figure size 432x288 with 1 Axes>"
      ]
     },
     "metadata": {
      "needs_background": "light"
     },
     "output_type": "display_data"
    }
   ],
   "source": [
    "# Sort posterior predictive counts for each predictive sample, i.e. sort posterior samples\n",
    "argsort = np.argsort(posterior_predictive_counts, axis=1)\n",
    "total = np.take_along_axis(posterior_predictive_counts, argsort, axis=1)\n",
    "\n",
    "# Find placement of measured counts in sorted array\n",
    "cdf = np.zeros(num_predictive_samples)\n",
    "for i in range(num_predictive_samples):\n",
    "    cdf[i] = ((np.searchsorted(total[i,:,0], measured_counts_combined[i, 0], \"left\")\n",
    "                     + np.searchsorted(total[i,:,0], measured_counts_combined[i, 0], \"right\"))\n",
    "                     / (2 * num_posterior_samples))\n",
    "    \n",
    "_ = plt.hist(cdf, bins=num_bins)\n"
   ]
  },
  {
   "cell_type": "code",
   "execution_count": null,
   "metadata": {},
   "outputs": [],
   "source": []
  },
  {
   "cell_type": "code",
   "execution_count": 8,
   "metadata": {},
   "outputs": [],
   "source": [
    "@njit\n",
    "def calc_bmaxL_variance_matrix(b_array, s1_array, t1_array, s2_array, t2_array, num_samples=10000):\n",
    "    variance_matrix = np.zeros((len(b_array), len(s1_array), len(t1_array), len(s2_array), len(t2_array)))\n",
    "    for b_i, b in enumerate(b_array):\n",
    "        for s1_i, s1 in enumerate(s1_array):\n",
    "            for t1_i, t1 in enumerate(t1_array):\n",
    "                for s2_i, s2 in enumerate(s2_array):\n",
    "                    for t2_i, t2 in enumerate(t2_array):\n",
    "                        bs = np.zeros(num_samples)\n",
    "                        for n_i in range(num_samples):\n",
    "                            s1n = np.random.poisson(s1)\n",
    "                            s2n = np.random.poisson(s2)\n",
    "                            c1n = s1n + np.random.poisson(b)\n",
    "                            c2n = s2n + np.random.poisson(b)\n",
    "                            bs[n_i] = b_maxL_2(np.array([s1n, s2n]), np.array([t1, t2]), np.array([c1n, c2n]))\n",
    "                        if b_i == 2 and s1_i == 2 and s2_i == 2:\n",
    "                            print(bs)\n",
    "                            print(b, s1, t1, s2, t2)\n",
    "                            print(s1n, s2n, c1n, c2n)\n",
    "                            print(b_maxL_2([s1n, s2n], [t1, t2], [c1n, c2n]))\n",
    "                        variance_matrix[b_i, s1_i, t1_i, s2_i, t2_i] = np.var(bs)\n",
    "    return variance_matrix"
   ]
  },
  {
   "cell_type": "code",
   "execution_count": 9,
   "metadata": {},
   "outputs": [],
   "source": [
    "input_b = np.geomspace(1,1000,3)\n",
    "input_s1 = np.geomspace(1,1000,3)\n",
    "input_t1 = np.geomspace(600, 6000, 1)\n",
    "input_s2 = np.geomspace(1,1000,3)\n",
    "input_t2 = np.geomspace(600, 6000, 1)"
   ]
  },
  {
   "cell_type": "code",
   "execution_count": 10,
   "metadata": {},
   "outputs": [
    {
     "name": "stdout",
     "output_type": "stream",
     "text": [
      "[0. 0. 0. ... 0. 0. 0.]\n",
      "1000.0 1000.0 600.0 1000.0 600.0\n",
      "960 1053 1979 2046\n",
      "0.0\n"
     ]
    }
   ],
   "source": [
    "v = calc_bmaxL_variance_matrix(input_b, input_s1, input_t1, input_s2, input_t2)"
   ]
  },
  {
   "cell_type": "code",
   "execution_count": 11,
   "metadata": {},
   "outputs": [
    {
     "data": {
      "text/plain": [
       "0.0"
      ]
     },
     "execution_count": 11,
     "metadata": {},
     "output_type": "execute_result"
    }
   ],
   "source": [
    "v[2, 2, 0, 2, 0]"
   ]
  },
  {
   "cell_type": "code",
   "execution_count": 17,
   "metadata": {},
   "outputs": [
    {
     "data": {
      "text/plain": [
       "1006.3003278525123"
      ]
     },
     "execution_count": 17,
     "metadata": {},
     "output_type": "execute_result"
    }
   ],
   "source": [
    "b_maxL_2(np.array([960 ,1053 ]), np.array([1. ,1.]),np.array([1979.,2046.]))"
   ]
  },
  {
   "cell_type": "code",
   "execution_count": null,
   "metadata": {},
   "outputs": [],
   "source": []
  }
 ],
 "metadata": {
  "kernelspec": {
   "display_name": "MT",
   "language": "python",
   "name": "python3"
  },
  "language_info": {
   "codemirror_mode": {
    "name": "ipython",
    "version": 3
   },
   "file_extension": ".py",
   "mimetype": "text/x-python",
   "name": "python",
   "nbconvert_exporter": "python",
   "pygments_lexer": "ipython3",
   "version": "3.9.13"
  },
  "orig_nbformat": 4,
  "vscode": {
   "interpreter": {
    "hash": "3039a3459533209a69fdcd0eca4a82e0380b08faf874289ddcd789b1853692ba"
   }
  }
 },
 "nbformat": 4,
 "nbformat_minor": 2
}
