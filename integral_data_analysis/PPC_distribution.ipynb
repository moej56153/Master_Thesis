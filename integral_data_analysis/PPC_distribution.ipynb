{
 "cells": [
  {
   "cell_type": "code",
   "execution_count": 2,
   "metadata": {},
   "outputs": [],
   "source": [
    "import numpy as np\n",
    "import matplotlib.pyplot as plt\n",
    "from scipy.stats import norm\n",
    "from numba import njit"
   ]
  },
  {
   "cell_type": "code",
   "execution_count": 3,
   "metadata": {},
   "outputs": [],
   "source": [
    "normal_dist = lambda x, m, s: 1 / (np.sqrt(2*np.pi) * s) * np.exp(-1/2 * ((x - m) / s)**2)\n",
    "\n",
    "@njit\n",
    "def b_maxL_2(m, t, C):\n",
    "    first = C[0]+C[1]-(m[0]+m[1])*(t[0]+t[1])\n",
    "    root = (C[0]+C[1]+(m[0]-m[1])*(t[0]+t[1]))**2-4*C[0]*(m[0]-m[1])*(t[0]+t[1])\n",
    "    res = (first+np.sqrt(root))/(2*(t[0]+t[1]))\n",
    "    if res < 0:\n",
    "        return 0\n",
    "    return res"
   ]
  },
  {
   "cell_type": "code",
   "execution_count": 145,
   "metadata": {},
   "outputs": [],
   "source": [
    "# true incoming rates\n",
    "s1 = 200.\n",
    "s2 = 100.\n",
    "b = 300.\n",
    "\n",
    "# include time, even though rates = counts here, only included so that b_max_L doesn't have to be rewritten\n",
    "t1 = 1.\n",
    "t2 = 1.\n",
    "\n",
    "true_counts = np.array([s1, s2, b, b])\n",
    "cluster_size = 2\n",
    "\n",
    "# How many posterior samples\n",
    "num_posterior_samples = 300\n",
    "# How many predictive samples, equivalent to number of real data bins in real analysis\n",
    "num_predictive_samples = 1000\n",
    "# Bins in plot\n",
    "num_bins = 100\n",
    "\n",
    "# standard deviation of posterior\n",
    "posterior_std = np.array([0., 0.])\n",
    "# samples of posterior\n",
    "posterior_samples = np.random.normal(true_counts[:cluster_size], posterior_std, size=(num_posterior_samples, cluster_size))\n",
    "\n",
    "# Each posterior sample is sampled into the predictive samples\n",
    "posterior_predictive_source_counts = np.random.poisson(posterior_samples, (num_predictive_samples, num_posterior_samples, cluster_size))\n",
    "# posterior_predictive_source_counts = posterior_predictive_source_counts.swapaxes(0, 1)\n",
    "# posterior_predictive_source_counts = posterior_predictive_source_counts.swapaxes(1, 2)\n",
    "\n",
    "# actual measured counts, available to use in analysis\n",
    "measured_counts = np.random.poisson(true_counts, (num_predictive_samples, len(true_counts)))\n",
    "measured_counts_combined = measured_counts[:,:cluster_size] + measured_counts[:,cluster_size:]\n",
    "\n",
    "# maximum likelihood background\n",
    "b_max_L = np.zeros((num_predictive_samples, num_posterior_samples))\n",
    "for i in range(num_posterior_samples):\n",
    "    for j in range(num_predictive_samples):\n",
    "        b_max_L[j, i] = b_maxL_2(posterior_samples[i], [t1, t2], measured_counts_combined[j])\n",
    "# n, bins, _ = plt.hist(b_max_L.flatten(), bins=num_bins)\n",
    "# x = bins\n",
    "# y = normal_dist(bins, b, np.sqrt(b))\n",
    "# y = y * np.amax(n) / np.amax(y)\n",
    "# plt.plot(x, y)\n"
   ]
  },
  {
   "cell_type": "code",
   "execution_count": 146,
   "metadata": {},
   "outputs": [],
   "source": [
    "# Repeat for easier usage\n",
    "posterior_predictive_background_counts = np.repeat(b_max_L[:,:,np.newaxis], 2, axis=2)\n",
    "# Sample posterior predictive counts\n",
    "posterior_predictive_counts = np.random.poisson(posterior_predictive_background_counts + posterior_predictive_source_counts)"
   ]
  },
  {
   "cell_type": "code",
   "execution_count": 147,
   "metadata": {},
   "outputs": [
    {
     "data": {
      "image/png": "[encoded data removed]",
      "text/plain": [
       "<Figure size 432x288 with 1 Axes>"
      ]
     },
     "metadata": {
      "needs_background": "light"
     },
     "output_type": "display_data"
    }
   ],
   "source": [
    "# Sort posterior predictive counts for each predictive sample, i.e. sort posterior samples\n",
    "argsort = np.argsort(posterior_predictive_counts, axis=1)\n",
    "total = np.take_along_axis(posterior_predictive_counts, argsort, axis=1)\n",
    "\n",
    "# Find placement of measured counts in sorted array\n",
    "cdf = np.zeros(num_predictive_samples)\n",
    "for i in range(num_predictive_samples):\n",
    "    cdf[i] = ((np.searchsorted(total[i,:,0], measured_counts_combined[i, 0], \"left\")\n",
    "                     + np.searchsorted(total[i,:,0], measured_counts_combined[i, 0], \"right\"))\n",
    "                     / (2 * num_posterior_samples))\n",
    "    \n",
    "_ = plt.hist(cdf, bins=num_bins)\n"
   ]
  },
  {
   "cell_type": "code",
   "execution_count": null,
   "metadata": {},
   "outputs": [],
   "source": []
  },
  {
   "cell_type": "code",
   "execution_count": 88,
   "metadata": {},
   "outputs": [],
   "source": [
    "@njit\n",
    "def calc_bmaxL_variance_matrix(b_array, s1_array, t1_array, s2_array, t2_array, num_samples=1000000):\n",
    "    variance_matrix = np.zeros((len(b_array), len(s1_array), len(t1_array), len(s2_array), len(t2_array), 2, 2, 2))\n",
    "    for b_i, b in enumerate(b_array):\n",
    "        for s1_i, s1 in enumerate(s1_array):\n",
    "            for t1_i, t1 in enumerate(t1_array):\n",
    "                for s2_i, s2 in enumerate(s2_array):\n",
    "                    for t2_i, t2 in enumerate(t2_array):\n",
    "                        bd1 = np.zeros(num_samples)\n",
    "                        bd2 = np.zeros(num_samples)\n",
    "                        sd1 = np.zeros(num_samples)\n",
    "                        sd2 = np.zeros(num_samples)\n",
    "                        for n_i in range(num_samples):\n",
    "                            s1m = np.random.poisson(t1 * s1)\n",
    "                            s2m = np.random.poisson(t2 * s2)\n",
    "                            b1m = np.random.poisson(t1 * b)\n",
    "                            b2m = np.random.poisson(t2 * b)\n",
    "                            \n",
    "                            c1m = s1m + b1m\n",
    "                            c2m = s2m + b2m\n",
    "                            b_max_L = b_maxL_2(np.array([s1, s2]), np.array([t1, t2]), np.array([c1m, c2m]))\n",
    "                            \n",
    "                            bd1[n_i] = b1m - b_max_L*t1\n",
    "                            bd2[n_i] = b2m - b_max_L*t2\n",
    "                            sd1[n_i] = s1m - s1*t1\n",
    "                            sd2[n_i] = s2m - s2*t2\n",
    "                            \n",
    "                        # if b_i == 0 and s1_i == 0 and s2_i == 0:\n",
    "                        #     print(b, s1, t1, s2, t2)\n",
    "                        #     print(s1m, s2m, b1m, b2m)\n",
    "                        #     print([s1, s2], [t1, t2], [c1m, c2m])\n",
    "                        #     print(b_maxL_2([s1, s2], [t1, t2], [c1m, c2m]))\n",
    "                        #     print(b1m - b_max_L*t1, b2m - b_max_L*t2)\n",
    "                        #     print(s1m - s1*t1, s2m - s2*t2)\n",
    "                        #     print(np.cov(bd1, sd1))\n",
    "                        variance_matrix[b_i, s1_i, t1_i, s2_i, t2_i, 0, :, :] = np.cov(bd1, sd1)\n",
    "                        variance_matrix[b_i, s1_i, t1_i, s2_i, t2_i, 1, :, :] = np.cov(bd2, sd2)\n",
    "                        \n",
    "    return variance_matrix"
   ]
  },
  {
   "cell_type": "code",
   "execution_count": 133,
   "metadata": {},
   "outputs": [],
   "source": [
    "input_b = np.geomspace(1,1000,3)\n",
    "input_s1 = np.geomspace(1,1000,3)\n",
    "input_t1 = np.geomspace(600, 6000, 3)\n",
    "input_s2 = np.geomspace(1,1000,3)\n",
    "input_t2 = np.geomspace(600, 6000, 3)"
   ]
  },
  {
   "cell_type": "code",
   "execution_count": 134,
   "metadata": {},
   "outputs": [
    {
     "name": "stdout",
     "output_type": "stream",
     "text": [
      "1.0 1.0 600.0 1.0 600.0\n",
      "580 606 563 578\n",
      "[1.0, 1.0] [600.0, 600.0] [1143, 1184]\n",
      "0.9391666666666667\n",
      "-0.5 14.5\n",
      "-20.0 6.0\n",
      "[[ 599.89368581 -298.66488048]\n",
      " [-298.66488048  598.35510965]]\n",
      "1.0 1.0 600.0 1.0 1897.3665961010286\n",
      "619 1945 557 1865\n",
      "[1.0, 1.0] [600.0, 1897.3665961010286] [1176, 3810]\n",
      "0.9965030395554697\n",
      "-40.901823733281844 -25.731580165690275\n",
      "19.0 47.63340389897144\n",
      "[[ 598.96721165 -143.1840293 ]\n",
      " [-143.1840293   599.38930212]]\n",
      "1.0 1.0 600.0 1.0 6000.0\n",
      "606 5977 629 6036\n",
      "[1.0, 1.0] [600.0, 6000.0] [1235, 12013]\n",
      "1.0072727272727273\n",
      "24.636363636363626 -7.636363636363967\n",
      "6.0 -23.0\n",
      "[[600.20286142 -55.12459961]\n",
      " [-55.12459961 600.39180278]]\n",
      "1.0 1.0 1897.3665961010286 1.0 600.0\n",
      "1902 616 1826 646\n",
      "[1.0, 1.0] [1897.3665961010286, 600.0] [3728, 1262]\n",
      "0.9981047267111499\n",
      "-67.77056787228184 47.13716397331007\n",
      "4.633403898971437 16.0\n",
      "[[ 1895.3303746  -1438.49598396]\n",
      " [-1438.49598396  1894.61099854]]\n",
      "1.0 1.0 1897.3665961010286 1.0 1897.3665961010286\n",
      "1896 1889 1919 1848\n",
      "[1.0, 1.0] [1897.3665961010286, 1897.3665961010286] [3815, 3737]\n",
      "0.9901267407992991\n",
      "40.36659610102856 -30.633403898971437\n",
      "-1.3665961010285628 -8.366596101028563\n",
      "[[1895.35792131 -948.1974044 ]\n",
      " [-948.1974044  1899.38058186]]\n",
      "1.0 1.0 1897.3665961010286 1.0 6000.0\n",
      "2009 6009 1936 6048\n",
      "[1.0, 1.0] [1897.3665961010286, 6000.0] [3945, 12057]\n",
      "1.0262450533701033\n",
      "-11.163083678351313 -109.47032022062012\n",
      "111.63340389897144 9.0\n",
      "[[1895.72501798 -455.59326846]\n",
      " [-455.59326846 1897.43657348]]\n",
      "1.0 1.0 6000.0 1.0 600.0\n",
      "6083 559 5886 597\n",
      "[1.0, 1.0] [6000.0, 600.0] [11969, 1156]\n",
      "0.9886363636363636\n",
      "-45.81818181818198 3.818181818181756\n",
      "83.0 -41.0\n",
      "[[ 6001.5397826  -5451.10390529]\n",
      " [-5451.10390529  5993.72887525]]\n",
      "1.0 1.0 6000.0 1.0 1897.3665961010286\n",
      "6138 1955 5998 1928\n",
      "[1.0, 1.0] [6000.0, 1897.3665961010286] [12136, 3883]\n",
      "1.0283976696622725\n",
      "-172.3860179736348 -23.247385925335948\n",
      "138.0 57.63340389897144\n",
      "[[ 5978.21094935 -4541.94380362]\n",
      " [-4541.94380362  5995.59023773]]\n",
      "1.0 1.0 6000.0 1.0 6000.0\n",
      "5943 6082 6030 5980\n",
      "[1.0, 1.0] [6000.0, 6000.0] [11973, 12062]\n",
      "1.0029166666666667\n",
      "12.5 -37.5\n",
      "-57.0 82.0\n",
      "[[ 6004.87224195 -3002.72121037]\n",
      " [-3002.72121037  5997.12504967]]\n"
     ]
    }
   ],
   "source": [
    "v = calc_bmaxL_variance_matrix(input_b, input_s1, input_t1, input_s2, input_t2)"
   ]
  },
  {
   "cell_type": "code",
   "execution_count": 135,
   "metadata": {},
   "outputs": [
    {
     "data": {
      "text/plain": [
       "array([[[18953.05584709, -6438.40982249],\n",
       "        [-6438.40982249, 18963.33310494]],\n",
       "\n",
       "       [[ 6853.62880832,  -395.87598682],\n",
       "        [ -395.87598682,   600.14099214]]])"
      ]
     },
     "execution_count": 135,
     "metadata": {},
     "output_type": "execute_result"
    }
   ],
   "source": [
    "v[1, 1, 0, 0, 0]"
   ]
  },
  {
   "cell_type": "code",
   "execution_count": 136,
   "metadata": {},
   "outputs": [
    {
     "data": {
      "text/plain": [
       "array([ 18973.66596101,  60000.        , 189736.6596101 ])"
      ]
     },
     "execution_count": 136,
     "metadata": {},
     "output_type": "execute_result"
    }
   ],
   "source": [
    "input_b[1]*input_t1"
   ]
  },
  {
   "cell_type": "code",
   "execution_count": null,
   "metadata": {},
   "outputs": [],
   "source": []
  },
  {
   "cell_type": "code",
   "execution_count": 137,
   "metadata": {},
   "outputs": [],
   "source": [
    "@njit\n",
    "def calc_multivariate_normal(num_predictive_samples, num_posterior_samples, b_max_L, posterior_samples, v):\n",
    "    posterior_predictive_counts = np.zeros((num_predictive_samples, num_posterior_samples))\n",
    "    for i in range(num_predictive_samples):\n",
    "        for j in range(num_posterior_samples):\n",
    "            counts = np.random.multivariate_normal([b_max_L[i, j], posterior_samples[j, 0]], v[0,0,0,0,0,0,:,:])\n",
    "            posterior_predictive_counts[i, j] = np.sum(counts)\n",
    "    return posterior_predictive_counts"
   ]
  },
  {
   "cell_type": "code",
   "execution_count": 152,
   "metadata": {},
   "outputs": [
    {
     "data": {
      "image/png": "[encoded data removed]",
      "text/plain": [
       "<Figure size 432x288 with 1 Axes>"
      ]
     },
     "metadata": {
      "needs_background": "light"
     },
     "output_type": "display_data"
    }
   ],
   "source": [
    "# true incoming rates\n",
    "s1 = input_s1[0]\n",
    "s2 = input_s2[1]\n",
    "b = input_b[1]\n",
    "\n",
    "# include time, even though rates = counts here, only included so that b_max_L doesn't have to be rewritten\n",
    "t1 = input_t1[1]\n",
    "t2 = input_t1[2]\n",
    "\n",
    "times = np.array([t1, t2])\n",
    "\n",
    "true_rates = np.array([s1, s2, b, b])\n",
    "cluster_size = 2\n",
    "\n",
    "# How many posterior samples\n",
    "num_posterior_samples = 300\n",
    "# How many predictive samples, equivalent to number of real data bins in real analysis\n",
    "num_predictive_samples = 1000\n",
    "# Bins in plot\n",
    "num_bins = 10\n",
    "\n",
    "# standard deviation of posterior\n",
    "posterior_std = np.array([0.2, 0.0])\n",
    "# samples of posterior\n",
    "posterior_samples = np.random.normal(true_rates[:cluster_size], posterior_std, size=(num_posterior_samples, cluster_size))\n",
    "\n",
    "# Each posterior sample is sampled into the predictive samples\n",
    "posterior_predictive_source_counts = np.random.poisson(posterior_samples * times, (num_predictive_samples, num_posterior_samples, cluster_size))\n",
    "\n",
    "# actual measured counts, available to use in analysis\n",
    "measured_counts = np.random.poisson(true_rates * np.tile(times, 2), (num_predictive_samples, len(true_rates)))\n",
    "measured_counts_combined = measured_counts[:,:cluster_size] + measured_counts[:,cluster_size:]\n",
    "\n",
    "# maximum likelihood background\n",
    "b_max_L = np.zeros((num_predictive_samples, num_posterior_samples))\n",
    "for i in range(num_posterior_samples):\n",
    "    for j in range(num_predictive_samples):\n",
    "        b_max_L[j, i] = b_maxL_2(posterior_samples[i], times, measured_counts_combined[j])\n",
    "# n, bins, _ = plt.hist(b_max_L.flatten(), bins=num_bins)\n",
    "# x = bins\n",
    "# y = normal_dist(bins, b, v[2,2,0,2,0])\n",
    "# y = y * np.amax(n) / np.amax(y)\n",
    "# plt.plot(x, y)\n",
    "\n",
    "# print(np.var(b_max_L - b))\n",
    "# print(v[2, 2, 0, 2, 0])\n",
    "\n",
    "\n",
    "\n",
    "posterior_predictive_counts = np.zeros((num_predictive_samples, num_posterior_samples))\n",
    "for i in range(num_predictive_samples):\n",
    "    for j in range(num_posterior_samples):\n",
    "        counts = np.random.multivariate_normal([b_max_L[i, j]*t1, posterior_samples[j, 0]*t1], v[1,0,1,1,2,0,:,:])\n",
    "        # print([b_max_L[i, j], posterior_samples[j, 0]])\n",
    "        # print(v[0,0,0,0,0,0,:,:])\n",
    "        # print(counts)\n",
    "        # print()\n",
    "        posterior_predictive_counts[i, j] = np.sum(counts)\n",
    "        \n",
    "\n",
    "\n",
    "# # Repeat for easier usage\n",
    "# posterior_predictive_background_counts = np.repeat(b_max_L[:,:,np.newaxis], 2, axis=2)\n",
    "# # Sample posterior predictive counts\n",
    "# posterior_predictive_counts = np.random.poisson(posterior_predictive_background_counts + posterior_predictive_source_counts)\n",
    "# Sort posterior predictive counts for each predictive sample, i.e. sort posterior samples\n",
    "argsort = np.argsort(posterior_predictive_counts, axis=1)\n",
    "total = np.take_along_axis(posterior_predictive_counts, argsort, axis=1)\n",
    "\n",
    "# Find placement of measured counts in sorted array\n",
    "cdf = np.zeros(num_predictive_samples)\n",
    "for i in range(num_predictive_samples):\n",
    "    cdf[i] = ((np.searchsorted(total[i,:], measured_counts_combined[i, 0], \"left\")\n",
    "                     + np.searchsorted(total[i,:], measured_counts_combined[i, 0], \"right\"))\n",
    "                     / (2 * num_posterior_samples))\n",
    "    \n",
    "_ = plt.hist(cdf, bins=num_bins)\n",
    "\n",
    "\n"
   ]
  }
 ],
 "metadata": {
  "kernelspec": {
   "display_name": "MT",
   "language": "python",
   "name": "python3"
  },
  "language_info": {
   "codemirror_mode": {
    "name": "ipython",
    "version": 3
   },
   "file_extension": ".py",
   "mimetype": "text/x-python",
   "name": "python",
   "nbconvert_exporter": "python",
   "pygments_lexer": "ipython3",
   "version": "3.9.13"
  },
  "orig_nbformat": 4,
  "vscode": {
   "interpreter": {
    "hash": "3039a3459533209a69fdcd0eca4a82e0380b08faf874289ddcd789b1853692ba"
   }
  }
 },
 "nbformat": 4,
 "nbformat_minor": 2
}
