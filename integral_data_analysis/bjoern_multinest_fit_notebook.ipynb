{
 "cells": [
  {
   "cell_type": "code",
   "execution_count": 1,
   "metadata": {},
   "outputs": [
    {
     "name": "stdout",
     "output_type": "stream",
     "text": [
      "[\u001b[35mWARNING \u001b[0m]\u001b[35m The naima package is not available. Models that depend on it will not be available\u001b[0m\n",
      "[\u001b[35mWARNING \u001b[0m]\u001b[35m The GSL library or the pygsl wrapper cannot be loaded. Models that depend on it will not be available.\u001b[0m\n",
      "[\u001b[35mWARNING \u001b[0m]\u001b[35m The ebltable package is not available. Models that depend on it will not be available\u001b[0m\n",
      "[\u001b[32mINFO    \u001b[0m]\u001b[32m Starting 3ML!\u001b[0m\n",
      "[\u001b[35mWARNING \u001b[0m]\u001b[35m no display variable set. using backend for graphics without display (agg)\u001b[0m\n",
      "[\u001b[35mWARNING \u001b[0m]\u001b[35m ROOT minimizer not available\u001b[0m\n",
      "[\u001b[35mWARNING \u001b[0m]\u001b[35m PyGMO is not available\u001b[0m\n",
      "[\u001b[35mWARNING \u001b[0m]\u001b[35m The cthreeML package is not installed. You will not be able to use plugins which require the C/C++ interface (currently HAWC)\u001b[0m\n",
      "[\u001b[35mWARNING \u001b[0m]\u001b[35m Could not import plugin HAWCLike.py. Do you have the relative instrument software installed and configured?\u001b[0m\n",
      "[\u001b[35mWARNING \u001b[0m]\u001b[35m Could not import plugin FermiLATLike.py. Do you have the relative instrument software installed and configured?\u001b[0m\n",
      "[\u001b[35mWARNING \u001b[0m]\u001b[35m No fermitools installed\u001b[0m\n",
      "[\u001b[35mWARNING \u001b[0m]\u001b[35m Env. variable OMP_NUM_THREADS is not set. Please set it to 1 for optimal performances in 3ML\u001b[0m\n",
      "[\u001b[35mWARNING \u001b[0m]\u001b[35m Env. variable MKL_NUM_THREADS is not set. Please set it to 1 for optimal performances in 3ML\u001b[0m\n",
      "[\u001b[35mWARNING \u001b[0m]\u001b[35m Env. variable NUMEXPR_NUM_THREADS is not set. Please set it to 1 for optimal performances in 3ML\u001b[0m\n",
      "Using the irfs that are valid between Start and 03/07/06 06:00:00 (YY/MM/DD HH:MM:SS)\n",
      "Using the irfs that are valid between 03/07/06 06:00:00 and 04/07/17 08:20:06 (YY/MM/DD HH:MM:SS)\n",
      "Using the irfs that are valid between 04/07/17 08:20:06 and 09/02/19 09:59:57 (YY/MM/DD HH:MM:SS)\n",
      "Using the irfs that are valid between 09/02/19 09:59:57 and 10/05/27 12:45:00 (YY/MM/DD HH:MM:SS)\n",
      "Using the irfs that are valid between 10/05/27 12:45:00 and present (YY/MM/DD HH:MM:SS)\n",
      "Using the irfs that are valid between Start and 03/07/06 06:00:00 (YY/MM/DD HH:MM:SS)\n",
      "Using the irfs that are valid between 03/07/06 06:00:00 and 04/07/17 08:20:06 (YY/MM/DD HH:MM:SS)\n",
      "Using the irfs that are valid between 04/07/17 08:20:06 and 09/02/19 09:59:57 (YY/MM/DD HH:MM:SS)\n",
      "Using the irfs that are valid between 09/02/19 09:59:57 and 10/05/27 12:45:00 (YY/MM/DD HH:MM:SS)\n",
      "Using the irfs that are valid between 10/05/27 12:45:00 and present (YY/MM/DD HH:MM:SS)\n"
     ]
    }
   ],
   "source": [
    "import numpy as np\n",
    "import matplotlib.pyplot as plt\n",
    "from MultinestClusterFit import MultinestClusterFit\n",
    "from RebinningFunctions import rebin_data_exp\n",
    "from PointingClusters import PointingClusters, save_clusters, load_clusters\n",
    "from ModelSources import *"
   ]
  },
  {
   "cell_type": "code",
   "execution_count": null,
   "metadata": {},
   "outputs": [],
   "source": [
    "# Example for that one orbit that required a second source to fit well"
   ]
  },
  {
   "cell_type": "code",
   "execution_count": 1,
   "metadata": {},
   "outputs": [],
   "source": [
    "# Creates a folder in the local directory in which output files are saved\n",
    "folder = \"orbit_1019_two_sources\"\n",
    "\n",
    "# Creates the pointing combinations\n",
    "# Replace \"crab_data/1019\" with the folder in which SPI orbit data are saved, but be sure to enter it as a tuple\n",
    "# Required are the files \"dead_time.fits\", \"energy_boundaries.fits\", \"evts_det_spec.fits\", \"pointing.fits\"\n",
    "# Multiple orbits should also work, but I haven't tested this much\n",
    "# To use pointing clusters of size three, set cluster_size_range=(3,3)\n",
    "# Other parameters should be fine as is, and self-explantory to change\n",
    "pointings = PointingClusters(\n",
    "    (\"crab_data/1019\",),\n",
    "    min_angle_dif=1.5,\n",
    "    max_angle_dif=7.5,\n",
    "    max_time_dif=0.2,\n",
    "    radius_around_crab=10.,\n",
    "    min_time_elapsed=600.,\n",
    "    cluster_size_range=(2,2),\n",
    ").pointings\n",
    "\n",
    "# This saves and loads the pointing clusters\n",
    "# It is useful if you want to fit the same pointing clusters several times without having to regenerate them every time\n",
    "save_clusters(pointings, folder)\n",
    "pointings = load_clusters(folder)\n",
    "\n",
    "# Add or remove any sources to be fitted\n",
    "# See \"ModelSources\" for more sources and which parameters they require\n",
    "source_model = define_sources((\n",
    "    (crab_pl_fixed_pos, (40,)),\n",
    "    (s_1A_0535_262_pl, (40,)),\n",
    "))\n",
    "\n",
    "# Does the fit\n",
    "multinest_fit = MultinestClusterFit(\n",
    "    pointings,\n",
    "    source_model,\n",
    "    (None, 80), # Energy Range\n",
    "    np.geomspace(18, 150, 50), # Energy bins of source\n",
    "    rebin_data_exp, # Binning function for counts\n",
    "    true_values=true_values(), # True values for reference\n",
    "    folder=folder,\n",
    ")\n",
    "\n",
    "# Plots the paramter distributions\n",
    "# See line 357 in \"MultinestClusterFit\" to edit\n",
    "# You may also want to see line 198, where the ChainConsumer object is initialized\n",
    "multinest_fit.parameter_fit_distribution()\n",
    "\n",
    "# Creates text files with useful information of the fit\n",
    "multinest_fit.text_summaries()\n",
    "\n",
    "# Creates PPC plots\n",
    "# In \"MultinestClusterFit\" see\n",
    "# line 526 to edit count_energy_plots\n",
    "# line 567 to edit qq_plots\n",
    "# line 607 to edit rel_qq_plots\n",
    "# cdf_hists are still a work in progress and is not recommended\n",
    "multinest_fit.ppc(\n",
    "    count_energy_plots=True,\n",
    "    qq_plots=True,\n",
    "    rel_qq_plots=True,\n",
    "    cdf_hists=False\n",
    ")"
   ]
  },
  {
   "cell_type": "code",
   "execution_count": null,
   "metadata": {},
   "outputs": [],
   "source": [
    "# Example for an orbit which works well for only the crab, using a Crab source with\n",
    "# non-fixed position"
   ]
  },
  {
   "cell_type": "code",
   "execution_count": 2,
   "metadata": {},
   "outputs": [],
   "source": [
    "folder = \"orbit_1644_movable_crab\"\n",
    "\n",
    "pointings = PointingClusters(\n",
    "    (\"crab_data/1644\",),\n",
    "    min_angle_dif=1.5,\n",
    "    max_angle_dif=7.5,\n",
    "    max_time_dif=0.2,\n",
    "    radius_around_crab=10.,\n",
    "    min_time_elapsed=600.,\n",
    "    cluster_size_range=(2,2),\n",
    ").pointings\n",
    "save_clusters(pointings, folder)\n",
    "\n",
    "pointings = load_clusters(folder)\n",
    "source_model = define_sources((\n",
    "    (crab_pl_free_pos, (40,)),\n",
    "))\n",
    "\n",
    "multinest_fit = MultinestClusterFit(\n",
    "    pointings,\n",
    "    source_model,\n",
    "    (20., 81.5),\n",
    "    np.geomspace(18, 150, 50),\n",
    "    rebin_data_exp,\n",
    "    true_values=true_values(),\n",
    "    folder=folder,\n",
    ")\n",
    "\n",
    "multinest_fit.parameter_fit_distribution()\n",
    "multinest_fit.text_summaries()\n",
    "multinest_fit.ppc(\n",
    "    count_energy_plots=True,\n",
    "    qq_plots=True,\n",
    "    rel_qq_plots=True,\n",
    "    cdf_hists=False\n",
    ")"
   ]
  }
 ],
 "metadata": {
  "kernelspec": {
   "display_name": "Python 3.9.13 64-bit ('MT')",
   "language": "python",
   "name": "python3"
  },
  "language_info": {
   "codemirror_mode": {
    "name": "ipython",
    "version": 3
   },
   "file_extension": ".py",
   "mimetype": "text/x-python",
   "name": "python",
   "nbconvert_exporter": "python",
   "pygments_lexer": "ipython3",
   "version": "3.9.13 (main, Jun  9 2022, 14:24:47) \n[GCC 11.2.0]"
  },
  "orig_nbformat": 4,
  "vscode": {
   "interpreter": {
    "hash": "77c6aaad9a34bae581a83e51509dc60b9a05d4f3ba3ef918f772e036566f2e96"
   }
  }
 },
 "nbformat": 4,
 "nbformat_minor": 2
}
