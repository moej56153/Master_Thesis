{
 "cells": [
  {
   "cell_type": "code",
   "execution_count": 1,
   "metadata": {},
   "outputs": [
    {
     "name": "stdout",
     "output_type": "stream",
     "text": [
      "[\u001b[35mWARNING \u001b[0m]\u001b[35m The naima package is not available. Models that depend on it will not be available\u001b[0m\n",
      "[\u001b[35mWARNING \u001b[0m]\u001b[35m The GSL library or the pygsl wrapper cannot be loaded. Models that depend on it will not be available.\u001b[0m\n",
      "[\u001b[35mWARNING \u001b[0m]\u001b[35m The ebltable package is not available. Models that depend on it will not be available\u001b[0m\n"
     ]
    },
    {
     "name": "stderr",
     "output_type": "stream",
     "text": [
      "/home/moej56153/.pyenv/versions/MT/lib/python3.9/site-packages/numba/core/decorators.py:262: NumbaDeprecationWarning: \u001b[1mnumba.generated_jit is deprecated. Please see the documentation at: https://numba.readthedocs.io/en/stable/reference/deprecation.html#deprecation-of-generated-jit for more information and advice on a suitable replacement.\u001b[0m\n",
      "  warnings.warn(msg, NumbaDeprecationWarning)\n"
     ]
    },
    {
     "name": "stdout",
     "output_type": "stream",
     "text": [
      "[\u001b[32mINFO    \u001b[0m]\u001b[32m Starting 3ML!\u001b[0m\n",
      "[\u001b[35mWARNING \u001b[0m]\u001b[35m no display variable set. using backend for graphics without display (agg)\u001b[0m\n"
     ]
    },
    {
     "name": "stderr",
     "output_type": "stream",
     "text": [
      "/home/moej56153/.pyenv/versions/MT/lib/python3.9/site-packages/numba/core/decorators.py:262: NumbaDeprecationWarning: \u001b[1mnumba.generated_jit is deprecated. Please see the documentation at: https://numba.readthedocs.io/en/stable/reference/deprecation.html#deprecation-of-generated-jit for more information and advice on a suitable replacement.\u001b[0m\n",
      "  warnings.warn(msg, NumbaDeprecationWarning)\n"
     ]
    },
    {
     "name": "stdout",
     "output_type": "stream",
     "text": [
      "[\u001b[35mWARNING \u001b[0m]\u001b[35m ROOT minimizer not available\u001b[0m\n",
      "[\u001b[35mWARNING \u001b[0m]\u001b[35m PyGMO is not available\u001b[0m\n",
      "[\u001b[35mWARNING \u001b[0m]\u001b[35m The cthreeML package is not installed. You will not be able to use plugins which require the C/C++ interface (currently HAWC)\u001b[0m\n",
      "[\u001b[35mWARNING \u001b[0m]\u001b[35m Could not import plugin HAWCLike.py. Do you have the relative instrument software installed and configured?\u001b[0m\n",
      "[\u001b[35mWARNING \u001b[0m]\u001b[35m Could not import plugin FermiLATLike.py. Do you have the relative instrument software installed and configured?\u001b[0m\n",
      "[\u001b[35mWARNING \u001b[0m]\u001b[35m No fermitools installed\u001b[0m\n",
      "[\u001b[35mWARNING \u001b[0m]\u001b[35m Env. variable OMP_NUM_THREADS is not set. Please set it to 1 for optimal performances in 3ML\u001b[0m\n",
      "[\u001b[35mWARNING \u001b[0m]\u001b[35m Env. variable MKL_NUM_THREADS is not set. Please set it to 1 for optimal performances in 3ML\u001b[0m\n",
      "[\u001b[35mWARNING \u001b[0m]\u001b[35m Env. variable NUMEXPR_NUM_THREADS is not set. Please set it to 1 for optimal performances in 3ML\u001b[0m\n",
      "Using the irfs that are valid between Start and 03/07/06 06:00:00 (YY/MM/DD HH:MM:SS)\n",
      "Using the irfs that are valid between 03/07/06 06:00:00 and 04/07/17 08:20:06 (YY/MM/DD HH:MM:SS)\n",
      "Using the irfs that are valid between 04/07/17 08:20:06 and 09/02/19 09:59:57 (YY/MM/DD HH:MM:SS)\n",
      "Using the irfs that are valid between 09/02/19 09:59:57 and 10/05/27 12:45:00 (YY/MM/DD HH:MM:SS)\n",
      "Using the irfs that are valid between 10/05/27 12:45:00 and present (YY/MM/DD HH:MM:SS)\n"
     ]
    }
   ],
   "source": [
    "import numpy as np\n",
    "import astropy.io.fits as fits\n",
    "from astropy.table import Table\n",
    "from astromodels import Powerlaw,  PointSource, SpectralComponent\n",
    "import astropy.time as at\n",
    "from datetime import datetime\n",
    "from pyspi.utils.function_utils import find_response_version\n",
    "from pyspi.utils.response.spi_response_data import ResponseDataRMF\n",
    "from pyspi.utils.response.spi_response import ResponseRMFGenerator\n",
    "from pyspi.utils.response.spi_drm import SPIDRM\n",
    "from pyspi.utils.livedets import get_live_dets\n",
    "import os\n",
    "from MultinestClusterFit import powerlaw_binned_spectrum\n",
    "import pickle"
   ]
  },
  {
   "cell_type": "code",
   "execution_count": 33,
   "metadata": {},
   "outputs": [],
   "source": [
    "data_path = \"crab_data/0374\""
   ]
  },
  {
   "cell_type": "code",
   "execution_count": 34,
   "metadata": {},
   "outputs": [],
   "source": [
    "source_ra, source_dec = 10, -40\n",
    "source_piv = 100.\n",
    "source_Ks = [0.5e-4, 2e-4, 8e-4]\n",
    "source_indices = [-0.5, -2, -8]"
   ]
  },
  {
   "cell_type": "code",
   "execution_count": 35,
   "metadata": {},
   "outputs": [],
   "source": [
    "pointing_index = 1\n",
    "\n",
    "data_path_d = \"simulated_data/0374_const_bkg\"\n",
    "\n",
    "if not os.path.exists(f\"{data_path_d}\"):\n",
    "    os.mkdir(f\"{data_path_d}\")\n",
    "    \n",
    "with open(f\"./{data_path_d}/source_params.pickle\", \"wb\") as f:\n",
    "    pickle.dump((source_ra, source_dec, source_piv, source_Ks, source_indices), f)\n"
   ]
  },
  {
   "cell_type": "code",
   "execution_count": 36,
   "metadata": {},
   "outputs": [],
   "source": [
    "# Energy Bins\n",
    "with fits.open(f\"{data_path}/energy_boundaries.fits\") as file:\n",
    "    t = Table.read(file[1])\n",
    "    energy_bins = np.append(t[\"E_MIN\"], t[\"E_MAX\"][-1])\n",
    "    \n",
    "# Pointings and Start Times\n",
    "with fits.open(f\"{data_path}/pointing.fits\") as file:\n",
    "    t = Table.read(file[1])\n",
    "    \n",
    "    pointings = np.array(t[\"PTID_SPI\"])\n",
    "    \n",
    "    time_start = np.array(t[\"TSTART\"]) + 2451544.5\n",
    "    time_start = [at.Time(f\"{i}\", format=\"jd\").datetime for i in time_start]\n",
    "    time_start = np.array([datetime.strftime(i,'%y%m%d %H%M%S') for i in time_start])\n",
    "    \n",
    "# Time Elapsed\n",
    "# det=i, pointing_index=j : index = j*85 + i\n",
    "with fits.open(f\"{data_path}/dead_time.fits\") as file:\n",
    "    t = Table.read(file[1])\n",
    "    time_elapsed = np.array(t[\"LIVETIME\"])\n",
    "    \n",
    "updated_time = t.copy()\n",
    "    \n",
    "for i in range(int(len(time_elapsed) / 85)):\n",
    "    if i == pointing_index:\n",
    "        continue\n",
    "    else:\n",
    "        updated_time[i*85 : (i+1)*85] = updated_time[pointing_index*85 : (pointing_index+1)*85]"
   ]
  },
  {
   "cell_type": "code",
   "execution_count": 37,
   "metadata": {},
   "outputs": [],
   "source": [
    "# Only necessary for 1380\n",
    "skip_pointing = [False] * len(pointings)\n",
    "# skip_pointing[0] = True"
   ]
  },
  {
   "cell_type": "code",
   "execution_count": 38,
   "metadata": {},
   "outputs": [],
   "source": [
    "# Background\n",
    "\n",
    "with fits.open(f\"{data_path}/evts_det_spec_orig.fits\") as file:\n",
    "    t = Table.read(file[1])\n",
    "    \n",
    "background_counts = t.copy()\n",
    "\n",
    "for i in range(int(len(background_counts) / 85)):\n",
    "    if i == pointing_index:\n",
    "        continue\n",
    "    else:\n",
    "        background_counts[i*85 : (i+1)*85] = background_counts[pointing_index*85 : (pointing_index+1)*85]\n",
    "        \n",
    "background_counts[\"COUNTS\"] = np.random.poisson(background_counts[\"COUNTS\"])"
   ]
  },
  {
   "cell_type": "code",
   "execution_count": 39,
   "metadata": {},
   "outputs": [
    {
     "name": "stdout",
     "output_type": "stream",
     "text": [
      "Using the irfs that are valid between 04/07/17 08:20:06 and 09/02/19 09:59:57 (YY/MM/DD HH:MM:SS)\n"
     ]
    }
   ],
   "source": [
    "assert find_response_version(time_start[0]) == find_response_version(time_start[-1]), \"Versions not constant\"\n",
    "version = find_response_version(time_start[0])\n",
    "rsp_base = ResponseDataRMF.from_version(version)\n",
    "\n",
    "\n",
    "resp_mats = []\n",
    "emod = np.geomspace(10, 3000, 50)\n",
    "\n",
    "for p_i, pointing in enumerate(pointings):\n",
    "    if skip_pointing[p_i]:\n",
    "        continue\n",
    "    \n",
    "    time = time_start[p_i]\n",
    "    dets = get_live_dets(time=time, event_types=[\"single\"])\n",
    "    \n",
    "    rmfs = []\n",
    "    for d in dets:\n",
    "        rmfs.append(ResponseRMFGenerator.from_time(time, d, energy_bins, emod, rsp_base))\n",
    "        \n",
    "    sds = np.empty(0)\n",
    "    for d in range(len(dets)):\n",
    "        sd = SPIDRM(rmfs[d], source_ra, source_dec)\n",
    "        sds = np.append(sds, sd.matrix.T)\n",
    "    resp_mats.append(sds.reshape((len(dets), len(emod)-1, len(energy_bins)-1)))"
   ]
  },
  {
   "cell_type": "code",
   "execution_count": 40,
   "metadata": {},
   "outputs": [],
   "source": [
    "def calc_count_rates(resp_mats, ra, dec, piv, K, index):\n",
    "    pl = Powerlaw()\n",
    "    pl.piv = piv\n",
    "    pl.K = K\n",
    "    pl.index = index\n",
    "    component1 = SpectralComponent(\"pl\", shape=pl)\n",
    "    source = PointSource(\"Test\", ra=ra, dec=dec, components=[component1])\n",
    "    \n",
    "    spec = source(emod)\n",
    "    spec_binned = powerlaw_binned_spectrum(emod, spec)\n",
    "    \n",
    "    source_counts = np.zeros((len(pointings)*85, len(energy_bins)-1), dtype=np.uint32)\n",
    "    \n",
    "    for p_i, pointing in enumerate(pointings):\n",
    "        if skip_pointing[p_i]:\n",
    "            continue\n",
    "        \n",
    "        resp_mat = resp_mats[p_i]\n",
    "        \n",
    "        count_rates = np.dot(spec_binned, resp_mat)\n",
    "        \n",
    "        for d_i, d in enumerate(dets):\n",
    "            index = p_i * 85 + d\n",
    "            source_counts[index,:] = np.random.poisson(count_rates[d_i,:] * time_elapsed[pointing_index*85 + d])\n",
    "    \n",
    "    return source_counts"
   ]
  },
  {
   "cell_type": "code",
   "execution_count": 41,
   "metadata": {},
   "outputs": [],
   "source": [
    "for i in range(len(source_Ks)):\n",
    "    for j in range(len(source_indices)):\n",
    "        \n",
    "        temp_path = f\"{data_path_d}/{i}_{j}\"        \n",
    "        \n",
    "        if not os.path.exists(temp_path):\n",
    "            os.mkdir(temp_path)\n",
    "            \n",
    "        os.popen(f\"cp {data_path}/energy_boundaries.fits {temp_path}/energy_boundaries.fits\")\n",
    "        os.popen(f\"cp {data_path}/pointing.fits {temp_path}/pointing.fits\")\n",
    "\n",
    "                \n",
    "        hdu = fits.BinTableHDU(data=updated_time, name=\"SPI.-OBS.-DTI\") # is all of this correct?\n",
    "        hdu.writeto(f\"{temp_path}/dead_time.fits\")\n",
    "        \n",
    "        source_counts = calc_count_rates(resp_mats, source_ra, source_dec, source_piv, source_Ks[i], source_indices[j])\n",
    "        \n",
    "        total_counts = background_counts.copy()\n",
    "        total_counts[\"COUNTS\"] += source_counts\n",
    "                \n",
    "        hdu = fits.BinTableHDU(data=total_counts, name=\"SPI.-OBS.-DSP\")\n",
    "        hdu.writeto(f\"{temp_path}/evts_det_spec.fits\")"
   ]
  },
  {
   "cell_type": "code",
   "execution_count": null,
   "metadata": {},
   "outputs": [],
   "source": []
  },
  {
   "cell_type": "code",
   "execution_count": null,
   "metadata": {},
   "outputs": [],
   "source": [
    "# second source"
   ]
  },
  {
   "cell_type": "code",
   "execution_count": 2,
   "metadata": {},
   "outputs": [],
   "source": [
    "data_path = \"crab_data/0374\"\n",
    "# data_path = \"crab_data/1380\""
   ]
  },
  {
   "cell_type": "code",
   "execution_count": 3,
   "metadata": {},
   "outputs": [],
   "source": [
    "# primary\n",
    "\n",
    "source_ra, source_dec = 10, -40\n",
    "source_piv = 200.\n",
    "source_K = 1e-4\n",
    "source_index = -2\n",
    "\n",
    "# secondary\n",
    "s_source_decs = [-40, -40.5, -41.5, -45, -65, -85]\n",
    "s_source_Ks = [0.1e-4, 0.3e-4, 1e-4]\n",
    "s_source_index = -3"
   ]
  },
  {
   "cell_type": "code",
   "execution_count": 4,
   "metadata": {},
   "outputs": [],
   "source": [
    "pointing_index = 1\n",
    "# pointing_index = 4\n",
    "\n",
    "\n",
    "data_path_d = \"simulated_data/0374_const_bkg_sec_source_i_3\"\n",
    "# data_path_d = \"simulated_data/1380_const_bkg_sec_source\"\n",
    "\n",
    "\n",
    "if not os.path.exists(f\"{data_path_d}\"):\n",
    "    os.mkdir(f\"{data_path_d}\")\n",
    "    \n",
    "with open(f\"./{data_path_d}/source_params.pickle\", \"wb\") as f:\n",
    "    pickle.dump((source_ra, source_dec, source_piv, source_K, source_index, s_source_decs, s_source_Ks, s_source_index), f)\n"
   ]
  },
  {
   "cell_type": "code",
   "execution_count": 5,
   "metadata": {},
   "outputs": [],
   "source": [
    "# Energy Bins\n",
    "with fits.open(f\"{data_path}/energy_boundaries.fits\") as file:\n",
    "    t = Table.read(file[1])\n",
    "    energy_bins = np.append(t[\"E_MIN\"], t[\"E_MAX\"][-1])\n",
    "    \n",
    "# Pointings and Start Times\n",
    "with fits.open(f\"{data_path}/pointing.fits\") as file:\n",
    "    t = Table.read(file[1])\n",
    "    \n",
    "    pointings = np.array(t[\"PTID_SPI\"])\n",
    "    \n",
    "    time_start = np.array(t[\"TSTART\"]) + 2451544.5\n",
    "    time_start = [at.Time(f\"{i}\", format=\"jd\").datetime for i in time_start]\n",
    "    time_start = np.array([datetime.strftime(i,'%y%m%d %H%M%S') for i in time_start])\n",
    "    \n",
    "# Time Elapsed\n",
    "# det=i, pointing_index=j : index = j*85 + i\n",
    "with fits.open(f\"{data_path}/dead_time.fits\") as file:\n",
    "    t = Table.read(file[1])\n",
    "    time_elapsed = np.array(t[\"LIVETIME\"])\n",
    "    \n",
    "updated_time = t.copy()\n",
    "    \n",
    "for i in range(int(len(time_elapsed) / 85)):\n",
    "    if i == pointing_index:\n",
    "        continue\n",
    "    else:\n",
    "        updated_time[i*85 : (i+1)*85] = updated_time[pointing_index*85 : (pointing_index+1)*85]"
   ]
  },
  {
   "cell_type": "code",
   "execution_count": 6,
   "metadata": {},
   "outputs": [],
   "source": [
    "# Only necessary for 1380\n",
    "skip_pointing = [False] * len(pointings)\n",
    "# skip_pointing[0] = True"
   ]
  },
  {
   "cell_type": "code",
   "execution_count": 7,
   "metadata": {},
   "outputs": [],
   "source": [
    "# Background\n",
    "\n",
    "with fits.open(f\"{data_path}/evts_det_spec_orig.fits\") as file:\n",
    "    t = Table.read(file[1])\n",
    "    \n",
    "background_counts = t.copy()\n",
    "\n",
    "for i in range(int(len(background_counts) / 85)):\n",
    "    if i == pointing_index:\n",
    "        continue\n",
    "    else:\n",
    "        background_counts[i*85 : (i+1)*85] = background_counts[pointing_index*85 : (pointing_index+1)*85]\n",
    "        \n",
    "background_counts[\"COUNTS\"] = np.random.poisson(background_counts[\"COUNTS\"])"
   ]
  },
  {
   "cell_type": "code",
   "execution_count": 8,
   "metadata": {},
   "outputs": [
    {
     "name": "stdout",
     "output_type": "stream",
     "text": [
      "Using the irfs that are valid between 04/07/17 08:20:06 and 09/02/19 09:59:57 (YY/MM/DD HH:MM:SS)\n"
     ]
    }
   ],
   "source": [
    "assert find_response_version(time_start[0]) == find_response_version(time_start[-1]), \"Versions not constant\"\n",
    "version = find_response_version(time_start[0])\n",
    "rsp_base = ResponseDataRMF.from_version(version)\n",
    "\n",
    "\n",
    "resp_mats = []\n",
    "emod = np.geomspace(10, 3000, 50)\n",
    "\n",
    "for p_i, pointing in enumerate(pointings):\n",
    "    if skip_pointing[p_i]:\n",
    "        continue\n",
    "    \n",
    "    time = time_start[p_i]\n",
    "    dets = get_live_dets(time=time, event_types=[\"single\"])\n",
    "    \n",
    "    rmfs = []\n",
    "    for d in dets:\n",
    "        rmfs.append(ResponseRMFGenerator.from_time(time, d, energy_bins, emod, rsp_base))\n",
    "        \n",
    "    sds = np.empty(0)\n",
    "    for d in range(len(dets)):\n",
    "        sd = SPIDRM(rmfs[d], source_ra, source_dec)\n",
    "        sds = np.append(sds, sd.matrix.T)\n",
    "    resp_mats.append(sds.reshape((len(dets), len(emod)-1, len(energy_bins)-1)))"
   ]
  },
  {
   "cell_type": "code",
   "execution_count": 12,
   "metadata": {},
   "outputs": [],
   "source": [
    "s_resp_mats = []\n",
    "\n",
    "for i in range(len(s_source_decs)):\n",
    "    t_resp_mats = []\n",
    "    for p_i, pointing in enumerate(pointings):\n",
    "        if skip_pointing[p_i]:\n",
    "            continue\n",
    "        \n",
    "        time = time_start[p_i]\n",
    "        dets = get_live_dets(time=time, event_types=[\"single\"])\n",
    "        \n",
    "        rmfs = []\n",
    "        for d in dets:\n",
    "            rmfs.append(ResponseRMFGenerator.from_time(time, d, energy_bins, emod, rsp_base))\n",
    "            \n",
    "        sds = np.empty(0)\n",
    "        for d in range(len(dets)):\n",
    "            sd = SPIDRM(rmfs[d], source_ra, s_source_decs[i])\n",
    "            sds = np.append(sds, sd.matrix.T)\n",
    "        t_resp_mats.append(sds.reshape((len(dets), len(emod)-1, len(energy_bins)-1)))\n",
    "    s_resp_mats.append(t_resp_mats)"
   ]
  },
  {
   "cell_type": "code",
   "execution_count": 13,
   "metadata": {},
   "outputs": [],
   "source": [
    "def calc_count_rates_sec(resp_mats, ra, dec, piv, K, index, s_resp_mats, s_dec, s_K, s_index):\n",
    "    pl = Powerlaw()\n",
    "    pl.piv = piv\n",
    "    pl.K = K\n",
    "    pl.index = index\n",
    "    component1 = SpectralComponent(\"pl\", shape=pl)\n",
    "    source = PointSource(\"Test\", ra=ra, dec=dec, components=[component1])\n",
    "    \n",
    "    spec = source(emod)\n",
    "    spec_binned = powerlaw_binned_spectrum(emod, spec)\n",
    "    \n",
    "    s_pl = Powerlaw()\n",
    "    s_pl.piv = piv\n",
    "    s_pl.K = s_K\n",
    "    s_pl.index = s_index\n",
    "    component1 = SpectralComponent(\"pl\", shape=s_pl)\n",
    "    s_source = PointSource(\"Test\", ra=ra, dec=s_dec, components=[component1])\n",
    "    \n",
    "    s_spec = s_source(emod)\n",
    "    s_spec_binned = powerlaw_binned_spectrum(emod, s_spec)\n",
    "    \n",
    "    source_counts = np.zeros((len(pointings)*85, len(energy_bins)-1))\n",
    "    \n",
    "    s_source_counts = np.zeros((len(pointings)*85, len(energy_bins)-1))\n",
    "        \n",
    "    for p_i, pointing in enumerate(pointings):\n",
    "        if skip_pointing[p_i]:\n",
    "            continue\n",
    "        \n",
    "        resp_mat = resp_mats[p_i]\n",
    "        \n",
    "        count_rates = np.dot(spec_binned, resp_mat)\n",
    "                \n",
    "        for d_i, d in enumerate(dets):\n",
    "            index = p_i * 85 + d\n",
    "            source_counts[index,:] = np.random.poisson(count_rates[d_i,:] * time_elapsed[pointing_index*85 + d])\n",
    "                        \n",
    "        s_resp_mat = s_resp_mats[p_i]\n",
    "        \n",
    "        s_count_rates = np.dot(s_spec_binned, s_resp_mat)\n",
    "                    \n",
    "        for d_i, d in enumerate(dets):\n",
    "            index = p_i * 85 + d\n",
    "            s_source_counts[index,:] = np.random.poisson(s_count_rates[d_i,:] * time_elapsed[pointing_index*85 + d])\n",
    "            \n",
    "    total_source_counts = source_counts + s_source_counts\n",
    "    \n",
    "    return total_source_counts"
   ]
  },
  {
   "cell_type": "code",
   "execution_count": 18,
   "metadata": {},
   "outputs": [],
   "source": [
    "for i in range(len(s_source_decs)):\n",
    "    for j in range(len(s_source_Ks)):\n",
    "        \n",
    "        temp_path = f\"{data_path_d}/{i}_{j}\"        \n",
    "        \n",
    "        if not os.path.exists(temp_path):\n",
    "            os.mkdir(temp_path)\n",
    "            \n",
    "        os.popen(f\"cp {data_path}/energy_boundaries.fits {temp_path}/energy_boundaries.fits\")\n",
    "        os.popen(f\"cp {data_path}/pointing.fits {temp_path}/pointing.fits\")\n",
    "\n",
    "                \n",
    "        hdu = fits.BinTableHDU(data=updated_time, name=\"SPI.-OBS.-DTI\") # is all of this correct?\n",
    "        hdu.writeto(f\"{temp_path}/dead_time.fits\")\n",
    "        \n",
    "        source_counts = calc_count_rates_sec(resp_mats, source_ra, source_dec, source_piv, source_K, source_index, s_resp_mats[i], s_source_decs[i], s_source_Ks[j], s_source_index)\n",
    "        \n",
    "        total_counts = background_counts.copy()\n",
    "        total_counts[\"COUNTS\"] = source_counts + total_counts[\"COUNTS\"]\n",
    "                \n",
    "        hdu = fits.BinTableHDU(data=total_counts, name=\"SPI.-OBS.-DSP\")\n",
    "        hdu.writeto(f\"{temp_path}/evts_det_spec.fits\")"
   ]
  },
  {
   "cell_type": "code",
   "execution_count": null,
   "metadata": {},
   "outputs": [],
   "source": []
  },
  {
   "cell_type": "code",
   "execution_count": null,
   "metadata": {},
   "outputs": [],
   "source": []
  },
  {
   "cell_type": "code",
   "execution_count": 2,
   "metadata": {},
   "outputs": [],
   "source": [
    "# energy ranges\n",
    "\n",
    "data_path = \"crab_data/0374\""
   ]
  },
  {
   "cell_type": "code",
   "execution_count": 4,
   "metadata": {},
   "outputs": [],
   "source": [
    "source_ra, source_dec = 10, -40\n",
    "source_piv = 200.\n",
    "source_K = 1e-4\n",
    "source_index = -2\n",
    "\n",
    "energy_ranges = [(None, 80),\n",
    "                 (None, 200),\n",
    "                 (None, 1000),\n",
    "                 (None, None),\n",
    "                 (80, None),\n",
    "                 (200, None),\n",
    "                 (1000, None)]"
   ]
  },
  {
   "cell_type": "code",
   "execution_count": 5,
   "metadata": {},
   "outputs": [],
   "source": [
    "pointing_index = 1\n",
    "\n",
    "data_path_d = \"simulated_data/0374_const_bkg_energy_ranges\"\n",
    "\n",
    "if not os.path.exists(f\"{data_path_d}\"):\n",
    "    os.mkdir(f\"{data_path_d}\")\n",
    "    \n",
    "with open(f\"./{data_path_d}/source_params.pickle\", \"wb\") as f:\n",
    "    pickle.dump((source_ra, source_dec, source_piv, source_K, source_index, energy_ranges), f)\n"
   ]
  },
  {
   "cell_type": "code",
   "execution_count": 6,
   "metadata": {},
   "outputs": [],
   "source": [
    "# Energy Bins\n",
    "with fits.open(f\"{data_path}/energy_boundaries.fits\") as file:\n",
    "    t = Table.read(file[1])\n",
    "    energy_bins = np.append(t[\"E_MIN\"], t[\"E_MAX\"][-1])\n",
    "    \n",
    "# Pointings and Start Times\n",
    "with fits.open(f\"{data_path}/pointing.fits\") as file:\n",
    "    t = Table.read(file[1])\n",
    "    \n",
    "    pointings = np.array(t[\"PTID_SPI\"])\n",
    "    \n",
    "    time_start = np.array(t[\"TSTART\"]) + 2451544.5\n",
    "    time_start = [at.Time(f\"{i}\", format=\"jd\").datetime for i in time_start]\n",
    "    time_start = np.array([datetime.strftime(i,'%y%m%d %H%M%S') for i in time_start])\n",
    "    \n",
    "# Time Elapsed\n",
    "# det=i, pointing_index=j : index = j*85 + i\n",
    "with fits.open(f\"{data_path}/dead_time.fits\") as file:\n",
    "    t = Table.read(file[1])\n",
    "    time_elapsed = np.array(t[\"LIVETIME\"])\n",
    "    \n",
    "updated_time = t.copy()\n",
    "    \n",
    "for i in range(int(len(time_elapsed) / 85)):\n",
    "    if i == pointing_index:\n",
    "        continue\n",
    "    else:\n",
    "        updated_time[i*85 : (i+1)*85] = updated_time[pointing_index*85 : (pointing_index+1)*85]"
   ]
  },
  {
   "cell_type": "code",
   "execution_count": 7,
   "metadata": {},
   "outputs": [],
   "source": [
    "# Only necessary for 1380\n",
    "skip_pointing = [False] * len(pointings)\n",
    "# skip_pointing[0] = True"
   ]
  },
  {
   "cell_type": "code",
   "execution_count": 8,
   "metadata": {},
   "outputs": [],
   "source": [
    "# Background\n",
    "\n",
    "with fits.open(f\"{data_path}/evts_det_spec_orig.fits\") as file:\n",
    "    t = Table.read(file[1])\n",
    "    \n",
    "background_counts = t.copy()\n",
    "\n",
    "for i in range(int(len(background_counts) / 85)):\n",
    "    if i == pointing_index:\n",
    "        continue\n",
    "    else:\n",
    "        background_counts[i*85 : (i+1)*85] = background_counts[pointing_index*85 : (pointing_index+1)*85]\n",
    "        \n",
    "background_counts[\"COUNTS\"] = np.random.poisson(background_counts[\"COUNTS\"])"
   ]
  },
  {
   "cell_type": "code",
   "execution_count": 9,
   "metadata": {},
   "outputs": [
    {
     "name": "stdout",
     "output_type": "stream",
     "text": [
      "Using the irfs that are valid between 04/07/17 08:20:06 and 09/02/19 09:59:57 (YY/MM/DD HH:MM:SS)\n"
     ]
    }
   ],
   "source": [
    "assert find_response_version(time_start[0]) == find_response_version(time_start[-1]), \"Versions not constant\"\n",
    "version = find_response_version(time_start[0])\n",
    "rsp_base = ResponseDataRMF.from_version(version)\n",
    "\n",
    "\n",
    "resp_mats = []\n",
    "emod = np.geomspace(10, 3000, 50)\n",
    "\n",
    "for p_i, pointing in enumerate(pointings):\n",
    "    if skip_pointing[p_i]:\n",
    "        continue\n",
    "    \n",
    "    time = time_start[p_i]\n",
    "    dets = get_live_dets(time=time, event_types=[\"single\"])\n",
    "    \n",
    "    rmfs = []\n",
    "    for d in dets:\n",
    "        rmfs.append(ResponseRMFGenerator.from_time(time, d, energy_bins, emod, rsp_base))\n",
    "        \n",
    "    sds = np.empty(0)\n",
    "    for d in range(len(dets)):\n",
    "        sd = SPIDRM(rmfs[d], source_ra, source_dec)\n",
    "        sds = np.append(sds, sd.matrix.T)\n",
    "    resp_mats.append(sds.reshape((len(dets), len(emod)-1, len(energy_bins)-1)))"
   ]
  },
  {
   "cell_type": "code",
   "execution_count": 9,
   "metadata": {},
   "outputs": [],
   "source": [
    "def calc_count_rates(resp_mats, ra, dec, piv, K, index):\n",
    "    pl = Powerlaw()\n",
    "    pl.piv = piv\n",
    "    pl.K = K\n",
    "    pl.index = index\n",
    "    component1 = SpectralComponent(\"pl\", shape=pl)\n",
    "    source = PointSource(\"Test\", ra=ra, dec=dec, components=[component1])\n",
    "    \n",
    "    spec = source(emod)\n",
    "    spec_binned = powerlaw_binned_spectrum(emod, spec)\n",
    "    \n",
    "    source_counts = np.zeros((len(pointings)*85, len(energy_bins)-1), dtype=np.uint32)\n",
    "    \n",
    "    for p_i, pointing in enumerate(pointings):\n",
    "        if skip_pointing[p_i]:\n",
    "            continue\n",
    "        \n",
    "        resp_mat = resp_mats[p_i]\n",
    "        \n",
    "        count_rates = np.dot(spec_binned, resp_mat)\n",
    "        \n",
    "        for d_i, d in enumerate(dets):\n",
    "            index = p_i * 85 + d\n",
    "            source_counts[index,:] = np.random.poisson(count_rates[d_i,:] * time_elapsed[pointing_index*85 + d])\n",
    "    \n",
    "    return source_counts"
   ]
  },
  {
   "cell_type": "code",
   "execution_count": 10,
   "metadata": {},
   "outputs": [],
   "source": [
    "\n",
    "        \n",
    "temp_path = f\"{data_path_d}\"        \n",
    "\n",
    "if not os.path.exists(temp_path):\n",
    "    os.mkdir(temp_path)\n",
    "    \n",
    "os.popen(f\"cp {data_path}/energy_boundaries.fits {temp_path}/energy_boundaries.fits\")\n",
    "os.popen(f\"cp {data_path}/pointing.fits {temp_path}/pointing.fits\")\n",
    "\n",
    "        \n",
    "hdu = fits.BinTableHDU(data=updated_time, name=\"SPI.-OBS.-DTI\") # is all of this correct?\n",
    "hdu.writeto(f\"{temp_path}/dead_time.fits\")\n",
    "\n",
    "source_counts = calc_count_rates(resp_mats, source_ra, source_dec, source_piv, source_K, source_index)\n",
    "\n",
    "total_counts = background_counts.copy()\n",
    "total_counts[\"COUNTS\"] += source_counts\n",
    "        \n",
    "hdu = fits.BinTableHDU(data=total_counts, name=\"SPI.-OBS.-DSP\")\n",
    "hdu.writeto(f\"{temp_path}/evts_det_spec.fits\")"
   ]
  },
  {
   "cell_type": "code",
   "execution_count": null,
   "metadata": {},
   "outputs": [],
   "source": []
  },
  {
   "cell_type": "code",
   "execution_count": 2,
   "metadata": {},
   "outputs": [],
   "source": [
    "# identical repeats\n",
    "\n",
    "data_path = \"crab_data/0374\""
   ]
  },
  {
   "cell_type": "code",
   "execution_count": 3,
   "metadata": {},
   "outputs": [],
   "source": [
    "source_ra, source_dec = 10, -40\n",
    "source_piv = 200.\n",
    "source_K = 1e-4\n",
    "source_index = -2"
   ]
  },
  {
   "cell_type": "code",
   "execution_count": 5,
   "metadata": {},
   "outputs": [],
   "source": [
    "pointing_index = 1\n",
    "\n",
    "data_path_d = \"simulated_data/0374_const_bkg_identical\"\n",
    "\n",
    "if not os.path.exists(f\"{data_path_d}\"):\n",
    "    os.mkdir(f\"{data_path_d}\")\n",
    "    \n",
    "with open(f\"./{data_path_d}/source_params.pickle\", \"wb\") as f:\n",
    "    pickle.dump((source_ra, source_dec, source_piv, source_K, source_index), f)\n"
   ]
  },
  {
   "cell_type": "code",
   "execution_count": 6,
   "metadata": {},
   "outputs": [],
   "source": [
    "# Energy Bins\n",
    "with fits.open(f\"{data_path}/energy_boundaries.fits\") as file:\n",
    "    t = Table.read(file[1])\n",
    "    energy_bins = np.append(t[\"E_MIN\"], t[\"E_MAX\"][-1])\n",
    "    \n",
    "# Pointings and Start Times\n",
    "with fits.open(f\"{data_path}/pointing.fits\") as file:\n",
    "    t = Table.read(file[1])\n",
    "    \n",
    "    pointings = np.array(t[\"PTID_SPI\"])\n",
    "    \n",
    "    time_start = np.array(t[\"TSTART\"]) + 2451544.5\n",
    "    time_start = [at.Time(f\"{i}\", format=\"jd\").datetime for i in time_start]\n",
    "    time_start = np.array([datetime.strftime(i,'%y%m%d %H%M%S') for i in time_start])\n",
    "    \n",
    "# Time Elapsed\n",
    "# det=i, pointing_index=j : index = j*85 + i\n",
    "with fits.open(f\"{data_path}/dead_time.fits\") as file:\n",
    "    t = Table.read(file[1])\n",
    "    time_elapsed = np.array(t[\"LIVETIME\"])\n",
    "    \n",
    "updated_time = t.copy()\n",
    "    \n",
    "for i in range(int(len(time_elapsed) / 85)):\n",
    "    if i == pointing_index:\n",
    "        continue\n",
    "    else:\n",
    "        updated_time[i*85 : (i+1)*85] = updated_time[pointing_index*85 : (pointing_index+1)*85]"
   ]
  },
  {
   "cell_type": "code",
   "execution_count": 7,
   "metadata": {},
   "outputs": [],
   "source": [
    "# Only necessary for 1380\n",
    "skip_pointing = [False] * len(pointings)\n",
    "# skip_pointing[0] = True"
   ]
  },
  {
   "cell_type": "code",
   "execution_count": 8,
   "metadata": {},
   "outputs": [],
   "source": [
    "# Background\n",
    "\n",
    "with fits.open(f\"{data_path}/evts_det_spec_orig.fits\") as file:\n",
    "    t = Table.read(file[1])\n",
    "    \n",
    "background_counts = t.copy()\n",
    "\n",
    "for i in range(int(len(background_counts) / 85)):\n",
    "    if i == pointing_index:\n",
    "        continue\n",
    "    else:\n",
    "        background_counts[i*85 : (i+1)*85] = background_counts[pointing_index*85 : (pointing_index+1)*85]\n",
    "        \n",
    "background_counts[\"COUNTS\"] = np.random.poisson(background_counts[\"COUNTS\"])"
   ]
  },
  {
   "cell_type": "code",
   "execution_count": 9,
   "metadata": {},
   "outputs": [
    {
     "name": "stdout",
     "output_type": "stream",
     "text": [
      "Using the irfs that are valid between 04/07/17 08:20:06 and 09/02/19 09:59:57 (YY/MM/DD HH:MM:SS)\n"
     ]
    }
   ],
   "source": [
    "assert find_response_version(time_start[0]) == find_response_version(time_start[-1]), \"Versions not constant\"\n",
    "version = find_response_version(time_start[0])\n",
    "rsp_base = ResponseDataRMF.from_version(version)\n",
    "\n",
    "\n",
    "resp_mats = []\n",
    "emod = np.geomspace(10, 3000, 50)\n",
    "\n",
    "for p_i, pointing in enumerate(pointings):\n",
    "    if skip_pointing[p_i]:\n",
    "        continue\n",
    "    \n",
    "    time = time_start[p_i]\n",
    "    dets = get_live_dets(time=time, event_types=[\"single\"])\n",
    "    \n",
    "    rmfs = []\n",
    "    for d in dets:\n",
    "        rmfs.append(ResponseRMFGenerator.from_time(time, d, energy_bins, emod, rsp_base))\n",
    "        \n",
    "    sds = np.empty(0)\n",
    "    for d in range(len(dets)):\n",
    "        sd = SPIDRM(rmfs[d], source_ra, source_dec)\n",
    "        sds = np.append(sds, sd.matrix.T)\n",
    "    resp_mats.append(sds.reshape((len(dets), len(emod)-1, len(energy_bins)-1)))"
   ]
  },
  {
   "cell_type": "code",
   "execution_count": 10,
   "metadata": {},
   "outputs": [],
   "source": [
    "def calc_count_rates(resp_mats, ra, dec, piv, K, index):\n",
    "    pl = Powerlaw()\n",
    "    pl.piv = piv\n",
    "    pl.K = K\n",
    "    pl.index = index\n",
    "    component1 = SpectralComponent(\"pl\", shape=pl)\n",
    "    source = PointSource(\"Test\", ra=ra, dec=dec, components=[component1])\n",
    "    \n",
    "    spec = source(emod)\n",
    "    spec_binned = powerlaw_binned_spectrum(emod, spec)\n",
    "    \n",
    "    source_counts = np.zeros((len(pointings)*85, len(energy_bins)-1), dtype=np.uint32)\n",
    "    \n",
    "    for p_i, pointing in enumerate(pointings):\n",
    "        if skip_pointing[p_i]:\n",
    "            continue\n",
    "        \n",
    "        resp_mat = resp_mats[p_i]\n",
    "        \n",
    "        count_rates = np.dot(spec_binned, resp_mat)\n",
    "        \n",
    "        for d_i, d in enumerate(dets):\n",
    "            index = p_i * 85 + d\n",
    "            source_counts[index,:] = np.random.poisson(count_rates[d_i,:] * time_elapsed[pointing_index*85 + d])\n",
    "    \n",
    "    return source_counts"
   ]
  },
  {
   "cell_type": "code",
   "execution_count": 11,
   "metadata": {},
   "outputs": [],
   "source": [
    "\n",
    "        \n",
    "temp_path = f\"{data_path_d}\"        \n",
    "\n",
    "if not os.path.exists(temp_path):\n",
    "    os.mkdir(temp_path)\n",
    "    \n",
    "os.popen(f\"cp {data_path}/energy_boundaries.fits {temp_path}/energy_boundaries.fits\")\n",
    "os.popen(f\"cp {data_path}/pointing.fits {temp_path}/pointing.fits\")\n",
    "\n",
    "        \n",
    "hdu = fits.BinTableHDU(data=updated_time, name=\"SPI.-OBS.-DTI\") # is all of this correct?\n",
    "hdu.writeto(f\"{temp_path}/dead_time.fits\")\n",
    "\n",
    "source_counts = calc_count_rates(resp_mats, source_ra, source_dec, source_piv, source_K, source_index)\n",
    "\n",
    "total_counts = background_counts.copy()\n",
    "total_counts[\"COUNTS\"] += source_counts\n",
    "        \n",
    "hdu = fits.BinTableHDU(data=total_counts, name=\"SPI.-OBS.-DSP\")\n",
    "hdu.writeto(f\"{temp_path}/evts_det_spec.fits\")"
   ]
  },
  {
   "cell_type": "code",
   "execution_count": null,
   "metadata": {},
   "outputs": [],
   "source": []
  },
  {
   "cell_type": "code",
   "execution_count": 2,
   "metadata": {},
   "outputs": [],
   "source": [
    "# number of energy bins\n",
    "\n",
    "data_path = \"crab_data/0374\""
   ]
  },
  {
   "cell_type": "code",
   "execution_count": 3,
   "metadata": {},
   "outputs": [],
   "source": [
    "source_ra, source_dec = 10, -40\n",
    "source_piv = 200.\n",
    "source_K = 1e-4\n",
    "source_index = -2\n",
    "\n",
    "bin_number = [5, 25, 125, 600]"
   ]
  },
  {
   "cell_type": "code",
   "execution_count": 4,
   "metadata": {},
   "outputs": [],
   "source": [
    "pointing_index = 1\n",
    "\n",
    "data_path_d = \"simulated_data/0374_const_bkg_number_of_e_bins\"\n",
    "\n",
    "if not os.path.exists(f\"{data_path_d}\"):\n",
    "    os.mkdir(f\"{data_path_d}\")\n",
    "    \n",
    "with open(f\"./{data_path_d}/source_params.pickle\", \"wb\") as f:\n",
    "    pickle.dump((source_ra, source_dec, source_piv, source_K, source_index, bin_number), f)\n"
   ]
  },
  {
   "cell_type": "code",
   "execution_count": 5,
   "metadata": {},
   "outputs": [],
   "source": [
    "# Energy Bins\n",
    "with fits.open(f\"{data_path}/energy_boundaries.fits\") as file:\n",
    "    t = Table.read(file[1])\n",
    "    energy_bins = np.append(t[\"E_MIN\"], t[\"E_MAX\"][-1])\n",
    "    \n",
    "# Pointings and Start Times\n",
    "with fits.open(f\"{data_path}/pointing.fits\") as file:\n",
    "    t = Table.read(file[1])\n",
    "    \n",
    "    pointings = np.array(t[\"PTID_SPI\"])\n",
    "    \n",
    "    time_start = np.array(t[\"TSTART\"]) + 2451544.5\n",
    "    time_start = [at.Time(f\"{i}\", format=\"jd\").datetime for i in time_start]\n",
    "    time_start = np.array([datetime.strftime(i,'%y%m%d %H%M%S') for i in time_start])\n",
    "    \n",
    "# Time Elapsed\n",
    "# det=i, pointing_index=j : index = j*85 + i\n",
    "with fits.open(f\"{data_path}/dead_time.fits\") as file:\n",
    "    t = Table.read(file[1])\n",
    "    time_elapsed = np.array(t[\"LIVETIME\"])\n",
    "    \n",
    "updated_time = t.copy()\n",
    "    \n",
    "for i in range(int(len(time_elapsed) / 85)):\n",
    "    if i == pointing_index:\n",
    "        continue\n",
    "    else:\n",
    "        updated_time[i*85 : (i+1)*85] = updated_time[pointing_index*85 : (pointing_index+1)*85]"
   ]
  },
  {
   "cell_type": "code",
   "execution_count": 6,
   "metadata": {},
   "outputs": [],
   "source": [
    "# Only necessary for 1380\n",
    "skip_pointing = [False] * len(pointings)\n",
    "# skip_pointing[0] = True"
   ]
  },
  {
   "cell_type": "code",
   "execution_count": 7,
   "metadata": {},
   "outputs": [],
   "source": [
    "# Background\n",
    "\n",
    "with fits.open(f\"{data_path}/evts_det_spec_orig.fits\") as file:\n",
    "    t = Table.read(file[1])\n",
    "    \n",
    "background_counts = t.copy()\n",
    "\n",
    "for i in range(int(len(background_counts) / 85)):\n",
    "    if i == pointing_index:\n",
    "        continue\n",
    "    else:\n",
    "        background_counts[i*85 : (i+1)*85] = background_counts[pointing_index*85 : (pointing_index+1)*85]\n",
    "        \n",
    "background_counts[\"COUNTS\"] = np.random.poisson(background_counts[\"COUNTS\"])"
   ]
  },
  {
   "cell_type": "code",
   "execution_count": 8,
   "metadata": {},
   "outputs": [
    {
     "name": "stdout",
     "output_type": "stream",
     "text": [
      "Using the irfs that are valid between 04/07/17 08:20:06 and 09/02/19 09:59:57 (YY/MM/DD HH:MM:SS)\n"
     ]
    }
   ],
   "source": [
    "assert find_response_version(time_start[0]) == find_response_version(time_start[-1]), \"Versions not constant\"\n",
    "version = find_response_version(time_start[0])\n",
    "rsp_base = ResponseDataRMF.from_version(version)\n",
    "\n",
    "\n",
    "resp_mats = []\n",
    "emod = np.geomspace(10, 3000, 50)\n",
    "\n",
    "for p_i, pointing in enumerate(pointings):\n",
    "    if skip_pointing[p_i]:\n",
    "        continue\n",
    "    \n",
    "    time = time_start[p_i]\n",
    "    dets = get_live_dets(time=time, event_types=[\"single\"])\n",
    "    \n",
    "    rmfs = []\n",
    "    for d in dets:\n",
    "        rmfs.append(ResponseRMFGenerator.from_time(time, d, energy_bins, emod, rsp_base))\n",
    "        \n",
    "    sds = np.empty(0)\n",
    "    for d in range(len(dets)):\n",
    "        sd = SPIDRM(rmfs[d], source_ra, source_dec)\n",
    "        sds = np.append(sds, sd.matrix.T)\n",
    "    resp_mats.append(sds.reshape((len(dets), len(emod)-1, len(energy_bins)-1)))"
   ]
  },
  {
   "cell_type": "code",
   "execution_count": null,
   "metadata": {},
   "outputs": [],
   "source": [
    "def calc_count_rates(resp_mats, ra, dec, piv, K, index):\n",
    "    pl = Powerlaw()\n",
    "    pl.piv = piv\n",
    "    pl.K = K\n",
    "    pl.index = index\n",
    "    component1 = SpectralComponent(\"pl\", shape=pl)\n",
    "    source = PointSource(\"Test\", ra=ra, dec=dec, components=[component1])\n",
    "    \n",
    "    spec = source(emod)\n",
    "    spec_binned = powerlaw_binned_spectrum(emod, spec)\n",
    "    \n",
    "    source_counts = np.zeros((len(pointings)*85, len(energy_bins)-1), dtype=np.uint32)\n",
    "    \n",
    "    for p_i, pointing in enumerate(pointings):\n",
    "        if skip_pointing[p_i]:\n",
    "            continue\n",
    "        \n",
    "        resp_mat = resp_mats[p_i]\n",
    "        \n",
    "        count_rates = np.dot(spec_binned, resp_mat)\n",
    "        \n",
    "        for d_i, d in enumerate(dets):\n",
    "            index = p_i * 85 + d\n",
    "            source_counts[index,:] = np.random.poisson(count_rates[d_i,:] * time_elapsed[pointing_index*85 + d])\n",
    "    \n",
    "    return source_counts"
   ]
  },
  {
   "cell_type": "code",
   "execution_count": null,
   "metadata": {},
   "outputs": [],
   "source": [
    "\n",
    "        \n",
    "temp_path = f\"{data_path_d}\"        \n",
    "\n",
    "if not os.path.exists(temp_path):\n",
    "    os.mkdir(temp_path)\n",
    "    \n",
    "os.popen(f\"cp {data_path}/energy_boundaries.fits {temp_path}/energy_boundaries.fits\")\n",
    "os.popen(f\"cp {data_path}/pointing.fits {temp_path}/pointing.fits\")\n",
    "\n",
    "        \n",
    "hdu = fits.BinTableHDU(data=updated_time, name=\"SPI.-OBS.-DTI\") # is all of this correct?\n",
    "hdu.writeto(f\"{temp_path}/dead_time.fits\")\n",
    "\n",
    "source_counts = calc_count_rates(resp_mats, source_ra, source_dec, source_piv, source_K, source_index)\n",
    "\n",
    "total_counts = background_counts.copy()\n",
    "total_counts[\"COUNTS\"] += source_counts\n",
    "        \n",
    "hdu = fits.BinTableHDU(data=total_counts, name=\"SPI.-OBS.-DSP\")\n",
    "hdu.writeto(f\"{temp_path}/evts_det_spec.fits\")"
   ]
  },
  {
   "cell_type": "code",
   "execution_count": null,
   "metadata": {},
   "outputs": [],
   "source": []
  },
  {
   "cell_type": "code",
   "execution_count": null,
   "metadata": {},
   "outputs": [],
   "source": []
  },
  {
   "cell_type": "code",
   "execution_count": 2,
   "metadata": {},
   "outputs": [],
   "source": [
    "# length of SCWs\n",
    "\n",
    "data_path = \"crab_data/0374\""
   ]
  },
  {
   "cell_type": "code",
   "execution_count": 3,
   "metadata": {},
   "outputs": [],
   "source": [
    "source_ra, source_dec = 10, -40\n",
    "source_piv = 200.\n",
    "source_K = 1e-4\n",
    "source_index = -2\n",
    "\n",
    "time_fraction = [1, 0.3, 0.1]"
   ]
  },
  {
   "cell_type": "code",
   "execution_count": 4,
   "metadata": {},
   "outputs": [],
   "source": [
    "pointing_index = 1\n",
    "\n",
    "data_path_d = \"simulated_data/0374_const_bkg_scaled_time_or_pairs\"\n",
    "\n",
    "if not os.path.exists(f\"{data_path_d}\"):\n",
    "    os.mkdir(f\"{data_path_d}\")\n",
    "    \n",
    "with open(f\"./{data_path_d}/source_params.pickle\", \"wb\") as f:\n",
    "    pickle.dump((source_ra, source_dec, source_piv, source_K, source_index, time_fraction), f)\n"
   ]
  },
  {
   "cell_type": "code",
   "execution_count": 6,
   "metadata": {},
   "outputs": [],
   "source": [
    "# Energy Bins\n",
    "with fits.open(f\"{data_path}/energy_boundaries.fits\") as file:\n",
    "    t = Table.read(file[1])\n",
    "    energy_bins = np.append(t[\"E_MIN\"], t[\"E_MAX\"][-1])\n",
    "    \n",
    "# Pointings and Start Times\n",
    "with fits.open(f\"{data_path}/pointing.fits\") as file:\n",
    "    t = Table.read(file[1])\n",
    "    \n",
    "    pointings = np.array(t[\"PTID_SPI\"])\n",
    "    \n",
    "    time_start = np.array(t[\"TSTART\"]) + 2451544.5\n",
    "    time_start = [at.Time(f\"{i}\", format=\"jd\").datetime for i in time_start]\n",
    "    time_start = np.array([datetime.strftime(i,'%y%m%d %H%M%S') for i in time_start])\n",
    "    \n",
    "# Time Elapsed\n",
    "# det=i, pointing_index=j : index = j*85 + i\n",
    "with fits.open(f\"{data_path}/dead_time.fits\") as file:\n",
    "    t = Table.read(file[1])\n",
    "    time_elapsed = np.array(t[\"LIVETIME\"])\n",
    "    \n",
    "updated_time = t.copy()\n",
    "    \n",
    "for i in range(int(len(time_elapsed) / 85)):\n",
    "    if i == pointing_index:\n",
    "        continue\n",
    "    else:\n",
    "        updated_time[i*85 : (i+1)*85] = updated_time[pointing_index*85 : (pointing_index+1)*85]"
   ]
  },
  {
   "cell_type": "code",
   "execution_count": 7,
   "metadata": {},
   "outputs": [],
   "source": [
    "# Only necessary for 1380\n",
    "skip_pointing = [False] * len(pointings)\n",
    "# skip_pointing[0] = True"
   ]
  },
  {
   "cell_type": "code",
   "execution_count": 8,
   "metadata": {},
   "outputs": [],
   "source": [
    "# Background\n",
    "\n",
    "with fits.open(f\"{data_path}/evts_det_spec_orig.fits\") as file:\n",
    "    t = Table.read(file[1])\n",
    "\n",
    "b_cs = []\n",
    "\n",
    "for frac in range(len(time_fraction)):\n",
    "\n",
    "    background_counts = t.copy()\n",
    "\n",
    "    for i in range(int(len(background_counts) / 85)):\n",
    "        if i == pointing_index:\n",
    "            continue\n",
    "        else:\n",
    "            background_counts[i*85 : (i+1)*85] = background_counts[pointing_index*85 : (pointing_index+1)*85]\n",
    "            \n",
    "    background_counts[\"COUNTS\"] = np.random.poisson(background_counts[\"COUNTS\"] * time_fraction[frac])\n",
    "    b_cs.append(background_counts)"
   ]
  },
  {
   "cell_type": "code",
   "execution_count": 9,
   "metadata": {},
   "outputs": [
    {
     "name": "stdout",
     "output_type": "stream",
     "text": [
      "Using the irfs that are valid between 04/07/17 08:20:06 and 09/02/19 09:59:57 (YY/MM/DD HH:MM:SS)\n"
     ]
    }
   ],
   "source": [
    "assert find_response_version(time_start[0]) == find_response_version(time_start[-1]), \"Versions not constant\"\n",
    "version = find_response_version(time_start[0])\n",
    "rsp_base = ResponseDataRMF.from_version(version)\n",
    "\n",
    "\n",
    "resp_mats = []\n",
    "emod = np.geomspace(10, 3000, 50)\n",
    "\n",
    "for p_i, pointing in enumerate(pointings):\n",
    "    if skip_pointing[p_i]:\n",
    "        continue\n",
    "    \n",
    "    time = time_start[p_i]\n",
    "    dets = get_live_dets(time=time, event_types=[\"single\"])\n",
    "    \n",
    "    rmfs = []\n",
    "    for d in dets:\n",
    "        rmfs.append(ResponseRMFGenerator.from_time(time, d, energy_bins, emod, rsp_base))\n",
    "        \n",
    "    sds = np.empty(0)\n",
    "    for d in range(len(dets)):\n",
    "        sd = SPIDRM(rmfs[d], source_ra, source_dec)\n",
    "        sds = np.append(sds, sd.matrix.T)\n",
    "    resp_mats.append(sds.reshape((len(dets), len(emod)-1, len(energy_bins)-1)))"
   ]
  },
  {
   "cell_type": "code",
   "execution_count": 27,
   "metadata": {},
   "outputs": [],
   "source": [
    "def calc_count_rates(resp_mats, ra, dec, piv, K, index, time_elapsed):\n",
    "    pl = Powerlaw()\n",
    "    pl.piv = piv\n",
    "    pl.K = K\n",
    "    pl.index = index\n",
    "    component1 = SpectralComponent(\"pl\", shape=pl)\n",
    "    source = PointSource(\"Test\", ra=ra, dec=dec, components=[component1])\n",
    "    \n",
    "    spec = source(emod)\n",
    "    spec_binned = powerlaw_binned_spectrum(emod, spec)\n",
    "    \n",
    "    source_counts = np.zeros((len(pointings)*85, len(energy_bins)-1), dtype=np.uint32)\n",
    "    \n",
    "    for p_i, pointing in enumerate(pointings):\n",
    "        if skip_pointing[p_i]:\n",
    "            continue\n",
    "        \n",
    "        resp_mat = resp_mats[p_i]\n",
    "        \n",
    "        count_rates = np.dot(spec_binned, resp_mat)\n",
    "        \n",
    "        for d_i, d in enumerate(dets):\n",
    "            index = p_i * 85 + d\n",
    "            source_counts[index,:] = np.random.poisson(count_rates[d_i,:] * time_elapsed[pointing_index*85 + d])\n",
    "    \n",
    "    return source_counts"
   ]
  },
  {
   "cell_type": "code",
   "execution_count": 28,
   "metadata": {},
   "outputs": [],
   "source": [
    "for i in range(len(time_fraction)):\n",
    "        \n",
    "    temp_path = f\"{data_path_d}/t_{i}\"        \n",
    "\n",
    "    if not os.path.exists(temp_path):\n",
    "        os.mkdir(temp_path)\n",
    "        \n",
    "    os.popen(f\"cp {data_path}/energy_boundaries.fits {temp_path}/energy_boundaries.fits\")\n",
    "    os.popen(f\"cp {data_path}/pointing.fits {temp_path}/pointing.fits\")\n",
    "\n",
    "    temp_time = updated_time.copy()\n",
    "    temp_time[\"LIVETIME\"] *= time_fraction[i]\n",
    "    hdu = fits.BinTableHDU(data=temp_time, name=\"SPI.-OBS.-DTI\") # is all of this correct?\n",
    "    hdu.writeto(f\"{temp_path}/dead_time.fits\")\n",
    "\n",
    "    source_counts = calc_count_rates(resp_mats, source_ra, source_dec, source_piv, source_K, source_index, time_elapsed*time_fraction[i])\n",
    "\n",
    "    total_counts = b_cs[i].copy()\n",
    "    total_counts[\"COUNTS\"] += source_counts\n",
    "            \n",
    "    hdu = fits.BinTableHDU(data=total_counts, name=\"SPI.-OBS.-DSP\")\n",
    "    hdu.writeto(f\"{temp_path}/evts_det_spec.fits\")"
   ]
  },
  {
   "cell_type": "code",
   "execution_count": 1,
   "metadata": {},
   "outputs": [],
   "source": []
  },
  {
   "cell_type": "code",
   "execution_count": 2,
   "metadata": {},
   "outputs": [],
   "source": [
    "# cluster sizes\n",
    "\n",
    "data_path = \"crab_data/0374\""
   ]
  },
  {
   "cell_type": "code",
   "execution_count": 3,
   "metadata": {},
   "outputs": [],
   "source": [
    "source_ra, source_dec = 10, -40\n",
    "source_piv = 200.\n",
    "source_K = 1e-4\n",
    "source_index = -2\n",
    "\n",
    "cluster_sizes = [2, 3, 4]"
   ]
  },
  {
   "cell_type": "code",
   "execution_count": 4,
   "metadata": {},
   "outputs": [],
   "source": [
    "pointing_index = 1\n",
    "\n",
    "data_path_d = \"simulated_data/0374_const_bkg_cluster_sizes\"\n",
    "\n",
    "if not os.path.exists(f\"{data_path_d}\"):\n",
    "    os.mkdir(f\"{data_path_d}\")\n",
    "    \n",
    "with open(f\"./{data_path_d}/source_params.pickle\", \"wb\") as f:\n",
    "    pickle.dump((source_ra, source_dec, source_piv, source_K, source_index, cluster_sizes), f)\n"
   ]
  },
  {
   "cell_type": "code",
   "execution_count": 13,
   "metadata": {},
   "outputs": [],
   "source": [
    "# Energy Bins\n",
    "with fits.open(f\"{data_path}/energy_boundaries.fits\") as file:\n",
    "    t = Table.read(file[1])\n",
    "    energy_bins = np.append(t[\"E_MIN\"], t[\"E_MAX\"][-1])\n",
    "    \n",
    "# Pointings and Start Times\n",
    "with fits.open(f\"{data_path}/pointing.fits\") as file:\n",
    "    t = Table.read(file[1])\n",
    "    \n",
    "    pointings = np.array(t[\"PTID_SPI\"])\n",
    "    \n",
    "    time_start = np.array(t[\"TSTART\"]) + 2451544.5\n",
    "    time_start = [at.Time(f\"{i}\", format=\"jd\").datetime for i in time_start]\n",
    "    time_start = np.array([datetime.strftime(i,'%y%m%d %H%M%S') for i in time_start])\n",
    "    \n",
    "# Time Elapsed\n",
    "# det=i, pointing_index=j : index = j*85 + i\n",
    "with fits.open(f\"{data_path}/dead_time.fits\") as file:\n",
    "    t = Table.read(file[1])\n",
    "    time_elapsed = np.array(t[\"LIVETIME\"])\n",
    "    \n",
    "updated_time = t.copy()\n",
    "    \n",
    "for i in range(int(len(time_elapsed) / 85)):\n",
    "    if i == pointing_index:\n",
    "        continue\n",
    "    else:\n",
    "        updated_time[i*85 : (i+1)*85] = updated_time[pointing_index*85 : (pointing_index+1)*85]"
   ]
  },
  {
   "cell_type": "code",
   "execution_count": 14,
   "metadata": {},
   "outputs": [],
   "source": [
    "# Only necessary for 1380\n",
    "skip_pointing = [False] * len(pointings)\n",
    "# skip_pointing[0] = True"
   ]
  },
  {
   "cell_type": "code",
   "execution_count": 15,
   "metadata": {},
   "outputs": [],
   "source": [
    "# Background\n",
    "\n",
    "with fits.open(f\"{data_path}/evts_det_spec_orig.fits\") as file:\n",
    "    t = Table.read(file[1])\n",
    "    \n",
    "background_counts = t.copy()\n",
    "\n",
    "for i in range(int(len(background_counts) / 85)):\n",
    "    if i == pointing_index:\n",
    "        continue\n",
    "    else:\n",
    "        background_counts[i*85 : (i+1)*85] = background_counts[pointing_index*85 : (pointing_index+1)*85]\n",
    "        \n",
    "background_counts[\"COUNTS\"] = np.random.poisson(background_counts[\"COUNTS\"])"
   ]
  },
  {
   "cell_type": "code",
   "execution_count": 16,
   "metadata": {},
   "outputs": [
    {
     "name": "stdout",
     "output_type": "stream",
     "text": [
      "Using the irfs that are valid between 04/07/17 08:20:06 and 09/02/19 09:59:57 (YY/MM/DD HH:MM:SS)\n"
     ]
    }
   ],
   "source": [
    "assert find_response_version(time_start[0]) == find_response_version(time_start[-1]), \"Versions not constant\"\n",
    "version = find_response_version(time_start[0])\n",
    "rsp_base = ResponseDataRMF.from_version(version)\n",
    "\n",
    "\n",
    "resp_mats = []\n",
    "emod = np.geomspace(10, 3000, 50)\n",
    "\n",
    "for p_i, pointing in enumerate(pointings):\n",
    "    if skip_pointing[p_i]:\n",
    "        continue\n",
    "    \n",
    "    time = time_start[p_i]\n",
    "    dets = get_live_dets(time=time, event_types=[\"single\"])\n",
    "    \n",
    "    rmfs = []\n",
    "    for d in dets:\n",
    "        rmfs.append(ResponseRMFGenerator.from_time(time, d, energy_bins, emod, rsp_base))\n",
    "        \n",
    "    sds = np.empty(0)\n",
    "    for d in range(len(dets)):\n",
    "        sd = SPIDRM(rmfs[d], source_ra, source_dec)\n",
    "        sds = np.append(sds, sd.matrix.T)\n",
    "    resp_mats.append(sds.reshape((len(dets), len(emod)-1, len(energy_bins)-1)))"
   ]
  },
  {
   "cell_type": "code",
   "execution_count": null,
   "metadata": {},
   "outputs": [],
   "source": [
    "def calc_count_rates(resp_mats, ra, dec, piv, K, index):\n",
    "    pl = Powerlaw()\n",
    "    pl.piv = piv\n",
    "    pl.K = K\n",
    "    pl.index = index\n",
    "    component1 = SpectralComponent(\"pl\", shape=pl)\n",
    "    source = PointSource(\"Test\", ra=ra, dec=dec, components=[component1])\n",
    "    \n",
    "    spec = source(emod)\n",
    "    spec_binned = powerlaw_binned_spectrum(emod, spec)\n",
    "    \n",
    "    source_counts = np.zeros((len(pointings)*85, len(energy_bins)-1), dtype=np.uint32)\n",
    "    \n",
    "    for p_i, pointing in enumerate(pointings):\n",
    "        if skip_pointing[p_i]:\n",
    "            continue\n",
    "        \n",
    "        resp_mat = resp_mats[p_i]\n",
    "        \n",
    "        count_rates = np.dot(spec_binned, resp_mat)\n",
    "        \n",
    "        for d_i, d in enumerate(dets):\n",
    "            index = p_i * 85 + d\n",
    "            source_counts[index,:] = np.random.poisson(count_rates[d_i,:] * time_elapsed[pointing_index*85 + d])\n",
    "    \n",
    "    return source_counts"
   ]
  },
  {
   "cell_type": "code",
   "execution_count": null,
   "metadata": {},
   "outputs": [],
   "source": [
    "\n",
    "        \n",
    "temp_path = f\"{data_path_d}\"        \n",
    "\n",
    "if not os.path.exists(temp_path):\n",
    "    os.mkdir(temp_path)\n",
    "    \n",
    "os.popen(f\"cp {data_path}/energy_boundaries.fits {temp_path}/energy_boundaries.fits\")\n",
    "os.popen(f\"cp {data_path}/pointing.fits {temp_path}/pointing.fits\")\n",
    "\n",
    "        \n",
    "hdu = fits.BinTableHDU(data=updated_time, name=\"SPI.-OBS.-DTI\") # is all of this correct?\n",
    "hdu.writeto(f\"{temp_path}/dead_time.fits\")\n",
    "\n",
    "source_counts = calc_count_rates(resp_mats, source_ra, source_dec, source_piv, source_K, source_index)\n",
    "\n",
    "total_counts = background_counts.copy()\n",
    "total_counts[\"COUNTS\"] += source_counts\n",
    "        \n",
    "hdu = fits.BinTableHDU(data=total_counts, name=\"SPI.-OBS.-DSP\")\n",
    "hdu.writeto(f\"{temp_path}/evts_det_spec.fits\")"
   ]
  },
  {
   "cell_type": "code",
   "execution_count": null,
   "metadata": {},
   "outputs": [],
   "source": []
  },
  {
   "cell_type": "code",
   "execution_count": null,
   "metadata": {},
   "outputs": [],
   "source": [
    "# const const bkg"
   ]
  },
  {
   "cell_type": "code",
   "execution_count": 2,
   "metadata": {},
   "outputs": [],
   "source": [
    "data_path = \"crab_data/0374\""
   ]
  },
  {
   "cell_type": "code",
   "execution_count": 3,
   "metadata": {},
   "outputs": [],
   "source": [
    "source_ra, source_dec = 10, -40\n",
    "source_piv = 100.\n",
    "source_K = 8e-4\n",
    "source_index = -0.5"
   ]
  },
  {
   "cell_type": "code",
   "execution_count": 4,
   "metadata": {},
   "outputs": [],
   "source": [
    "pointing_index = 1\n",
    "\n",
    "data_path_d = \"simulated_data/0374_const_const_bkg_20\"\n",
    "\n",
    "if not os.path.exists(f\"{data_path_d}\"):\n",
    "    os.mkdir(f\"{data_path_d}\")\n",
    "    \n",
    "with open(f\"./{data_path_d}/source_params.pickle\", \"wb\") as f:\n",
    "    pickle.dump((source_ra, source_dec, source_piv, source_K, source_index), f)\n"
   ]
  },
  {
   "cell_type": "code",
   "execution_count": 5,
   "metadata": {},
   "outputs": [],
   "source": [
    "# Energy Bins\n",
    "with fits.open(f\"{data_path}/energy_boundaries.fits\") as file:\n",
    "    t = Table.read(file[1])\n",
    "    energy_bins = np.append(t[\"E_MIN\"], t[\"E_MAX\"][-1])\n",
    "    \n",
    "# Pointings and Start Times\n",
    "with fits.open(f\"{data_path}/pointing.fits\") as file:\n",
    "    t = Table.read(file[1])\n",
    "    \n",
    "    pointings = np.array(t[\"PTID_SPI\"])\n",
    "    \n",
    "    time_start = np.array(t[\"TSTART\"]) + 2451544.5\n",
    "    time_start = [at.Time(f\"{i}\", format=\"jd\").datetime for i in time_start]\n",
    "    time_start = np.array([datetime.strftime(i,'%y%m%d %H%M%S') for i in time_start])\n",
    "    \n",
    "# Time Elapsed\n",
    "# det=i, pointing_index=j : index = j*85 + i\n",
    "with fits.open(f\"{data_path}/dead_time.fits\") as file:\n",
    "    t = Table.read(file[1])\n",
    "    time_elapsed = np.array(t[\"LIVETIME\"])\n",
    "    \n",
    "updated_time = t.copy()\n",
    "    \n",
    "for i in range(int(len(time_elapsed) / 85)):\n",
    "    if i == pointing_index:\n",
    "        continue\n",
    "    else:\n",
    "        updated_time[i*85 : (i+1)*85] = updated_time[pointing_index*85 : (pointing_index+1)*85]"
   ]
  },
  {
   "cell_type": "code",
   "execution_count": 6,
   "metadata": {},
   "outputs": [
    {
     "data": {
      "text/html": [
       "<div><i>Table length=6035</i>\n",
       "<table id=\"table140088351379024\" class=\"table-striped table-bordered table-condensed\">\n",
       "<thead><tr><th>DEADRATIO</th><th>LIVETIME</th></tr></thead>\n",
       "<thead><tr><th></th><th>s</th></tr></thead>\n",
       "<thead><tr><th>float32</th><th>float64</th></tr></thead>\n",
       "<tr><td>0.8488644</td><td>2285.7130358229892</td></tr>\n",
       "<tr><td>0.8492773</td><td>2286.8248684576347</td></tr>\n",
       "<tr><td>1.0</td><td>0.0</td></tr>\n",
       "<tr><td>0.848927</td><td>2285.8817672839295</td></tr>\n",
       "<tr><td>0.84870106</td><td>2285.2732544857345</td></tr>\n",
       "<tr><td>0.8490433</td><td>2286.1948843688656</td></tr>\n",
       "<tr><td>0.84908646</td><td>2286.3110680690056</td></tr>\n",
       "<tr><td>0.8498843</td><td>2288.4593072045127</td></tr>\n",
       "<tr><td>0.8495692</td><td>2287.61093213064</td></tr>\n",
       "<tr><td>...</td><td>...</td></tr>\n",
       "<tr><td>0.7634922</td><td>2055.8337895809564</td></tr>\n",
       "<tr><td>0.76416624</td><td>2057.6487015589005</td></tr>\n",
       "<tr><td>0.7612437</td><td>2049.7792702346756</td></tr>\n",
       "<tr><td>0.7627091</td><td>2053.7251731154497</td></tr>\n",
       "<tr><td>0.76177967</td><td>2051.22251794796</td></tr>\n",
       "<tr><td>1.0</td><td>0.0</td></tr>\n",
       "<tr><td>0.7625482</td><td>2053.291916261064</td></tr>\n",
       "<tr><td>1.0</td><td>0.0</td></tr>\n",
       "<tr><td>0.76290864</td><td>2054.262411395885</td></tr>\n",
       "<tr><td>1.0</td><td>0.0</td></tr>\n",
       "</table></div>"
      ],
      "text/plain": [
       "<Table length=6035>\n",
       "DEADRATIO       LIVETIME     \n",
       "                   s         \n",
       " float32        float64      \n",
       "---------- ------------------\n",
       " 0.8488644 2285.7130358229892\n",
       " 0.8492773 2286.8248684576347\n",
       "       1.0                0.0\n",
       "  0.848927 2285.8817672839295\n",
       "0.84870106 2285.2732544857345\n",
       " 0.8490433 2286.1948843688656\n",
       "0.84908646 2286.3110680690056\n",
       " 0.8498843 2288.4593072045127\n",
       " 0.8495692   2287.61093213064\n",
       "       ...                ...\n",
       " 0.7634922 2055.8337895809564\n",
       "0.76416624 2057.6487015589005\n",
       " 0.7612437 2049.7792702346756\n",
       " 0.7627091 2053.7251731154497\n",
       "0.76177967   2051.22251794796\n",
       "       1.0                0.0\n",
       " 0.7625482  2053.291916261064\n",
       "       1.0                0.0\n",
       "0.76290864  2054.262411395885\n",
       "       1.0                0.0"
      ]
     },
     "execution_count": 6,
     "metadata": {},
     "output_type": "execute_result"
    }
   ],
   "source": [
    "updated_time"
   ]
  },
  {
   "cell_type": "code",
   "execution_count": 7,
   "metadata": {},
   "outputs": [
    {
     "data": {
      "text/plain": [
       "array([ 501.36984114,  501.6546314 ,    0.        , ...,    0.        ,\n",
       "       2382.83614227,    0.        ])"
      ]
     },
     "execution_count": 7,
     "metadata": {},
     "output_type": "execute_result"
    }
   ],
   "source": [
    "time_elapsed"
   ]
  },
  {
   "cell_type": "code",
   "execution_count": 8,
   "metadata": {},
   "outputs": [],
   "source": [
    "# Only necessary for 1380\n",
    "skip_pointing = [False] * len(pointings)\n",
    "# skip_pointing[0] = True"
   ]
  },
  {
   "cell_type": "code",
   "execution_count": 9,
   "metadata": {},
   "outputs": [],
   "source": [
    "# Background\n",
    "\n",
    "with fits.open(f\"{data_path}/evts_det_spec_orig.fits\") as file:\n",
    "    t = Table.read(file[1])\n",
    "    \n",
    "background_counts = t.copy()\n",
    "\n",
    "for i in range(int(len(background_counts) / 85)):\n",
    "    if i == pointing_index:\n",
    "        continue\n",
    "    else:\n",
    "        background_counts[i*85 : (i+1)*85] = background_counts[pointing_index*85 : (pointing_index+1)*85]\n",
    "        \n",
    "background_counts[\"COUNTS\"] = np.random.poisson(background_counts[\"COUNTS\"])"
   ]
  },
  {
   "cell_type": "code",
   "execution_count": 10,
   "metadata": {},
   "outputs": [
    {
     "name": "stdout",
     "output_type": "stream",
     "text": [
      "Using the irfs that are valid between 04/07/17 08:20:06 and 09/02/19 09:59:57 (YY/MM/DD HH:MM:SS)\n"
     ]
    },
    {
     "name": "stderr",
     "output_type": "stream",
     "text": [
      "\n",
      "WARNING NumbaExperimentalFeatureWarning: \u001b[1m\u001b[1m\u001b[1m\u001b[1mUse of isinstance() detected. This is an experimental feature.\u001b[0m\u001b[0m\u001b[0m\u001b[0m\n",
      "\n"
     ]
    }
   ],
   "source": [
    "assert find_response_version(time_start[0]) == find_response_version(time_start[-1]), \"Versions not constant\"\n",
    "version = find_response_version(time_start[0])\n",
    "rsp_base = ResponseDataRMF.from_version(version)\n",
    "\n",
    "\n",
    "resp_mats = []\n",
    "emod = np.geomspace(10, 3000, 50)\n",
    "\n",
    "for p_i, pointing in enumerate(pointings):\n",
    "    if skip_pointing[p_i]:\n",
    "        continue\n",
    "    \n",
    "    time = time_start[p_i]\n",
    "    dets = get_live_dets(time=time, event_types=[\"single\"])\n",
    "    \n",
    "    rmfs = []\n",
    "    for d in dets:\n",
    "        rmfs.append(ResponseRMFGenerator.from_time(time, d, energy_bins, emod, rsp_base))\n",
    "        \n",
    "    sds = np.empty(0)\n",
    "    for d in range(len(dets)):\n",
    "        sd = SPIDRM(rmfs[d], source_ra, source_dec)\n",
    "        sds = np.append(sds, sd.matrix.T)\n",
    "    resp_mats.append(sds.reshape((len(dets), len(emod)-1, len(energy_bins)-1)))"
   ]
  },
  {
   "cell_type": "code",
   "execution_count": 11,
   "metadata": {},
   "outputs": [],
   "source": [
    "def calc_count_rates(resp_mats, ra, dec, piv, K, index):\n",
    "    pl = Powerlaw()\n",
    "    pl.piv = piv\n",
    "    pl.K = K\n",
    "    pl.index = index\n",
    "    component1 = SpectralComponent(\"pl\", shape=pl)\n",
    "    source = PointSource(\"Test\", ra=ra, dec=dec, components=[component1])\n",
    "    \n",
    "    spec = source(emod)\n",
    "    spec_binned = powerlaw_binned_spectrum(emod, spec)\n",
    "    \n",
    "    source_counts = np.zeros((len(pointings)*85, len(energy_bins)-1), dtype=np.uint32)\n",
    "    \n",
    "    for p_i, pointing in enumerate(pointings):\n",
    "        if skip_pointing[p_i]:\n",
    "            continue\n",
    "        \n",
    "        resp_mat = resp_mats[p_i]\n",
    "        \n",
    "        count_rates = np.dot(spec_binned, resp_mat)\n",
    "        \n",
    "        for d_i, d in enumerate(dets):\n",
    "            index = p_i * 85 + d\n",
    "            source_counts[index,:] = np.random.poisson(count_rates[d_i,:] * time_elapsed[pointing_index*85 + d])\n",
    "    \n",
    "    return source_counts"
   ]
  },
  {
   "cell_type": "code",
   "execution_count": 15,
   "metadata": {},
   "outputs": [
    {
     "data": {
      "text/plain": [
       "array([ 501.36984114,  501.6546314 ,    0.        , ...,    0.        ,\n",
       "       2382.83614227,    0.        ])"
      ]
     },
     "execution_count": 15,
     "metadata": {},
     "output_type": "execute_result"
    }
   ],
   "source": [
    "time_elapsed"
   ]
  },
  {
   "cell_type": "code",
   "execution_count": 13,
   "metadata": {},
   "outputs": [
    {
     "data": {
      "text/html": [
       "<div><i>Table length=6035</i>\n",
       "<table id=\"table140088351379024\" class=\"table-striped table-bordered table-condensed\">\n",
       "<thead><tr><th>DEADRATIO</th><th>LIVETIME</th></tr></thead>\n",
       "<thead><tr><th></th><th>s</th></tr></thead>\n",
       "<thead><tr><th>float32</th><th>float64</th></tr></thead>\n",
       "<tr><td>0.8488644</td><td>2285.7130358229892</td></tr>\n",
       "<tr><td>0.8492773</td><td>2286.8248684576347</td></tr>\n",
       "<tr><td>1.0</td><td>0.0</td></tr>\n",
       "<tr><td>0.848927</td><td>2285.8817672839295</td></tr>\n",
       "<tr><td>0.84870106</td><td>2285.2732544857345</td></tr>\n",
       "<tr><td>0.8490433</td><td>2286.1948843688656</td></tr>\n",
       "<tr><td>0.84908646</td><td>2286.3110680690056</td></tr>\n",
       "<tr><td>0.8498843</td><td>2288.4593072045127</td></tr>\n",
       "<tr><td>0.8495692</td><td>2287.61093213064</td></tr>\n",
       "<tr><td>...</td><td>...</td></tr>\n",
       "<tr><td>0.7634922</td><td>2055.8337895809564</td></tr>\n",
       "<tr><td>0.76416624</td><td>2057.6487015589005</td></tr>\n",
       "<tr><td>0.7612437</td><td>2049.7792702346756</td></tr>\n",
       "<tr><td>0.7627091</td><td>2053.7251731154497</td></tr>\n",
       "<tr><td>0.76177967</td><td>2051.22251794796</td></tr>\n",
       "<tr><td>1.0</td><td>0.0</td></tr>\n",
       "<tr><td>0.7625482</td><td>2053.291916261064</td></tr>\n",
       "<tr><td>1.0</td><td>0.0</td></tr>\n",
       "<tr><td>0.76290864</td><td>2054.262411395885</td></tr>\n",
       "<tr><td>1.0</td><td>0.0</td></tr>\n",
       "</table></div>"
      ],
      "text/plain": [
       "<Table length=6035>\n",
       "DEADRATIO       LIVETIME     \n",
       "                   s         \n",
       " float32        float64      \n",
       "---------- ------------------\n",
       " 0.8488644 2285.7130358229892\n",
       " 0.8492773 2286.8248684576347\n",
       "       1.0                0.0\n",
       "  0.848927 2285.8817672839295\n",
       "0.84870106 2285.2732544857345\n",
       " 0.8490433 2286.1948843688656\n",
       "0.84908646 2286.3110680690056\n",
       " 0.8498843 2288.4593072045127\n",
       " 0.8495692   2287.61093213064\n",
       "       ...                ...\n",
       " 0.7634922 2055.8337895809564\n",
       "0.76416624 2057.6487015589005\n",
       " 0.7612437 2049.7792702346756\n",
       " 0.7627091 2053.7251731154497\n",
       "0.76177967   2051.22251794796\n",
       "       1.0                0.0\n",
       " 0.7625482  2053.291916261064\n",
       "       1.0                0.0\n",
       "0.76290864  2054.262411395885\n",
       "       1.0                0.0"
      ]
     },
     "execution_count": 13,
     "metadata": {},
     "output_type": "execute_result"
    }
   ],
   "source": [
    "updated_time"
   ]
  },
  {
   "cell_type": "code",
   "execution_count": null,
   "metadata": {},
   "outputs": [],
   "source": [
    "for i in range(len(source_Ks)):\n",
    "    for j in range(len(source_indices)):\n",
    "        \n",
    "        temp_path = f\"{data_path_d}/{i}_{j}\"        \n",
    "        \n",
    "        if not os.path.exists(temp_path):\n",
    "            os.mkdir(temp_path)\n",
    "            \n",
    "        os.popen(f\"cp {data_path}/energy_boundaries.fits {temp_path}/energy_boundaries.fits\")\n",
    "        os.popen(f\"cp {data_path}/pointing.fits {temp_path}/pointing.fits\")\n",
    "\n",
    "                \n",
    "        hdu = fits.BinTableHDU(data=updated_time, name=\"SPI.-OBS.-DTI\") # is all of this correct?\n",
    "        hdu.writeto(f\"{temp_path}/dead_time.fits\")\n",
    "        \n",
    "        source_counts = calc_count_rates(resp_mats, source_ra, source_dec, source_piv, source_Ks[i], source_indices[j])\n",
    "        \n",
    "        total_counts = background_counts.copy()\n",
    "        total_counts[\"COUNTS\"] += source_counts\n",
    "                \n",
    "        hdu = fits.BinTableHDU(data=total_counts, name=\"SPI.-OBS.-DSP\")\n",
    "        hdu.writeto(f\"{temp_path}/evts_det_spec.fits\")"
   ]
  }
 ],
 "metadata": {
  "kernelspec": {
   "display_name": "MT",
   "language": "python",
   "name": "python3"
  },
  "language_info": {
   "codemirror_mode": {
    "name": "ipython",
    "version": 3
   },
   "file_extension": ".py",
   "mimetype": "text/x-python",
   "name": "python",
   "nbconvert_exporter": "python",
   "pygments_lexer": "ipython3",
   "version": "3.9.13"
  },
  "orig_nbformat": 4
 },
 "nbformat": 4,
 "nbformat_minor": 2
}
