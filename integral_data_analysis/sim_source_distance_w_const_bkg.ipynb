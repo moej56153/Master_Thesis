{
 "cells": [
  {
   "cell_type": "code",
   "execution_count": 22,
   "metadata": {},
   "outputs": [],
   "source": [
    "import numpy as np\n",
    "import astropy.io.fits as fits\n",
    "from astropy.table import Table\n",
    "from astromodels import Powerlaw, Line, PointSource, SpectralComponent\n",
    "import astropy.time as at\n",
    "from datetime import datetime\n",
    "from pyspi.utils.function_utils import find_response_version\n",
    "from pyspi.utils.response.spi_response_data import ResponseDataRMF\n",
    "from pyspi.utils.response.spi_response import ResponseRMFGenerator\n",
    "from pyspi.utils.response.spi_drm import SPIDRM\n",
    "from pyspi.utils.livedets import get_live_dets\n",
    "import os\n",
    "from MultinestClusterFit import powerlaw_binned_spectrum\n",
    "import pickle"
   ]
  },
  {
   "cell_type": "code",
   "execution_count": 33,
   "metadata": {},
   "outputs": [],
   "source": [
    "data_path = \"crab_data/0374\""
   ]
  },
  {
   "cell_type": "code",
   "execution_count": 34,
   "metadata": {},
   "outputs": [],
   "source": [
    "source_ra, source_dec = 10, -40\n",
    "source_piv = 100.\n",
    "source_Ks = [0.5e-4, 2e-4, 8e-4]\n",
    "source_indices = [-0.5, -2, -8]"
   ]
  },
  {
   "cell_type": "code",
   "execution_count": 35,
   "metadata": {},
   "outputs": [],
   "source": [
    "pointing_index = 1\n",
    "\n",
    "data_path_d = \"simulated_data/0374_const_bkg\"\n",
    "\n",
    "if not os.path.exists(f\"{data_path_d}\"):\n",
    "    os.mkdir(f\"{data_path_d}\")\n",
    "    \n",
    "with open(f\"./{data_path_d}/source_params.pickle\", \"wb\") as f:\n",
    "    pickle.dump((source_ra, source_dec, source_piv, source_Ks, source_indices), f)\n"
   ]
  },
  {
   "cell_type": "code",
   "execution_count": 36,
   "metadata": {},
   "outputs": [],
   "source": [
    "# Energy Bins\n",
    "with fits.open(f\"{data_path}/energy_boundaries.fits\") as file:\n",
    "    t = Table.read(file[1])\n",
    "    energy_bins = np.append(t[\"E_MIN\"], t[\"E_MAX\"][-1])\n",
    "    \n",
    "# Pointings and Start Times\n",
    "with fits.open(f\"{data_path}/pointing.fits\") as file:\n",
    "    t = Table.read(file[1])\n",
    "    \n",
    "    pointings = np.array(t[\"PTID_SPI\"])\n",
    "    \n",
    "    time_start = np.array(t[\"TSTART\"]) + 2451544.5\n",
    "    time_start = [at.Time(f\"{i}\", format=\"jd\").datetime for i in time_start]\n",
    "    time_start = np.array([datetime.strftime(i,'%y%m%d %H%M%S') for i in time_start])\n",
    "    \n",
    "# Time Elapsed\n",
    "# det=i, pointing_index=j : index = j*85 + i\n",
    "with fits.open(f\"{data_path}/dead_time.fits\") as file:\n",
    "    t = Table.read(file[1])\n",
    "    time_elapsed = np.array(t[\"LIVETIME\"])\n",
    "    \n",
    "updated_time = t.copy()\n",
    "    \n",
    "for i in range(int(len(time_elapsed) / 85)):\n",
    "    if i == pointing_index:\n",
    "        continue\n",
    "    else:\n",
    "        updated_time[i*85 : (i+1)*85] = updated_time[pointing_index*85 : (pointing_index+1)*85]"
   ]
  },
  {
   "cell_type": "code",
   "execution_count": 37,
   "metadata": {},
   "outputs": [],
   "source": [
    "# Only necessary for 1380\n",
    "skip_pointing = [False] * len(pointings)\n",
    "# skip_pointing[0] = True"
   ]
  },
  {
   "cell_type": "code",
   "execution_count": 38,
   "metadata": {},
   "outputs": [],
   "source": [
    "# Background\n",
    "\n",
    "with fits.open(f\"{data_path}/evts_det_spec_orig.fits\") as file:\n",
    "    t = Table.read(file[1])\n",
    "    \n",
    "background_counts = t.copy()\n",
    "\n",
    "for i in range(int(len(background_counts) / 85)):\n",
    "    if i == pointing_index:\n",
    "        continue\n",
    "    else:\n",
    "        background_counts[i*85 : (i+1)*85] = background_counts[pointing_index*85 : (pointing_index+1)*85]\n",
    "        \n",
    "background_counts[\"COUNTS\"] = np.random.poisson(background_counts[\"COUNTS\"])"
   ]
  },
  {
   "cell_type": "code",
   "execution_count": 39,
   "metadata": {},
   "outputs": [
    {
     "name": "stdout",
     "output_type": "stream",
     "text": [
      "Using the irfs that are valid between 04/07/17 08:20:06 and 09/02/19 09:59:57 (YY/MM/DD HH:MM:SS)\n"
     ]
    }
   ],
   "source": [
    "assert find_response_version(time_start[0]) == find_response_version(time_start[-1]), \"Versions not constant\"\n",
    "version = find_response_version(time_start[0])\n",
    "rsp_base = ResponseDataRMF.from_version(version)\n",
    "\n",
    "\n",
    "resp_mats = []\n",
    "emod = np.geomspace(10, 3000, 50)\n",
    "\n",
    "for p_i, pointing in enumerate(pointings):\n",
    "    if skip_pointing[p_i]:\n",
    "        continue\n",
    "    \n",
    "    time = time_start[p_i]\n",
    "    dets = get_live_dets(time=time, event_types=[\"single\"])\n",
    "    \n",
    "    rmfs = []\n",
    "    for d in dets:\n",
    "        rmfs.append(ResponseRMFGenerator.from_time(time, d, energy_bins, emod, rsp_base))\n",
    "        \n",
    "    sds = np.empty(0)\n",
    "    for d in range(len(dets)):\n",
    "        sd = SPIDRM(rmfs[d], source_ra, source_dec)\n",
    "        sds = np.append(sds, sd.matrix.T)\n",
    "    resp_mats.append(sds.reshape((len(dets), len(emod)-1, len(energy_bins)-1)))"
   ]
  },
  {
   "cell_type": "code",
   "execution_count": 40,
   "metadata": {},
   "outputs": [],
   "source": [
    "def calc_count_rates(resp_mats, ra, dec, piv, K, index):\n",
    "    pl = Powerlaw()\n",
    "    pl.piv = piv\n",
    "    pl.K = K\n",
    "    pl.index = index\n",
    "    component1 = SpectralComponent(\"pl\", shape=pl)\n",
    "    source = PointSource(\"Test\", ra=ra, dec=dec, components=[component1])\n",
    "    \n",
    "    spec = source(emod)\n",
    "    spec_binned = powerlaw_binned_spectrum(emod, spec)\n",
    "    \n",
    "    source_counts = np.zeros((len(pointings)*85, len(energy_bins)-1), dtype=np.uint32)\n",
    "    \n",
    "    for p_i, pointing in enumerate(pointings):\n",
    "        if skip_pointing[p_i]:\n",
    "            continue\n",
    "        \n",
    "        resp_mat = resp_mats[p_i]\n",
    "        \n",
    "        count_rates = np.dot(spec_binned, resp_mat)\n",
    "        \n",
    "        for d_i, d in enumerate(dets):\n",
    "            index = p_i * 85 + d\n",
    "            source_counts[index,:] = np.random.poisson(count_rates[d_i,:] * time_elapsed[pointing_index*85 + d])\n",
    "    \n",
    "    return source_counts"
   ]
  },
  {
   "cell_type": "code",
   "execution_count": 41,
   "metadata": {},
   "outputs": [],
   "source": [
    "for i in range(len(source_Ks)):\n",
    "    for j in range(len(source_indices)):\n",
    "        \n",
    "        temp_path = f\"{data_path_d}/{i}_{j}\"        \n",
    "        \n",
    "        if not os.path.exists(temp_path):\n",
    "            os.mkdir(temp_path)\n",
    "            \n",
    "        os.popen(f\"cp {data_path}/energy_boundaries.fits {temp_path}/energy_boundaries.fits\")\n",
    "        os.popen(f\"cp {data_path}/pointing.fits {temp_path}/pointing.fits\")\n",
    "\n",
    "                \n",
    "        hdu = fits.BinTableHDU(data=updated_time, name=\"SPI.-OBS.-DTI\") # is all of this correct?\n",
    "        hdu.writeto(f\"{temp_path}/dead_time.fits\")\n",
    "        \n",
    "        source_counts = calc_count_rates(resp_mats, source_ra, source_dec, source_piv, source_Ks[i], source_indices[j])\n",
    "        \n",
    "        total_counts = background_counts.copy()\n",
    "        total_counts[\"COUNTS\"] += source_counts\n",
    "                \n",
    "        hdu = fits.BinTableHDU(data=total_counts, name=\"SPI.-OBS.-DSP\")\n",
    "        hdu.writeto(f\"{temp_path}/evts_det_spec.fits\")"
   ]
  },
  {
   "cell_type": "code",
   "execution_count": null,
   "metadata": {},
   "outputs": [],
   "source": []
  },
  {
   "cell_type": "code",
   "execution_count": null,
   "metadata": {},
   "outputs": [],
   "source": [
    "# second source"
   ]
  },
  {
   "cell_type": "code",
   "execution_count": 2,
   "metadata": {},
   "outputs": [],
   "source": [
    "data_path = \"crab_data/0374\"\n",
    "# data_path = \"crab_data/1380\""
   ]
  },
  {
   "cell_type": "code",
   "execution_count": 3,
   "metadata": {},
   "outputs": [],
   "source": [
    "# primary\n",
    "\n",
    "source_ra, source_dec = 10, -40\n",
    "source_piv = 200.\n",
    "source_K = 1e-4\n",
    "source_index = -2\n",
    "\n",
    "# secondary\n",
    "s_source_decs = [-40, -40.5, -41.5, -45, -65, -85]\n",
    "s_source_Ks = [0.1e-4, 0.3e-4, 1e-4]\n",
    "s_source_index = -3"
   ]
  },
  {
   "cell_type": "code",
   "execution_count": 4,
   "metadata": {},
   "outputs": [],
   "source": [
    "pointing_index = 1\n",
    "# pointing_index = 4\n",
    "\n",
    "\n",
    "data_path_d = \"simulated_data/0374_const_bkg_sec_source_i_3\"\n",
    "# data_path_d = \"simulated_data/1380_const_bkg_sec_source\"\n",
    "\n",
    "\n",
    "if not os.path.exists(f\"{data_path_d}\"):\n",
    "    os.mkdir(f\"{data_path_d}\")\n",
    "    \n",
    "with open(f\"./{data_path_d}/source_params.pickle\", \"wb\") as f:\n",
    "    pickle.dump((source_ra, source_dec, source_piv, source_K, source_index, s_source_decs, s_source_Ks, s_source_index), f)\n"
   ]
  },
  {
   "cell_type": "code",
   "execution_count": 5,
   "metadata": {},
   "outputs": [],
   "source": [
    "# Energy Bins\n",
    "with fits.open(f\"{data_path}/energy_boundaries.fits\") as file:\n",
    "    t = Table.read(file[1])\n",
    "    energy_bins = np.append(t[\"E_MIN\"], t[\"E_MAX\"][-1])\n",
    "    \n",
    "# Pointings and Start Times\n",
    "with fits.open(f\"{data_path}/pointing.fits\") as file:\n",
    "    t = Table.read(file[1])\n",
    "    \n",
    "    pointings = np.array(t[\"PTID_SPI\"])\n",
    "    \n",
    "    time_start = np.array(t[\"TSTART\"]) + 2451544.5\n",
    "    time_start = [at.Time(f\"{i}\", format=\"jd\").datetime for i in time_start]\n",
    "    time_start = np.array([datetime.strftime(i,'%y%m%d %H%M%S') for i in time_start])\n",
    "    \n",
    "# Time Elapsed\n",
    "# det=i, pointing_index=j : index = j*85 + i\n",
    "with fits.open(f\"{data_path}/dead_time.fits\") as file:\n",
    "    t = Table.read(file[1])\n",
    "    time_elapsed = np.array(t[\"LIVETIME\"])\n",
    "    \n",
    "updated_time = t.copy()\n",
    "    \n",
    "for i in range(int(len(time_elapsed) / 85)):\n",
    "    if i == pointing_index:\n",
    "        continue\n",
    "    else:\n",
    "        updated_time[i*85 : (i+1)*85] = updated_time[pointing_index*85 : (pointing_index+1)*85]"
   ]
  },
  {
   "cell_type": "code",
   "execution_count": 6,
   "metadata": {},
   "outputs": [],
   "source": [
    "# Only necessary for 1380\n",
    "skip_pointing = [False] * len(pointings)\n",
    "# skip_pointing[0] = True"
   ]
  },
  {
   "cell_type": "code",
   "execution_count": 7,
   "metadata": {},
   "outputs": [],
   "source": [
    "# Background\n",
    "\n",
    "with fits.open(f\"{data_path}/evts_det_spec_orig.fits\") as file:\n",
    "    t = Table.read(file[1])\n",
    "    \n",
    "background_counts = t.copy()\n",
    "\n",
    "for i in range(int(len(background_counts) / 85)):\n",
    "    if i == pointing_index:\n",
    "        continue\n",
    "    else:\n",
    "        background_counts[i*85 : (i+1)*85] = background_counts[pointing_index*85 : (pointing_index+1)*85]\n",
    "        \n",
    "background_counts[\"COUNTS\"] = np.random.poisson(background_counts[\"COUNTS\"])"
   ]
  },
  {
   "cell_type": "code",
   "execution_count": 8,
   "metadata": {},
   "outputs": [
    {
     "name": "stdout",
     "output_type": "stream",
     "text": [
      "Using the irfs that are valid between 04/07/17 08:20:06 and 09/02/19 09:59:57 (YY/MM/DD HH:MM:SS)\n"
     ]
    }
   ],
   "source": [
    "assert find_response_version(time_start[0]) == find_response_version(time_start[-1]), \"Versions not constant\"\n",
    "version = find_response_version(time_start[0])\n",
    "rsp_base = ResponseDataRMF.from_version(version)\n",
    "\n",
    "\n",
    "resp_mats = []\n",
    "emod = np.geomspace(10, 3000, 50)\n",
    "\n",
    "for p_i, pointing in enumerate(pointings):\n",
    "    if skip_pointing[p_i]:\n",
    "        continue\n",
    "    \n",
    "    time = time_start[p_i]\n",
    "    dets = get_live_dets(time=time, event_types=[\"single\"])\n",
    "    \n",
    "    rmfs = []\n",
    "    for d in dets:\n",
    "        rmfs.append(ResponseRMFGenerator.from_time(time, d, energy_bins, emod, rsp_base))\n",
    "        \n",
    "    sds = np.empty(0)\n",
    "    for d in range(len(dets)):\n",
    "        sd = SPIDRM(rmfs[d], source_ra, source_dec)\n",
    "        sds = np.append(sds, sd.matrix.T)\n",
    "    resp_mats.append(sds.reshape((len(dets), len(emod)-1, len(energy_bins)-1)))"
   ]
  },
  {
   "cell_type": "code",
   "execution_count": 12,
   "metadata": {},
   "outputs": [],
   "source": [
    "s_resp_mats = []\n",
    "\n",
    "for i in range(len(s_source_decs)):\n",
    "    t_resp_mats = []\n",
    "    for p_i, pointing in enumerate(pointings):\n",
    "        if skip_pointing[p_i]:\n",
    "            continue\n",
    "        \n",
    "        time = time_start[p_i]\n",
    "        dets = get_live_dets(time=time, event_types=[\"single\"])\n",
    "        \n",
    "        rmfs = []\n",
    "        for d in dets:\n",
    "            rmfs.append(ResponseRMFGenerator.from_time(time, d, energy_bins, emod, rsp_base))\n",
    "            \n",
    "        sds = np.empty(0)\n",
    "        for d in range(len(dets)):\n",
    "            sd = SPIDRM(rmfs[d], source_ra, s_source_decs[i])\n",
    "            sds = np.append(sds, sd.matrix.T)\n",
    "        t_resp_mats.append(sds.reshape((len(dets), len(emod)-1, len(energy_bins)-1)))\n",
    "    s_resp_mats.append(t_resp_mats)"
   ]
  },
  {
   "cell_type": "code",
   "execution_count": 13,
   "metadata": {},
   "outputs": [],
   "source": [
    "def calc_count_rates_sec(resp_mats, ra, dec, piv, K, index, s_resp_mats, s_dec, s_K, s_index):\n",
    "    pl = Powerlaw()\n",
    "    pl.piv = piv\n",
    "    pl.K = K\n",
    "    pl.index = index\n",
    "    component1 = SpectralComponent(\"pl\", shape=pl)\n",
    "    source = PointSource(\"Test\", ra=ra, dec=dec, components=[component1])\n",
    "    \n",
    "    spec = source(emod)\n",
    "    spec_binned = powerlaw_binned_spectrum(emod, spec)\n",
    "    \n",
    "    s_pl = Powerlaw()\n",
    "    s_pl.piv = piv\n",
    "    s_pl.K = s_K\n",
    "    s_pl.index = s_index\n",
    "    component1 = SpectralComponent(\"pl\", shape=s_pl)\n",
    "    s_source = PointSource(\"Test\", ra=ra, dec=s_dec, components=[component1])\n",
    "    \n",
    "    s_spec = s_source(emod)\n",
    "    s_spec_binned = powerlaw_binned_spectrum(emod, s_spec)\n",
    "    \n",
    "    source_counts = np.zeros((len(pointings)*85, len(energy_bins)-1))\n",
    "    \n",
    "    s_source_counts = np.zeros((len(pointings)*85, len(energy_bins)-1))\n",
    "        \n",
    "    for p_i, pointing in enumerate(pointings):\n",
    "        if skip_pointing[p_i]:\n",
    "            continue\n",
    "        \n",
    "        resp_mat = resp_mats[p_i]\n",
    "        \n",
    "        count_rates = np.dot(spec_binned, resp_mat)\n",
    "                \n",
    "        for d_i, d in enumerate(dets):\n",
    "            index = p_i * 85 + d\n",
    "            source_counts[index,:] = np.random.poisson(count_rates[d_i,:] * time_elapsed[pointing_index*85 + d])\n",
    "                        \n",
    "        s_resp_mat = s_resp_mats[p_i]\n",
    "        \n",
    "        s_count_rates = np.dot(s_spec_binned, s_resp_mat)\n",
    "                    \n",
    "        for d_i, d in enumerate(dets):\n",
    "            index = p_i * 85 + d\n",
    "            s_source_counts[index,:] = np.random.poisson(s_count_rates[d_i,:] * time_elapsed[pointing_index*85 + d])\n",
    "            \n",
    "    total_source_counts = source_counts + s_source_counts\n",
    "    \n",
    "    return total_source_counts"
   ]
  },
  {
   "cell_type": "code",
   "execution_count": 18,
   "metadata": {},
   "outputs": [],
   "source": [
    "for i in range(len(s_source_decs)):\n",
    "    for j in range(len(s_source_Ks)):\n",
    "        \n",
    "        temp_path = f\"{data_path_d}/{i}_{j}\"        \n",
    "        \n",
    "        if not os.path.exists(temp_path):\n",
    "            os.mkdir(temp_path)\n",
    "            \n",
    "        os.popen(f\"cp {data_path}/energy_boundaries.fits {temp_path}/energy_boundaries.fits\")\n",
    "        os.popen(f\"cp {data_path}/pointing.fits {temp_path}/pointing.fits\")\n",
    "\n",
    "                \n",
    "        hdu = fits.BinTableHDU(data=updated_time, name=\"SPI.-OBS.-DTI\") # is all of this correct?\n",
    "        hdu.writeto(f\"{temp_path}/dead_time.fits\")\n",
    "        \n",
    "        source_counts = calc_count_rates_sec(resp_mats, source_ra, source_dec, source_piv, source_K, source_index, s_resp_mats[i], s_source_decs[i], s_source_Ks[j], s_source_index)\n",
    "        \n",
    "        total_counts = background_counts.copy()\n",
    "        total_counts[\"COUNTS\"] = source_counts + total_counts[\"COUNTS\"]\n",
    "                \n",
    "        hdu = fits.BinTableHDU(data=total_counts, name=\"SPI.-OBS.-DSP\")\n",
    "        hdu.writeto(f\"{temp_path}/evts_det_spec.fits\")"
   ]
  },
  {
   "cell_type": "code",
   "execution_count": null,
   "metadata": {},
   "outputs": [],
   "source": []
  },
  {
   "cell_type": "code",
   "execution_count": null,
   "metadata": {},
   "outputs": [],
   "source": []
  },
  {
   "cell_type": "code",
   "execution_count": 2,
   "metadata": {},
   "outputs": [],
   "source": [
    "# energy ranges\n",
    "\n",
    "data_path = \"crab_data/0374\""
   ]
  },
  {
   "cell_type": "code",
   "execution_count": 4,
   "metadata": {},
   "outputs": [],
   "source": [
    "source_ra, source_dec = 10, -40\n",
    "source_piv = 200.\n",
    "source_K = 1e-4\n",
    "source_index = -2\n",
    "\n",
    "energy_ranges = [(None, 80),\n",
    "                 (None, 200),\n",
    "                 (None, 1000),\n",
    "                 (None, None),\n",
    "                 (80, None),\n",
    "                 (200, None),\n",
    "                 (1000, None)]"
   ]
  },
  {
   "cell_type": "code",
   "execution_count": 5,
   "metadata": {},
   "outputs": [],
   "source": [
    "pointing_index = 1\n",
    "\n",
    "data_path_d = \"simulated_data/0374_const_bkg_energy_ranges\"\n",
    "\n",
    "if not os.path.exists(f\"{data_path_d}\"):\n",
    "    os.mkdir(f\"{data_path_d}\")\n",
    "    \n",
    "with open(f\"./{data_path_d}/source_params.pickle\", \"wb\") as f:\n",
    "    pickle.dump((source_ra, source_dec, source_piv, source_K, source_index, energy_ranges), f)\n"
   ]
  },
  {
   "cell_type": "code",
   "execution_count": 6,
   "metadata": {},
   "outputs": [],
   "source": [
    "# Energy Bins\n",
    "with fits.open(f\"{data_path}/energy_boundaries.fits\") as file:\n",
    "    t = Table.read(file[1])\n",
    "    energy_bins = np.append(t[\"E_MIN\"], t[\"E_MAX\"][-1])\n",
    "    \n",
    "# Pointings and Start Times\n",
    "with fits.open(f\"{data_path}/pointing.fits\") as file:\n",
    "    t = Table.read(file[1])\n",
    "    \n",
    "    pointings = np.array(t[\"PTID_SPI\"])\n",
    "    \n",
    "    time_start = np.array(t[\"TSTART\"]) + 2451544.5\n",
    "    time_start = [at.Time(f\"{i}\", format=\"jd\").datetime for i in time_start]\n",
    "    time_start = np.array([datetime.strftime(i,'%y%m%d %H%M%S') for i in time_start])\n",
    "    \n",
    "# Time Elapsed\n",
    "# det=i, pointing_index=j : index = j*85 + i\n",
    "with fits.open(f\"{data_path}/dead_time.fits\") as file:\n",
    "    t = Table.read(file[1])\n",
    "    time_elapsed = np.array(t[\"LIVETIME\"])\n",
    "    \n",
    "updated_time = t.copy()\n",
    "    \n",
    "for i in range(int(len(time_elapsed) / 85)):\n",
    "    if i == pointing_index:\n",
    "        continue\n",
    "    else:\n",
    "        updated_time[i*85 : (i+1)*85] = updated_time[pointing_index*85 : (pointing_index+1)*85]"
   ]
  },
  {
   "cell_type": "code",
   "execution_count": 7,
   "metadata": {},
   "outputs": [],
   "source": [
    "# Only necessary for 1380\n",
    "skip_pointing = [False] * len(pointings)\n",
    "# skip_pointing[0] = True"
   ]
  },
  {
   "cell_type": "code",
   "execution_count": 8,
   "metadata": {},
   "outputs": [],
   "source": [
    "# Background\n",
    "\n",
    "with fits.open(f\"{data_path}/evts_det_spec_orig.fits\") as file:\n",
    "    t = Table.read(file[1])\n",
    "    \n",
    "background_counts = t.copy()\n",
    "\n",
    "for i in range(int(len(background_counts) / 85)):\n",
    "    if i == pointing_index:\n",
    "        continue\n",
    "    else:\n",
    "        background_counts[i*85 : (i+1)*85] = background_counts[pointing_index*85 : (pointing_index+1)*85]\n",
    "        \n",
    "background_counts[\"COUNTS\"] = np.random.poisson(background_counts[\"COUNTS\"])"
   ]
  },
  {
   "cell_type": "code",
   "execution_count": 9,
   "metadata": {},
   "outputs": [
    {
     "name": "stdout",
     "output_type": "stream",
     "text": [
      "Using the irfs that are valid between 04/07/17 08:20:06 and 09/02/19 09:59:57 (YY/MM/DD HH:MM:SS)\n"
     ]
    }
   ],
   "source": [
    "assert find_response_version(time_start[0]) == find_response_version(time_start[-1]), \"Versions not constant\"\n",
    "version = find_response_version(time_start[0])\n",
    "rsp_base = ResponseDataRMF.from_version(version)\n",
    "\n",
    "\n",
    "resp_mats = []\n",
    "emod = np.geomspace(10, 3000, 50)\n",
    "\n",
    "for p_i, pointing in enumerate(pointings):\n",
    "    if skip_pointing[p_i]:\n",
    "        continue\n",
    "    \n",
    "    time = time_start[p_i]\n",
    "    dets = get_live_dets(time=time, event_types=[\"single\"])\n",
    "    \n",
    "    rmfs = []\n",
    "    for d in dets:\n",
    "        rmfs.append(ResponseRMFGenerator.from_time(time, d, energy_bins, emod, rsp_base))\n",
    "        \n",
    "    sds = np.empty(0)\n",
    "    for d in range(len(dets)):\n",
    "        sd = SPIDRM(rmfs[d], source_ra, source_dec)\n",
    "        sds = np.append(sds, sd.matrix.T)\n",
    "    resp_mats.append(sds.reshape((len(dets), len(emod)-1, len(energy_bins)-1)))"
   ]
  },
  {
   "cell_type": "code",
   "execution_count": 9,
   "metadata": {},
   "outputs": [],
   "source": [
    "def calc_count_rates(resp_mats, ra, dec, piv, K, index):\n",
    "    pl = Powerlaw()\n",
    "    pl.piv = piv\n",
    "    pl.K = K\n",
    "    pl.index = index\n",
    "    component1 = SpectralComponent(\"pl\", shape=pl)\n",
    "    source = PointSource(\"Test\", ra=ra, dec=dec, components=[component1])\n",
    "    \n",
    "    spec = source(emod)\n",
    "    spec_binned = powerlaw_binned_spectrum(emod, spec)\n",
    "    \n",
    "    source_counts = np.zeros((len(pointings)*85, len(energy_bins)-1), dtype=np.uint32)\n",
    "    \n",
    "    for p_i, pointing in enumerate(pointings):\n",
    "        if skip_pointing[p_i]:\n",
    "            continue\n",
    "        \n",
    "        resp_mat = resp_mats[p_i]\n",
    "        \n",
    "        count_rates = np.dot(spec_binned, resp_mat)\n",
    "        \n",
    "        for d_i, d in enumerate(dets):\n",
    "            index = p_i * 85 + d\n",
    "            source_counts[index,:] = np.random.poisson(count_rates[d_i,:] * time_elapsed[pointing_index*85 + d])\n",
    "    \n",
    "    return source_counts"
   ]
  },
  {
   "cell_type": "code",
   "execution_count": 10,
   "metadata": {},
   "outputs": [],
   "source": [
    "\n",
    "        \n",
    "temp_path = f\"{data_path_d}\"        \n",
    "\n",
    "if not os.path.exists(temp_path):\n",
    "    os.mkdir(temp_path)\n",
    "    \n",
    "os.popen(f\"cp {data_path}/energy_boundaries.fits {temp_path}/energy_boundaries.fits\")\n",
    "os.popen(f\"cp {data_path}/pointing.fits {temp_path}/pointing.fits\")\n",
    "\n",
    "        \n",
    "hdu = fits.BinTableHDU(data=updated_time, name=\"SPI.-OBS.-DTI\") # is all of this correct?\n",
    "hdu.writeto(f\"{temp_path}/dead_time.fits\")\n",
    "\n",
    "source_counts = calc_count_rates(resp_mats, source_ra, source_dec, source_piv, source_K, source_index)\n",
    "\n",
    "total_counts = background_counts.copy()\n",
    "total_counts[\"COUNTS\"] += source_counts\n",
    "        \n",
    "hdu = fits.BinTableHDU(data=total_counts, name=\"SPI.-OBS.-DSP\")\n",
    "hdu.writeto(f\"{temp_path}/evts_det_spec.fits\")"
   ]
  },
  {
   "cell_type": "code",
   "execution_count": null,
   "metadata": {},
   "outputs": [],
   "source": []
  },
  {
   "cell_type": "code",
   "execution_count": 2,
   "metadata": {},
   "outputs": [],
   "source": [
    "# identical repeats\n",
    "\n",
    "data_path = \"crab_data/0374\""
   ]
  },
  {
   "cell_type": "code",
   "execution_count": 3,
   "metadata": {},
   "outputs": [],
   "source": [
    "source_ra, source_dec = 10, -40\n",
    "source_piv = 200.\n",
    "source_K = 1e-4\n",
    "source_index = -2"
   ]
  },
  {
   "cell_type": "code",
   "execution_count": 5,
   "metadata": {},
   "outputs": [],
   "source": [
    "pointing_index = 1\n",
    "\n",
    "data_path_d = \"simulated_data/0374_const_bkg_identical\"\n",
    "\n",
    "if not os.path.exists(f\"{data_path_d}\"):\n",
    "    os.mkdir(f\"{data_path_d}\")\n",
    "    \n",
    "with open(f\"./{data_path_d}/source_params.pickle\", \"wb\") as f:\n",
    "    pickle.dump((source_ra, source_dec, source_piv, source_K, source_index), f)\n"
   ]
  },
  {
   "cell_type": "code",
   "execution_count": 6,
   "metadata": {},
   "outputs": [],
   "source": [
    "# Energy Bins\n",
    "with fits.open(f\"{data_path}/energy_boundaries.fits\") as file:\n",
    "    t = Table.read(file[1])\n",
    "    energy_bins = np.append(t[\"E_MIN\"], t[\"E_MAX\"][-1])\n",
    "    \n",
    "# Pointings and Start Times\n",
    "with fits.open(f\"{data_path}/pointing.fits\") as file:\n",
    "    t = Table.read(file[1])\n",
    "    \n",
    "    pointings = np.array(t[\"PTID_SPI\"])\n",
    "    \n",
    "    time_start = np.array(t[\"TSTART\"]) + 2451544.5\n",
    "    time_start = [at.Time(f\"{i}\", format=\"jd\").datetime for i in time_start]\n",
    "    time_start = np.array([datetime.strftime(i,'%y%m%d %H%M%S') for i in time_start])\n",
    "    \n",
    "# Time Elapsed\n",
    "# det=i, pointing_index=j : index = j*85 + i\n",
    "with fits.open(f\"{data_path}/dead_time.fits\") as file:\n",
    "    t = Table.read(file[1])\n",
    "    time_elapsed = np.array(t[\"LIVETIME\"])\n",
    "    \n",
    "updated_time = t.copy()\n",
    "    \n",
    "for i in range(int(len(time_elapsed) / 85)):\n",
    "    if i == pointing_index:\n",
    "        continue\n",
    "    else:\n",
    "        updated_time[i*85 : (i+1)*85] = updated_time[pointing_index*85 : (pointing_index+1)*85]"
   ]
  },
  {
   "cell_type": "code",
   "execution_count": 7,
   "metadata": {},
   "outputs": [],
   "source": [
    "# Only necessary for 1380\n",
    "skip_pointing = [False] * len(pointings)\n",
    "# skip_pointing[0] = True"
   ]
  },
  {
   "cell_type": "code",
   "execution_count": 8,
   "metadata": {},
   "outputs": [],
   "source": [
    "# Background\n",
    "\n",
    "with fits.open(f\"{data_path}/evts_det_spec_orig.fits\") as file:\n",
    "    t = Table.read(file[1])\n",
    "    \n",
    "background_counts = t.copy()\n",
    "\n",
    "for i in range(int(len(background_counts) / 85)):\n",
    "    if i == pointing_index:\n",
    "        continue\n",
    "    else:\n",
    "        background_counts[i*85 : (i+1)*85] = background_counts[pointing_index*85 : (pointing_index+1)*85]\n",
    "        \n",
    "background_counts[\"COUNTS\"] = np.random.poisson(background_counts[\"COUNTS\"])"
   ]
  },
  {
   "cell_type": "code",
   "execution_count": 9,
   "metadata": {},
   "outputs": [
    {
     "name": "stdout",
     "output_type": "stream",
     "text": [
      "Using the irfs that are valid between 04/07/17 08:20:06 and 09/02/19 09:59:57 (YY/MM/DD HH:MM:SS)\n"
     ]
    }
   ],
   "source": [
    "assert find_response_version(time_start[0]) == find_response_version(time_start[-1]), \"Versions not constant\"\n",
    "version = find_response_version(time_start[0])\n",
    "rsp_base = ResponseDataRMF.from_version(version)\n",
    "\n",
    "\n",
    "resp_mats = []\n",
    "emod = np.geomspace(10, 3000, 50)\n",
    "\n",
    "for p_i, pointing in enumerate(pointings):\n",
    "    if skip_pointing[p_i]:\n",
    "        continue\n",
    "    \n",
    "    time = time_start[p_i]\n",
    "    dets = get_live_dets(time=time, event_types=[\"single\"])\n",
    "    \n",
    "    rmfs = []\n",
    "    for d in dets:\n",
    "        rmfs.append(ResponseRMFGenerator.from_time(time, d, energy_bins, emod, rsp_base))\n",
    "        \n",
    "    sds = np.empty(0)\n",
    "    for d in range(len(dets)):\n",
    "        sd = SPIDRM(rmfs[d], source_ra, source_dec)\n",
    "        sds = np.append(sds, sd.matrix.T)\n",
    "    resp_mats.append(sds.reshape((len(dets), len(emod)-1, len(energy_bins)-1)))"
   ]
  },
  {
   "cell_type": "code",
   "execution_count": 10,
   "metadata": {},
   "outputs": [],
   "source": [
    "def calc_count_rates(resp_mats, ra, dec, piv, K, index):\n",
    "    pl = Powerlaw()\n",
    "    pl.piv = piv\n",
    "    pl.K = K\n",
    "    pl.index = index\n",
    "    component1 = SpectralComponent(\"pl\", shape=pl)\n",
    "    source = PointSource(\"Test\", ra=ra, dec=dec, components=[component1])\n",
    "    \n",
    "    spec = source(emod)\n",
    "    spec_binned = powerlaw_binned_spectrum(emod, spec)\n",
    "    \n",
    "    source_counts = np.zeros((len(pointings)*85, len(energy_bins)-1), dtype=np.uint32)\n",
    "    \n",
    "    for p_i, pointing in enumerate(pointings):\n",
    "        if skip_pointing[p_i]:\n",
    "            continue\n",
    "        \n",
    "        resp_mat = resp_mats[p_i]\n",
    "        \n",
    "        count_rates = np.dot(spec_binned, resp_mat)\n",
    "        \n",
    "        for d_i, d in enumerate(dets):\n",
    "            index = p_i * 85 + d\n",
    "            source_counts[index,:] = np.random.poisson(count_rates[d_i,:] * time_elapsed[pointing_index*85 + d])\n",
    "    \n",
    "    return source_counts"
   ]
  },
  {
   "cell_type": "code",
   "execution_count": 11,
   "metadata": {},
   "outputs": [],
   "source": [
    "\n",
    "        \n",
    "temp_path = f\"{data_path_d}\"        \n",
    "\n",
    "if not os.path.exists(temp_path):\n",
    "    os.mkdir(temp_path)\n",
    "    \n",
    "os.popen(f\"cp {data_path}/energy_boundaries.fits {temp_path}/energy_boundaries.fits\")\n",
    "os.popen(f\"cp {data_path}/pointing.fits {temp_path}/pointing.fits\")\n",
    "\n",
    "        \n",
    "hdu = fits.BinTableHDU(data=updated_time, name=\"SPI.-OBS.-DTI\") # is all of this correct?\n",
    "hdu.writeto(f\"{temp_path}/dead_time.fits\")\n",
    "\n",
    "source_counts = calc_count_rates(resp_mats, source_ra, source_dec, source_piv, source_K, source_index)\n",
    "\n",
    "total_counts = background_counts.copy()\n",
    "total_counts[\"COUNTS\"] += source_counts\n",
    "        \n",
    "hdu = fits.BinTableHDU(data=total_counts, name=\"SPI.-OBS.-DSP\")\n",
    "hdu.writeto(f\"{temp_path}/evts_det_spec.fits\")"
   ]
  },
  {
   "cell_type": "code",
   "execution_count": null,
   "metadata": {},
   "outputs": [],
   "source": []
  },
  {
   "cell_type": "code",
   "execution_count": 2,
   "metadata": {},
   "outputs": [],
   "source": [
    "# number of energy bins\n",
    "\n",
    "data_path = \"crab_data/0374\""
   ]
  },
  {
   "cell_type": "code",
   "execution_count": 3,
   "metadata": {},
   "outputs": [],
   "source": [
    "source_ra, source_dec = 10, -40\n",
    "source_piv = 200.\n",
    "source_K = 1e-4\n",
    "source_index = -2\n",
    "\n",
    "bin_number = [5, 25, 125, 600]"
   ]
  },
  {
   "cell_type": "code",
   "execution_count": 4,
   "metadata": {},
   "outputs": [],
   "source": [
    "pointing_index = 1\n",
    "\n",
    "data_path_d = \"simulated_data/0374_const_bkg_number_of_e_bins\"\n",
    "\n",
    "if not os.path.exists(f\"{data_path_d}\"):\n",
    "    os.mkdir(f\"{data_path_d}\")\n",
    "    \n",
    "with open(f\"./{data_path_d}/source_params.pickle\", \"wb\") as f:\n",
    "    pickle.dump((source_ra, source_dec, source_piv, source_K, source_index, bin_number), f)\n"
   ]
  },
  {
   "cell_type": "code",
   "execution_count": 5,
   "metadata": {},
   "outputs": [],
   "source": [
    "# Energy Bins\n",
    "with fits.open(f\"{data_path}/energy_boundaries.fits\") as file:\n",
    "    t = Table.read(file[1])\n",
    "    energy_bins = np.append(t[\"E_MIN\"], t[\"E_MAX\"][-1])\n",
    "    \n",
    "# Pointings and Start Times\n",
    "with fits.open(f\"{data_path}/pointing.fits\") as file:\n",
    "    t = Table.read(file[1])\n",
    "    \n",
    "    pointings = np.array(t[\"PTID_SPI\"])\n",
    "    \n",
    "    time_start = np.array(t[\"TSTART\"]) + 2451544.5\n",
    "    time_start = [at.Time(f\"{i}\", format=\"jd\").datetime for i in time_start]\n",
    "    time_start = np.array([datetime.strftime(i,'%y%m%d %H%M%S') for i in time_start])\n",
    "    \n",
    "# Time Elapsed\n",
    "# det=i, pointing_index=j : index = j*85 + i\n",
    "with fits.open(f\"{data_path}/dead_time.fits\") as file:\n",
    "    t = Table.read(file[1])\n",
    "    time_elapsed = np.array(t[\"LIVETIME\"])\n",
    "    \n",
    "updated_time = t.copy()\n",
    "    \n",
    "for i in range(int(len(time_elapsed) / 85)):\n",
    "    if i == pointing_index:\n",
    "        continue\n",
    "    else:\n",
    "        updated_time[i*85 : (i+1)*85] = updated_time[pointing_index*85 : (pointing_index+1)*85]"
   ]
  },
  {
   "cell_type": "code",
   "execution_count": 6,
   "metadata": {},
   "outputs": [],
   "source": [
    "# Only necessary for 1380\n",
    "skip_pointing = [False] * len(pointings)\n",
    "# skip_pointing[0] = True"
   ]
  },
  {
   "cell_type": "code",
   "execution_count": 7,
   "metadata": {},
   "outputs": [],
   "source": [
    "# Background\n",
    "\n",
    "with fits.open(f\"{data_path}/evts_det_spec_orig.fits\") as file:\n",
    "    t = Table.read(file[1])\n",
    "    \n",
    "background_counts = t.copy()\n",
    "\n",
    "for i in range(int(len(background_counts) / 85)):\n",
    "    if i == pointing_index:\n",
    "        continue\n",
    "    else:\n",
    "        background_counts[i*85 : (i+1)*85] = background_counts[pointing_index*85 : (pointing_index+1)*85]\n",
    "        \n",
    "background_counts[\"COUNTS\"] = np.random.poisson(background_counts[\"COUNTS\"])"
   ]
  },
  {
   "cell_type": "code",
   "execution_count": 8,
   "metadata": {},
   "outputs": [
    {
     "name": "stdout",
     "output_type": "stream",
     "text": [
      "Using the irfs that are valid between 04/07/17 08:20:06 and 09/02/19 09:59:57 (YY/MM/DD HH:MM:SS)\n"
     ]
    }
   ],
   "source": [
    "assert find_response_version(time_start[0]) == find_response_version(time_start[-1]), \"Versions not constant\"\n",
    "version = find_response_version(time_start[0])\n",
    "rsp_base = ResponseDataRMF.from_version(version)\n",
    "\n",
    "\n",
    "resp_mats = []\n",
    "emod = np.geomspace(10, 3000, 50)\n",
    "\n",
    "for p_i, pointing in enumerate(pointings):\n",
    "    if skip_pointing[p_i]:\n",
    "        continue\n",
    "    \n",
    "    time = time_start[p_i]\n",
    "    dets = get_live_dets(time=time, event_types=[\"single\"])\n",
    "    \n",
    "    rmfs = []\n",
    "    for d in dets:\n",
    "        rmfs.append(ResponseRMFGenerator.from_time(time, d, energy_bins, emod, rsp_base))\n",
    "        \n",
    "    sds = np.empty(0)\n",
    "    for d in range(len(dets)):\n",
    "        sd = SPIDRM(rmfs[d], source_ra, source_dec)\n",
    "        sds = np.append(sds, sd.matrix.T)\n",
    "    resp_mats.append(sds.reshape((len(dets), len(emod)-1, len(energy_bins)-1)))"
   ]
  },
  {
   "cell_type": "code",
   "execution_count": null,
   "metadata": {},
   "outputs": [],
   "source": [
    "def calc_count_rates(resp_mats, ra, dec, piv, K, index):\n",
    "    pl = Powerlaw()\n",
    "    pl.piv = piv\n",
    "    pl.K = K\n",
    "    pl.index = index\n",
    "    component1 = SpectralComponent(\"pl\", shape=pl)\n",
    "    source = PointSource(\"Test\", ra=ra, dec=dec, components=[component1])\n",
    "    \n",
    "    spec = source(emod)\n",
    "    spec_binned = powerlaw_binned_spectrum(emod, spec)\n",
    "    \n",
    "    source_counts = np.zeros((len(pointings)*85, len(energy_bins)-1), dtype=np.uint32)\n",
    "    \n",
    "    for p_i, pointing in enumerate(pointings):\n",
    "        if skip_pointing[p_i]:\n",
    "            continue\n",
    "        \n",
    "        resp_mat = resp_mats[p_i]\n",
    "        \n",
    "        count_rates = np.dot(spec_binned, resp_mat)\n",
    "        \n",
    "        for d_i, d in enumerate(dets):\n",
    "            index = p_i * 85 + d\n",
    "            source_counts[index,:] = np.random.poisson(count_rates[d_i,:] * time_elapsed[pointing_index*85 + d])\n",
    "    \n",
    "    return source_counts"
   ]
  },
  {
   "cell_type": "code",
   "execution_count": null,
   "metadata": {},
   "outputs": [],
   "source": [
    "\n",
    "        \n",
    "temp_path = f\"{data_path_d}\"        \n",
    "\n",
    "if not os.path.exists(temp_path):\n",
    "    os.mkdir(temp_path)\n",
    "    \n",
    "os.popen(f\"cp {data_path}/energy_boundaries.fits {temp_path}/energy_boundaries.fits\")\n",
    "os.popen(f\"cp {data_path}/pointing.fits {temp_path}/pointing.fits\")\n",
    "\n",
    "        \n",
    "hdu = fits.BinTableHDU(data=updated_time, name=\"SPI.-OBS.-DTI\") # is all of this correct?\n",
    "hdu.writeto(f\"{temp_path}/dead_time.fits\")\n",
    "\n",
    "source_counts = calc_count_rates(resp_mats, source_ra, source_dec, source_piv, source_K, source_index)\n",
    "\n",
    "total_counts = background_counts.copy()\n",
    "total_counts[\"COUNTS\"] += source_counts\n",
    "        \n",
    "hdu = fits.BinTableHDU(data=total_counts, name=\"SPI.-OBS.-DSP\")\n",
    "hdu.writeto(f\"{temp_path}/evts_det_spec.fits\")"
   ]
  },
  {
   "cell_type": "code",
   "execution_count": null,
   "metadata": {},
   "outputs": [],
   "source": []
  },
  {
   "cell_type": "code",
   "execution_count": null,
   "metadata": {},
   "outputs": [],
   "source": []
  },
  {
   "cell_type": "code",
   "execution_count": 2,
   "metadata": {},
   "outputs": [],
   "source": [
    "# length of SCWs\n",
    "\n",
    "data_path = \"crab_data/0374\""
   ]
  },
  {
   "cell_type": "code",
   "execution_count": 3,
   "metadata": {},
   "outputs": [],
   "source": [
    "source_ra, source_dec = 10, -40\n",
    "source_piv = 200.\n",
    "source_K = 1e-4\n",
    "source_index = -2\n",
    "\n",
    "time_fraction = [1, 0.3, 0.1]"
   ]
  },
  {
   "cell_type": "code",
   "execution_count": 4,
   "metadata": {},
   "outputs": [],
   "source": [
    "pointing_index = 1\n",
    "\n",
    "data_path_d = \"simulated_data/0374_const_bkg_scaled_time_or_pairs\"\n",
    "\n",
    "if not os.path.exists(f\"{data_path_d}\"):\n",
    "    os.mkdir(f\"{data_path_d}\")\n",
    "    \n",
    "with open(f\"./{data_path_d}/source_params.pickle\", \"wb\") as f:\n",
    "    pickle.dump((source_ra, source_dec, source_piv, source_K, source_index, time_fraction), f)\n"
   ]
  },
  {
   "cell_type": "code",
   "execution_count": 6,
   "metadata": {},
   "outputs": [],
   "source": [
    "# Energy Bins\n",
    "with fits.open(f\"{data_path}/energy_boundaries.fits\") as file:\n",
    "    t = Table.read(file[1])\n",
    "    energy_bins = np.append(t[\"E_MIN\"], t[\"E_MAX\"][-1])\n",
    "    \n",
    "# Pointings and Start Times\n",
    "with fits.open(f\"{data_path}/pointing.fits\") as file:\n",
    "    t = Table.read(file[1])\n",
    "    \n",
    "    pointings = np.array(t[\"PTID_SPI\"])\n",
    "    \n",
    "    time_start = np.array(t[\"TSTART\"]) + 2451544.5\n",
    "    time_start = [at.Time(f\"{i}\", format=\"jd\").datetime for i in time_start]\n",
    "    time_start = np.array([datetime.strftime(i,'%y%m%d %H%M%S') for i in time_start])\n",
    "    \n",
    "# Time Elapsed\n",
    "# det=i, pointing_index=j : index = j*85 + i\n",
    "with fits.open(f\"{data_path}/dead_time.fits\") as file:\n",
    "    t = Table.read(file[1])\n",
    "    time_elapsed = np.array(t[\"LIVETIME\"])\n",
    "    \n",
    "updated_time = t.copy()\n",
    "    \n",
    "for i in range(int(len(time_elapsed) / 85)):\n",
    "    if i == pointing_index:\n",
    "        continue\n",
    "    else:\n",
    "        updated_time[i*85 : (i+1)*85] = updated_time[pointing_index*85 : (pointing_index+1)*85]"
   ]
  },
  {
   "cell_type": "code",
   "execution_count": 7,
   "metadata": {},
   "outputs": [],
   "source": [
    "# Only necessary for 1380\n",
    "skip_pointing = [False] * len(pointings)\n",
    "# skip_pointing[0] = True"
   ]
  },
  {
   "cell_type": "code",
   "execution_count": 8,
   "metadata": {},
   "outputs": [],
   "source": [
    "# Background\n",
    "\n",
    "with fits.open(f\"{data_path}/evts_det_spec_orig.fits\") as file:\n",
    "    t = Table.read(file[1])\n",
    "\n",
    "b_cs = []\n",
    "\n",
    "for frac in range(len(time_fraction)):\n",
    "\n",
    "    background_counts = t.copy()\n",
    "\n",
    "    for i in range(int(len(background_counts) / 85)):\n",
    "        if i == pointing_index:\n",
    "            continue\n",
    "        else:\n",
    "            background_counts[i*85 : (i+1)*85] = background_counts[pointing_index*85 : (pointing_index+1)*85]\n",
    "            \n",
    "    background_counts[\"COUNTS\"] = np.random.poisson(background_counts[\"COUNTS\"] * time_fraction[frac])\n",
    "    b_cs.append(background_counts)"
   ]
  },
  {
   "cell_type": "code",
   "execution_count": 9,
   "metadata": {},
   "outputs": [
    {
     "name": "stdout",
     "output_type": "stream",
     "text": [
      "Using the irfs that are valid between 04/07/17 08:20:06 and 09/02/19 09:59:57 (YY/MM/DD HH:MM:SS)\n"
     ]
    }
   ],
   "source": [
    "assert find_response_version(time_start[0]) == find_response_version(time_start[-1]), \"Versions not constant\"\n",
    "version = find_response_version(time_start[0])\n",
    "rsp_base = ResponseDataRMF.from_version(version)\n",
    "\n",
    "\n",
    "resp_mats = []\n",
    "emod = np.geomspace(10, 3000, 50)\n",
    "\n",
    "for p_i, pointing in enumerate(pointings):\n",
    "    if skip_pointing[p_i]:\n",
    "        continue\n",
    "    \n",
    "    time = time_start[p_i]\n",
    "    dets = get_live_dets(time=time, event_types=[\"single\"])\n",
    "    \n",
    "    rmfs = []\n",
    "    for d in dets:\n",
    "        rmfs.append(ResponseRMFGenerator.from_time(time, d, energy_bins, emod, rsp_base))\n",
    "        \n",
    "    sds = np.empty(0)\n",
    "    for d in range(len(dets)):\n",
    "        sd = SPIDRM(rmfs[d], source_ra, source_dec)\n",
    "        sds = np.append(sds, sd.matrix.T)\n",
    "    resp_mats.append(sds.reshape((len(dets), len(emod)-1, len(energy_bins)-1)))"
   ]
  },
  {
   "cell_type": "code",
   "execution_count": 27,
   "metadata": {},
   "outputs": [],
   "source": [
    "def calc_count_rates(resp_mats, ra, dec, piv, K, index, time_elapsed):\n",
    "    pl = Powerlaw()\n",
    "    pl.piv = piv\n",
    "    pl.K = K\n",
    "    pl.index = index\n",
    "    component1 = SpectralComponent(\"pl\", shape=pl)\n",
    "    source = PointSource(\"Test\", ra=ra, dec=dec, components=[component1])\n",
    "    \n",
    "    spec = source(emod)\n",
    "    spec_binned = powerlaw_binned_spectrum(emod, spec)\n",
    "    \n",
    "    source_counts = np.zeros((len(pointings)*85, len(energy_bins)-1), dtype=np.uint32)\n",
    "    \n",
    "    for p_i, pointing in enumerate(pointings):\n",
    "        if skip_pointing[p_i]:\n",
    "            continue\n",
    "        \n",
    "        resp_mat = resp_mats[p_i]\n",
    "        \n",
    "        count_rates = np.dot(spec_binned, resp_mat)\n",
    "        \n",
    "        for d_i, d in enumerate(dets):\n",
    "            index = p_i * 85 + d\n",
    "            source_counts[index,:] = np.random.poisson(count_rates[d_i,:] * time_elapsed[pointing_index*85 + d])\n",
    "    \n",
    "    return source_counts"
   ]
  },
  {
   "cell_type": "code",
   "execution_count": 28,
   "metadata": {},
   "outputs": [],
   "source": [
    "for i in range(len(time_fraction)):\n",
    "        \n",
    "    temp_path = f\"{data_path_d}/t_{i}\"        \n",
    "\n",
    "    if not os.path.exists(temp_path):\n",
    "        os.mkdir(temp_path)\n",
    "        \n",
    "    os.popen(f\"cp {data_path}/energy_boundaries.fits {temp_path}/energy_boundaries.fits\")\n",
    "    os.popen(f\"cp {data_path}/pointing.fits {temp_path}/pointing.fits\")\n",
    "\n",
    "    temp_time = updated_time.copy()\n",
    "    temp_time[\"LIVETIME\"] *= time_fraction[i]\n",
    "    hdu = fits.BinTableHDU(data=temp_time, name=\"SPI.-OBS.-DTI\") # is all of this correct?\n",
    "    hdu.writeto(f\"{temp_path}/dead_time.fits\")\n",
    "\n",
    "    source_counts = calc_count_rates(resp_mats, source_ra, source_dec, source_piv, source_K, source_index, time_elapsed*time_fraction[i])\n",
    "\n",
    "    total_counts = b_cs[i].copy()\n",
    "    total_counts[\"COUNTS\"] += source_counts\n",
    "            \n",
    "    hdu = fits.BinTableHDU(data=total_counts, name=\"SPI.-OBS.-DSP\")\n",
    "    hdu.writeto(f\"{temp_path}/evts_det_spec.fits\")"
   ]
  },
  {
   "cell_type": "code",
   "execution_count": 1,
   "metadata": {},
   "outputs": [],
   "source": []
  },
  {
   "cell_type": "code",
   "execution_count": 2,
   "metadata": {},
   "outputs": [],
   "source": [
    "# cluster sizes\n",
    "\n",
    "data_path = \"crab_data/0374\""
   ]
  },
  {
   "cell_type": "code",
   "execution_count": 3,
   "metadata": {},
   "outputs": [],
   "source": [
    "source_ra, source_dec = 10, -40\n",
    "source_piv = 200.\n",
    "source_K = 1e-4\n",
    "source_index = -2\n",
    "\n",
    "cluster_sizes = [2, 3, 4]"
   ]
  },
  {
   "cell_type": "code",
   "execution_count": 4,
   "metadata": {},
   "outputs": [],
   "source": [
    "pointing_index = 1\n",
    "\n",
    "data_path_d = \"simulated_data/0374_const_bkg_cluster_sizes\"\n",
    "\n",
    "if not os.path.exists(f\"{data_path_d}\"):\n",
    "    os.mkdir(f\"{data_path_d}\")\n",
    "    \n",
    "with open(f\"./{data_path_d}/source_params.pickle\", \"wb\") as f:\n",
    "    pickle.dump((source_ra, source_dec, source_piv, source_K, source_index, cluster_sizes), f)\n"
   ]
  },
  {
   "cell_type": "code",
   "execution_count": 13,
   "metadata": {},
   "outputs": [],
   "source": [
    "# Energy Bins\n",
    "with fits.open(f\"{data_path}/energy_boundaries.fits\") as file:\n",
    "    t = Table.read(file[1])\n",
    "    energy_bins = np.append(t[\"E_MIN\"], t[\"E_MAX\"][-1])\n",
    "    \n",
    "# Pointings and Start Times\n",
    "with fits.open(f\"{data_path}/pointing.fits\") as file:\n",
    "    t = Table.read(file[1])\n",
    "    \n",
    "    pointings = np.array(t[\"PTID_SPI\"])\n",
    "    \n",
    "    time_start = np.array(t[\"TSTART\"]) + 2451544.5\n",
    "    time_start = [at.Time(f\"{i}\", format=\"jd\").datetime for i in time_start]\n",
    "    time_start = np.array([datetime.strftime(i,'%y%m%d %H%M%S') for i in time_start])\n",
    "    \n",
    "# Time Elapsed\n",
    "# det=i, pointing_index=j : index = j*85 + i\n",
    "with fits.open(f\"{data_path}/dead_time.fits\") as file:\n",
    "    t = Table.read(file[1])\n",
    "    time_elapsed = np.array(t[\"LIVETIME\"])\n",
    "    \n",
    "updated_time = t.copy()\n",
    "    \n",
    "for i in range(int(len(time_elapsed) / 85)):\n",
    "    if i == pointing_index:\n",
    "        continue\n",
    "    else:\n",
    "        updated_time[i*85 : (i+1)*85] = updated_time[pointing_index*85 : (pointing_index+1)*85]"
   ]
  },
  {
   "cell_type": "code",
   "execution_count": 14,
   "metadata": {},
   "outputs": [],
   "source": [
    "# Only necessary for 1380\n",
    "skip_pointing = [False] * len(pointings)\n",
    "# skip_pointing[0] = True"
   ]
  },
  {
   "cell_type": "code",
   "execution_count": 15,
   "metadata": {},
   "outputs": [],
   "source": [
    "# Background\n",
    "\n",
    "with fits.open(f\"{data_path}/evts_det_spec_orig.fits\") as file:\n",
    "    t = Table.read(file[1])\n",
    "    \n",
    "background_counts = t.copy()\n",
    "\n",
    "for i in range(int(len(background_counts) / 85)):\n",
    "    if i == pointing_index:\n",
    "        continue\n",
    "    else:\n",
    "        background_counts[i*85 : (i+1)*85] = background_counts[pointing_index*85 : (pointing_index+1)*85]\n",
    "        \n",
    "background_counts[\"COUNTS\"] = np.random.poisson(background_counts[\"COUNTS\"])"
   ]
  },
  {
   "cell_type": "code",
   "execution_count": 16,
   "metadata": {},
   "outputs": [
    {
     "name": "stdout",
     "output_type": "stream",
     "text": [
      "Using the irfs that are valid between 04/07/17 08:20:06 and 09/02/19 09:59:57 (YY/MM/DD HH:MM:SS)\n"
     ]
    }
   ],
   "source": [
    "assert find_response_version(time_start[0]) == find_response_version(time_start[-1]), \"Versions not constant\"\n",
    "version = find_response_version(time_start[0])\n",
    "rsp_base = ResponseDataRMF.from_version(version)\n",
    "\n",
    "\n",
    "resp_mats = []\n",
    "emod = np.geomspace(10, 3000, 50)\n",
    "\n",
    "for p_i, pointing in enumerate(pointings):\n",
    "    if skip_pointing[p_i]:\n",
    "        continue\n",
    "    \n",
    "    time = time_start[p_i]\n",
    "    dets = get_live_dets(time=time, event_types=[\"single\"])\n",
    "    \n",
    "    rmfs = []\n",
    "    for d in dets:\n",
    "        rmfs.append(ResponseRMFGenerator.from_time(time, d, energy_bins, emod, rsp_base))\n",
    "        \n",
    "    sds = np.empty(0)\n",
    "    for d in range(len(dets)):\n",
    "        sd = SPIDRM(rmfs[d], source_ra, source_dec)\n",
    "        sds = np.append(sds, sd.matrix.T)\n",
    "    resp_mats.append(sds.reshape((len(dets), len(emod)-1, len(energy_bins)-1)))"
   ]
  },
  {
   "cell_type": "code",
   "execution_count": null,
   "metadata": {},
   "outputs": [],
   "source": [
    "def calc_count_rates(resp_mats, ra, dec, piv, K, index):\n",
    "    pl = Powerlaw()\n",
    "    pl.piv = piv\n",
    "    pl.K = K\n",
    "    pl.index = index\n",
    "    component1 = SpectralComponent(\"pl\", shape=pl)\n",
    "    source = PointSource(\"Test\", ra=ra, dec=dec, components=[component1])\n",
    "    \n",
    "    spec = source(emod)\n",
    "    spec_binned = powerlaw_binned_spectrum(emod, spec)\n",
    "    \n",
    "    source_counts = np.zeros((len(pointings)*85, len(energy_bins)-1), dtype=np.uint32)\n",
    "    \n",
    "    for p_i, pointing in enumerate(pointings):\n",
    "        if skip_pointing[p_i]:\n",
    "            continue\n",
    "        \n",
    "        resp_mat = resp_mats[p_i]\n",
    "        \n",
    "        count_rates = np.dot(spec_binned, resp_mat)\n",
    "        \n",
    "        for d_i, d in enumerate(dets):\n",
    "            index = p_i * 85 + d\n",
    "            source_counts[index,:] = np.random.poisson(count_rates[d_i,:] * time_elapsed[pointing_index*85 + d])\n",
    "    \n",
    "    return source_counts"
   ]
  },
  {
   "cell_type": "code",
   "execution_count": null,
   "metadata": {},
   "outputs": [],
   "source": [
    "\n",
    "        \n",
    "temp_path = f\"{data_path_d}\"        \n",
    "\n",
    "if not os.path.exists(temp_path):\n",
    "    os.mkdir(temp_path)\n",
    "    \n",
    "os.popen(f\"cp {data_path}/energy_boundaries.fits {temp_path}/energy_boundaries.fits\")\n",
    "os.popen(f\"cp {data_path}/pointing.fits {temp_path}/pointing.fits\")\n",
    "\n",
    "        \n",
    "hdu = fits.BinTableHDU(data=updated_time, name=\"SPI.-OBS.-DTI\") # is all of this correct?\n",
    "hdu.writeto(f\"{temp_path}/dead_time.fits\")\n",
    "\n",
    "source_counts = calc_count_rates(resp_mats, source_ra, source_dec, source_piv, source_K, source_index)\n",
    "\n",
    "total_counts = background_counts.copy()\n",
    "total_counts[\"COUNTS\"] += source_counts\n",
    "        \n",
    "hdu = fits.BinTableHDU(data=total_counts, name=\"SPI.-OBS.-DSP\")\n",
    "hdu.writeto(f\"{temp_path}/evts_det_spec.fits\")"
   ]
  },
  {
   "cell_type": "code",
   "execution_count": null,
   "metadata": {},
   "outputs": [],
   "source": []
  },
  {
   "cell_type": "code",
   "execution_count": 2,
   "metadata": {},
   "outputs": [],
   "source": [
    "# const const bkg"
   ]
  },
  {
   "cell_type": "code",
   "execution_count": 26,
   "metadata": {},
   "outputs": [],
   "source": [
    "data_path = \"crab_data/0374\""
   ]
  },
  {
   "cell_type": "code",
   "execution_count": 27,
   "metadata": {},
   "outputs": [],
   "source": [
    "source_ra, source_dec = 10, -40\n",
    "source_piv = 100.\n",
    "source_K = 8e-4\n",
    "source_index = -0.5"
   ]
  },
  {
   "cell_type": "code",
   "execution_count": 28,
   "metadata": {},
   "outputs": [],
   "source": [
    "pointing_index = 1\n",
    "\n",
    "data_path_d = \"simulated_data/0374_const_const_bkg_200\"\n",
    "\n",
    "if not os.path.exists(f\"{data_path_d}\"):\n",
    "    os.mkdir(f\"{data_path_d}\")\n",
    "    \n",
    "with open(f\"./{data_path_d}/source_params.pickle\", \"wb\") as f:\n",
    "    pickle.dump((source_ra, source_dec, source_piv, source_K, source_index), f)\n"
   ]
  },
  {
   "cell_type": "code",
   "execution_count": 29,
   "metadata": {},
   "outputs": [],
   "source": [
    "# Energy Bins\n",
    "with fits.open(f\"{data_path}/energy_boundaries.fits\") as file:\n",
    "    t = Table.read(file[1])\n",
    "    energy_bins = np.append(t[\"E_MIN\"], t[\"E_MAX\"][-1])\n",
    "    \n",
    "# Pointings and Start Times\n",
    "with fits.open(f\"{data_path}/pointing.fits\") as file:\n",
    "    t = Table.read(file[1])\n",
    "    \n",
    "    pointings = np.array(t[\"PTID_SPI\"])\n",
    "    \n",
    "    time_start = np.array(t[\"TSTART\"]) + 2451544.5\n",
    "    time_start = [at.Time(f\"{i}\", format=\"jd\").datetime for i in time_start]\n",
    "    time_start = np.array([datetime.strftime(i,'%y%m%d %H%M%S') for i in time_start])\n",
    "    \n",
    "# Time Elapsed\n",
    "# det=i, pointing_index=j : index = j*85 + i\n",
    "with fits.open(f\"{data_path}/dead_time.fits\") as file:\n",
    "    t = Table.read(file[1])\n",
    "    time_elapsed = np.array(t[\"LIVETIME\"])\n",
    "    \n",
    "time_elapsed = np.full(time_elapsed.shape, 3000.)\n",
    "    \n",
    "updated_time = t.copy()\n",
    "updated_time[\"LIVETIME\"] = time_elapsed"
   ]
  },
  {
   "cell_type": "code",
   "execution_count": 30,
   "metadata": {},
   "outputs": [
    {
     "data": {
      "text/html": [
       "<div><i>Table length=6035</i>\n",
       "<table id=\"table140387059211376\" class=\"table-striped table-bordered table-condensed\">\n",
       "<thead><tr><th>DEADRATIO</th><th>LIVETIME</th></tr></thead>\n",
       "<thead><tr><th>float32</th><th>float64</th></tr></thead>\n",
       "<tr><td>0.8494475</td><td>3000.0</td></tr>\n",
       "<tr><td>0.84993005</td><td>3000.0</td></tr>\n",
       "<tr><td>1.0</td><td>3000.0</td></tr>\n",
       "<tr><td>0.8495635</td><td>3000.0</td></tr>\n",
       "<tr><td>0.84933347</td><td>3000.0</td></tr>\n",
       "<tr><td>0.8495878</td><td>3000.0</td></tr>\n",
       "<tr><td>0.84968084</td><td>3000.0</td></tr>\n",
       "<tr><td>0.8505347</td><td>3000.0</td></tr>\n",
       "<tr><td>0.85012025</td><td>3000.0</td></tr>\n",
       "<tr><td>0.850554</td><td>3000.0</td></tr>\n",
       "<tr><td>...</td><td>...</td></tr>\n",
       "<tr><td>0.7535325</td><td>3000.0</td></tr>\n",
       "<tr><td>0.7542064</td><td>3000.0</td></tr>\n",
       "<tr><td>0.75113904</td><td>3000.0</td></tr>\n",
       "<tr><td>0.7526345</td><td>3000.0</td></tr>\n",
       "<tr><td>0.7516618</td><td>3000.0</td></tr>\n",
       "<tr><td>1.0</td><td>3000.0</td></tr>\n",
       "<tr><td>0.7524648</td><td>3000.0</td></tr>\n",
       "<tr><td>1.0</td><td>3000.0</td></tr>\n",
       "<tr><td>0.75273997</td><td>3000.0</td></tr>\n",
       "<tr><td>1.0</td><td>3000.0</td></tr>\n",
       "</table></div>"
      ],
      "text/plain": [
       "<Table length=6035>\n",
       "DEADRATIO  LIVETIME\n",
       " float32   float64 \n",
       "---------- --------\n",
       " 0.8494475   3000.0\n",
       "0.84993005   3000.0\n",
       "       1.0   3000.0\n",
       " 0.8495635   3000.0\n",
       "0.84933347   3000.0\n",
       " 0.8495878   3000.0\n",
       "0.84968084   3000.0\n",
       " 0.8505347   3000.0\n",
       "0.85012025   3000.0\n",
       "  0.850554   3000.0\n",
       "       ...      ...\n",
       " 0.7535325   3000.0\n",
       " 0.7542064   3000.0\n",
       "0.75113904   3000.0\n",
       " 0.7526345   3000.0\n",
       " 0.7516618   3000.0\n",
       "       1.0   3000.0\n",
       " 0.7524648   3000.0\n",
       "       1.0   3000.0\n",
       "0.75273997   3000.0\n",
       "       1.0   3000.0"
      ]
     },
     "execution_count": 30,
     "metadata": {},
     "output_type": "execute_result"
    }
   ],
   "source": [
    "updated_time"
   ]
  },
  {
   "cell_type": "code",
   "execution_count": 31,
   "metadata": {},
   "outputs": [
    {
     "data": {
      "text/plain": [
       "array([3000., 3000., 3000., ..., 3000., 3000., 3000.])"
      ]
     },
     "execution_count": 31,
     "metadata": {},
     "output_type": "execute_result"
    }
   ],
   "source": [
    "time_elapsed"
   ]
  },
  {
   "cell_type": "code",
   "execution_count": 32,
   "metadata": {},
   "outputs": [],
   "source": [
    "# Only necessary for 1380\n",
    "skip_pointing = [False] * len(pointings)\n",
    "# skip_pointing[0] = True"
   ]
  },
  {
   "cell_type": "code",
   "execution_count": 33,
   "metadata": {},
   "outputs": [],
   "source": [
    "# Background\n",
    "\n",
    "with fits.open(f\"{data_path}/evts_det_spec_orig.fits\") as file:\n",
    "    t = Table.read(file[1])\n",
    "    \n",
    "background_counts = t.copy()\n",
    "\n",
    "background_counts[\"COUNTS\"] = np.full(background_counts[\"COUNTS\"].shape, 200.)\n",
    "        \n",
    "background_counts[\"COUNTS\"] = np.random.poisson(background_counts[\"COUNTS\"])"
   ]
  },
  {
   "cell_type": "code",
   "execution_count": 34,
   "metadata": {},
   "outputs": [
    {
     "name": "stdout",
     "output_type": "stream",
     "text": [
      "Using the irfs that are valid between 04/07/17 08:20:06 and 09/02/19 09:59:57 (YY/MM/DD HH:MM:SS)\n"
     ]
    }
   ],
   "source": [
    "assert find_response_version(time_start[0]) == find_response_version(time_start[-1]), \"Versions not constant\"\n",
    "version = find_response_version(time_start[0])\n",
    "rsp_base = ResponseDataRMF.from_version(version)\n",
    "\n",
    "\n",
    "resp_mats = []\n",
    "emod = np.geomspace(10, 3000, 50)\n",
    "\n",
    "for p_i, pointing in enumerate(pointings):\n",
    "    if skip_pointing[p_i]:\n",
    "        continue\n",
    "    \n",
    "    time = time_start[p_i]\n",
    "    dets = get_live_dets(time=time, event_types=[\"single\"])\n",
    "    \n",
    "    rmfs = []\n",
    "    for d in dets:\n",
    "        rmfs.append(ResponseRMFGenerator.from_time(time, d, energy_bins, emod, rsp_base))\n",
    "        \n",
    "    sds = np.empty(0)\n",
    "    for d in range(len(dets)):\n",
    "        sd = SPIDRM(rmfs[d], source_ra, source_dec)\n",
    "        sds = np.append(sds, sd.matrix.T)\n",
    "    resp_mats.append(sds.reshape((len(dets), len(emod)-1, len(energy_bins)-1)))"
   ]
  },
  {
   "cell_type": "code",
   "execution_count": 35,
   "metadata": {},
   "outputs": [],
   "source": [
    "def calc_count_rates(resp_mats, ra, dec, piv, K, index):\n",
    "    pl = Powerlaw()\n",
    "    pl.piv = piv\n",
    "    pl.K = K\n",
    "    pl.index = index\n",
    "    component1 = SpectralComponent(\"pl\", shape=pl)\n",
    "    source = PointSource(\"Test\", ra=ra, dec=dec, components=[component1])\n",
    "    \n",
    "    spec = source(emod)\n",
    "    spec_binned = powerlaw_binned_spectrum(emod, spec)\n",
    "    \n",
    "    source_counts = np.zeros((len(pointings)*85, len(energy_bins)-1), dtype=np.uint32)\n",
    "    \n",
    "    for p_i, pointing in enumerate(pointings):\n",
    "        if skip_pointing[p_i]:\n",
    "            continue\n",
    "        \n",
    "        resp_mat = resp_mats[p_i]\n",
    "        \n",
    "        count_rates = np.dot(spec_binned, resp_mat)\n",
    "        \n",
    "        for d_i, d in enumerate(dets):\n",
    "            index = p_i * 85 + d\n",
    "            source_counts[index,:] = np.random.poisson(count_rates[d_i,:] * time_elapsed[pointing_index*85 + d])\n",
    "    \n",
    "    return source_counts"
   ]
  },
  {
   "cell_type": "code",
   "execution_count": 25,
   "metadata": {},
   "outputs": [],
   "source": [
    "\n",
    "        \n",
    "temp_path = f\"{data_path_d}\"        \n",
    "\n",
    "if not os.path.exists(temp_path):\n",
    "    os.mkdir(temp_path)\n",
    "    \n",
    "os.popen(f\"cp {data_path}/energy_boundaries.fits {temp_path}/energy_boundaries.fits\")\n",
    "os.popen(f\"cp {data_path}/pointing.fits {temp_path}/pointing.fits\")\n",
    "\n",
    "        \n",
    "hdu = fits.BinTableHDU(data=updated_time, name=\"SPI.-OBS.-DTI\") # is all of this correct?\n",
    "hdu.writeto(f\"{temp_path}/dead_time.fits\")\n",
    "\n",
    "source_counts = calc_count_rates(resp_mats, source_ra, source_dec, source_piv, source_K, source_index)\n",
    "\n",
    "total_counts = background_counts.copy()\n",
    "total_counts[\"COUNTS\"] += source_counts\n",
    "        \n",
    "hdu = fits.BinTableHDU(data=total_counts, name=\"SPI.-OBS.-DSP\")\n",
    "hdu.writeto(f\"{temp_path}/evts_det_spec.fits\")"
   ]
  },
  {
   "cell_type": "code",
   "execution_count": null,
   "metadata": {},
   "outputs": [],
   "source": []
  },
  {
   "cell_type": "code",
   "execution_count": null,
   "metadata": {},
   "outputs": [],
   "source": [
    "# const const bkg lin source"
   ]
  },
  {
   "cell_type": "code",
   "execution_count": 10,
   "metadata": {},
   "outputs": [],
   "source": [
    "data_path = \"crab_data/0374\""
   ]
  },
  {
   "cell_type": "code",
   "execution_count": 11,
   "metadata": {},
   "outputs": [],
   "source": [
    "source_ra, source_dec = 10, -40\n",
    "source_slope = 8e-6"
   ]
  },
  {
   "cell_type": "code",
   "execution_count": 12,
   "metadata": {},
   "outputs": [],
   "source": [
    "pointing_index = 1\n",
    "\n",
    "data_path_d = \"simulated_data/0374_const_const_bkg_20_lin_source\"\n",
    "\n",
    "if not os.path.exists(f\"{data_path_d}\"):\n",
    "    os.mkdir(f\"{data_path_d}\")\n",
    "    \n",
    "with open(f\"./{data_path_d}/source_params.pickle\", \"wb\") as f:\n",
    "    pickle.dump((source_ra, source_dec, source_slope), f)\n"
   ]
  },
  {
   "cell_type": "code",
   "execution_count": 13,
   "metadata": {},
   "outputs": [],
   "source": [
    "# Energy Bins\n",
    "with fits.open(f\"{data_path}/energy_boundaries.fits\") as file:\n",
    "    t = Table.read(file[1])\n",
    "    energy_bins = np.append(t[\"E_MIN\"], t[\"E_MAX\"][-1])\n",
    "    \n",
    "# Pointings and Start Times\n",
    "with fits.open(f\"{data_path}/pointing.fits\") as file:\n",
    "    t = Table.read(file[1])\n",
    "    \n",
    "    pointings = np.array(t[\"PTID_SPI\"])\n",
    "    \n",
    "    time_start = np.array(t[\"TSTART\"]) + 2451544.5\n",
    "    time_start = [at.Time(f\"{i}\", format=\"jd\").datetime for i in time_start]\n",
    "    time_start = np.array([datetime.strftime(i,'%y%m%d %H%M%S') for i in time_start])\n",
    "    \n",
    "# Time Elapsed\n",
    "# det=i, pointing_index=j : index = j*85 + i\n",
    "with fits.open(f\"{data_path}/dead_time.fits\") as file:\n",
    "    t = Table.read(file[1])\n",
    "    time_elapsed = np.array(t[\"LIVETIME\"])\n",
    "    \n",
    "time_elapsed = np.full(time_elapsed.shape, 3000.)\n",
    "    \n",
    "updated_time = t.copy()\n",
    "updated_time[\"LIVETIME\"] = time_elapsed"
   ]
  },
  {
   "cell_type": "code",
   "execution_count": 14,
   "metadata": {},
   "outputs": [],
   "source": [
    "# Only necessary for 1380\n",
    "skip_pointing = [False] * len(pointings)\n",
    "# skip_pointing[0] = True"
   ]
  },
  {
   "cell_type": "code",
   "execution_count": 15,
   "metadata": {},
   "outputs": [],
   "source": [
    "# Background\n",
    "\n",
    "with fits.open(f\"{data_path}/evts_det_spec_orig.fits\") as file:\n",
    "    t = Table.read(file[1])\n",
    "    \n",
    "background_counts = t.copy()\n",
    "\n",
    "background_counts[\"COUNTS\"] = np.full(background_counts[\"COUNTS\"].shape, 20.)\n",
    "        \n",
    "background_counts[\"COUNTS\"] = np.random.poisson(background_counts[\"COUNTS\"])"
   ]
  },
  {
   "cell_type": "code",
   "execution_count": 16,
   "metadata": {},
   "outputs": [
    {
     "name": "stdout",
     "output_type": "stream",
     "text": [
      "Using the irfs that are valid between 04/07/17 08:20:06 and 09/02/19 09:59:57 (YY/MM/DD HH:MM:SS)\n"
     ]
    },
    {
     "name": "stderr",
     "output_type": "stream",
     "text": [
      "\n",
      "WARNING NumbaExperimentalFeatureWarning: \u001b[1m\u001b[1m\u001b[1m\u001b[1mUse of isinstance() detected. This is an experimental feature.\u001b[0m\u001b[0m\u001b[0m\u001b[0m\n",
      "\n"
     ]
    }
   ],
   "source": [
    "assert find_response_version(time_start[0]) == find_response_version(time_start[-1]), \"Versions not constant\"\n",
    "version = find_response_version(time_start[0])\n",
    "rsp_base = ResponseDataRMF.from_version(version)\n",
    "\n",
    "\n",
    "resp_mats = []\n",
    "emod = np.geomspace(10, 3000, 50)\n",
    "\n",
    "for p_i, pointing in enumerate(pointings):\n",
    "    if skip_pointing[p_i]:\n",
    "        continue\n",
    "    \n",
    "    time = time_start[p_i]\n",
    "    dets = get_live_dets(time=time, event_types=[\"single\"])\n",
    "    \n",
    "    rmfs = []\n",
    "    for d in dets:\n",
    "        rmfs.append(ResponseRMFGenerator.from_time(time, d, energy_bins, emod, rsp_base))\n",
    "        \n",
    "    sds = np.empty(0)\n",
    "    for d in range(len(dets)):\n",
    "        sd = SPIDRM(rmfs[d], source_ra, source_dec)\n",
    "        sds = np.append(sds, sd.matrix.T)\n",
    "    resp_mats.append(sds.reshape((len(dets), len(emod)-1, len(energy_bins)-1)))"
   ]
  },
  {
   "cell_type": "code",
   "execution_count": 19,
   "metadata": {},
   "outputs": [],
   "source": [
    "def calc_count_rates(resp_mats, ra, dec, b):\n",
    "    s = Line()\n",
    "    s.a = 0\n",
    "    s.a.free = False\n",
    "    s.b = b\n",
    "    component1 = SpectralComponent(\"line\", shape=s)\n",
    "    source = PointSource(\"Test\", ra=ra, dec=dec, components=[component1])\n",
    "    \n",
    "    spec = source(emod)\n",
    "    spec_binned = (emod[1:]-emod[:-1])*(spec[:-1]+spec[1:])/2\n",
    "    \n",
    "    source_counts = np.zeros((len(pointings)*85, len(energy_bins)-1), dtype=np.uint32)\n",
    "    \n",
    "    for p_i, pointing in enumerate(pointings):\n",
    "        if skip_pointing[p_i]:\n",
    "            continue\n",
    "        \n",
    "        resp_mat = resp_mats[p_i]\n",
    "        \n",
    "        count_rates = np.dot(spec_binned, resp_mat)\n",
    "        \n",
    "        for d_i, d in enumerate(dets):\n",
    "            index = p_i * 85 + d\n",
    "            source_counts[index,:] = np.random.poisson(count_rates[d_i,:] * time_elapsed[pointing_index*85 + d])\n",
    "    \n",
    "    return source_counts"
   ]
  },
  {
   "cell_type": "code",
   "execution_count": 21,
   "metadata": {},
   "outputs": [],
   "source": [
    "\n",
    "        \n",
    "temp_path = f\"{data_path_d}\"        \n",
    "\n",
    "if not os.path.exists(temp_path):\n",
    "    os.mkdir(temp_path)\n",
    "    \n",
    "os.popen(f\"cp {data_path}/energy_boundaries.fits {temp_path}/energy_boundaries.fits\")\n",
    "os.popen(f\"cp {data_path}/pointing.fits {temp_path}/pointing.fits\")\n",
    "\n",
    "        \n",
    "hdu = fits.BinTableHDU(data=updated_time, name=\"SPI.-OBS.-DTI\") # is all of this correct?\n",
    "hdu.writeto(f\"{temp_path}/dead_time.fits\")\n",
    "\n",
    "source_counts = calc_count_rates(resp_mats, source_ra, source_dec, source_slope)\n",
    "\n",
    "total_counts = background_counts.copy()\n",
    "total_counts[\"COUNTS\"] += source_counts\n",
    "        \n",
    "hdu = fits.BinTableHDU(data=total_counts, name=\"SPI.-OBS.-DSP\")\n",
    "hdu.writeto(f\"{temp_path}/evts_det_spec.fits\")"
   ]
  },
  {
   "cell_type": "code",
   "execution_count": null,
   "metadata": {},
   "outputs": [],
   "source": []
  },
  {
   "cell_type": "code",
   "execution_count": null,
   "metadata": {},
   "outputs": [],
   "source": [
    "# const const bkg lin source pre_binned"
   ]
  },
  {
   "cell_type": "code",
   "execution_count": 56,
   "metadata": {},
   "outputs": [],
   "source": [
    "data_path = \"crab_data/0374\""
   ]
  },
  {
   "cell_type": "code",
   "execution_count": 57,
   "metadata": {},
   "outputs": [],
   "source": [
    "source_ra, source_dec = 10, -40\n",
    "source_slope = 8e-6"
   ]
  },
  {
   "cell_type": "code",
   "execution_count": 58,
   "metadata": {},
   "outputs": [],
   "source": [
    "pointing_index = 1\n",
    "\n",
    "data_path_d = \"simulated_data/0374_const_const_bkg_20_lin_source_pre_binned_log\"\n",
    "\n",
    "if not os.path.exists(f\"{data_path_d}\"):\n",
    "    os.mkdir(f\"{data_path_d}\")\n",
    "    \n",
    "with open(f\"./{data_path_d}/source_params.pickle\", \"wb\") as f:\n",
    "    pickle.dump((source_ra, source_dec, source_slope), f)\n"
   ]
  },
  {
   "cell_type": "code",
   "execution_count": 59,
   "metadata": {},
   "outputs": [],
   "source": [
    "from RebinningFunctions import *"
   ]
  },
  {
   "cell_type": "code",
   "execution_count": 60,
   "metadata": {},
   "outputs": [],
   "source": [
    "# Energy Bins\n",
    "with fits.open(f\"{data_path}/energy_boundaries.fits\") as file:\n",
    "    t = Table.read(file[1])\n",
    "    ebin_table = t\n",
    "    old_energy_bins = np.append(t[\"E_MIN\"], t[\"E_MAX\"][-1])\n",
    "    \n",
    "\n",
    "ebin_table = ebin_table[:len(energy_bins)-1]\n",
    "ebin_table[\"E_MIN\"] = energy_bins[:-1]\n",
    "ebin_table[\"E_MAX\"] = energy_bins[1:]\n",
    "    \n",
    "# Pointings and Start Times\n",
    "with fits.open(f\"{data_path}/pointing.fits\") as file:\n",
    "    t = Table.read(file[1])\n",
    "    \n",
    "    pointings = np.array(t[\"PTID_SPI\"])\n",
    "    \n",
    "    time_start = np.array(t[\"TSTART\"]) + 2451544.5\n",
    "    time_start = [at.Time(f\"{i}\", format=\"jd\").datetime for i in time_start]\n",
    "    time_start = np.array([datetime.strftime(i,'%y%m%d %H%M%S') for i in time_start])\n",
    "    \n",
    "# Time Elapsed\n",
    "# det=i, pointing_index=j : index = j*85 + i\n",
    "with fits.open(f\"{data_path}/dead_time.fits\") as file:\n",
    "    t = Table.read(file[1])\n",
    "    time_elapsed = np.array(t[\"LIVETIME\"])\n",
    "    \n",
    "time_elapsed = np.full(time_elapsed.shape, 3000.)\n",
    "    \n",
    "updated_time = t.copy()\n",
    "updated_time[\"LIVETIME\"] = time_elapsed"
   ]
  },
  {
   "cell_type": "code",
   "execution_count": 61,
   "metadata": {},
   "outputs": [],
   "source": [
    "# Only necessary for 1380\n",
    "skip_pointing = [False] * len(pointings)\n",
    "# skip_pointing[0] = True"
   ]
  },
  {
   "cell_type": "code",
   "execution_count": 68,
   "metadata": {},
   "outputs": [],
   "source": [
    "# Background\n",
    "\n",
    "with fits.open(f\"{data_path}/evts_det_spec_orig.fits\") as file:\n",
    "    t = Table.read(file[1])\n",
    "    \n",
    "background_counts = t.copy()\n",
    "# background_counts[\"COUNTS\"] = background_counts[\"COUNTS\"][:,:len(energy_bins)-1]\n",
    "\n",
    "\n",
    "background_counts[\"COUNTS\"] = np.full(background_counts[\"COUNTS\"].shape, 20.)\n",
    "        \n",
    "background_counts[\"COUNTS\"] = np.random.poisson(background_counts[\"COUNTS\"])"
   ]
  },
  {
   "cell_type": "code",
   "execution_count": 69,
   "metadata": {},
   "outputs": [],
   "source": [
    "energy_bins, background_counts[\"COUNTS\"] = exp_binning_function_for_x_number_of_bins(125)(old_energy_bins, background_counts[\"COUNTS\"], (None, None))\n"
   ]
  },
  {
   "cell_type": "code",
   "execution_count": 70,
   "metadata": {},
   "outputs": [
    {
     "data": {
      "text/plain": [
       "array([  18. ,   18.5,   19.5,   20. ,   21. ,   21.5,   22.5,   23.5,\n",
       "         24.5,   25.5,   26. ,   27. ,   28.5,   29.5,   30.5,   31.5,\n",
       "         33. ,   34. ,   35.5,   37. ,   38. ,   39.5,   41. ,   43. ,\n",
       "         44.5,   46. ,   48. ,   50. ,   51.5,   53.5,   56. ,   58. ,\n",
       "         60. ,   62.5,   65. ,   67.5,   70. ,   72.5,   75.5,   78.5,\n",
       "         81.5,   84.5,   87.5,   91. ,   94.5,   98. ,  102. ,  106. ,\n",
       "        110. ,  114. ,  118.5,  123. ,  127.5,  132.5,  137.5,  143. ,\n",
       "        148.5,  154. ,  160. ,  166.5,  172.5,  179.5,  186. ,  193.5,\n",
       "        201. ,  208.5,  216.5,  225. ,  233.5,  242.5,  251.5,  261.5,\n",
       "        271.5,  282. ,  292.5,  304. ,  315.5,  327.5,  340.5,  353.5,\n",
       "        367. ,  381. ,  395.5,  411. ,  426.5,  443. ,  460. ,  477.5,\n",
       "        496. ,  515. ,  535. ,  555.5,  576.5,  599. ,  622. ,  645.5,\n",
       "        670.5,  696.5,  723. ,  751. ,  779.5,  809.5,  840.5,  873. ,\n",
       "        906.5,  941.5,  977.5, 1015. , 1054. , 1094.5, 1136.5, 1180. ,\n",
       "       1225.5, 1272.5, 1321.5, 1372. , 1424.5, 1479.5, 1536.5, 1595.5,\n",
       "       1656.5, 1720. , 1786. , 1855. , 1926. , 2000. ], dtype=float32)"
      ]
     },
     "execution_count": 70,
     "metadata": {},
     "output_type": "execute_result"
    }
   ],
   "source": [
    "energy_bins"
   ]
  },
  {
   "cell_type": "code",
   "execution_count": 71,
   "metadata": {},
   "outputs": [
    {
     "data": {
      "text/plain": [
       "array([  15,   43,   27,   39,   13,   54,   38,   35,   36,   21,   42,\n",
       "         68,   41,   52,   42,   61,   33,   50,   72,   40,   61,   65,\n",
       "         70,   57,   48,   68,   87,   60,   83,   92,   78,   83,  111,\n",
       "         77,   87,   70,  108,  125,  129,  130,  122,  128,  153,  145,\n",
       "        141,  152,  156,  165,  148,  202,  172,  183,  188,  172,  208,\n",
       "        217,  224,  238,  268,  240,  291,  276,  287,  321,  307,  342,\n",
       "        335,  326,  357,  359,  388,  397,  381,  426,  461,  467,  487,\n",
       "        534,  521,  527,  530,  576,  626,  589,  683,  688,  665,  714,\n",
       "        766,  802,  850,  791,  870,  914,  937, 1036, 1035,  991, 1134,\n",
       "       1177, 1186, 1229, 1304, 1398, 1396, 1443, 1553, 1640, 1549, 1669,\n",
       "       1764, 1825, 1908, 2000, 2038, 2147, 2309, 2274, 2272, 2419, 2566,\n",
       "       2656, 2732, 2808, 2960])"
      ]
     },
     "execution_count": 71,
     "metadata": {},
     "output_type": "execute_result"
    }
   ],
   "source": [
    "background_counts[\"COUNTS\"][0]"
   ]
  },
  {
   "cell_type": "code",
   "execution_count": 72,
   "metadata": {},
   "outputs": [
    {
     "name": "stdout",
     "output_type": "stream",
     "text": [
      "Using the irfs that are valid between 04/07/17 08:20:06 and 09/02/19 09:59:57 (YY/MM/DD HH:MM:SS)\n"
     ]
    }
   ],
   "source": [
    "assert find_response_version(time_start[0]) == find_response_version(time_start[-1]), \"Versions not constant\"\n",
    "version = find_response_version(time_start[0])\n",
    "rsp_base = ResponseDataRMF.from_version(version)\n",
    "\n",
    "\n",
    "resp_mats = []\n",
    "emod = np.geomspace(10, 3000, 50)\n",
    "\n",
    "for p_i, pointing in enumerate(pointings):\n",
    "    if skip_pointing[p_i]:\n",
    "        continue\n",
    "    \n",
    "    time = time_start[p_i]\n",
    "    dets = get_live_dets(time=time, event_types=[\"single\"])\n",
    "    \n",
    "    rmfs = []\n",
    "    for d in dets:\n",
    "        rmfs.append(ResponseRMFGenerator.from_time(time, d, energy_bins, emod, rsp_base))\n",
    "        \n",
    "    sds = np.empty(0)\n",
    "    for d in range(len(dets)):\n",
    "        sd = SPIDRM(rmfs[d], source_ra, source_dec)\n",
    "        sds = np.append(sds, sd.matrix.T)\n",
    "    resp_mats.append(sds.reshape((len(dets), len(emod)-1, len(energy_bins)-1)))"
   ]
  },
  {
   "cell_type": "code",
   "execution_count": 73,
   "metadata": {},
   "outputs": [],
   "source": [
    "def calc_count_rates(resp_mats, ra, dec, b):\n",
    "    s = Line()\n",
    "    s.a = 0\n",
    "    s.a.free = False\n",
    "    s.b = b\n",
    "    component1 = SpectralComponent(\"line\", shape=s)\n",
    "    source = PointSource(\"Test\", ra=ra, dec=dec, components=[component1])\n",
    "    \n",
    "    spec = source(emod)\n",
    "    spec_binned = (emod[1:]-emod[:-1])*(spec[:-1]+spec[1:])/2\n",
    "    \n",
    "    source_counts = np.zeros((len(pointings)*85, len(energy_bins)-1), dtype=np.uint32)\n",
    "    \n",
    "    for p_i, pointing in enumerate(pointings):\n",
    "        if skip_pointing[p_i]:\n",
    "            continue\n",
    "        \n",
    "        resp_mat = resp_mats[p_i]\n",
    "        \n",
    "        count_rates = np.dot(spec_binned, resp_mat)\n",
    "        \n",
    "        for d_i, d in enumerate(dets):\n",
    "            index = p_i * 85 + d\n",
    "            source_counts[index,:] = np.random.poisson(count_rates[d_i,:] * time_elapsed[pointing_index*85 + d])\n",
    "    \n",
    "    return source_counts"
   ]
  },
  {
   "cell_type": "code",
   "execution_count": 74,
   "metadata": {},
   "outputs": [],
   "source": [
    "\n",
    "        \n",
    "temp_path = f\"{data_path_d}\"        \n",
    "\n",
    "if not os.path.exists(temp_path):\n",
    "    os.mkdir(temp_path)\n",
    "    \n",
    "# os.popen(f\"cp {data_path}/energy_boundaries.fits {temp_path}/energy_boundaries.fits\")\n",
    "os.popen(f\"cp {data_path}/pointing.fits {temp_path}/pointing.fits\")\n",
    "\n",
    "        \n",
    "hdu = fits.BinTableHDU(data=updated_time, name=\"SPI.-OBS.-DTI\") # is all of this correct?\n",
    "hdu.writeto(f\"{temp_path}/dead_time.fits\")\n",
    "\n",
    "source_counts = calc_count_rates(resp_mats, source_ra, source_dec, source_slope)\n",
    "\n",
    "total_counts = background_counts.copy()\n",
    "total_counts[\"COUNTS\"] += source_counts\n",
    "        \n",
    "hdu = fits.BinTableHDU(data=total_counts, name=\"SPI.-OBS.-DSP\")\n",
    "hdu.writeto(f\"{temp_path}/evts_det_spec.fits\")\n",
    "\n",
    "hdu = fits.BinTableHDU(data=ebin_table, name=\"SPI.-OBS.-EB\")\n",
    "hdu.writeto(f\"{temp_path}/energy_boundaries.fits\")"
   ]
  },
  {
   "cell_type": "code",
   "execution_count": null,
   "metadata": {},
   "outputs": [],
   "source": []
  },
  {
   "cell_type": "code",
   "execution_count": 75,
   "metadata": {},
   "outputs": [],
   "source": [
    "# const const bkg lin source pre_binned pre_cut"
   ]
  },
  {
   "cell_type": "code",
   "execution_count": 76,
   "metadata": {},
   "outputs": [],
   "source": [
    "data_path = \"crab_data/0374\""
   ]
  },
  {
   "cell_type": "code",
   "execution_count": 77,
   "metadata": {},
   "outputs": [],
   "source": [
    "source_ra, source_dec = 10, -40\n",
    "source_slope = 8e-6"
   ]
  },
  {
   "cell_type": "code",
   "execution_count": 78,
   "metadata": {},
   "outputs": [],
   "source": [
    "pointing_index = 1\n",
    "\n",
    "data_path_d = \"simulated_data/0374_const_const_bkg_20_lin_source_pre_binned_log_cut\"\n",
    "\n",
    "if not os.path.exists(f\"{data_path_d}\"):\n",
    "    os.mkdir(f\"{data_path_d}\")\n",
    "    \n",
    "with open(f\"./{data_path_d}/source_params.pickle\", \"wb\") as f:\n",
    "    pickle.dump((source_ra, source_dec, source_slope), f)\n"
   ]
  },
  {
   "cell_type": "code",
   "execution_count": 79,
   "metadata": {},
   "outputs": [],
   "source": [
    "from RebinningFunctions import *"
   ]
  },
  {
   "cell_type": "code",
   "execution_count": 80,
   "metadata": {},
   "outputs": [],
   "source": [
    "# Energy Bins\n",
    "with fits.open(f\"{data_path}/energy_boundaries.fits\") as file:\n",
    "    t = Table.read(file[1])\n",
    "    ebin_table = t\n",
    "    old_energy_bins = np.append(t[\"E_MIN\"], t[\"E_MAX\"][-1])\n",
    "    \n",
    "\n",
    "ebin_table = ebin_table[:len(energy_bins)-1]\n",
    "ebin_table[\"E_MIN\"] = energy_bins[:-1]\n",
    "ebin_table[\"E_MAX\"] = energy_bins[1:]\n",
    "    \n",
    "# Pointings and Start Times\n",
    "with fits.open(f\"{data_path}/pointing.fits\") as file:\n",
    "    t = Table.read(file[1])\n",
    "    \n",
    "    pointings = np.array(t[\"PTID_SPI\"])\n",
    "    \n",
    "    time_start = np.array(t[\"TSTART\"]) + 2451544.5\n",
    "    time_start = [at.Time(f\"{i}\", format=\"jd\").datetime for i in time_start]\n",
    "    time_start = np.array([datetime.strftime(i,'%y%m%d %H%M%S') for i in time_start])\n",
    "    \n",
    "# Time Elapsed\n",
    "# det=i, pointing_index=j : index = j*85 + i\n",
    "with fits.open(f\"{data_path}/dead_time.fits\") as file:\n",
    "    t = Table.read(file[1])\n",
    "    time_elapsed = np.array(t[\"LIVETIME\"])\n",
    "    \n",
    "time_elapsed = np.full(time_elapsed.shape, 3000.)\n",
    "    \n",
    "updated_time = t.copy()\n",
    "updated_time[\"LIVETIME\"] = time_elapsed"
   ]
  },
  {
   "cell_type": "code",
   "execution_count": 81,
   "metadata": {},
   "outputs": [],
   "source": [
    "# Only necessary for 1380\n",
    "skip_pointing = [False] * len(pointings)\n",
    "# skip_pointing[0] = True"
   ]
  },
  {
   "cell_type": "code",
   "execution_count": 82,
   "metadata": {},
   "outputs": [],
   "source": [
    "# Background\n",
    "\n",
    "with fits.open(f\"{data_path}/evts_det_spec_orig.fits\") as file:\n",
    "    t = Table.read(file[1])\n",
    "    \n",
    "background_counts = t.copy()\n",
    "# background_counts[\"COUNTS\"] = background_counts[\"COUNTS\"][:,:len(energy_bins)-1]\n",
    "\n",
    "\n",
    "background_counts[\"COUNTS\"] = np.full(background_counts[\"COUNTS\"].shape, 20.)\n",
    "        \n",
    "background_counts[\"COUNTS\"] = np.random.poisson(background_counts[\"COUNTS\"])"
   ]
  },
  {
   "cell_type": "code",
   "execution_count": 83,
   "metadata": {},
   "outputs": [],
   "source": [
    "energy_bins, background_counts[\"COUNTS\"] = exp_binning_function_for_x_number_of_bins(125)(old_energy_bins, background_counts[\"COUNTS\"], (50., 2000.))\n"
   ]
  },
  {
   "cell_type": "code",
   "execution_count": 84,
   "metadata": {},
   "outputs": [
    {
     "data": {
      "text/plain": [
       "array([  50. ,   51.5,   53. ,   54.5,   56.5,   58. ,   59.5,   61.5,\n",
       "         63.5,   65. ,   67. ,   69. ,   71. ,   73.5,   75.5,   78. ,\n",
       "         80. ,   82.5,   85. ,   87.5,   90. ,   93. ,   95.5,   98.5,\n",
       "        101.5,  104.5,  107.5,  111. ,  114. ,  117.5,  121. ,  125. ,\n",
       "        128.5,  132.5,  136.5,  140.5,  144.5,  149. ,  153.5,  158. ,\n",
       "        163. ,  167.5,  172.5,  178. ,  183. ,  188.5,  194.5,  200. ,\n",
       "        206. ,  212.5,  218.5,  225. ,  232. ,  239. ,  246. ,  253.5,\n",
       "        261. ,  269. ,  277. ,  285. ,  293.5,  302.5,  311.5,  321. ,\n",
       "        330.5,  340.5,  350.5,  361. ,  372. ,  383. ,  394.5,  406.5,\n",
       "        418.5,  431. ,  444. ,  457.5,  471. ,  485. ,  499.5,  514.5,\n",
       "        530. ,  546. ,  562. ,  579. ,  596.5,  614.5,  632.5,  651.5,\n",
       "        671. ,  691.5,  712. ,  733.5,  755. ,  778. ,  801. ,  825. ,\n",
       "        850. ,  875.5,  901.5,  928.5,  956.5,  985. , 1014.5, 1045. ,\n",
       "       1076. , 1108.5, 1141.5, 1176. , 1211. , 1247.5, 1284.5, 1323. ,\n",
       "       1362.5, 1403.5, 1445.5, 1489. , 1533.5, 1579.5, 1626.5, 1675.5,\n",
       "       1725.5, 1777.5, 1830.5, 1885.5, 1942. , 2000. ], dtype=float32)"
      ]
     },
     "execution_count": 84,
     "metadata": {},
     "output_type": "execute_result"
    }
   ],
   "source": [
    "energy_bins"
   ]
  },
  {
   "cell_type": "code",
   "execution_count": 85,
   "metadata": {},
   "outputs": [
    {
     "data": {
      "text/plain": [
       "array([  62,   70,   58,   73,   56,   67,   76,   81,   68,   82,   78,\n",
       "         80,   84,   75,  109,   90,  105,   92,  106,   95,  128,  108,\n",
       "        133,  100,  136,  128,  140,  132,  161,  140,  140,  150,  191,\n",
       "        137,  171,  177,  195,  171,  192,  180,  182,  155,  227,  180,\n",
       "        226,  244,  209,  237,  264,  234,  259,  292,  273,  254,  296,\n",
       "        333,  299,  313,  317,  324,  386,  390,  384,  397,  406,  423,\n",
       "        421,  461,  420,  469,  512,  472,  489,  530,  543,  550,  532,\n",
       "        567,  623,  619,  607,  622,  701,  686,  702,  681,  713,  794,\n",
       "        809,  805,  833,  831,  895,  916,  939,  993, 1030, 1041, 1117,\n",
       "       1107, 1141, 1173, 1191, 1288, 1319, 1393, 1346, 1413, 1462, 1456,\n",
       "       1549, 1560, 1731, 1730, 1836, 1743, 1792, 1858, 2017, 2017, 2014,\n",
       "       2111, 2205, 2190, 2358])"
      ]
     },
     "execution_count": 85,
     "metadata": {},
     "output_type": "execute_result"
    }
   ],
   "source": [
    "background_counts[\"COUNTS\"][0]"
   ]
  },
  {
   "cell_type": "code",
   "execution_count": 86,
   "metadata": {},
   "outputs": [
    {
     "name": "stdout",
     "output_type": "stream",
     "text": [
      "Using the irfs that are valid between 04/07/17 08:20:06 and 09/02/19 09:59:57 (YY/MM/DD HH:MM:SS)\n"
     ]
    }
   ],
   "source": [
    "assert find_response_version(time_start[0]) == find_response_version(time_start[-1]), \"Versions not constant\"\n",
    "version = find_response_version(time_start[0])\n",
    "rsp_base = ResponseDataRMF.from_version(version)\n",
    "\n",
    "\n",
    "resp_mats = []\n",
    "emod = np.geomspace(10, 3000, 50)\n",
    "\n",
    "for p_i, pointing in enumerate(pointings):\n",
    "    if skip_pointing[p_i]:\n",
    "        continue\n",
    "    \n",
    "    time = time_start[p_i]\n",
    "    dets = get_live_dets(time=time, event_types=[\"single\"])\n",
    "    \n",
    "    rmfs = []\n",
    "    for d in dets:\n",
    "        rmfs.append(ResponseRMFGenerator.from_time(time, d, energy_bins, emod, rsp_base))\n",
    "        \n",
    "    sds = np.empty(0)\n",
    "    for d in range(len(dets)):\n",
    "        sd = SPIDRM(rmfs[d], source_ra, source_dec)\n",
    "        sds = np.append(sds, sd.matrix.T)\n",
    "    resp_mats.append(sds.reshape((len(dets), len(emod)-1, len(energy_bins)-1)))"
   ]
  },
  {
   "cell_type": "code",
   "execution_count": null,
   "metadata": {},
   "outputs": [],
   "source": [
    "def calc_count_rates(resp_mats, ra, dec, b):\n",
    "    s = Line()\n",
    "    s.a = 0\n",
    "    s.a.free = False\n",
    "    s.b = b\n",
    "    component1 = SpectralComponent(\"line\", shape=s)\n",
    "    source = PointSource(\"Test\", ra=ra, dec=dec, components=[component1])\n",
    "    \n",
    "    spec = source(emod)\n",
    "    spec_binned = (emod[1:]-emod[:-1])*(spec[:-1]+spec[1:])/2\n",
    "    \n",
    "    source_counts = np.zeros((len(pointings)*85, len(energy_bins)-1), dtype=np.uint32)\n",
    "    \n",
    "    for p_i, pointing in enumerate(pointings):\n",
    "        if skip_pointing[p_i]:\n",
    "            continue\n",
    "        \n",
    "        resp_mat = resp_mats[p_i]\n",
    "        \n",
    "        count_rates = np.dot(spec_binned, resp_mat)\n",
    "        \n",
    "        for d_i, d in enumerate(dets):\n",
    "            index = p_i * 85 + d\n",
    "            source_counts[index,:] = np.random.poisson(count_rates[d_i,:] * time_elapsed[pointing_index*85 + d])\n",
    "    \n",
    "    return source_counts"
   ]
  },
  {
   "cell_type": "code",
   "execution_count": null,
   "metadata": {},
   "outputs": [],
   "source": [
    "\n",
    "        \n",
    "temp_path = f\"{data_path_d}\"        \n",
    "\n",
    "if not os.path.exists(temp_path):\n",
    "    os.mkdir(temp_path)\n",
    "    \n",
    "# os.popen(f\"cp {data_path}/energy_boundaries.fits {temp_path}/energy_boundaries.fits\")\n",
    "os.popen(f\"cp {data_path}/pointing.fits {temp_path}/pointing.fits\")\n",
    "\n",
    "        \n",
    "hdu = fits.BinTableHDU(data=updated_time, name=\"SPI.-OBS.-DTI\") # is all of this correct?\n",
    "hdu.writeto(f\"{temp_path}/dead_time.fits\")\n",
    "\n",
    "source_counts = calc_count_rates(resp_mats, source_ra, source_dec, source_slope)\n",
    "\n",
    "total_counts = background_counts.copy()\n",
    "total_counts[\"COUNTS\"] += source_counts\n",
    "        \n",
    "hdu = fits.BinTableHDU(data=total_counts, name=\"SPI.-OBS.-DSP\")\n",
    "hdu.writeto(f\"{temp_path}/evts_det_spec.fits\")\n",
    "\n",
    "hdu = fits.BinTableHDU(data=ebin_table, name=\"SPI.-OBS.-EB\")\n",
    "hdu.writeto(f\"{temp_path}/energy_boundaries.fits\")"
   ]
  }
 ],
 "metadata": {
  "kernelspec": {
   "display_name": "MT",
   "language": "python",
   "name": "python3"
  },
  "language_info": {
   "codemirror_mode": {
    "name": "ipython",
    "version": 3
   },
   "file_extension": ".py",
   "mimetype": "text/x-python",
   "name": "python",
   "nbconvert_exporter": "python",
   "pygments_lexer": "ipython3",
   "version": "3.9.13"
  },
  "orig_nbformat": 4
 },
 "nbformat": 4,
 "nbformat_minor": 2
}
