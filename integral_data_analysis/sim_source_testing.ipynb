{
 "cells": [
  {
   "cell_type": "code",
   "execution_count": 65,
   "metadata": {},
   "outputs": [],
   "source": [
    "import numpy as np\n",
    "import astropy.io.fits as fits\n",
    "from astropy.table import Table\n",
    "from astromodels import Powerlaw,  PointSource, SpectralComponent\n",
    "import astropy.time as at\n",
    "from datetime import datetime\n",
    "from pyspi.utils.function_utils import find_response_version\n",
    "from pyspi.utils.response.spi_response_data import ResponseDataRMF\n",
    "from pyspi.utils.response.spi_response import ResponseRMFGenerator\n",
    "from pyspi.utils.response.spi_drm import SPIDRM\n",
    "from pyspi.utils.livedets import get_live_dets\n",
    "import os\n",
    "from MultinestClusterFit import powerlaw_binned_spectrum"
   ]
  },
  {
   "cell_type": "code",
   "execution_count": 66,
   "metadata": {},
   "outputs": [],
   "source": [
    "# reference orbit\n",
    "data_path = \"crab_data/0374\"\n",
    "\n",
    "time_elapsed = 3000."
   ]
  },
  {
   "cell_type": "code",
   "execution_count": 67,
   "metadata": {},
   "outputs": [],
   "source": [
    "# Energy Bins\n",
    "with fits.open(f\"{data_path}/energy_boundaries.fits\") as file:\n",
    "    t = Table.read(file[1])\n",
    "    energy_bins = np.append(t[\"E_MIN\"], t[\"E_MAX\"][-1])"
   ]
  },
  {
   "cell_type": "code",
   "execution_count": 68,
   "metadata": {},
   "outputs": [],
   "source": [
    "# Pointings and Start Times\n",
    "with fits.open(f\"{data_path}/pointing.fits\") as file:\n",
    "    t = Table.read(file[1])\n",
    "    \n",
    "    pointings = np.array(t[\"PTID_SPI\"])\n",
    "    \n",
    "    time_start = np.array(t[\"TSTART\"]) + 2451544.5\n",
    "    time_start = [at.Time(f\"{i}\", format=\"jd\").datetime for i in time_start]\n",
    "    time_start = np.array([datetime.strftime(i,'%y%m%d %H%M%S') for i in time_start])"
   ]
  },
  {
   "cell_type": "code",
   "execution_count": 77,
   "metadata": {},
   "outputs": [],
   "source": [
    "# Define Source and Spectrum\n",
    "\n",
    "ra, dec = 10, -40\n",
    "# K, piv, index = 6e-3, 40, -2\n",
    "# K, piv, index = 6e-3, 40, 0\n",
    "K, piv, index = 6e-3, 40, 2\n",
    "\n",
    "\n",
    "    \n",
    "pl = Powerlaw()\n",
    "pl.piv = piv\n",
    "pl.K = K\n",
    "pl.index = index\n",
    "component1 = SpectralComponent(\"pl\", shape=pl)\n",
    "source = PointSource(\"Test\", ra=ra, dec=dec, components=[component1])\n",
    "\n",
    "emod = np.geomspace(10, 3000, 200)\n",
    "spec = source(emod)\n",
    "spec_binned = powerlaw_binned_spectrum(emod, spec)\n",
    "# spec_binned = (emod[1:]-emod[:-1])*(spec[:-1]+spec[1:])/2"
   ]
  },
  {
   "cell_type": "code",
   "execution_count": 78,
   "metadata": {},
   "outputs": [],
   "source": [
    "# Define Background\n",
    "\n",
    "background_counts = np.linspace(1000, 10, len(energy_bins)-1)\n",
    "background_counts = np.repeat(background_counts[np.newaxis,:], len(pointings) * 85, axis=0)\n",
    "background_counts = np.random.poisson(background_counts)"
   ]
  },
  {
   "cell_type": "code",
   "execution_count": 79,
   "metadata": {},
   "outputs": [
    {
     "name": "stdout",
     "output_type": "stream",
     "text": [
      "Using the irfs that are valid between 04/07/17 08:20:06 and 09/02/19 09:59:57 (YY/MM/DD HH:MM:SS)\n"
     ]
    }
   ],
   "source": [
    "# Generate Source Counts\n",
    "\n",
    "assert find_response_version(time_start[0]) == find_response_version(time_start[-1]), \"Versions not constant\"\n",
    "version = find_response_version(time_start[0])\n",
    "rsp_base = ResponseDataRMF.from_version(version)\n",
    "\n",
    "source_counts = np.zeros((len(pointings)*85, len(energy_bins)-1), dtype=np.uint32)\n",
    "\n",
    "for p_i, pointing in enumerate(pointings):\n",
    "    time = time_start[p_i]\n",
    "    dets = get_live_dets(time=time, event_types=[\"single\"])\n",
    "    \n",
    "    rmfs = []\n",
    "    for d in dets:\n",
    "        rmfs.append(ResponseRMFGenerator.from_time(time, d, energy_bins, emod, rsp_base))\n",
    "        \n",
    "    sds = np.empty(0)\n",
    "    for d in range(len(dets)):\n",
    "        sd = SPIDRM(rmfs[d], ra, dec)\n",
    "        sds = np.append(sds, sd.matrix.T)\n",
    "    resp_mat = sds.reshape((len(dets), len(emod)-1, len(energy_bins)-1))\n",
    "    \n",
    "    count_rates = np.dot(spec_binned, resp_mat)\n",
    "    \n",
    "    for d_i, d in enumerate(dets):\n",
    "        index = p_i * 85 + d\n",
    "        source_counts[index,:] = np.random.poisson(count_rates[d_i,:] * time_elapsed)    "
   ]
  },
  {
   "cell_type": "code",
   "execution_count": 80,
   "metadata": {},
   "outputs": [],
   "source": [
    "total_counts = source_counts + background_counts"
   ]
  },
  {
   "cell_type": "code",
   "execution_count": 36,
   "metadata": {},
   "outputs": [
    {
     "data": {
      "text/plain": [
       "166"
      ]
     },
     "execution_count": 36,
     "metadata": {},
     "output_type": "execute_result"
    }
   ],
   "source": []
  },
  {
   "cell_type": "code",
   "execution_count": 81,
   "metadata": {},
   "outputs": [],
   "source": [
    "destination_folder = \"simulated_data/test_ba_de_so_in\"\n",
    "\n",
    "if not os.path.exists(destination_folder):\n",
    "    os.mkdir(destination_folder)"
   ]
  },
  {
   "cell_type": "code",
   "execution_count": 82,
   "metadata": {},
   "outputs": [
    {
     "data": {
      "text/plain": [
       "<os._wrap_close at 0x7f7660973ac0>"
      ]
     },
     "execution_count": 82,
     "metadata": {},
     "output_type": "execute_result"
    }
   ],
   "source": [
    "os.popen(f\"cp {data_path}/energy_boundaries.fits {destination_folder}/energy_boundaries.fits\")\n",
    "os.popen(f\"cp {data_path}/pointing.fits {destination_folder}/pointing.fits\")"
   ]
  },
  {
   "cell_type": "code",
   "execution_count": 75,
   "metadata": {},
   "outputs": [],
   "source": [
    "with fits.open(f\"{data_path}/evts_det_spec.fits\") as file:\n",
    "    t = Table.read(file[1])\n",
    "    \n",
    "updated_counts = t.copy()\n",
    "\n",
    "updated_counts[\"COUNTS\"] = total_counts\n",
    "\n",
    "hdu = fits.BinTableHDU(data=updated_counts, name=\"SPI.-OBS.-DSP\")\n",
    "hdu.writeto(f\"{destination_folder}/evts_det_spec.fits\")"
   ]
  },
  {
   "cell_type": "code",
   "execution_count": 76,
   "metadata": {},
   "outputs": [],
   "source": [
    "with fits.open(f\"{data_path}/dead_time.fits\") as file:\n",
    "    t = Table.read(file[1])\n",
    "    \n",
    "updated_times = t.copy()\n",
    "\n",
    "updated_times[\"LIVETIME\"] = np.full(len(updated_times), time_elapsed)\n",
    "\n",
    "hdu = fits.BinTableHDU(data=updated_times, name=\"SPI.-OBS.-DTI\")\n",
    "hdu.writeto(f\"{destination_folder}/dead_time.fits\")"
   ]
  },
  {
   "cell_type": "code",
   "execution_count": null,
   "metadata": {},
   "outputs": [],
   "source": []
  }
 ],
 "metadata": {
  "kernelspec": {
   "display_name": "MT",
   "language": "python",
   "name": "python3"
  },
  "language_info": {
   "codemirror_mode": {
    "name": "ipython",
    "version": 3
   },
   "file_extension": ".py",
   "mimetype": "text/x-python",
   "name": "python",
   "nbconvert_exporter": "python",
   "pygments_lexer": "ipython3",
   "version": "3.9.13"
  },
  "orig_nbformat": 4
 },
 "nbformat": 4,
 "nbformat_minor": 2
}
