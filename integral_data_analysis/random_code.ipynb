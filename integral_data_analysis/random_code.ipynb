{
 "cells": [
  {
   "cell_type": "code",
   "execution_count": 29,
   "metadata": {},
   "outputs": [],
   "source": [
    "import numpy as np\n",
    "import matplotlib.pyplot as plt\n",
    "from numba import njit\n",
    "import pickle"
   ]
  },
  {
   "cell_type": "code",
   "execution_count": 58,
   "metadata": {},
   "outputs": [],
   "source": [
    "@njit\n",
    "def powerlaw_binned_spectrum(energy_bins, spectrum):\n",
    "    assert np.amin(energy_bins) > 0, \"All energy bin values must be greater 0\"\n",
    "    assert np.amin(spectrum) > 0, \"All spectrum values must be greater 0\"\n",
    "    \n",
    "    B = np.log(spectrum[1:] / spectrum[:-1]) / np.log(energy_bins[1:] / energy_bins[:-1])\n",
    "    A = spectrum[:-1] / (energy_bins[:-1] ** B)\n",
    "    \n",
    "    C = B+1.\n",
    "    # prevent rounding errors\n",
    "    C[np.abs(C) < 1e-7] = 0\n",
    "    \n",
    "    regular = np.nonzero(C)[0]\n",
    "    non_regular = []\n",
    "    for i in range(len(energy_bins) - 1):\n",
    "        if not i in regular:\n",
    "            non_regular.append(i)\n",
    "    non_regular = np.array(non_regular)\n",
    "    print(non_regular)\n",
    "    \n",
    "    binned_spectrum = np.zeros(len(energy_bins) - 1)\n",
    "    binned_spectrum[regular] = A[regular] / (C[regular]) * (energy_bins[regular+1]**(C[regular]) - energy_bins[regular]**(C[regular]))\n",
    "    binned_spectrum[non_regular] = A[non_regular] * (np.log(energy_bins[non_regular+1]) - np.log(energy_bins[non_regular]))\n",
    "    \n",
    "    return binned_spectrum\n",
    "    "
   ]
  },
  {
   "cell_type": "code",
   "execution_count": 61,
   "metadata": {},
   "outputs": [],
   "source": [
    "a = np.linspace(1,11,11)\n",
    "b = np.linspace(11,1,11)\n",
    "b[1]=11*2**(-1-1.0e-7)\n"
   ]
  },
  {
   "cell_type": "code",
   "execution_count": 62,
   "metadata": {},
   "outputs": [
    {
     "name": "stdout",
     "output_type": "stream",
     "text": [
      "[]\n"
     ]
    },
    {
     "data": {
      "text/plain": [
       "array([7.62461872, 7.22479233, 8.46626555, 7.47031054, 6.47198726,\n",
       "       5.47198726, 4.47031054, 3.46626555, 2.45755523, 1.43482524])"
      ]
     },
     "execution_count": 62,
     "metadata": {},
     "output_type": "execute_result"
    }
   ],
   "source": [
    "powerlaw_binned_spectrum(a,b)"
   ]
  },
  {
   "cell_type": "code",
   "execution_count": 63,
   "metadata": {},
   "outputs": [
    {
     "data": {
      "text/plain": [
       "array([8.24999981, 7.24999981, 8.5       , 7.5       , 6.5       ,\n",
       "       5.5       , 4.5       , 3.5       , 2.5       , 1.5       ])"
      ]
     },
     "execution_count": 63,
     "metadata": {},
     "output_type": "execute_result"
    }
   ],
   "source": [
    "(a[1:]-a[:-1])*(b[:-1]+b[1:])/2"
   ]
  },
  {
   "cell_type": "code",
   "execution_count": 7,
   "metadata": {},
   "outputs": [
    {
     "data": {
      "text/plain": [
       "-1.1102230246251565e-16"
      ]
     },
     "execution_count": 7,
     "metadata": {},
     "output_type": "execute_result"
    }
   ],
   "source": [
    "(3**-2.22044605e-16 - 2 ** -2.22044605e-16)"
   ]
  },
  {
   "cell_type": "code",
   "execution_count": 8,
   "metadata": {},
   "outputs": [
    {
     "data": {
      "text/plain": [
       "4.46011618918981"
      ]
     },
     "execution_count": 8,
     "metadata": {},
     "output_type": "execute_result"
    }
   ],
   "source": [
    "11 * ( np.log(3) - np.log(2))"
   ]
  },
  {
   "cell_type": "code",
   "execution_count": 14,
   "metadata": {},
   "outputs": [],
   "source": [
    "g = 6**-2.22044605e-16"
   ]
  },
  {
   "cell_type": "code",
   "execution_count": 15,
   "metadata": {},
   "outputs": [],
   "source": [
    "h = 5 ** -2.22044605e-16"
   ]
  },
  {
   "cell_type": "code",
   "execution_count": 16,
   "metadata": {},
   "outputs": [
    {
     "data": {
      "text/plain": [
       "-1.1102230246251565e-16"
      ]
     },
     "execution_count": 16,
     "metadata": {},
     "output_type": "execute_result"
    }
   ],
   "source": [
    "g- h"
   ]
  },
  {
   "cell_type": "code",
   "execution_count": null,
   "metadata": {},
   "outputs": [],
   "source": []
  }
 ],
 "metadata": {
  "kernelspec": {
   "display_name": "MT",
   "language": "python",
   "name": "python3"
  },
  "language_info": {
   "codemirror_mode": {
    "name": "ipython",
    "version": 3
   },
   "file_extension": ".py",
   "mimetype": "text/x-python",
   "name": "python",
   "nbconvert_exporter": "python",
   "pygments_lexer": "ipython3",
   "version": "3.9.13"
  },
  "orig_nbformat": 4,
  "vscode": {
   "interpreter": {
    "hash": "77c6aaad9a34bae581a83e51509dc60b9a05d4f3ba3ef918f772e036566f2e96"
   }
  }
 },
 "nbformat": 4,
 "nbformat_minor": 2
}
