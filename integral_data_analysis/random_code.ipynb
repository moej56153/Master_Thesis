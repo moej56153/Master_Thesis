{
 "cells": [
  {
   "cell_type": "code",
   "execution_count": null,
   "metadata": {},
   "outputs": [
    {
     "ename": "",
     "evalue": "",
     "output_type": "error",
     "traceback": [
      "\u001b[1;31mFailed to start the Kernel. \n",
      "\u001b[1;31mJupyter server crashed. Unable to connect. \n",
      "\u001b[1;31mError code from Jupyter: 127\n",
      "\u001b[1;31mpyenv: jupyter-notebook: command not found\n",
      "\u001b[1;31m\n",
      "\u001b[1;31m\n",
      "\u001b[1;31mThe `jupyter-notebook' command exists in these Python versions:\n",
      "\u001b[1;31m\n",
      "\u001b[1;31m  3.9.13\n",
      "\u001b[1;31m  3.9.13/envs/MT\n",
      "\u001b[1;31m  MT\n",
      "\u001b[1;31m\n",
      "\u001b[1;31mNote: See 'pyenv help global' for tips on allowing both\n",
      "\u001b[1;31m      python2 and python3 to be found. \n",
      "\u001b[1;31mView Jupyter <a href='command:jupyter.viewOutput'>log</a> for further details."
     ]
    }
   ],
   "source": [
    "import numpy as np\n",
    "import matplotlib.pyplot as plt\n",
    "import math\n",
    "# from numba import njit"
   ]
  },
  {
   "cell_type": "code",
   "execution_count": 3,
   "metadata": {},
   "outputs": [
    {
     "data": {
      "text/plain": [
       "array([[  1.,   2.,   3.,   4.,   5.,   6.,   7.,   8.,   9.,  10.],\n",
       "       [ 11.,  12.,  13.,  14.,  15.,  16.,  17.,  18.,  19.,  20.],\n",
       "       [ 21.,  22.,  23.,  24.,  25.,  26.,  27.,  28.,  29.,  30.],\n",
       "       [ 31.,  32.,  33.,  34.,  35.,  36.,  37.,  38.,  39.,  40.],\n",
       "       [ 41.,  42.,  43.,  44.,  45.,  46.,  47.,  48.,  49.,  50.],\n",
       "       [ 51.,  52.,  53.,  54.,  55.,  56.,  57.,  58.,  59.,  60.],\n",
       "       [ 61.,  62.,  63.,  64.,  65.,  66.,  67.,  68.,  69.,  70.],\n",
       "       [ 71.,  72.,  73.,  74.,  75.,  76.,  77.,  78.,  79.,  80.],\n",
       "       [ 81.,  82.,  83.,  84.,  85.,  86.,  87.,  88.,  89.,  90.],\n",
       "       [ 91.,  92.,  93.,  94.,  95.,  96.,  97.,  98.,  99., 100.]])"
      ]
     },
     "execution_count": 3,
     "metadata": {},
     "output_type": "execute_result"
    }
   ],
   "source": [
    "a = np.linspace(1,100,100).reshape(10,10)\n",
    "a"
   ]
  },
  {
   "cell_type": "code",
   "execution_count": 21,
   "metadata": {},
   "outputs": [
    {
     "data": {
      "text/plain": [
       "array([8, 7, 5, 1, 4, 3, 0, 6, 9, 2])"
      ]
     },
     "execution_count": 21,
     "metadata": {},
     "output_type": "execute_result"
    }
   ],
   "source": [
    "b = np.random.choice(len(a), 10, replace=False)\n",
    "b"
   ]
  },
  {
   "cell_type": "code",
   "execution_count": 22,
   "metadata": {},
   "outputs": [
    {
     "data": {
      "text/plain": [
       "array([[ 81.,  82.,  83.,  84.,  85.,  86.,  87.,  88.,  89.,  90.],\n",
       "       [ 71.,  72.,  73.,  74.,  75.,  76.,  77.,  78.,  79.,  80.],\n",
       "       [ 51.,  52.,  53.,  54.,  55.,  56.,  57.,  58.,  59.,  60.],\n",
       "       [ 11.,  12.,  13.,  14.,  15.,  16.,  17.,  18.,  19.,  20.],\n",
       "       [ 41.,  42.,  43.,  44.,  45.,  46.,  47.,  48.,  49.,  50.],\n",
       "       [ 31.,  32.,  33.,  34.,  35.,  36.,  37.,  38.,  39.,  40.],\n",
       "       [  1.,   2.,   3.,   4.,   5.,   6.,   7.,   8.,   9.,  10.],\n",
       "       [ 61.,  62.,  63.,  64.,  65.,  66.,  67.,  68.,  69.,  70.],\n",
       "       [ 91.,  92.,  93.,  94.,  95.,  96.,  97.,  98.,  99., 100.],\n",
       "       [ 21.,  22.,  23.,  24.,  25.,  26.,  27.,  28.,  29.,  30.]])"
      ]
     },
     "execution_count": 22,
     "metadata": {},
     "output_type": "execute_result"
    }
   ],
   "source": [
    "c = a[b]\n",
    "c"
   ]
  },
  {
   "cell_type": "code",
   "execution_count": 4,
   "metadata": {},
   "outputs": [
    {
     "data": {
      "text/plain": [
       "array([[  2,   3,   3,   4,   3,   5,  11,   6,  10,   4],\n",
       "       [  9,  12,  15,  16,  18,  18,  12,  27,  15,  20],\n",
       "       [ 28,  25,  19,  29,  25,  28,  26,  33,  33,  28],\n",
       "       [ 30,  31,  33,  38,  39,  35,  37,  39,  41,  35],\n",
       "       [ 33,  45,  46,  38,  43,  42,  47,  48,  52,  37],\n",
       "       [ 50,  51,  51,  50,  47,  55,  52,  60,  56,  56],\n",
       "       [ 58,  58,  58,  64,  79,  54,  71,  69,  82,  74],\n",
       "       [ 81,  60,  67,  79,  91,  69,  86,  94,  87,  79],\n",
       "       [ 80,  89, 103,  77,  77,  70,  90,  89,  92,  88],\n",
       "       [109, 106,  88,  78, 109,  89,  90,  98,  93, 100]])"
      ]
     },
     "execution_count": 4,
     "metadata": {},
     "output_type": "execute_result"
    }
   ],
   "source": [
    "d = np.random.poisson(a)\n",
    "d"
   ]
  },
  {
   "cell_type": "code",
   "execution_count": 5,
   "metadata": {},
   "outputs": [
    {
     "data": {
      "text/plain": [
       "array([[0.24857352, 0.52258717, 0.72299763, 0.36248207, 0.16344966],\n",
       "       [0.42009953, 0.88946753, 0.11015455, 0.17211979, 0.23988996],\n",
       "       [0.18757262, 0.10816884, 0.8914432 , 0.77984667, 0.51075368],\n",
       "       [0.78387066, 0.24609369, 0.34239687, 0.15187173, 0.25445952],\n",
       "       [0.41771889, 0.30473516, 0.65523137, 0.4054742 , 0.02852909],\n",
       "       [0.58057191, 0.48689875, 0.94425383, 0.35777069, 0.87701978],\n",
       "       [0.33786308, 0.74012799, 0.75765299, 0.28936446, 0.679033  ],\n",
       "       [0.03895662, 0.44635864, 0.07082328, 0.02970154, 0.69380286],\n",
       "       [0.91933507, 0.57493023, 0.67040566, 0.79866289, 0.14534691],\n",
       "       [0.51319881, 0.11797639, 0.97573588, 0.33841039, 0.8869241 ]])"
      ]
     },
     "execution_count": 5,
     "metadata": {},
     "output_type": "execute_result"
    }
   ],
   "source": [
    "f = np.random.random((10,5))\n",
    "f"
   ]
  },
  {
   "cell_type": "code",
   "execution_count": 6,
   "metadata": {},
   "outputs": [
    {
     "data": {
      "text/plain": [
       "array([7, 3, 4, 1, 0, 2, 6, 9, 8, 5])"
      ]
     },
     "execution_count": 6,
     "metadata": {},
     "output_type": "execute_result"
    }
   ],
   "source": [
    "g = np.argsort(f, axis=0)\n",
    "g"
   ]
  },
  {
   "cell_type": "code",
   "execution_count": 22,
   "metadata": {},
   "outputs": [
    {
     "data": {
      "text/plain": [
       "array([[0.04795551, 0.10001533, 0.02029065, 0.11541755, 0.03302784],\n",
       "       [0.12874408, 0.17745988, 0.1420819 , 0.14156922, 0.05452556],\n",
       "       [0.26681873, 0.26224592, 0.22616142, 0.27680499, 0.07239421],\n",
       "       [0.31842291, 0.32645809, 0.27369881, 0.29914806, 0.18637271],\n",
       "       [0.34382806, 0.5050008 , 0.28951423, 0.32485559, 0.26362999],\n",
       "       [0.47633483, 0.60675005, 0.46654653, 0.59734406, 0.29701644],\n",
       "       [0.58377037, 0.67648924, 0.73337696, 0.88345719, 0.43614371],\n",
       "       [0.71760223, 0.69640922, 0.73548884, 0.88631987, 0.49069189],\n",
       "       [0.88025723, 0.78863396, 0.74275733, 0.91435782, 0.55437134],\n",
       "       [0.91270861, 0.79476176, 0.85371158, 0.99903923, 0.98710892]])"
      ]
     },
     "execution_count": 22,
     "metadata": {},
     "output_type": "execute_result"
    }
   ],
   "source": [
    "h = np.take_along_axis(f, g, axis=0)\n",
    "h"
   ]
  },
  {
   "cell_type": "code",
   "execution_count": 7,
   "metadata": {},
   "outputs": [
    {
     "data": {
      "text/plain": [
       "array([7, 3, 4, 1, 0, 2, 6, 9, 8, 5])"
      ]
     },
     "execution_count": 7,
     "metadata": {},
     "output_type": "execute_result"
    }
   ],
   "source": [
    "i = np.argsort(np.sum(f, axis=1))\n",
    "i"
   ]
  },
  {
   "cell_type": "code",
   "execution_count": 9,
   "metadata": {},
   "outputs": [
    {
     "data": {
      "text/plain": [
       "array([[0.03895662, 0.44635864, 0.07082328, 0.02970154, 0.69380286],\n",
       "       [0.78387066, 0.24609369, 0.34239687, 0.15187173, 0.25445952],\n",
       "       [0.41771889, 0.30473516, 0.65523137, 0.4054742 , 0.02852909],\n",
       "       [0.42009953, 0.88946753, 0.11015455, 0.17211979, 0.23988996],\n",
       "       [0.24857352, 0.52258717, 0.72299763, 0.36248207, 0.16344966],\n",
       "       [0.18757262, 0.10816884, 0.8914432 , 0.77984667, 0.51075368],\n",
       "       [0.33786308, 0.74012799, 0.75765299, 0.28936446, 0.679033  ],\n",
       "       [0.51319881, 0.11797639, 0.97573588, 0.33841039, 0.8869241 ],\n",
       "       [0.91933507, 0.57493023, 0.67040566, 0.79866289, 0.14534691],\n",
       "       [0.58057191, 0.48689875, 0.94425383, 0.35777069, 0.87701978]])"
      ]
     },
     "execution_count": 9,
     "metadata": {},
     "output_type": "execute_result"
    }
   ],
   "source": [
    "j = f[i,:]\n",
    "j"
   ]
  },
  {
   "cell_type": "code",
   "execution_count": 10,
   "metadata": {},
   "outputs": [
    {
     "data": {
      "text/plain": [
       "array([1.27964294, 1.77869247, 1.8116887 , 1.83173136, 2.02009005,\n",
       "       2.477785  , 2.80404152, 2.83224558, 3.10868076, 3.24651497])"
      ]
     },
     "execution_count": 10,
     "metadata": {},
     "output_type": "execute_result"
    }
   ],
   "source": [
    "np.sum(j, axis=1)"
   ]
  },
  {
   "cell_type": "code",
   "execution_count": 23,
   "metadata": {},
   "outputs": [
    {
     "data": {
      "text/plain": [
       "array([ 1.,  2.,  3.,  4.,  5.,  6.,  7.,  8.,  9., 10.])"
      ]
     },
     "execution_count": 23,
     "metadata": {},
     "output_type": "execute_result"
    }
   ],
   "source": [
    "a = np.linspace(1,10,10)\n",
    "a"
   ]
  },
  {
   "cell_type": "code",
   "execution_count": 25,
   "metadata": {},
   "outputs": [
    {
     "data": {
      "text/plain": [
       "array([[[ 1.]],\n",
       "\n",
       "       [[ 2.]],\n",
       "\n",
       "       [[ 3.]],\n",
       "\n",
       "       [[ 4.]],\n",
       "\n",
       "       [[ 5.]],\n",
       "\n",
       "       [[ 6.]],\n",
       "\n",
       "       [[ 7.]],\n",
       "\n",
       "       [[ 8.]],\n",
       "\n",
       "       [[ 9.]],\n",
       "\n",
       "       [[10.]]])"
      ]
     },
     "execution_count": 25,
     "metadata": {},
     "output_type": "execute_result"
    }
   ],
   "source": [
    "a[:,np.newaxis][:,np.newaxis]"
   ]
  },
  {
   "cell_type": "code",
   "execution_count": 3,
   "metadata": {},
   "outputs": [
    {
     "data": {
      "text/plain": [
       "array([[[ 1.,  2.,  3.],\n",
       "        [ 4.,  5.,  6.],\n",
       "        [ 7.,  8.,  9.]],\n",
       "\n",
       "       [[10., 11., 12.],\n",
       "        [13., 14., 15.],\n",
       "        [16., 17., 18.]],\n",
       "\n",
       "       [[19., 20., 21.],\n",
       "        [22., 23., 24.],\n",
       "        [25., 26., 27.]]])"
      ]
     },
     "execution_count": 3,
     "metadata": {},
     "output_type": "execute_result"
    }
   ],
   "source": [
    "a = np.linspace(1,27,27).reshape((3,3,3))\n",
    "a"
   ]
  },
  {
   "cell_type": "code",
   "execution_count": 4,
   "metadata": {},
   "outputs": [
    {
     "data": {
      "text/plain": [
       "array([ 45., 126., 207.])"
      ]
     },
     "execution_count": 4,
     "metadata": {},
     "output_type": "execute_result"
    }
   ],
   "source": [
    "b = np.sum(a, axis=(1,2))\n",
    "b"
   ]
  },
  {
   "cell_type": "code",
   "execution_count": 12,
   "metadata": {},
   "outputs": [
    {
     "data": {
      "text/plain": [
       "array([[[1., 2., 3.]],\n",
       "\n",
       "       [[4., 5., 6.]],\n",
       "\n",
       "       [[7., 8., 9.]]])"
      ]
     },
     "execution_count": 12,
     "metadata": {},
     "output_type": "execute_result"
    }
   ],
   "source": [
    "a = np.linspace(1,9,9).reshape(3,3)\n",
    "a[:,np.newaxis,:]\n"
   ]
  },
  {
   "cell_type": "code",
   "execution_count": 13,
   "metadata": {},
   "outputs": [
    {
     "data": {
      "text/plain": [
       "array([[[1., 2., 3.],\n",
       "        [1., 2., 3.],\n",
       "        [1., 2., 3.]],\n",
       "\n",
       "       [[4., 5., 6.],\n",
       "        [4., 5., 6.],\n",
       "        [4., 5., 6.]],\n",
       "\n",
       "       [[7., 8., 9.],\n",
       "        [7., 8., 9.],\n",
       "        [7., 8., 9.]]])"
      ]
     },
     "execution_count": 13,
     "metadata": {},
     "output_type": "execute_result"
    }
   ],
   "source": [
    "np.repeat(a[:,np.newaxis,:], 3, axis=1)"
   ]
  },
  {
   "cell_type": "code",
   "execution_count": 18,
   "metadata": {},
   "outputs": [],
   "source": [
    "a = {\"b\":\"c\"}"
   ]
  },
  {
   "cell_type": "code",
   "execution_count": 19,
   "metadata": {},
   "outputs": [
    {
     "data": {
      "text/plain": [
       "'c'"
      ]
     },
     "execution_count": 19,
     "metadata": {},
     "output_type": "execute_result"
    }
   ],
   "source": [
    "a[\"b\"]"
   ]
  },
  {
   "cell_type": "code",
   "execution_count": 1,
   "metadata": {},
   "outputs": [
    {
     "data": {
      "text/plain": [
       "[<matplotlib.lines.Line2D at 0x7f6193b76f40>]"
      ]
     },
     "execution_count": 1,
     "metadata": {},
     "output_type": "execute_result"
    },
    {
     "data": {
      "image/png": "[encoded data removed]",
      "text/plain": [
       "<Figure size 432x288 with 1 Axes>"
      ]
     },
     "metadata": {
      "needs_background": "light"
     },
     "output_type": "display_data"
    }
   ],
   "source": [
    "import numpy as np\n",
    "import matplotlib.pyplot as plt\n",
    "\n",
    "fig, axes = plt.subplots()\n",
    "\n",
    "size = 100\n",
    "xs = np.linspace(1, size, size)\n",
    "ys = np.random.poisson(xs, (300, size))\n",
    "ys = np.swapaxes(ys, 0, 1)\n",
    "style = {\"c\":\"C9\", \"lw\":0.1, \"alpha\":0.3, \"label\":\"Posterior Predictive\"}\n",
    "plt.plot(xs, ys, **style)\n",
    "plt.plot(xs, np.average(ys, axis=1), label=\"Posterior Mean\")\n"
   ]
  },
  {
   "cell_type": "code",
   "execution_count": 40,
   "metadata": {},
   "outputs": [
    {
     "data": {
      "text/plain": [
       "array([[  1,   1,   3,   1,   3],\n",
       "       [  0,   4,   1,   1,   1],\n",
       "       [  2,   4,   1,   2,   2],\n",
       "       [  2,   0,   5,   3,   8],\n",
       "       [  5,   6,  10,   8,   5],\n",
       "       [  8,   6,   8,   8,   5],\n",
       "       [  8,  12,  10,   4,   3],\n",
       "       [ 10,  12,   6,   7,   8],\n",
       "       [ 11,   8,  13,   8,   9],\n",
       "       [ 11,  11,  14,  22,  10],\n",
       "       [ 12,  14,  13,  11,   7],\n",
       "       [ 14,  11,  14,   5,  15],\n",
       "       [ 13,  19,  16,  15,   7],\n",
       "       [ 14,  12,  13,  12,  10],\n",
       "       [ 14,  17,  13,  16,  17],\n",
       "       [ 14,  12,   7,  16,  20],\n",
       "       [ 15,  18,  20,  17,  17],\n",
       "       [ 20,  22,  14,  15,  10],\n",
       "       [ 10,  12,  19,  20,  13],\n",
       "       [ 20,  25,  22,  24,  21],\n",
       "       [ 21,  25,  18,  20,  28],\n",
       "       [ 22,  23,  22,  20,  20],\n",
       "       [ 23,  29,  21,  26,  19],\n",
       "       [ 22,  23,  23,  25,  24],\n",
       "       [ 21,  26,  28,  33,  24],\n",
       "       [ 23,  24,  25,  26,  32],\n",
       "       [ 32,  31,  35,  31,  17],\n",
       "       [ 27,  27,  27,  24,  24],\n",
       "       [ 25,  27,  22,  29,  14],\n",
       "       [ 34,  33,  31,  30,  27],\n",
       "       [ 42,  26,  36,  29,  22],\n",
       "       [ 28,  31,  37,  33,  28],\n",
       "       [ 29,  29,  35,  27,  25],\n",
       "       [ 30,  41,  33,  38,  29],\n",
       "       [ 41,  34,  28,  35,  35],\n",
       "       [ 26,  24,  38,  49,  33],\n",
       "       [ 31,  36,  46,  43,  30],\n",
       "       [ 37,  36,  23,  34,  42],\n",
       "       [ 42,  37,  35,  37,  37],\n",
       "       [ 44,  39,  42,  37,  40],\n",
       "       [ 38,  38,  42,  43,  49],\n",
       "       [ 38,  43,  43,  40,  42],\n",
       "       [ 42,  45,  51,  41,  45],\n",
       "       [ 46,  52,  45,  42,  58],\n",
       "       [ 48,  45,  52,  41,  52],\n",
       "       [ 45,  56,  46,  49,  41],\n",
       "       [ 40,  51,  40,  50,  45],\n",
       "       [ 45,  45,  35,  41,  46],\n",
       "       [ 46,  44,  38,  49,  70],\n",
       "       [ 54,  60,  58,  50,  45],\n",
       "       [ 44,  52,  57,  53,  46],\n",
       "       [ 45,  36,  54,  61,  49],\n",
       "       [ 64,  52,  35,  46,  47],\n",
       "       [ 42,  44,  47,  44,  59],\n",
       "       [ 57,  54,  52,  59,  49],\n",
       "       [ 63,  50,  56,  46,  54],\n",
       "       [ 61,  59,  55,  60,  51],\n",
       "       [ 55,  53,  62,  62,  71],\n",
       "       [ 56,  65,  68,  60,  49],\n",
       "       [ 55,  60,  60,  69,  61],\n",
       "       [ 70,  60,  36,  59,  58],\n",
       "       [ 63,  63,  66,  74,  57],\n",
       "       [ 70,  58,  63,  69,  56],\n",
       "       [ 64,  55,  61,  54,  60],\n",
       "       [ 64,  51,  52,  66,  69],\n",
       "       [ 88,  77,  73,  60,  56],\n",
       "       [ 65,  65,  64,  63,  62],\n",
       "       [ 74,  66,  61,  76,  70],\n",
       "       [ 64,  58,  53,  87,  79],\n",
       "       [ 63,  74,  62,  83,  73],\n",
       "       [ 70,  77,  73,  75,  80],\n",
       "       [ 61,  90,  66,  68,  58],\n",
       "       [ 64,  85,  74,  84,  66],\n",
       "       [ 68,  77,  72,  76,  77],\n",
       "       [ 76,  61,  80,  86,  85],\n",
       "       [ 82,  59,  69,  67,  78],\n",
       "       [ 77,  77,  63,  85,  88],\n",
       "       [ 77,  87,  70,  79,  94],\n",
       "       [ 73,  67,  64,  77,  86],\n",
       "       [ 85,  91,  68,  83,  80],\n",
       "       [ 77,  77, 106,  70,  97],\n",
       "       [ 86,  76,  89,  77,  69],\n",
       "       [ 88,  92,  73,  86,  93],\n",
       "       [ 83,  84,  86,  88, 106],\n",
       "       [ 97,  80,  76,  80,  78],\n",
       "       [ 80,  81,  88,  69,  85],\n",
       "       [ 82,  73,  78,  75,  83],\n",
       "       [ 92,  85,  96,  82, 104],\n",
       "       [104,  79,  85,  78, 103],\n",
       "       [ 81, 104,  88, 103, 101],\n",
       "       [ 95, 113,  84,  99,  78],\n",
       "       [ 98,  77,  98,  97,  93],\n",
       "       [ 84, 108,  88,  85,  88],\n",
       "       [106, 102, 102, 112,  86],\n",
       "       [ 90,  92, 109, 109,  97],\n",
       "       [100,  82,  90, 101,  86],\n",
       "       [103,  95, 103, 101, 104],\n",
       "       [ 99,  94,  83, 103,  90],\n",
       "       [104, 113,  98, 113, 103],\n",
       "       [108,  96,  92,  79,  85]])"
      ]
     },
     "execution_count": 40,
     "metadata": {},
     "output_type": "execute_result"
    }
   ],
   "source": [
    "ys"
   ]
  },
  {
   "cell_type": "code",
   "execution_count": 46,
   "metadata": {},
   "outputs": [
    {
     "name": "stdout",
     "output_type": "stream",
     "text": [
      "True\n"
     ]
    }
   ],
   "source": [
    "if type((1,2,3)) == tuple:\n",
    "    print(True)"
   ]
  },
  {
   "cell_type": "code",
   "execution_count": 62,
   "metadata": {},
   "outputs": [
    {
     "data": {
      "text/plain": [
       "0.0"
      ]
     },
     "execution_count": 62,
     "metadata": {},
     "output_type": "execute_result"
    }
   ],
   "source": [
    "val = 0\n",
    "(np.searchsorted([1,2,3,4,5], val, \"left\") + np.searchsorted([1,2,3,4,5], val, \"right\")) / (2*5)"
   ]
  },
  {
   "cell_type": "code",
   "execution_count": 2,
   "metadata": {},
   "outputs": [
    {
     "data": {
      "text/plain": [
       "(array([[ 1.,  2.,  3.,  4.,  5.],\n",
       "        [ 6.,  7.,  8.,  9., 10.],\n",
       "        [11., 12., 13., 14., 15.],\n",
       "        [16., 17., 18., 19., 20.],\n",
       "        [21., 22., 23., 24., 25.]]),\n",
       " array([ 3,  7, 14, 19, 24]))"
      ]
     },
     "execution_count": 2,
     "metadata": {},
     "output_type": "execute_result"
    }
   ],
   "source": [
    "a = np.linspace(1,25,25).reshape(5,5)\n",
    "b = np.random.poisson(a[:,2])\n",
    "a,b"
   ]
  },
  {
   "cell_type": "code",
   "execution_count": 4,
   "metadata": {},
   "outputs": [
    {
     "data": {
      "text/plain": [
       "array([[ 4.,  9., 17., 23., 29.],\n",
       "       [ 9., 14., 22., 28., 34.],\n",
       "       [14., 19., 27., 33., 39.],\n",
       "       [19., 24., 32., 38., 44.],\n",
       "       [24., 29., 37., 43., 49.]])"
      ]
     },
     "execution_count": 4,
     "metadata": {},
     "output_type": "execute_result"
    }
   ],
   "source": [
    "a+b[np.newaxis,:]"
   ]
  },
  {
   "cell_type": "code",
   "execution_count": null,
   "metadata": {},
   "outputs": [],
   "source": []
  }
 ],
 "metadata": {
  "kernelspec": {
   "display_name": "MT",
   "language": "python",
   "name": "python3"
  },
  "language_info": {
   "codemirror_mode": {
    "name": "ipython",
    "version": 3
   },
   "file_extension": ".py",
   "mimetype": "text/x-python",
   "name": "python",
   "nbconvert_exporter": "python",
   "pygments_lexer": "ipython3",
   "version": "3.9.13"
  },
  "orig_nbformat": 4,
  "vscode": {
   "interpreter": {
    "hash": "3039a3459533209a69fdcd0eca4a82e0380b08faf874289ddcd789b1853692ba"
   }
  }
 },
 "nbformat": 4,
 "nbformat_minor": 2
}
