{
 "cells": [
  {
   "cell_type": "code",
   "execution_count": 10,
   "metadata": {},
   "outputs": [],
   "source": [
    "import numpy as np\n",
    "import matplotlib.pyplot as plt\n",
    "from numba import njit\n",
    "import pickle\n"
   ]
  },
  {
   "cell_type": "code",
   "execution_count": 228,
   "metadata": {},
   "outputs": [
    {
     "name": "stdout",
     "output_type": "stream",
     "text": [
      "[[6.47460112e+08 6.41285484e+08 6.54713298e+08 ... 6.26969460e+08\n",
      "  6.40641012e+08 6.33252872e+08]\n",
      " [6.35140440e+08 6.47424128e+08 6.37637760e+08 ... 6.34926612e+08\n",
      "  6.38709540e+08 6.52832978e+08]\n",
      " [6.39925312e+08 6.37816328e+08 6.60479512e+08 ... 6.41894450e+08\n",
      "  6.59208050e+08 6.53375100e+08]\n",
      " ...\n",
      " [6.59752812e+08 6.33395232e+08 6.56161538e+08 ... 6.43328450e+08\n",
      "  6.39102752e+08 6.65358720e+08]\n",
      " [6.27004872e+08 6.50883200e+08 6.57974088e+08 ... 6.40676808e+08\n",
      "  6.61315712e+08 6.46309104e+08]\n",
      " [6.54749484e+08 6.37530632e+08 6.38423644e+08 ... 6.43149112e+08\n",
      "  6.36424164e+08 6.61315712e+08]]\n",
      "[[5.11333549e+08 5.12378736e+08 5.12944434e+08 ... 5.09735841e+08\n",
      "  5.08076876e+08 5.12176014e+08]\n",
      " [5.10928560e+08 5.12901729e+08 5.13595907e+08 ... 5.03391161e+08\n",
      "  5.10545034e+08 5.14098144e+08]\n",
      " [5.10587641e+08 5.08682723e+08 5.17020245e+08 ... 5.14825219e+08\n",
      "  5.11493458e+08 5.12784299e+08]\n",
      " ...\n",
      " [5.15734785e+08 5.11514781e+08 5.13008495e+08 ... 5.14761045e+08\n",
      "  5.09682627e+08 5.07566970e+08]\n",
      " [5.09576208e+08 5.16088127e+08 5.13243420e+08 ... 5.13969890e+08\n",
      "  5.10619597e+08 5.10140357e+08]\n",
      " [5.10694166e+08 5.12688230e+08 5.10971183e+08 ... 5.09395320e+08\n",
      "  5.07885631e+08 5.12432090e+08]]\n",
      "1296060883124.5\n",
      "1024058857734.2223\n",
      "1.26561171102225\n"
     ]
    }
   ],
   "source": [
    "len1 = 20\n",
    "len2 = 100\n",
    "\n",
    "time1 = 2000\n",
    "time2 = 1000\n",
    "rate1 = 33\n",
    "rate2 = 30\n",
    "\n",
    "times1 = np.repeat(time1, 20)\n",
    "times1 = times1[:,np.newaxis]\n",
    "\n",
    "times2 = np.repeat(time2, 20)\n",
    "times2 = times2[:,np.newaxis]\n",
    "\n",
    "counts1 = np.full((len1, len2), rate1)\n",
    "counts1 = counts1 * times1\n",
    "counts1 = np.random.poisson(counts1)\n",
    "\n",
    "counts2 = np.full((len1, len2), rate2)\n",
    "counts2 = counts2 * times2\n",
    "counts2 = np.random.poisson(counts2)\n",
    "\n",
    "\n",
    "rate = (counts1 + counts2) / (times1 + times2)\n",
    "var0 = (counts1**2 + counts2**2) / 2\n",
    "e_var0 = (counts1 + counts2 + rate**2 * (times1**2 + times2**2)) / 2\n",
    "\n",
    "t_var0 = np.sum(var0)\n",
    "t_e_var0 = np.sum(e_var0)\n",
    "\n",
    "\n",
    "mean = (counts1 + counts2) / 2\n",
    "var = (counts1 - mean)**2 + (counts2 - mean)**2\n",
    "e_var = (rate*times1 - mean)**2 + (rate*times2 - mean)**2 + rate*(times1 + times2) / 2\n",
    "\n",
    "print(var)\n",
    "print(e_var)\n",
    "\n",
    "print(np.sum(var))\n",
    "print(np.sum(e_var))\n",
    "print(np.sum(var) / np.sum(e_var))\n",
    "\n",
    "# print(np.average(var0/e_var0))\n",
    "# print(t_var0/t_e_var0)"
   ]
  },
  {
   "cell_type": "code",
   "execution_count": 106,
   "metadata": {},
   "outputs": [],
   "source": [
    "# b, s1, t1, s2, t2\n",
    "\n",
    "# b var: lin, lin, exp, quad, exp\n",
    "# cov: quad, lin, pwl, quad, exp\n",
    "# s1 var: const, lin, pwl, const, const"
   ]
  },
  {
   "cell_type": "code",
   "execution_count": 107,
   "metadata": {},
   "outputs": [],
   "source": []
  },
  {
   "cell_type": "code",
   "execution_count": 108,
   "metadata": {},
   "outputs": [
    {
     "name": "stdout",
     "output_type": "stream",
     "text": [
      "[[0.99104157 0.98893123 1.01049198 ... 0.9907212  1.00595238 0.98969072]\n",
      " [1.01245151 0.99049505 0.99631626 ... 0.99307483 0.99036836 0.99088617]\n",
      " [0.99002193 0.99352267 0.98988145 ... 0.9971107  0.99252479 0.99416091]\n",
      " ...\n",
      " [0.98987375 1.00710183 0.9895565  ... 0.99766472 1.00052155 0.99065722]\n",
      " [0.98949939 1.00959205 0.99366337 ... 0.99237543 0.99924509 0.98998273]\n",
      " [0.99096655 0.99643564 0.99130037 ... 0.99382825 0.98969072 0.99422185]]\n",
      "0.9951385176767553\n"
     ]
    }
   ],
   "source": []
  }
 ],
 "metadata": {
  "kernelspec": {
   "display_name": "MT",
   "language": "python",
   "name": "python3"
  },
  "language_info": {
   "codemirror_mode": {
    "name": "ipython",
    "version": 3
   },
   "file_extension": ".py",
   "mimetype": "text/x-python",
   "name": "python",
   "nbconvert_exporter": "python",
   "pygments_lexer": "ipython3",
   "version": "3.9.13"
  },
  "orig_nbformat": 4,
  "vscode": {
   "interpreter": {
    "hash": "77c6aaad9a34bae581a83e51509dc60b9a05d4f3ba3ef918f772e036566f2e96"
   }
  }
 },
 "nbformat": 4,
 "nbformat_minor": 2
}
