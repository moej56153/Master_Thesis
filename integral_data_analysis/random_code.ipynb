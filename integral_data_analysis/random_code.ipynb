{
 "cells": [
  {
   "cell_type": "code",
   "execution_count": 20,
   "metadata": {},
   "outputs": [],
   "source": [
    "import numpy as np\n",
    "import matplotlib.pyplot as plt\n",
    "import math\n",
    "from numba import njit\n",
    "import pickle"
   ]
  },
  {
   "cell_type": "code",
   "execution_count": 21,
   "metadata": {},
   "outputs": [],
   "source": [
    "@njit\n",
    "def b_maxL_2(m, t, C):\n",
    "    first = C[0]+C[1]-(m[0]+m[1])*(t[0]+t[1])\n",
    "    root = (C[0]+C[1]+(m[0]-m[1])*(t[0]+t[1]))**2-4*C[0]*(m[0]-m[1])*(t[0]+t[1])\n",
    "    res = (first+np.sqrt(root))/(2*(t[0]+t[1]))\n",
    "    if res < 0:\n",
    "        return 0\n",
    "    return res"
   ]
  },
  {
   "cell_type": "code",
   "execution_count": 22,
   "metadata": {},
   "outputs": [],
   "source": [
    "@njit\n",
    "def b_maxL_3(m, t, C):\n",
    "    mt = m[0] + m[1] + m[2]\n",
    "    tt = t[0] + t[1] + t[2]\n",
    "    Ct = C[0] + C[1] + C[2]\n",
    "    a = -tt\n",
    "    b = -tt*mt + Ct\n",
    "    c = Ct*mt - C[0]*m[0] - C[1]*m[1] - C[2]*m[2] -tt*(m[0]*m[1] + m[1]*m[2] + m[2]*m[0])\n",
    "    d = C[0]*m[1]*m[2] + C[1]*m[2]*m[0] + C[2]*m[0]*m[1] - tt*m[0]*m[1]*m[2]\n",
    "    D0 = b**2 - 3*a*c\n",
    "    D1 = 2*b**3 - 9*a*b*c + 27*(a**2)*d\n",
    "        \n",
    "    if D0 == 0. and D1 == 0.:\n",
    "        return -b/(3*a)\n",
    "    \n",
    "    C0 = ((D1 + np.sqrt(D1**2 - 4*D0**3 + 0j)) / 2)**(1/3)\n",
    "    \n",
    "    if C0 == 0:\n",
    "        C0 = ((D1 - np.sqrt(D1**2 - 4*D0**3 + 0j)) / 2)**(1/3)\n",
    "        \n",
    "    x0 = -1/(3*a) * (b + C0 + D0/C0)\n",
    "    \n",
    "    if x0.real < 0:\n",
    "        return 0.\n",
    "    \n",
    "    return x0.real"
   ]
  },
  {
   "cell_type": "code",
   "execution_count": 26,
   "metadata": {},
   "outputs": [],
   "source": [
    "@njit\n",
    "def logLcore(\n",
    "    spec_binned,\n",
    "    pointings,\n",
    "    dets,\n",
    "    resp_mats,\n",
    "    num_sources,\n",
    "    t_elapsed,\n",
    "    counts\n",
    "):\n",
    "    logL=0\n",
    "    for p_i in range(len(pointings)):\n",
    "        for d_i in range(len(dets[p_i])):\n",
    "            n_p = len(pointings[p_i])\n",
    "            m = np.zeros((n_p, len(resp_mats[p_i][0][0][0,0,:])))\n",
    "            \n",
    "            t_b = np.zeros(n_p)\n",
    "            for t_i in range(n_p):\n",
    "                t_b[t_i] = t_elapsed[p_i][t_i][d_i]\n",
    "            C_b = np.zeros(n_p)\n",
    "            \n",
    "            for s_i in range(num_sources):\n",
    "                for m_i in range(n_p):\n",
    "                    m[m_i,:] += np.dot(spec_binned[s_i,:], resp_mats[p_i][s_i][m_i][d_i])\n",
    "            for e_i in range(len(m[0])):\n",
    "                m_b = m[:,e_i]\n",
    "                for C_i in range(n_p):\n",
    "                    C_b[C_i] = counts[p_i][C_i][d_i, e_i]\n",
    "                    \n",
    "                if n_p == 2:\n",
    "                    b = b_maxL_2(m_b, t_b, C_b)\n",
    "                elif n_p == 3:\n",
    "                    b = b_maxL_3(m_b, t_b, C_b)\n",
    "                else:\n",
    "                    print()\n",
    "                    print(\"b_maxL is not defined\")\n",
    "                    print()\n",
    "                    return 0.\n",
    "                for m_i in range(n_p):\n",
    "                    logL += (counts[p_i][m_i][d_i, e_i]*math.log(t_elapsed[p_i][m_i][d_i]*(m[m_i,e_i]+b))\n",
    "                            -t_elapsed[p_i][0][d_i]*(m[m_i,e_i]+b))\n",
    "    return logL"
   ]
  },
  {
   "cell_type": "code",
   "execution_count": 33,
   "metadata": {},
   "outputs": [],
   "source": [
    "with open(\"working_test\", \"rb\") as f:\n",
    "    (spec_binned,\n",
    "    pointings,\n",
    "    dets,\n",
    "    resp_mats,\n",
    "    num_sources,\n",
    "    t_elapsed,\n",
    "    counts,) = pickle.load(f)\n"
   ]
  },
  {
   "cell_type": "code",
   "execution_count": 34,
   "metadata": {},
   "outputs": [
    {
     "data": {
      "text/plain": [
       "42146726.92879555"
      ]
     },
     "execution_count": 34,
     "metadata": {},
     "output_type": "execute_result"
    }
   ],
   "source": [
    "logLcore(\n",
    "    spec_binned,\n",
    "    pointings,\n",
    "    dets,\n",
    "    resp_mats,\n",
    "    num_sources,\n",
    "    t_elapsed,\n",
    "    counts\n",
    ")"
   ]
  },
  {
   "cell_type": "code",
   "execution_count": 35,
   "metadata": {},
   "outputs": [],
   "source": [
    "with open(\"error_test\", \"rb\") as f:\n",
    "    (spec_binned,\n",
    "    pointings,\n",
    "    dets,\n",
    "    resp_mats,\n",
    "    num_sources,\n",
    "    t_elapsed,\n",
    "    counts,) = pickle.load(f)"
   ]
  },
  {
   "cell_type": "code",
   "execution_count": 36,
   "metadata": {},
   "outputs": [
    {
     "data": {
      "text/plain": [
       "160757654.0715495"
      ]
     },
     "execution_count": 36,
     "metadata": {},
     "output_type": "execute_result"
    }
   ],
   "source": [
    "logLcore(\n",
    "    spec_binned,\n",
    "    pointings,\n",
    "    dets,\n",
    "    resp_mats,\n",
    "    num_sources,\n",
    "    t_elapsed,\n",
    "    counts\n",
    ")"
   ]
  },
  {
   "cell_type": "code",
   "execution_count": 37,
   "metadata": {},
   "outputs": [],
   "source": [
    "a = np.zeros(10, dtype=int)"
   ]
  },
  {
   "cell_type": "code",
   "execution_count": 39,
   "metadata": {},
   "outputs": [],
   "source": [
    "a[0] += 1.3"
   ]
  },
  {
   "cell_type": "code",
   "execution_count": 40,
   "metadata": {},
   "outputs": [
    {
     "data": {
      "text/plain": [
       "array([1, 0, 0, 0, 0, 0, 0, 0, 0, 0])"
      ]
     },
     "execution_count": 40,
     "metadata": {},
     "output_type": "execute_result"
    }
   ],
   "source": [
    "a"
   ]
  },
  {
   "cell_type": "code",
   "execution_count": 42,
   "metadata": {},
   "outputs": [
    {
     "data": {
      "text/plain": [
       "dtype('int64')"
      ]
     },
     "execution_count": 42,
     "metadata": {},
     "output_type": "execute_result"
    }
   ],
   "source": [
    "a.dtype"
   ]
  },
  {
   "cell_type": "code",
   "execution_count": null,
   "metadata": {},
   "outputs": [],
   "source": []
  }
 ],
 "metadata": {
  "kernelspec": {
   "display_name": "MT",
   "language": "python",
   "name": "python3"
  },
  "language_info": {
   "codemirror_mode": {
    "name": "ipython",
    "version": 3
   },
   "file_extension": ".py",
   "mimetype": "text/x-python",
   "name": "python",
   "nbconvert_exporter": "python",
   "pygments_lexer": "ipython3",
   "version": "3.9.13"
  },
  "orig_nbformat": 4,
  "vscode": {
   "interpreter": {
    "hash": "77c6aaad9a34bae581a83e51509dc60b9a05d4f3ba3ef918f772e036566f2e96"
   }
  }
 },
 "nbformat": 4,
 "nbformat_minor": 2
}
