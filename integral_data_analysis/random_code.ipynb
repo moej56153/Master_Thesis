{
 "cells": [
  {
   "cell_type": "code",
   "execution_count": 1,
   "metadata": {},
   "outputs": [],
   "source": [
    "import numpy as np\n",
    "import matplotlib.pyplot as plt\n",
    "import math\n",
    "# from numba import njit"
   ]
  },
  {
   "cell_type": "code",
   "execution_count": 2,
   "metadata": {},
   "outputs": [
    {
     "data": {
      "text/plain": [
       "array([[  1.,   2.,   3.,   4.,   5.,   6.,   7.,   8.,   9.,  10.],\n",
       "       [ 11.,  12.,  13.,  14.,  15.,  16.,  17.,  18.,  19.,  20.],\n",
       "       [ 21.,  22.,  23.,  24.,  25.,  26.,  27.,  28.,  29.,  30.],\n",
       "       [ 31.,  32.,  33.,  34.,  35.,  36.,  37.,  38.,  39.,  40.],\n",
       "       [ 41.,  42.,  43.,  44.,  45.,  46.,  47.,  48.,  49.,  50.],\n",
       "       [ 51.,  52.,  53.,  54.,  55.,  56.,  57.,  58.,  59.,  60.],\n",
       "       [ 61.,  62.,  63.,  64.,  65.,  66.,  67.,  68.,  69.,  70.],\n",
       "       [ 71.,  72.,  73.,  74.,  75.,  76.,  77.,  78.,  79.,  80.],\n",
       "       [ 81.,  82.,  83.,  84.,  85.,  86.,  87.,  88.,  89.,  90.],\n",
       "       [ 91.,  92.,  93.,  94.,  95.,  96.,  97.,  98.,  99., 100.]])"
      ]
     },
     "execution_count": 2,
     "metadata": {},
     "output_type": "execute_result"
    }
   ],
   "source": [
    "a = np.linspace(1,100,100).reshape(10,10)\n",
    "a"
   ]
  },
  {
   "cell_type": "code",
   "execution_count": 21,
   "metadata": {},
   "outputs": [
    {
     "data": {
      "text/plain": [
       "array([8, 7, 5, 1, 4, 3, 0, 6, 9, 2])"
      ]
     },
     "execution_count": 21,
     "metadata": {},
     "output_type": "execute_result"
    }
   ],
   "source": [
    "b = np.random.choice(len(a), 10, replace=False)\n",
    "b"
   ]
  },
  {
   "cell_type": "code",
   "execution_count": 22,
   "metadata": {},
   "outputs": [
    {
     "data": {
      "text/plain": [
       "array([[ 81.,  82.,  83.,  84.,  85.,  86.,  87.,  88.,  89.,  90.],\n",
       "       [ 71.,  72.,  73.,  74.,  75.,  76.,  77.,  78.,  79.,  80.],\n",
       "       [ 51.,  52.,  53.,  54.,  55.,  56.,  57.,  58.,  59.,  60.],\n",
       "       [ 11.,  12.,  13.,  14.,  15.,  16.,  17.,  18.,  19.,  20.],\n",
       "       [ 41.,  42.,  43.,  44.,  45.,  46.,  47.,  48.,  49.,  50.],\n",
       "       [ 31.,  32.,  33.,  34.,  35.,  36.,  37.,  38.,  39.,  40.],\n",
       "       [  1.,   2.,   3.,   4.,   5.,   6.,   7.,   8.,   9.,  10.],\n",
       "       [ 61.,  62.,  63.,  64.,  65.,  66.,  67.,  68.,  69.,  70.],\n",
       "       [ 91.,  92.,  93.,  94.,  95.,  96.,  97.,  98.,  99., 100.],\n",
       "       [ 21.,  22.,  23.,  24.,  25.,  26.,  27.,  28.,  29.,  30.]])"
      ]
     },
     "execution_count": 22,
     "metadata": {},
     "output_type": "execute_result"
    }
   ],
   "source": [
    "c = a[b]\n",
    "c"
   ]
  },
  {
   "cell_type": "code",
   "execution_count": 16,
   "metadata": {},
   "outputs": [
    {
     "data": {
      "text/plain": [
       "array([[  1,   3,   3,   3,  11,   4,   8,   7,  10,  14],\n",
       "       [ 14,  13,  14,  14,  13,  15,  10,  22,  21,  24],\n",
       "       [ 28,  26,  22,  23,  28,  23,  29,  22,  26,  29],\n",
       "       [ 41,  37,  35,  35,  29,  44,  31,  35,  45,  44],\n",
       "       [ 44,  49,  37,  45,  48,  45,  43,  46,  51,  65],\n",
       "       [ 50,  62,  52,  51,  49,  62,  57,  67,  55,  53],\n",
       "       [ 53,  72,  76,  66,  48,  74,  81,  61,  61,  68],\n",
       "       [ 66,  88,  71,  76,  80,  87,  84,  64,  79,  65],\n",
       "       [ 69,  91,  92,  71,  94, 110, 102,  79,  86,  87],\n",
       "       [ 79,  76,  99,  92,  94,  83,  99, 101,  92,  96]])"
      ]
     },
     "execution_count": 16,
     "metadata": {},
     "output_type": "execute_result"
    }
   ],
   "source": [
    "d = np.random.poisson(a)\n",
    "d"
   ]
  },
  {
   "cell_type": "code",
   "execution_count": 17,
   "metadata": {},
   "outputs": [
    {
     "data": {
      "text/plain": [
       "array([[0.58377037, 0.79476176, 0.22616142, 0.11541755, 0.29701644],\n",
       "       [0.88025723, 0.67648924, 0.27369881, 0.27680499, 0.05452556],\n",
       "       [0.31842291, 0.69640922, 0.28951423, 0.88631987, 0.18637271],\n",
       "       [0.34382806, 0.10001533, 0.74275733, 0.14156922, 0.98710892],\n",
       "       [0.12874408, 0.26224592, 0.02029065, 0.88345719, 0.26362999],\n",
       "       [0.26681873, 0.5050008 , 0.73548884, 0.29914806, 0.03302784],\n",
       "       [0.71760223, 0.60675005, 0.46654653, 0.99903923, 0.55437134],\n",
       "       [0.47633483, 0.32645809, 0.1420819 , 0.32485559, 0.43614371],\n",
       "       [0.04795551, 0.78863396, 0.73337696, 0.91435782, 0.07239421],\n",
       "       [0.91270861, 0.17745988, 0.85371158, 0.59734406, 0.49069189]])"
      ]
     },
     "execution_count": 17,
     "metadata": {},
     "output_type": "execute_result"
    }
   ],
   "source": [
    "f = np.random.random((10,5))\n",
    "f"
   ]
  },
  {
   "cell_type": "code",
   "execution_count": 21,
   "metadata": {},
   "outputs": [
    {
     "data": {
      "text/plain": [
       "array([[8, 3, 4, 0, 5],\n",
       "       [4, 9, 7, 3, 1],\n",
       "       [5, 4, 0, 1, 8],\n",
       "       [2, 7, 1, 5, 2],\n",
       "       [3, 5, 2, 7, 4],\n",
       "       [7, 6, 6, 9, 0],\n",
       "       [0, 1, 8, 4, 7],\n",
       "       [6, 2, 5, 2, 9],\n",
       "       [1, 8, 3, 8, 6],\n",
       "       [9, 0, 9, 6, 3]])"
      ]
     },
     "execution_count": 21,
     "metadata": {},
     "output_type": "execute_result"
    }
   ],
   "source": [
    "g = np.argsort(f, axis=0)\n",
    "g"
   ]
  },
  {
   "cell_type": "code",
   "execution_count": 22,
   "metadata": {},
   "outputs": [
    {
     "data": {
      "text/plain": [
       "array([[0.04795551, 0.10001533, 0.02029065, 0.11541755, 0.03302784],\n",
       "       [0.12874408, 0.17745988, 0.1420819 , 0.14156922, 0.05452556],\n",
       "       [0.26681873, 0.26224592, 0.22616142, 0.27680499, 0.07239421],\n",
       "       [0.31842291, 0.32645809, 0.27369881, 0.29914806, 0.18637271],\n",
       "       [0.34382806, 0.5050008 , 0.28951423, 0.32485559, 0.26362999],\n",
       "       [0.47633483, 0.60675005, 0.46654653, 0.59734406, 0.29701644],\n",
       "       [0.58377037, 0.67648924, 0.73337696, 0.88345719, 0.43614371],\n",
       "       [0.71760223, 0.69640922, 0.73548884, 0.88631987, 0.49069189],\n",
       "       [0.88025723, 0.78863396, 0.74275733, 0.91435782, 0.55437134],\n",
       "       [0.91270861, 0.79476176, 0.85371158, 0.99903923, 0.98710892]])"
      ]
     },
     "execution_count": 22,
     "metadata": {},
     "output_type": "execute_result"
    }
   ],
   "source": [
    "h = np.take_along_axis(f, g, axis=0)\n",
    "h"
   ]
  },
  {
   "cell_type": "code",
   "execution_count": 23,
   "metadata": {},
   "outputs": [
    {
     "data": {
      "text/plain": [
       "array([ 1.,  2.,  3.,  4.,  5.,  6.,  7.,  8.,  9., 10.])"
      ]
     },
     "execution_count": 23,
     "metadata": {},
     "output_type": "execute_result"
    }
   ],
   "source": [
    "a = np.linspace(1,10,10)\n",
    "a"
   ]
  },
  {
   "cell_type": "code",
   "execution_count": 25,
   "metadata": {},
   "outputs": [
    {
     "data": {
      "text/plain": [
       "array([[[ 1.]],\n",
       "\n",
       "       [[ 2.]],\n",
       "\n",
       "       [[ 3.]],\n",
       "\n",
       "       [[ 4.]],\n",
       "\n",
       "       [[ 5.]],\n",
       "\n",
       "       [[ 6.]],\n",
       "\n",
       "       [[ 7.]],\n",
       "\n",
       "       [[ 8.]],\n",
       "\n",
       "       [[ 9.]],\n",
       "\n",
       "       [[10.]]])"
      ]
     },
     "execution_count": 25,
     "metadata": {},
     "output_type": "execute_result"
    }
   ],
   "source": [
    "a[:,np.newaxis][:,np.newaxis]"
   ]
  },
  {
   "cell_type": "code",
   "execution_count": null,
   "metadata": {},
   "outputs": [],
   "source": []
  }
 ],
 "metadata": {
  "kernelspec": {
   "display_name": "MT",
   "language": "python",
   "name": "python3"
  },
  "language_info": {
   "codemirror_mode": {
    "name": "ipython",
    "version": 3
   },
   "file_extension": ".py",
   "mimetype": "text/x-python",
   "name": "python",
   "nbconvert_exporter": "python",
   "pygments_lexer": "ipython3",
   "version": "3.9.13"
  },
  "orig_nbformat": 4,
  "vscode": {
   "interpreter": {
    "hash": "77c6aaad9a34bae581a83e51509dc60b9a05d4f3ba3ef918f772e036566f2e96"
   }
  }
 },
 "nbformat": 4,
 "nbformat_minor": 2
}
