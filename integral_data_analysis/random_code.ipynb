{
 "cells": [
  {
   "cell_type": "code",
   "execution_count": 1,
   "metadata": {},
   "outputs": [],
   "source": [
    "import numpy as np\n",
    "import matplotlib.pyplot as plt\n",
    "import math\n",
    "# from numba import njit"
   ]
  },
  {
   "cell_type": "code",
   "execution_count": 1,
   "metadata": {},
   "outputs": [
    {
     "data": {
      "text/plain": [
       "(8282, 4)"
      ]
     },
     "execution_count": 1,
     "metadata": {},
     "output_type": "execute_result"
    }
   ],
   "source": [
    "import numpy as np\n",
    "from IntegralQuery import SearchQuery, IntegralQuery, Filter, Range\n",
    "from IntegralPointingClustering import ClusteredQuery\n",
    "from astropy.coordinates import SkyCoord\n",
    "\n",
    "\n",
    "p = SkyCoord(83.6333, 22.0144, frame=\"icrs\", unit=\"deg\")\n",
    "\n",
    "searchquerry = SearchQuery(position=p, radius=f\"{10} degree\",)\n",
    "cat = IntegralQuery(searchquerry)\n",
    "f = Filter(SCW_TYPE=\"POINTING\",)\n",
    "scw_ids = cat.apply_filter(f, return_coordinates=True, remove_duplicates=True)\n",
    "\n",
    "\n",
    "scw_ids.shape"
   ]
  },
  {
   "cell_type": "code",
   "execution_count": null,
   "metadata": {},
   "outputs": [],
   "source": [
    "ys = np.zeros(10)\n",
    "\n",
    "for i, y in enumerate(ys):\n",
    "    print(i)\n",
    "    y = i\n",
    "    print(ys)\n",
    "    print"
   ]
  },
  {
   "cell_type": "code",
   "execution_count": 4,
   "metadata": {},
   "outputs": [
    {
     "data": {
      "text/plain": [
       "array([[ 1,  2,  1,  2,  5,  6,  5,  8,  5, 10],\n",
       "       [ 0,  2,  1,  4,  4,  1,  6, 10, 10,  8],\n",
       "       [ 0,  3,  1,  3,  3,  9,  5,  9,  9,  7],\n",
       "       [ 2,  2,  6,  6, 10, 10, 10,  8,  7, 13],\n",
       "       [ 1,  1,  4,  5,  5,  5,  9,  7, 13,  9]])"
      ]
     },
     "execution_count": 4,
     "metadata": {},
     "output_type": "execute_result"
    }
   ],
   "source": [
    "a = np.linspace(1,10,10)\n",
    "\n",
    "np.random.poisson(a, (5,10))"
   ]
  }
 ],
 "metadata": {
  "kernelspec": {
   "display_name": "MT",
   "language": "python",
   "name": "python3"
  },
  "language_info": {
   "codemirror_mode": {
    "name": "ipython",
    "version": 3
   },
   "file_extension": ".py",
   "mimetype": "text/x-python",
   "name": "python",
   "nbconvert_exporter": "python",
   "pygments_lexer": "ipython3",
   "version": "3.9.13"
  },
  "orig_nbformat": 4,
  "vscode": {
   "interpreter": {
    "hash": "77c6aaad9a34bae581a83e51509dc60b9a05d4f3ba3ef918f772e036566f2e96"
   }
  }
 },
 "nbformat": 4,
 "nbformat_minor": 2
}
