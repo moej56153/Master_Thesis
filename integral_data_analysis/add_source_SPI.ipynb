{
 "cells": [
  {
   "cell_type": "code",
   "execution_count": 43,
   "metadata": {},
   "outputs": [],
   "source": [
    "import numpy as np\n",
    "import astropy.io.fits as fits\n",
    "from astropy.table import Table\n",
    "from astromodels import Powerlaw,  PointSource, SpectralComponent\n",
    "import astropy.time as at\n",
    "from datetime import datetime\n",
    "from pyspi.utils.function_utils import find_response_version\n",
    "from pyspi.utils.response.spi_response_data import ResponseDataRMF\n",
    "from pyspi.utils.response.spi_response import ResponseRMFGenerator\n",
    "from pyspi.utils.response.spi_drm import SPIDRM\n",
    "from pyspi.utils.livedets import get_live_dets\n",
    "import os\n",
    "from MultinestClusterFit import powerlaw_binned_spectrum"
   ]
  },
  {
   "cell_type": "code",
   "execution_count": 44,
   "metadata": {},
   "outputs": [],
   "source": [
    "# put original data files from afs in this folder\n",
    "# rename evts_det_spec.fits to evts_det_spec_orig.fits\n",
    "\n",
    "# data_path = \"crab_data/0374\"\n",
    "data_path = \"crab_data/1380\""
   ]
  },
  {
   "cell_type": "code",
   "execution_count": 45,
   "metadata": {},
   "outputs": [],
   "source": [
    "# Energy Bins\n",
    "with fits.open(f\"{data_path}/energy_boundaries.fits\") as file:\n",
    "    t = Table.read(file[1])\n",
    "    energy_bins = np.append(t[\"E_MIN\"], t[\"E_MAX\"][-1])"
   ]
  },
  {
   "cell_type": "code",
   "execution_count": 46,
   "metadata": {},
   "outputs": [],
   "source": [
    "# Pointings and Start Times\n",
    "with fits.open(f\"{data_path}/pointing.fits\") as file:\n",
    "    t = Table.read(file[1])\n",
    "    \n",
    "    pointings = np.array(t[\"PTID_SPI\"])\n",
    "    \n",
    "    time_start = np.array(t[\"TSTART\"]) + 2451544.5\n",
    "    time_start = [at.Time(f\"{i}\", format=\"jd\").datetime for i in time_start]\n",
    "    time_start = np.array([datetime.strftime(i,'%y%m%d %H%M%S') for i in time_start])"
   ]
  },
  {
   "cell_type": "code",
   "execution_count": 47,
   "metadata": {},
   "outputs": [],
   "source": [
    "# Only necessary for 1380\n",
    "skip_pointing = [False] * len(pointings)\n",
    "skip_pointing[0] = True"
   ]
  },
  {
   "cell_type": "code",
   "execution_count": 48,
   "metadata": {},
   "outputs": [],
   "source": [
    "# Time Elapsed\n",
    "# det=i, pointing_index=j : index = j*85 + i\n",
    "with fits.open(f\"{data_path}/dead_time.fits\") as file:\n",
    "    t = Table.read(file[1])\n",
    "    time_elapsed = np.array(t[\"LIVETIME\"])"
   ]
  },
  {
   "cell_type": "code",
   "execution_count": 49,
   "metadata": {},
   "outputs": [],
   "source": [
    "# Define Source and Spectrum\n",
    "\n",
    "# ra, dec = 10, -40\n",
    "# K, piv, index = 6e-3, 40, -2\n",
    "ra, dec = 155., 75.\n",
    "K, piv, index = 3e-3, 40, -1\n",
    "    \n",
    "pl = Powerlaw()\n",
    "pl.piv = piv\n",
    "pl.K = K\n",
    "pl.index = index\n",
    "component1 = SpectralComponent(\"pl\", shape=pl)\n",
    "source = PointSource(\"Test\", ra=ra, dec=dec, components=[component1])\n",
    "\n",
    "emod = np.geomspace(10, 3000, 50)\n",
    "spec = source(emod)\n",
    "spec_binned = powerlaw_binned_spectrum(emod, spec)\n",
    "# spec_binned = (emod[1:]-emod[:-1])*(spec[:-1]+spec[1:])/2"
   ]
  },
  {
   "cell_type": "code",
   "execution_count": 8,
   "metadata": {},
   "outputs": [
    {
     "name": "stdout",
     "output_type": "stream",
     "text": [
      "Using the irfs that are valid between 04/07/17 08:20:06 and 09/02/19 09:59:57 (YY/MM/DD HH:MM:SS)\n"
     ]
    }
   ],
   "source": [
    "# Generate Source Counts\n",
    "\n",
    "assert find_response_version(time_start[0]) == find_response_version(time_start[-1]), \"Versions not constant\"\n",
    "version = find_response_version(time_start[0])\n",
    "rsp_base = ResponseDataRMF.from_version(version)\n",
    "\n",
    "source_counts = np.zeros((len(pointings)*85, len(energy_bins)-1), dtype=np.uint32)\n",
    "\n",
    "for p_i, pointing in enumerate(pointings):\n",
    "    if skip_pointing[p_i]:\n",
    "        continue\n",
    "    \n",
    "    time = time_start[p_i]\n",
    "    dets = get_live_dets(time=time, event_types=[\"single\"])\n",
    "    \n",
    "    rmfs = []\n",
    "    for d in dets:\n",
    "        rmfs.append(ResponseRMFGenerator.from_time(time, d, energy_bins, emod, rsp_base))\n",
    "        \n",
    "    sds = np.empty(0)\n",
    "    for d in range(len(dets)):\n",
    "        sd = SPIDRM(rmfs[d], ra, dec)\n",
    "        sds = np.append(sds, sd.matrix.T)\n",
    "    resp_mat = sds.reshape((len(dets), len(emod)-1, len(energy_bins)-1))\n",
    "    \n",
    "    count_rates = np.dot(spec_binned, resp_mat)\n",
    "    \n",
    "    for d_i, d in enumerate(dets):\n",
    "        index = p_i * 85 + d\n",
    "        source_counts[index,:] = np.random.poisson(count_rates[d_i,:] * time_elapsed[index])    \n"
   ]
  },
  {
   "cell_type": "code",
   "execution_count": 10,
   "metadata": {},
   "outputs": [],
   "source": [
    "# Save Data for PySpi\n",
    "\n",
    "with fits.open(f\"{data_path}/evts_det_spec_orig.fits\") as file:\n",
    "    t = Table.read(file[1])\n",
    "    \n",
    "    counts = t\n",
    "    \n",
    "updated_counts = counts.copy()\n",
    "updated_counts[\"COUNTS\"] += source_counts\n",
    "\n",
    "hdu = fits.BinTableHDU(data=updated_counts, name=\"SPI.-OBS.-DSP\")\n",
    "hdu.writeto(f\"{data_path}/evts_det_spec.fits\")\n"
   ]
  },
  {
   "cell_type": "code",
   "execution_count": null,
   "metadata": {},
   "outputs": [],
   "source": []
  },
  {
   "cell_type": "code",
   "execution_count": null,
   "metadata": {},
   "outputs": [],
   "source": [
    "# Sim source data for spimodfit"
   ]
  },
  {
   "cell_type": "code",
   "execution_count": 11,
   "metadata": {},
   "outputs": [],
   "source": [
    "# put spimodfit spi/ files in this folder\n",
    "# rename evts_det_spec.fits.gz to evts_det_spec_old.fits.gz\n",
    "\n",
    "# spimodfit_folder = \"crab_data/0374_spimodfit\"\n",
    "spimodfit_folder = \"crab_data/1380_spimodfit\"\n",
    "\n",
    "if not os.path.exists(spimodfit_folder):\n",
    "    os.mkdir(spimodfit_folder)"
   ]
  },
  {
   "cell_type": "code",
   "execution_count": 12,
   "metadata": {},
   "outputs": [],
   "source": [
    "with fits.open(f\"{spimodfit_folder}/pointing.fits.gz\") as file:\n",
    "    t = Table.read(file[1])\n",
    "    \n",
    "spimodfit_pointings = np.array(t[\"PTID_ISOC\"])\n",
    "\n",
    "with fits.open(f\"{spimodfit_folder}/energy_boundaries.fits.gz\") as file:\n",
    "    t = Table.read(file[1])\n",
    "    \n",
    "spimodfit_energy_bins = np.append(t[\"E_MIN\"], t[\"E_MAX\"][-1])\n"
   ]
  },
  {
   "cell_type": "code",
   "execution_count": 13,
   "metadata": {},
   "outputs": [],
   "source": [
    "# Pointing Indices\n",
    "with fits.open(f\"{data_path}/pointing.fits\") as file:\n",
    "    t = Table.read(file[1])\n",
    "    p_indices = []\n",
    "    p_rel_indices = []\n",
    "    for i, p in enumerate(spimodfit_pointings):\n",
    "        temp = np.argwhere(t[\"PTID_ISOC\"]==p)\n",
    "        if len(temp)>0:\n",
    "            p_indices.append(temp[0][0])\n",
    "            p_rel_indices.append(i)\n",
    "\n",
    "# Energy Indices\n",
    "with fits.open(f\"{data_path}/energy_boundaries.fits\") as file:\n",
    "    t = Table.read(file[1])\n",
    "    e_indices = []\n",
    "    for e in spimodfit_energy_bins:\n",
    "        temp = np.argwhere(t[\"E_MIN\"]==e)\n",
    "        if len(temp)>0:\n",
    "            e_indices.append(temp[0][0])\n",
    "            \n",
    "# Single Event Indices\n",
    "se_indices = []\n",
    "for i in p_indices:\n",
    "    for j in range(19):\n",
    "        se_indices.append(i*85 + j)\n",
    "        \n",
    "# Relative Pointing Deterctor Indices\n",
    "rd_indices = []\n",
    "for i in p_rel_indices:\n",
    "    for j in range(19):\n",
    "        rd_indices.append(i*19 + j)"
   ]
  },
  {
   "cell_type": "code",
   "execution_count": 14,
   "metadata": {},
   "outputs": [],
   "source": [
    "# evts_det_spec.fits.gz\n",
    "with fits.open(f\"{data_path}/evts_det_spec.fits\") as file:\n",
    "    t = Table.read(file[1])\n",
    "    \n",
    "with fits.open(f\"{spimodfit_folder}/evts_det_spec_old.fits.gz\") as file:\n",
    "    d = Table.read(file[1])\n",
    "    h = file[1].header\n",
    "    \n",
    "eds_temp = t[se_indices]\n",
    "\n",
    "\n",
    "for i in range(len(e_indices)-1):\n",
    "    d[\"COUNTS\"][:,i] = np.sum(eds_temp[\"COUNTS\"][ : , e_indices[i] : e_indices[i+1]], axis=1)\n",
    "    \n",
    "hdu = fits.BinTableHDU(data=d, name=\"SPI.-OBS.-DSP\")\n",
    "hdu.header = h\n",
    "hdu.writeto(f\"{spimodfit_folder}/evts_det_spec.fits.gz\")\n",
    "\n"
   ]
  },
  {
   "cell_type": "code",
   "execution_count": null,
   "metadata": {},
   "outputs": [],
   "source": [
    "# replace evts_det_spec.fits.gz in spimodfit to run fit"
   ]
  },
  {
   "cell_type": "code",
   "execution_count": null,
   "metadata": {},
   "outputs": [],
   "source": []
  },
  {
   "cell_type": "code",
   "execution_count": 50,
   "metadata": {},
   "outputs": [],
   "source": [
    "# Spimodfit backgroud for PySpi\n",
    "# put bg_e0020-0600/ in this folder\n",
    "# Manually copy energy_boundaries.fits from spimodfit data\n",
    "\n",
    "data_path2 = \"crab_data/1380_spimodfit_bkg\"\n",
    "\n",
    "if not os.path.exists(data_path2):\n",
    "    os.mkdir(data_path2)"
   ]
  },
  {
   "cell_type": "code",
   "execution_count": 17,
   "metadata": {},
   "outputs": [],
   "source": [
    "with fits.open(f\"{data_path2}/bg-e0020-0600/output_bgmodel-conti.fits.gz\") as file:\n",
    "    t = Table.read(file[1])\n",
    "    conti = t[\"COUNTS\"]\n",
    "    \n",
    "with fits.open(f\"{data_path2}/bg-e0020-0600/output_bgmodel-lines.fits.gz\") as file:\n",
    "    t = Table.read(file[1])\n",
    "    lines = t[\"COUNTS\"]\n"
   ]
  },
  {
   "cell_type": "code",
   "execution_count": 18,
   "metadata": {},
   "outputs": [],
   "source": [
    "new_energy_bins = spimodfit_energy_bins"
   ]
  },
  {
   "cell_type": "code",
   "execution_count": 19,
   "metadata": {},
   "outputs": [],
   "source": [
    "# with fits.open(f\"{data_path2}/energy_boundaries.fits\") as file:\n",
    "#     t = Table.read(file[1])\n",
    "#     new_energy_bins = np.append(t[\"E_MIN\"], t[\"E_MAX\"][-1])\n",
    "    \n",
    "# Energy Indices\n",
    "energy_indices = []\n",
    "for e in new_energy_bins:\n",
    "    temp = np.argwhere(energy_bins==e)\n",
    "    if len(temp)>0:\n",
    "        energy_indices.append(temp[0][0])\n",
    "\n",
    "# Pointing Indices\n",
    "with fits.open(f\"{data_path}/pointing.fits\") as file:\n",
    "    t = Table.read(file[1])\n",
    "    pointing_indices = []\n",
    "    pointing_indices_full = []\n",
    "    for i, p in enumerate(spimodfit_pointings):\n",
    "        temp = np.argwhere(t[\"PTID_ISOC\"]==p)\n",
    "        if len(temp)>0:\n",
    "            pointing_indices.append(temp[0][0])\n",
    "            for j in range(85):\n",
    "                pointing_indices_full.append(85*temp[0][0] + j)\n",
    "            \n",
    "\n",
    "        \n",
    "\n"
   ]
  },
  {
   "cell_type": "code",
   "execution_count": 20,
   "metadata": {},
   "outputs": [],
   "source": [
    "new_source_counts = np.zeros((len(source_counts), len(new_energy_bins)-1))\n",
    "\n",
    "for i in range(len(energy_indices)-1):\n",
    "    new_source_counts[:,i] = np.sum(source_counts[ : , energy_indices[i] : energy_indices[i+1]], axis=1)\n",
    "    \n",
    "new_source_counts = new_source_counts[pointing_indices_full]\n",
    "\n",
    "total_counts = new_source_counts.copy()\n",
    "\n",
    "for i in range(len(pointing_indices)):\n",
    "    total_counts[85*i : 85*i + 19, :] += (np.random.poisson(np.abs(lines[i*19: (i+1)*19])) * np.sign(lines[i*19: (i+1)*19])\n",
    "                                          + np.random.poisson(np.abs(conti[i*19: (i+1)*19])) * np.sign(conti[i*19: (i+1)*19]))"
   ]
  },
  {
   "cell_type": "code",
   "execution_count": 21,
   "metadata": {},
   "outputs": [],
   "source": [
    "with fits.open(f\"{data_path}/evts_det_spec_orig.fits\") as file:\n",
    "    t = Table.read(file[1])\n",
    "    \n",
    "    counts = t\n",
    "    \n",
    "updated_counts = counts[pointing_indices_full]\n",
    "updated_counts[\"COUNTS\"] = total_counts\n",
    "\n",
    "hdu = fits.BinTableHDU(data=updated_counts, name=\"SPI.-OBS.-DSP\")\n",
    "hdu.writeto(f\"{data_path2}/evts_det_spec.fits\")"
   ]
  },
  {
   "cell_type": "code",
   "execution_count": 22,
   "metadata": {},
   "outputs": [],
   "source": [
    "# dead_time.fits\n",
    "with fits.open(f\"{data_path}/dead_time.fits\") as file:\n",
    "    t = Table.read(file[1])\n",
    "    \n",
    "dt = t[pointing_indices_full]\n",
    "\n",
    "hdu = fits.BinTableHDU(data=dt, name=\"SPI.-OBS.-DTI\")\n",
    "hdu.writeto(f\"{data_path2}/dead_time.fits\")"
   ]
  },
  {
   "cell_type": "code",
   "execution_count": 23,
   "metadata": {},
   "outputs": [],
   "source": [
    "# pointing.fits\n",
    "with fits.open(f\"{data_path}/pointing.fits\") as file:\n",
    "    t = Table.read(file[1])\n",
    "    \n",
    "ps = t[pointing_indices]\n",
    "\n",
    "hdu = fits.BinTableHDU(data=ps, name=\"SPI.-OBS.-PNT\")\n",
    "hdu.writeto(f\"{data_path2}/pointing.fits\")"
   ]
  },
  {
   "cell_type": "code",
   "execution_count": null,
   "metadata": {},
   "outputs": [],
   "source": []
  },
  {
   "cell_type": "code",
   "execution_count": 24,
   "metadata": {},
   "outputs": [],
   "source": [
    "# spimodfit with spimodfit bkg\n",
    "\n",
    "if not os.path.exists(f\"{spimodfit_folder}/w_smf_bkg\"):\n",
    "    os.mkdir(f\"{spimodfit_folder}/w_smf_bkg\")\n",
    "\n",
    "with fits.open(f\"{data_path2}/evts_det_spec.fits\") as file:\n",
    "    t = Table.read(file[1])\n",
    "    \n",
    "with fits.open(f\"{spimodfit_folder}/evts_det_spec_old.fits.gz\") as file:\n",
    "    d = Table.read(file[1])\n",
    "    h = file[1].header\n",
    "\n",
    "smf_bkg_indices = []\n",
    "for i in range(len(pointing_indices)):\n",
    "    for j in range(19):\n",
    "        smf_bkg_indices.append(i*85 + j)\n",
    "\n",
    "d[\"COUNTS\"] = np.array(t[\"COUNTS\"][smf_bkg_indices], dtype=np.uint32)\n",
    "\n",
    "hdu = fits.BinTableHDU(data=d, name=\"SPI.-OBS.-DSP\")\n",
    "hdu.header = h\n",
    "hdu.writeto(f\"{spimodfit_folder}/w_smf_bkg/evts_det_spec.fits.gz\")"
   ]
  },
  {
   "cell_type": "code",
   "execution_count": null,
   "metadata": {},
   "outputs": [],
   "source": []
  },
  {
   "cell_type": "code",
   "execution_count": 77,
   "metadata": {},
   "outputs": [],
   "source": [
    "# PySpi with constant background\n",
    "# Copy energy_boundaries, pointings into this folder\n",
    "\n",
    "# pointing_index = 1 # 0374\n",
    "pointing_index = 4 # 1380\n",
    "\n",
    "# data_path3 = \"crab_data/0374_const_bkg\"\n",
    "data_path3 = \"crab_data/1380_const_bkg\"\n",
    "\n",
    "if not os.path.exists(f\"{data_path3}\"):\n",
    "    os.mkdir(f\"{data_path3}\")"
   ]
  },
  {
   "cell_type": "code",
   "execution_count": 78,
   "metadata": {},
   "outputs": [],
   "source": [
    "# Energy Bins\n",
    "with fits.open(f\"{data_path}/energy_boundaries.fits\") as file:\n",
    "    t = Table.read(file[1])\n",
    "    energy_bins = np.append(t[\"E_MIN\"], t[\"E_MAX\"][-1])"
   ]
  },
  {
   "cell_type": "code",
   "execution_count": 79,
   "metadata": {},
   "outputs": [],
   "source": [
    "# Pointings and Start Times\n",
    "with fits.open(f\"{data_path}/pointing.fits\") as file:\n",
    "    t = Table.read(file[1])\n",
    "    \n",
    "    pointings = np.array(t[\"PTID_SPI\"])\n",
    "    \n",
    "    time_start = np.array(t[\"TSTART\"]) + 2451544.5\n",
    "    time_start = [at.Time(f\"{i}\", format=\"jd\").datetime for i in time_start]\n",
    "    time_start = np.array([datetime.strftime(i,'%y%m%d %H%M%S') for i in time_start])"
   ]
  },
  {
   "cell_type": "code",
   "execution_count": 80,
   "metadata": {},
   "outputs": [],
   "source": [
    "# Time Elapsed\n",
    "# det=i, pointing_index=j : index = j*85 + i\n",
    "with fits.open(f\"{data_path}/dead_time.fits\") as file:\n",
    "    t = Table.read(file[1])\n",
    "    time_elapsed = np.array(t[\"LIVETIME\"])\n",
    "    \n",
    "updated_time = t.copy()\n",
    "    \n",
    "for i in range(int(len(time_elapsed) / 85)):\n",
    "    if i == pointing_index:\n",
    "        continue\n",
    "    else:\n",
    "        updated_time[i*85 : (i+1)*85] = updated_time[pointing_index*85 : (pointing_index+1)*85]\n",
    "        \n",
    "hdu = fits.BinTableHDU(data=updated_time, name=\"SPI.-OBS.-DTI\") # is all of this correct?\n",
    "hdu.writeto(f\"{data_path3}/dead_time.fits\")"
   ]
  },
  {
   "cell_type": "code",
   "execution_count": 81,
   "metadata": {},
   "outputs": [
    {
     "name": "stdout",
     "output_type": "stream",
     "text": [
      "Using the irfs that are valid between 10/05/27 12:45:00 and present (YY/MM/DD HH:MM:SS)\n"
     ]
    }
   ],
   "source": [
    "# Generate Source Counts\n",
    "\n",
    "assert find_response_version(time_start[0]) == find_response_version(time_start[-1]), \"Versions not constant\"\n",
    "version = find_response_version(time_start[0])\n",
    "rsp_base = ResponseDataRMF.from_version(version)\n",
    "\n",
    "source_counts = np.zeros((len(pointings)*85, len(energy_bins)-1), dtype=np.uint32)\n",
    "\n",
    "for p_i, pointing in enumerate(pointings):\n",
    "    if skip_pointing[p_i]:\n",
    "        continue\n",
    "    \n",
    "    time = time_start[p_i]\n",
    "    dets = get_live_dets(time=time, event_types=[\"single\"])\n",
    "    \n",
    "    rmfs = []\n",
    "    for d in dets:\n",
    "        rmfs.append(ResponseRMFGenerator.from_time(time, d, energy_bins, emod, rsp_base))\n",
    "        \n",
    "    sds = np.empty(0)\n",
    "    for d in range(len(dets)):\n",
    "        sd = SPIDRM(rmfs[d], ra, dec)\n",
    "        sds = np.append(sds, sd.matrix.T)\n",
    "    resp_mat = sds.reshape((len(dets), len(emod)-1, len(energy_bins)-1))\n",
    "    \n",
    "    count_rates = np.dot(spec_binned, resp_mat)\n",
    "    \n",
    "    for d_i, d in enumerate(dets):\n",
    "        index = p_i * 85 + d\n",
    "        source_counts[index,:] = np.random.poisson(count_rates[d_i,:] * time_elapsed[pointing_index*85 + d])    "
   ]
  },
  {
   "cell_type": "code",
   "execution_count": 73,
   "metadata": {},
   "outputs": [],
   "source": [
    "# Save Data for PySpi\n",
    "\n",
    "with fits.open(f\"{data_path}/evts_det_spec_orig.fits\") as file:\n",
    "    t = Table.read(file[1])\n",
    "    \n",
    "    counts = t\n",
    "    \n",
    "updated_counts = counts.copy()\n",
    "\n",
    "for i in range(int(len(updated_counts) / 85)):\n",
    "    if i == pointing_index:\n",
    "        continue\n",
    "    else:\n",
    "        updated_counts[i*85 : (i+1)*85] = updated_counts[pointing_index*85 : (pointing_index+1)*85]\n",
    "        \n",
    "updated_counts[\"COUNTS\"] = np.random.poisson(updated_counts[\"COUNTS\"])\n",
    "\n",
    "updated_counts[\"COUNTS\"] += source_counts\n",
    "\n",
    "hdu = fits.BinTableHDU(data=updated_counts, name=\"SPI.-OBS.-DSP\")\n",
    "hdu.writeto(f\"{data_path3}/evts_det_spec.fits\")"
   ]
  },
  {
   "cell_type": "code",
   "execution_count": 22,
   "metadata": {},
   "outputs": [
    {
     "data": {
      "text/html": [
       "<div><i>Table length=6035</i>\n",
       "<table id=\"table140105450198304\" class=\"table-striped table-bordered table-condensed\">\n",
       "<thead><tr><th>COUNTS</th><th>STAT_ERR</th></tr></thead>\n",
       "<thead><tr><th>uint32[3964]</th><th>float32[3964]</th></tr></thead>\n",
       "<tr><td>128 .. 1</td><td>8.774964 .. 1.0</td></tr>\n",
       "<tr><td>77 .. 1</td><td>8.426149 .. 1.0</td></tr>\n",
       "<tr><td>0 .. 0</td><td>0.0 .. 0.0</td></tr>\n",
       "<tr><td>191 .. 1</td><td>12.288206 .. 1.0</td></tr>\n",
       "<tr><td>108 .. 2</td><td>8.485281 .. 1.4142135</td></tr>\n",
       "<tr><td>159 .. 1</td><td>11.269427 .. 1.0</td></tr>\n",
       "<tr><td>100 .. 2</td><td>7.3484693 .. 1.4142135</td></tr>\n",
       "<tr><td>76 .. 2</td><td>8.5440035 .. 1.4142135</td></tr>\n",
       "<tr><td>79 .. 3</td><td>8.185352 .. 1.7320508</td></tr>\n",
       "<tr><td>59 .. 2</td><td>7.483315 .. 1.4142135</td></tr>\n",
       "<tr><td>...</td><td>...</td></tr>\n",
       "<tr><td>0 .. 0</td><td>0.0 .. 0.0</td></tr>\n",
       "<tr><td>0 .. 0</td><td>0.0 .. 0.0</td></tr>\n",
       "<tr><td>0 .. 1</td><td>0.0 .. 1.0</td></tr>\n",
       "<tr><td>0 .. 1</td><td>0.0 .. 1.0</td></tr>\n",
       "<tr><td>0 .. 0</td><td>0.0 .. 0.0</td></tr>\n",
       "<tr><td>0 .. 0</td><td>0.0 .. 0.0</td></tr>\n",
       "<tr><td>0 .. 0</td><td>0.0 .. 0.0</td></tr>\n",
       "<tr><td>0 .. 0</td><td>0.0 .. 0.0</td></tr>\n",
       "<tr><td>0 .. 0</td><td>0.0 .. 0.0</td></tr>\n",
       "<tr><td>0 .. 0</td><td>0.0 .. 0.0</td></tr>\n",
       "</table></div>"
      ],
      "text/plain": [
       "<Table length=6035>\n",
       "   COUNTS           STAT_ERR       \n",
       "uint32[3964]     float32[3964]     \n",
       "------------ ----------------------\n",
       "    128 .. 1        8.774964 .. 1.0\n",
       "     77 .. 1        8.426149 .. 1.0\n",
       "      0 .. 0             0.0 .. 0.0\n",
       "    191 .. 1       12.288206 .. 1.0\n",
       "    108 .. 2  8.485281 .. 1.4142135\n",
       "    159 .. 1       11.269427 .. 1.0\n",
       "    100 .. 2 7.3484693 .. 1.4142135\n",
       "     76 .. 2 8.5440035 .. 1.4142135\n",
       "     79 .. 3  8.185352 .. 1.7320508\n",
       "     59 .. 2  7.483315 .. 1.4142135\n",
       "         ...                    ...\n",
       "      0 .. 0             0.0 .. 0.0\n",
       "      0 .. 0             0.0 .. 0.0\n",
       "      0 .. 1             0.0 .. 1.0\n",
       "      0 .. 1             0.0 .. 1.0\n",
       "      0 .. 0             0.0 .. 0.0\n",
       "      0 .. 0             0.0 .. 0.0\n",
       "      0 .. 0             0.0 .. 0.0\n",
       "      0 .. 0             0.0 .. 0.0\n",
       "      0 .. 0             0.0 .. 0.0\n",
       "      0 .. 0             0.0 .. 0.0"
      ]
     },
     "execution_count": 22,
     "metadata": {},
     "output_type": "execute_result"
    }
   ],
   "source": [
    "updated_counts"
   ]
  },
  {
   "cell_type": "code",
   "execution_count": 75,
   "metadata": {},
   "outputs": [
    {
     "data": {
      "text/plain": [
       "2514.8085787542122"
      ]
     },
     "execution_count": 75,
     "metadata": {},
     "output_type": "execute_result"
    }
   ],
   "source": [
    "time_elapsed[4*85]"
   ]
  },
  {
   "cell_type": "code",
   "execution_count": null,
   "metadata": {},
   "outputs": [],
   "source": []
  }
 ],
 "metadata": {
  "kernelspec": {
   "display_name": "MT",
   "language": "python",
   "name": "python3"
  },
  "language_info": {
   "codemirror_mode": {
    "name": "ipython",
    "version": 3
   },
   "file_extension": ".py",
   "mimetype": "text/x-python",
   "name": "python",
   "nbconvert_exporter": "python",
   "pygments_lexer": "ipython3",
   "version": "3.9.13"
  },
  "orig_nbformat": 4,
  "vscode": {
   "interpreter": {
    "hash": "77c6aaad9a34bae581a83e51509dc60b9a05d4f3ba3ef918f772e036566f2e96"
   }
  }
 },
 "nbformat": 4,
 "nbformat_minor": 2
}
