{
 "cells": [
  {
   "cell_type": "code",
   "execution_count": 1,
   "metadata": {},
   "outputs": [
    {
     "name": "stdout",
     "output_type": "stream",
     "text": [
      "[\u001b[35mWARNING \u001b[0m]\u001b[35m The naima package is not available. Models that depend on it will not be available\u001b[0m\n",
      "[\u001b[35mWARNING \u001b[0m]\u001b[35m The GSL library or the pygsl wrapper cannot be loaded. Models that depend on it will not be available.\u001b[0m\n",
      "[\u001b[35mWARNING \u001b[0m]\u001b[35m The ebltable package is not available. Models that depend on it will not be available\u001b[0m\n",
      "[\u001b[32mINFO    \u001b[0m]\u001b[32m Starting 3ML!\u001b[0m\n",
      "[\u001b[35mWARNING \u001b[0m]\u001b[35m no display variable set. using backend for graphics without display (agg)\u001b[0m\n",
      "[\u001b[35mWARNING \u001b[0m]\u001b[35m ROOT minimizer not available\u001b[0m\n",
      "[\u001b[35mWARNING \u001b[0m]\u001b[35m PyGMO is not available\u001b[0m\n",
      "[\u001b[35mWARNING \u001b[0m]\u001b[35m The cthreeML package is not installed. You will not be able to use plugins which require the C/C++ interface (currently HAWC)\u001b[0m\n",
      "[\u001b[35mWARNING \u001b[0m]\u001b[35m Could not import plugin HAWCLike.py. Do you have the relative instrument software installed and configured?\u001b[0m\n",
      "[\u001b[35mWARNING \u001b[0m]\u001b[35m Could not import plugin FermiLATLike.py. Do you have the relative instrument software installed and configured?\u001b[0m\n",
      "[\u001b[35mWARNING \u001b[0m]\u001b[35m No fermitools installed\u001b[0m\n",
      "[\u001b[35mWARNING \u001b[0m]\u001b[35m Env. variable OMP_NUM_THREADS is not set. Please set it to 1 for optimal performances in 3ML\u001b[0m\n",
      "[\u001b[35mWARNING \u001b[0m]\u001b[35m Env. variable MKL_NUM_THREADS is not set. Please set it to 1 for optimal performances in 3ML\u001b[0m\n",
      "[\u001b[35mWARNING \u001b[0m]\u001b[35m Env. variable NUMEXPR_NUM_THREADS is not set. Please set it to 1 for optimal performances in 3ML\u001b[0m\n"
     ]
    }
   ],
   "source": [
    "import numpy as np\n",
    "import astropy.io.fits as fits\n",
    "from astropy.table import Table\n",
    "from astromodels import Powerlaw,  PointSource, SpectralComponent\n",
    "import astropy.time as at\n",
    "from datetime import datetime\n",
    "from pyspi.utils.function_utils import find_response_version\n",
    "from pyspi.utils.response.spi_response_data import ResponseDataRMF\n",
    "from pyspi.utils.response.spi_response import ResponseRMFGenerator\n",
    "from pyspi.utils.response.spi_drm import SPIDRM\n",
    "from pyspi.utils.livedets import get_live_dets\n",
    "import os"
   ]
  },
  {
   "cell_type": "code",
   "execution_count": 2,
   "metadata": {},
   "outputs": [],
   "source": [
    "# data_path = \"crab_data/0374\"\n",
    "data_path = \"crab_data/1380\""
   ]
  },
  {
   "cell_type": "code",
   "execution_count": 3,
   "metadata": {},
   "outputs": [],
   "source": [
    "# Energy Bins\n",
    "with fits.open(f\"{data_path}/energy_boundaries.fits\") as file:\n",
    "    t = Table.read(file[1])\n",
    "    energy_bins = np.append(t[\"E_MIN\"], t[\"E_MAX\"][-1])"
   ]
  },
  {
   "cell_type": "code",
   "execution_count": 4,
   "metadata": {},
   "outputs": [],
   "source": [
    "# Pointings and Start Times\n",
    "with fits.open(f\"{data_path}/pointing.fits\") as file:\n",
    "    t = Table.read(file[1])\n",
    "    \n",
    "    pointings = np.array(t[\"PTID_SPI\"])\n",
    "    \n",
    "    time_start = np.array(t[\"TSTART\"]) + 2451544.5\n",
    "    time_start = [at.Time(f\"{i}\", format=\"jd\").datetime for i in time_start]\n",
    "    time_start = np.array([datetime.strftime(i,'%y%m%d %H%M%S') for i in time_start])"
   ]
  },
  {
   "cell_type": "code",
   "execution_count": 5,
   "metadata": {},
   "outputs": [],
   "source": [
    "skip_pointing = [False] * len(pointings)\n",
    "skip_pointing[0] = True"
   ]
  },
  {
   "cell_type": "code",
   "execution_count": 6,
   "metadata": {},
   "outputs": [],
   "source": [
    "# Time Elapsed\n",
    "# det=i, pointing_index=j : index = j*85 + i\n",
    "with fits.open(f\"{data_path}/dead_time.fits\") as file:\n",
    "    t = Table.read(file[1])\n",
    "    time_elapsed = np.array(t[\"LIVETIME\"])"
   ]
  },
  {
   "cell_type": "code",
   "execution_count": 7,
   "metadata": {},
   "outputs": [],
   "source": [
    "# Define Source and Spectrum\n",
    "# ra, dec = 10, -40\n",
    "# K, piv, index = 8e-3, 40, -2\n",
    "ra, dec = 155., 75.\n",
    "K, piv, index = 3e-3, 40, -1\n",
    "    \n",
    "pl = Powerlaw()\n",
    "pl.piv = piv\n",
    "pl.K = K\n",
    "pl.index = index\n",
    "component1 = SpectralComponent(\"pl\", shape=pl)\n",
    "source = PointSource(\"Test\", ra=ra, dec=dec, components=[component1])\n",
    "\n",
    "emod = np.geomspace(10, 3000, 50)\n",
    "spec = source(emod)\n",
    "spec_binned = (emod[1:]-emod[:-1])*(spec[:-1]+spec[1:])/2"
   ]
  },
  {
   "cell_type": "code",
   "execution_count": 8,
   "metadata": {},
   "outputs": [
    {
     "name": "stdout",
     "output_type": "stream",
     "text": [
      "Using the irfs that are valid between 10/05/27 12:45:00 and present (YY/MM/DD HH:MM:SS)\n"
     ]
    }
   ],
   "source": [
    "# Generate Source Counts\n",
    "\n",
    "assert find_response_version(time_start[0]) == find_response_version(time_start[-1]), \"Versions not constant\"\n",
    "version = find_response_version(time_start[0])\n",
    "rsp_base = ResponseDataRMF.from_version(version)\n",
    "\n",
    "source_counts = np.zeros((len(pointings)*85, len(energy_bins)-1), dtype=np.uint32)\n",
    "\n",
    "for p_i, pointing in enumerate(pointings):\n",
    "    if skip_pointing[p_i]:\n",
    "        continue\n",
    "    \n",
    "    time = time_start[p_i]\n",
    "    dets = get_live_dets(time=time, event_types=[\"single\"])\n",
    "    \n",
    "    rmfs = []\n",
    "    for d in dets:\n",
    "        rmfs.append(ResponseRMFGenerator.from_time(time, d, energy_bins, emod, rsp_base))\n",
    "        \n",
    "    sds = np.empty(0)\n",
    "    for d in range(len(dets)):\n",
    "        sd = SPIDRM(rmfs[d], ra, dec)\n",
    "        sds = np.append(sds, sd.matrix.T)\n",
    "    resp_mat = sds.reshape((len(dets), len(emod)-1, len(energy_bins)-1))\n",
    "    \n",
    "    count_rates = np.dot(spec_binned, resp_mat)\n",
    "    \n",
    "    for d_i, d in enumerate(dets):\n",
    "        index = p_i * 85 + d\n",
    "        source_counts[index,:] = np.random.poisson(count_rates[d_i,:] * time_elapsed[index])    \n"
   ]
  },
  {
   "cell_type": "code",
   "execution_count": 32,
   "metadata": {},
   "outputs": [],
   "source": [
    "# Save Data for PySpi\n",
    "\n",
    "with fits.open(f\"{data_path}/evts_det_spec_orig.fits\") as file:\n",
    "    t = Table.read(file[1])\n",
    "    \n",
    "    counts = t\n",
    "    \n",
    "updated_counts = counts.copy()\n",
    "updated_counts[\"COUNTS\"] += source_counts\n",
    "\n",
    "hdu = fits.BinTableHDU(data=updated_counts, name=\"SPI.-OBS.-DSP\")\n",
    "hdu.writeto(f\"{data_path}/evts_det_spec.fits\")\n"
   ]
  },
  {
   "cell_type": "code",
   "execution_count": null,
   "metadata": {},
   "outputs": [],
   "source": []
  },
  {
   "cell_type": "code",
   "execution_count": 9,
   "metadata": {},
   "outputs": [],
   "source": [
    "#  Spimodfit backgroud for PySpi\n",
    "# Manually copy energy_boundaries.fits\n",
    "\n",
    "data_path2 = \"crab_data/1380_spimodfit_bkg\""
   ]
  },
  {
   "cell_type": "code",
   "execution_count": 10,
   "metadata": {},
   "outputs": [],
   "source": [
    "\n",
    "\n",
    "with fits.open(f\"{data_path2}/bg-e0020-0600/output_bgmodel-conti.fits.gz\") as file:\n",
    "    t = Table.read(file[1])\n",
    "    conti = t[\"COUNTS\"]\n",
    "    \n",
    "with fits.open(f\"{data_path2}/bg-e0020-0600/output_bgmodel-lines.fits.gz\") as file:\n",
    "    t = Table.read(file[1])\n",
    "    lines = t[\"COUNTS\"]\n"
   ]
  },
  {
   "cell_type": "code",
   "execution_count": 11,
   "metadata": {},
   "outputs": [],
   "source": [
    "################\n",
    "\n",
    "spimodfit_folder = \"crab_data/1380_spimodfit\"\n",
    "\n",
    "with fits.open(f\"{spimodfit_folder}/pointing.fits.gz\") as file:\n",
    "    t = Table.read(file[1])\n",
    "    \n",
    "spimodfit_pointings = np.array(t[\"PTID_ISOC\"])\n",
    "\n",
    "with fits.open(f\"{spimodfit_folder}/energy_boundaries.fits.gz\") as file:\n",
    "    t = Table.read(file[1])\n",
    "    \n",
    "new_energy_bins = np.append(t[\"E_MIN\"], t[\"E_MAX\"][-1])"
   ]
  },
  {
   "cell_type": "code",
   "execution_count": 12,
   "metadata": {},
   "outputs": [],
   "source": [
    "# with fits.open(f\"{data_path2}/energy_boundaries.fits\") as file:\n",
    "#     t = Table.read(file[1])\n",
    "#     new_energy_bins = np.append(t[\"E_MIN\"], t[\"E_MAX\"][-1])\n",
    "    \n",
    "# Energy Indices\n",
    "energy_indices = []\n",
    "for e in new_energy_bins:\n",
    "    temp = np.argwhere(energy_bins==e)\n",
    "    if len(temp)>0:\n",
    "        energy_indices.append(temp[0][0])\n",
    "\n",
    "# spimodfit_pointings = [\"03740001\", \"03740002\", \"03740003\", \"03740004\", \"03740005\", \"03740006\", \"03740007\", \"03740008\", \"03740009\", \"03740010\", \"03740011\", \"03740012\", \"03740013\", \"03740014\", \"03740015\", \"03740016\", \"03740017\", \"03740018\", \"03740019\", \"03740020\", \"03740021\", \"03740022\", \"03740023\", \"03740024\", \"03740025\", \"03740026\", \"03740027\", \"03740028\", \"03740029\", \"03740030\", \"03740031\", \"03740032\", \"03740033\", \"03740035\", \"03740036\", \"03740037\", \"03740038\", \"03740039\", \"03740040\", \"03740041\", \"03740042\", \"03740043\", \"03740045\"]\n",
    "\n",
    "# Pointing Indices\n",
    "with fits.open(f\"{data_path}/pointing.fits\") as file:\n",
    "    t = Table.read(file[1])\n",
    "    pointing_indices = []\n",
    "    pointing_indices_full = []\n",
    "    for i, p in enumerate(spimodfit_pointings):\n",
    "        temp = np.argwhere(t[\"PTID_ISOC\"]==p)\n",
    "        if len(temp)>0:\n",
    "            pointing_indices.append(temp[0][0])\n",
    "            for j in range(85):\n",
    "                pointing_indices_full.append(85*temp[0][0] + j)\n",
    "            \n",
    "\n",
    "        \n",
    "\n"
   ]
  },
  {
   "cell_type": "code",
   "execution_count": 16,
   "metadata": {},
   "outputs": [
    {
     "data": {
      "text/plain": [
       "array([ 3,  3,  1,  3, 19, 17, 10, 13, 10, 11, 15, 10, 22, 20, 13],\n",
       "      dtype=uint32)"
      ]
     },
     "execution_count": 16,
     "metadata": {},
     "output_type": "execute_result"
    }
   ],
   "source": [
    "source_counts[85*25,:15]"
   ]
  },
  {
   "cell_type": "code",
   "execution_count": 18,
   "metadata": {},
   "outputs": [],
   "source": [
    "new_source_counts = np.zeros((len(source_counts), len(new_energy_bins)-1))\n",
    "\n",
    "for i in range(len(energy_indices)-1):\n",
    "    new_source_counts[:,i] = np.sum(source_counts[ : , energy_indices[i] : energy_indices[i+1]], axis=1)\n",
    "    \n",
    "new_source_counts = new_source_counts[pointing_indices_full]\n",
    "\n",
    "total_counts = new_source_counts.copy()\n",
    "\n",
    "for i in range(len(pointing_indices)):\n",
    "    total_counts[85*i : 85*i + 19, :] += (np.random.poisson(np.abs(lines[i*19: (i+1)*19])) * np.sign(lines[i*19: (i+1)*19])\n",
    "                                          + np.random.poisson(np.abs(conti[i*19: (i+1)*19])) * np.sign(conti[i*19: (i+1)*19]))"
   ]
  },
  {
   "cell_type": "code",
   "execution_count": 19,
   "metadata": {},
   "outputs": [],
   "source": [
    "with fits.open(f\"{data_path}/evts_det_spec_orig.fits\") as file:\n",
    "    t = Table.read(file[1])\n",
    "    \n",
    "    counts = t\n",
    "    \n",
    "updated_counts = counts[pointing_indices_full]\n",
    "updated_counts[\"COUNTS\"] = total_counts\n",
    "\n",
    "hdu = fits.BinTableHDU(data=updated_counts, name=\"SPI.-OBS.-DSP\")\n",
    "hdu.writeto(f\"{data_path2}/evts_det_spec.fits\")"
   ]
  },
  {
   "cell_type": "code",
   "execution_count": 20,
   "metadata": {},
   "outputs": [],
   "source": [
    "# dead_time.fits\n",
    "with fits.open(f\"{data_path}/dead_time.fits\") as file:\n",
    "    t = Table.read(file[1])\n",
    "    \n",
    "dt = t[pointing_indices_full]\n",
    "\n",
    "hdu = fits.BinTableHDU(data=dt, name=\"SPI.-OBS.-DTI\")\n",
    "hdu.writeto(f\"{data_path2}/dead_time.fits\")"
   ]
  },
  {
   "cell_type": "code",
   "execution_count": 21,
   "metadata": {},
   "outputs": [],
   "source": [
    "# pointing.fits\n",
    "with fits.open(f\"{data_path}/pointing.fits\") as file:\n",
    "    t = Table.read(file[1])\n",
    "    \n",
    "ps = t[pointing_indices]\n",
    "\n",
    "hdu = fits.BinTableHDU(data=ps, name=\"SPI.-OBS.-PNT\")\n",
    "hdu.writeto(f\"{data_path2}/pointing.fits\")"
   ]
  },
  {
   "cell_type": "code",
   "execution_count": null,
   "metadata": {},
   "outputs": [],
   "source": []
  },
  {
   "cell_type": "code",
   "execution_count": 22,
   "metadata": {},
   "outputs": [],
   "source": [
    "# spimodfit_folder = \"crab_data/0374_spimodfit\"\n",
    "spimodfit_folder = \"crab_data/1380_spimodfit\"\n",
    "\n",
    "if not os.path.exists(spimodfit_folder):\n",
    "    os.mkdir(spimodfit_folder)\n",
    "\n",
    "spimodfit_pointings = [\"03740001\", \"03740002\", \"03740003\", \"03740004\", \"03740005\", \"03740006\", \"03740007\", \"03740008\", \"03740009\", \"03740010\", \"03740011\", \"03740012\", \"03740013\", \"03740014\", \"03740015\", \"03740016\", \"03740017\", \"03740018\", \"03740019\", \"03740020\", \"03740021\", \"03740022\", \"03740023\", \"03740024\", \"03740025\", \"03740026\", \"03740027\", \"03740028\", \"03740029\", \"03740030\", \"03740031\", \"03740032\", \"03740033\", \"03740035\", \"03740036\", \"03740037\", \"03740038\", \"03740039\", \"03740040\", \"03740041\", \"03740042\", \"03740043\", \"03740045\"]\n",
    "\n",
    "\n",
    "spimodfit_energy_bins = [20.0, 21.5, 23.5, 25.5, 27.5, 30.0, 32.5, 35.5, 38.5, 42.0, 45.5, 49.5, 54.0, 58.5, 63.5, 69.0, 75.0, 81.5, 89.0, 96.5, 105.0, 114.0, 124.0, 134.5, 146.0, 159.0, 172.5, 187.5, 204.0, 221.5, 240.5, 261.5, 284.0, 308.5, 335.5, 364.5, 396.0, 430.0, 467.5, 508.0, 514.0, 600.0,]"
   ]
  },
  {
   "cell_type": "code",
   "execution_count": 23,
   "metadata": {},
   "outputs": [],
   "source": [
    "with fits.open(f\"{spimodfit_folder}/pointing.fits.gz\") as file:\n",
    "    t = Table.read(file[1])\n",
    "    \n",
    "spimodfit_pointings = np.array(t[\"PTID_ISOC\"])\n",
    "\n",
    "with fits.open(f\"{spimodfit_folder}/energy_boundaries.fits.gz\") as file:\n",
    "    t = Table.read(file[1])\n",
    "    \n",
    "spimodfit_energy_bins = np.append(t[\"E_MIN\"], t[\"E_MAX\"][-1])\n"
   ]
  },
  {
   "cell_type": "code",
   "execution_count": 24,
   "metadata": {},
   "outputs": [],
   "source": [
    "# Pointing Indices\n",
    "with fits.open(f\"{data_path}/pointing.fits\") as file:\n",
    "    t = Table.read(file[1])\n",
    "    p_indices = []\n",
    "    p_rel_indices = []\n",
    "    for i, p in enumerate(spimodfit_pointings):\n",
    "        temp = np.argwhere(t[\"PTID_ISOC\"]==p)\n",
    "        if len(temp)>0:\n",
    "            p_indices.append(temp[0][0])\n",
    "            p_rel_indices.append(i)\n",
    "\n",
    "# Energy Indices\n",
    "with fits.open(f\"{data_path}/energy_boundaries.fits\") as file:\n",
    "    t = Table.read(file[1])\n",
    "    e_indices = []\n",
    "    for e in spimodfit_energy_bins:\n",
    "        temp = np.argwhere(t[\"E_MIN\"]==e)\n",
    "        if len(temp)>0:\n",
    "            e_indices.append(temp[0][0])\n",
    "            \n",
    "# Single Event Indices\n",
    "se_indices = []\n",
    "for i in p_indices:\n",
    "    for j in range(19):\n",
    "        se_indices.append(i*85 + j)\n",
    "        \n",
    "# Relative Pointing Deterctor Indices\n",
    "rd_indices = []\n",
    "for i in p_rel_indices:\n",
    "    for j in range(19):\n",
    "        rd_indices.append(i*19 + j)"
   ]
  },
  {
   "cell_type": "code",
   "execution_count": 25,
   "metadata": {},
   "outputs": [
    {
     "ename": "OSError",
     "evalue": "File crab_data/1380_spimodfit/evts_det_spec.fits.gz already exists. If you mean to replace it then use the argument \"overwrite=True\".",
     "output_type": "error",
     "traceback": [
      "\u001b[0;31m---------------------------------------------------------------------------\u001b[0m",
      "\u001b[0;31mOSError\u001b[0m                                   Traceback (most recent call last)",
      "\u001b[1;32m/home/moej56153/Master_Thesis/integral_data_analysis/add_source_SPI.ipynb Cell 24\u001b[0m in \u001b[0;36m<cell line: 17>\u001b[0;34m()\u001b[0m\n\u001b[1;32m     <a href='vscode-notebook-cell://wsl%2Bubuntu/home/moej56153/Master_Thesis/integral_data_analysis/add_source_SPI.ipynb#X35sdnNjb2RlLXJlbW90ZQ%3D%3D?line=14'>15</a>\u001b[0m hdu \u001b[39m=\u001b[39m fits\u001b[39m.\u001b[39mBinTableHDU(data\u001b[39m=\u001b[39md, name\u001b[39m=\u001b[39m\u001b[39m\"\u001b[39m\u001b[39mSPI.-OBS.-DSP\u001b[39m\u001b[39m\"\u001b[39m)\n\u001b[1;32m     <a href='vscode-notebook-cell://wsl%2Bubuntu/home/moej56153/Master_Thesis/integral_data_analysis/add_source_SPI.ipynb#X35sdnNjb2RlLXJlbW90ZQ%3D%3D?line=15'>16</a>\u001b[0m hdu\u001b[39m.\u001b[39mheader \u001b[39m=\u001b[39m h\n\u001b[0;32m---> <a href='vscode-notebook-cell://wsl%2Bubuntu/home/moej56153/Master_Thesis/integral_data_analysis/add_source_SPI.ipynb#X35sdnNjb2RlLXJlbW90ZQ%3D%3D?line=16'>17</a>\u001b[0m hdu\u001b[39m.\u001b[39;49mwriteto(\u001b[39mf\u001b[39;49m\u001b[39m\"\u001b[39;49m\u001b[39m{\u001b[39;49;00mspimodfit_folder\u001b[39m}\u001b[39;49;00m\u001b[39m/evts_det_spec.fits.gz\u001b[39;49m\u001b[39m\"\u001b[39;49m)\n",
      "File \u001b[0;32m~/.pyenv/versions/MT/lib/python3.9/site-packages/astropy/io/fits/hdu/base.py:1564\u001b[0m, in \u001b[0;36mExtensionHDU.writeto\u001b[0;34m(self, name, output_verify, overwrite, checksum)\u001b[0m\n\u001b[1;32m   1561\u001b[0m \u001b[39mfrom\u001b[39;00m \u001b[39m.\u001b[39;00m\u001b[39mimage\u001b[39;00m \u001b[39mimport\u001b[39;00m PrimaryHDU\n\u001b[1;32m   1563\u001b[0m hdulist \u001b[39m=\u001b[39m HDUList([PrimaryHDU(), \u001b[39mself\u001b[39m])\n\u001b[0;32m-> 1564\u001b[0m hdulist\u001b[39m.\u001b[39;49mwriteto(name, output_verify, overwrite\u001b[39m=\u001b[39;49moverwrite,\n\u001b[1;32m   1565\u001b[0m                 checksum\u001b[39m=\u001b[39;49mchecksum)\n",
      "File \u001b[0;32m~/.pyenv/versions/MT/lib/python3.9/site-packages/astropy/io/fits/hdu/hdulist.py:939\u001b[0m, in \u001b[0;36mHDUList.writeto\u001b[0;34m(self, fileobj, output_verify, overwrite, checksum)\u001b[0m\n\u001b[1;32m    935\u001b[0m mode \u001b[39m=\u001b[39m FILE_MODES[fileobj_mode(fileobj)] \u001b[39mif\u001b[39;00m isfile(fileobj) \u001b[39melse\u001b[39;00m \u001b[39m'\u001b[39m\u001b[39mostream\u001b[39m\u001b[39m'\u001b[39m\n\u001b[1;32m    937\u001b[0m \u001b[39m# This can accept an open file object that's open to write only, or in\u001b[39;00m\n\u001b[1;32m    938\u001b[0m \u001b[39m# append/update modes but only if the file doesn't exist.\u001b[39;00m\n\u001b[0;32m--> 939\u001b[0m fileobj \u001b[39m=\u001b[39m _File(fileobj, mode\u001b[39m=\u001b[39;49mmode, overwrite\u001b[39m=\u001b[39;49moverwrite)\n\u001b[1;32m    940\u001b[0m hdulist \u001b[39m=\u001b[39m \u001b[39mself\u001b[39m\u001b[39m.\u001b[39mfromfile(fileobj)\n\u001b[1;32m    941\u001b[0m \u001b[39mtry\u001b[39;00m:\n",
      "File \u001b[0;32m~/.pyenv/versions/MT/lib/python3.9/site-packages/astropy/io/fits/file.py:170\u001b[0m, in \u001b[0;36m_File.__init__\u001b[0;34m(self, fileobj, mode, memmap, overwrite, cache)\u001b[0m\n\u001b[1;32m    168\u001b[0m     \u001b[39mself\u001b[39m\u001b[39m.\u001b[39m_open_fileobj(fileobj, mode, overwrite)\n\u001b[1;32m    169\u001b[0m \u001b[39melif\u001b[39;00m \u001b[39misinstance\u001b[39m(fileobj, (\u001b[39mstr\u001b[39m, \u001b[39mbytes\u001b[39m)):\n\u001b[0;32m--> 170\u001b[0m     \u001b[39mself\u001b[39;49m\u001b[39m.\u001b[39;49m_open_filename(fileobj, mode, overwrite)\n\u001b[1;32m    171\u001b[0m \u001b[39melse\u001b[39;00m:\n\u001b[1;32m    172\u001b[0m     \u001b[39mself\u001b[39m\u001b[39m.\u001b[39m_open_filelike(fileobj, mode, overwrite)\n",
      "File \u001b[0;32m~/.pyenv/versions/MT/lib/python3.9/site-packages/astropy/io/fits/file.py:551\u001b[0m, in \u001b[0;36m_File._open_filename\u001b[0;34m(self, filename, mode, overwrite)\u001b[0m\n\u001b[1;32m    548\u001b[0m \u001b[39m\"\"\"Open a FITS file from a filename string.\"\"\"\u001b[39;00m\n\u001b[1;32m    550\u001b[0m \u001b[39mif\u001b[39;00m mode \u001b[39m==\u001b[39m \u001b[39m'\u001b[39m\u001b[39mostream\u001b[39m\u001b[39m'\u001b[39m:\n\u001b[0;32m--> 551\u001b[0m     \u001b[39mself\u001b[39;49m\u001b[39m.\u001b[39;49m_overwrite_existing(overwrite, \u001b[39mNone\u001b[39;49;00m, \u001b[39mTrue\u001b[39;49;00m)\n\u001b[1;32m    553\u001b[0m \u001b[39mif\u001b[39;00m os\u001b[39m.\u001b[39mpath\u001b[39m.\u001b[39mexists(\u001b[39mself\u001b[39m\u001b[39m.\u001b[39mname):\n\u001b[1;32m    554\u001b[0m     \u001b[39mwith\u001b[39;00m \u001b[39mopen\u001b[39m(\u001b[39mself\u001b[39m\u001b[39m.\u001b[39mname, \u001b[39m'\u001b[39m\u001b[39mrb\u001b[39m\u001b[39m'\u001b[39m) \u001b[39mas\u001b[39;00m f:\n",
      "File \u001b[0;32m~/.pyenv/versions/MT/lib/python3.9/site-packages/astropy/io/fits/file.py:440\u001b[0m, in \u001b[0;36m_File._overwrite_existing\u001b[0;34m(self, overwrite, fileobj, closed)\u001b[0m\n\u001b[1;32m    438\u001b[0m         os\u001b[39m.\u001b[39mremove(\u001b[39mself\u001b[39m\u001b[39m.\u001b[39mname)\n\u001b[1;32m    439\u001b[0m \u001b[39melse\u001b[39;00m:\n\u001b[0;32m--> 440\u001b[0m     \u001b[39mraise\u001b[39;00m \u001b[39mOSError\u001b[39;00m(NOT_OVERWRITING_MSG\u001b[39m.\u001b[39mformat(\u001b[39mself\u001b[39m\u001b[39m.\u001b[39mname))\n",
      "\u001b[0;31mOSError\u001b[0m: File crab_data/1380_spimodfit/evts_det_spec.fits.gz already exists. If you mean to replace it then use the argument \"overwrite=True\"."
     ]
    }
   ],
   "source": [
    "# evts_det_spec.fits.gz\n",
    "with fits.open(f\"{data_path}/evts_det_spec.fits\") as file:\n",
    "    t = Table.read(file[1])\n",
    "    \n",
    "with fits.open(f\"{spimodfit_folder}/evts_det_spec_old.fits.gz\") as file:\n",
    "    d = Table.read(file[1])\n",
    "    h = file[1].header\n",
    "    \n",
    "eds_temp = t[se_indices]\n",
    "\n",
    "\n",
    "for i in range(len(e_indices)-1):\n",
    "    d[\"COUNTS\"][:,i] = np.sum(eds_temp[\"COUNTS\"][ : , e_indices[i] : e_indices[i+1]], axis=1)\n",
    "    \n",
    "hdu = fits.BinTableHDU(data=d, name=\"SPI.-OBS.-DSP\")\n",
    "hdu.header = h\n",
    "hdu.writeto(f\"{spimodfit_folder}/evts_det_spec.fits.gz\")\n",
    "\n"
   ]
  },
  {
   "cell_type": "code",
   "execution_count": 27,
   "metadata": {},
   "outputs": [],
   "source": [
    "# spimodfit with spimodfit bkg\n",
    "with fits.open(f\"{data_path2}/evts_det_spec.fits\") as file:\n",
    "    t = Table.read(file[1])\n",
    "    \n",
    "with fits.open(f\"{spimodfit_folder}/evts_det_spec_old.fits.gz\") as file:\n",
    "    d = Table.read(file[1])\n",
    "    h = file[1].header\n",
    "\n",
    "smf_bkg_indices = []\n",
    "for i in range(len(pointing_indices)):\n",
    "    for j in range(19):\n",
    "        smf_bkg_indices.append(i*85 + j)\n",
    "\n",
    "d[\"COUNTS\"] = np.array(t[\"COUNTS\"][smf_bkg_indices], dtype=np.uint32)\n",
    "\n",
    "hdu = fits.BinTableHDU(data=d, name=\"SPI.-OBS.-DSP\")\n",
    "hdu.header = h\n",
    "hdu.writeto(f\"{spimodfit_folder}/w_smf_bkg/evts_det_spec.fits.gz\")"
   ]
  },
  {
   "cell_type": "code",
   "execution_count": 28,
   "metadata": {},
   "outputs": [
    {
     "data": {
      "text/plain": [
       "FITS_rec([([        279,         708,         887,         416,         389,         498,         486,         488,         532,         602,         691,        1696,        2884,        2622,        4555,         844,         860,         868,        2091,        1324,         924,        1087,        1222,        3932,        1429,        1412,        2107,        5805,        1436,        1407,        1419,        1483,        1606,        1453,        1353,        1247,        1368,        1653,        2035,         310,        2473], [ 18.193405,  34.29286 ,  40.718548,  25.612497,  24.718414,  23.194826,  25.768198,  25.23886 ,  26.532999,  26.870058,  29.631065,  57.95688 ,  67.992645,  67.48333 ,  92.99462 ,  34.176014,  32.109188,  33.42155 ,  58.189346,  44.844173,  35.142567,  37.86819 ,  40.93898 ,  85.32877 ,  43.462627,  45.628937,  58.30952 , 104.302444,  45.40925 ,  46.249325,  45.67275 ,  47.937458,  50.1996  ,  50.348785,  47.549973,  47.042534,  48.466484,  50.566788,  54.827   ,  35.580894,  65.08456 ]),\n",
       "          ([          0,           0,           0,           0,           0,           0,           0,           0,           0,           0,           0,           0,           0,           0,           0,           0,           0,           0,           0,           0,           0,           0,           0,           0,           0,           0,           0,           0,           0,           0,           0,           0,           0,           0,           0,           0,           0,           0,           0,           0,           0], [  0.      ,   0.      ,   0.      ,   0.      ,   0.      ,   0.      ,   0.      ,   0.      ,   0.      ,   0.      ,   0.      ,   0.      ,   0.      ,   0.      ,   0.      ,   0.      ,   0.      ,   0.      ,   0.      ,   0.      ,   0.      ,   0.      ,   0.      ,   0.      ,   0.      ,   0.      ,   0.      ,   0.      ,   0.      ,   0.      ,   0.      ,   0.      ,   0.      ,   0.      ,   0.      ,   0.      ,   0.      ,   0.      ,   0.      ,   0.      ,   0.      ]),\n",
       "          ([          0,           0,           0,           0,           0,           0,           0,           0,           0,           0,           0,           0,           0,           0,           0,           0,           0,           0,           0,           0,           0,           0,           0,           0,           0,           0,           0,           0,           0,           0,           0,           0,           0,           0,           0,           0,           0,           0,           0,           0,           0], [  0.      ,   0.      ,   0.      ,   0.      ,   0.      ,   0.      ,   0.      ,   0.      ,   0.      ,   0.      ,   0.      ,   0.      ,   0.      ,   0.      ,   0.      ,   0.      ,   0.      ,   0.      ,   0.      ,   0.      ,   0.      ,   0.      ,   0.      ,   0.      ,   0.      ,   0.      ,   0.      ,   0.      ,   0.      ,   0.      ,   0.      ,   0.      ,   0.      ,   0.      ,   0.      ,   0.      ,   0.      ,   0.      ,   0.      ,   0.      ,   0.      ]),\n",
       "          ...,\n",
       "          ([        206,         656,         840,         293,         203,         286,         269,         289,         271,         350,         402,        1355,        2553,        2294,        4218,         582,         594,         539,        1727,         970,         625,         742,         780,        3332,         840,         952,        1491,        5276,         931,         972,         977,        1000,        1149,         984,        1039,        1025,        1024,        1218,        1621,         251,        1952], [ 16.792856,  33.04542 ,  40.9756  ,  25.729362,  22.022715,  21.16601 ,  24.617067,  22.869194,  25.298222,  24.535688,  28.513155,  57.48043 ,  65.98485 ,  67.92643 ,  93.27915 ,  34.88553 ,  33.630344,  34.19064 ,  57.680153,  45.94562 ,  34.33657 ,  38.17067 ,  38.704006,  83.65405 ,  40.82891 ,  42.41462 ,  54.240208, 103.009705,  43.462627,  43.462627,  43.60046 ,  45.96738 ,  47.728397,  47.623524,  44.799553,  45.53021 ,  46.872166,  49.335587,  51.884487,  32.60368 ,  63.134777]),\n",
       "          ([          0,           0,           0,           0,           0,           0,           0,           0,           0,           0,           0,           0,           0,           0,           0,           0,           0,           0,           0,           0,           0,           0,           0,           0,           0,           0,           0,           0,           0,           0,           0,           0,           0,           0,           0,           0,           0,           0,           0,           0,           0], [  0.      ,   0.      ,   0.      ,   0.      ,   0.      ,   0.      ,   0.      ,   0.      ,   0.      ,   0.      ,   0.      ,   0.      ,   0.      ,   0.      ,   0.      ,   0.      ,   0.      ,   0.      ,   0.      ,   0.      ,   0.      ,   0.      ,   0.      ,   0.      ,   0.      ,   0.      ,   0.      ,   0.      ,   0.      ,   0.      ,   0.      ,   0.      ,   0.      ,   0.      ,   0.      ,   0.      ,   0.      ,   0.      ,   0.      ,   0.      ,   0.      ]),\n",
       "          ([        235,         580,         757,         265,         216,         294,         280,         288,         283,         366,         424,        1418,        2668,        2328,        4225,         616,         585,         510,        1688,         954,         605,         670,         688,        3431,         792,         907,        1396,        5150,         849,         824,         859,         976,        1071,         992,         930,         943,        1019,        1206,        1502,         211,        1960], [ 17.406895,  32.124756,  40.211937,  24.919872,  22.203604,  22.427662,  23.600847,  22.605309,  24.289915,  24.657656,  28.653097,  57.939625,  67.7643  ,  68.19091 ,  93.354164,  34.146744,  32.68027 ,  32.80244 ,  56.868267,  44.474712,  32.75668 ,  37.      ,  37.576588,  83.04216 ,  39.34463 ,  41.496986,  51.69139 , 101.257095,  42.68489 ,  41.097446,  41.060932,  43.150898,  44.933285,  46.508064,  43.72642 ,  45.85848 ,  45.67275 ,  47.958317,  51.332253,  28.618176,  62.753487])],\n",
       "         dtype=(numpy.record, [('COUNTS', '<i4', (41,)), ('STAT_ERR', '<f4', (41,))]))"
      ]
     },
     "execution_count": 28,
     "metadata": {},
     "output_type": "execute_result"
    }
   ],
   "source": [
    "hdu.data"
   ]
  },
  {
   "cell_type": "code",
   "execution_count": 31,
   "metadata": {},
   "outputs": [
    {
     "data": {
      "text/html": [
       "<div><i>Table length=779</i>\n",
       "<table id=\"table139928637298240\" class=\"table-striped table-bordered table-condensed\">\n",
       "<thead><tr><th>COUNTS</th><th>STAT_ERR</th></tr></thead>\n",
       "<thead><tr><th>uint32[41]</th><th>float32[41]</th></tr></thead>\n",
       "<tr><td>127 .. 412</td><td>7.8740077 .. 29.051678</td></tr>\n",
       "<tr><td>74 .. 382</td><td>8.062258 .. 28.01785</td></tr>\n",
       "<tr><td>0 .. 0</td><td>0.0 .. 0.0</td></tr>\n",
       "<tr><td>101 .. 423</td><td>8.6602545 .. 28.231188</td></tr>\n",
       "<tr><td>122 .. 397</td><td>7.2111025 .. 27.748875</td></tr>\n",
       "<tr><td>95 .. 412</td><td>7.2111025 .. 28.035692</td></tr>\n",
       "<tr><td>103 .. 425</td><td>7.615773 .. 29.103264</td></tr>\n",
       "<tr><td>52 .. 376</td><td>7.9372535 .. 28.600698</td></tr>\n",
       "<tr><td>78 .. 420</td><td>7.8740077 .. 27.802877</td></tr>\n",
       "<tr><td>64 .. 427</td><td>7.2111025 .. 29.034462</td></tr>\n",
       "<tr><td>...</td><td>...</td></tr>\n",
       "<tr><td>691 .. 3005</td><td>21.563858 .. 76.980515</td></tr>\n",
       "<tr><td>533 .. 2988</td><td>22.022715 .. 77.03895</td></tr>\n",
       "<tr><td>696 .. 2995</td><td>20.396078 .. 76.35444</td></tr>\n",
       "<tr><td>335 .. 2706</td><td>19.849434 .. 73.10267</td></tr>\n",
       "<tr><td>519 .. 2742</td><td>19.052559 .. 72.332565</td></tr>\n",
       "<tr><td>884 .. 2852</td><td>20.199009 .. 74.08778</td></tr>\n",
       "<tr><td>631 .. 2655</td><td>19.949938 .. 73.94592</td></tr>\n",
       "<tr><td>429 .. 2855</td><td>20.856653 .. 75.60423</td></tr>\n",
       "<tr><td>0 .. 0</td><td>0.0 .. 0.0</td></tr>\n",
       "<tr><td>444 .. 2896</td><td>21.16601 .. 76.072334</td></tr>\n",
       "</table></div>"
      ],
      "text/plain": [
       "<Table length=779>\n",
       "   COUNTS          STAT_ERR       \n",
       " uint32[41]      float32[41]      \n",
       "----------- ----------------------\n",
       " 127 .. 412 7.8740077 .. 29.051678\n",
       "  74 .. 382   8.062258 .. 28.01785\n",
       "     0 .. 0             0.0 .. 0.0\n",
       " 101 .. 423 8.6602545 .. 28.231188\n",
       " 122 .. 397 7.2111025 .. 27.748875\n",
       "  95 .. 412 7.2111025 .. 28.035692\n",
       " 103 .. 425  7.615773 .. 29.103264\n",
       "  52 .. 376 7.9372535 .. 28.600698\n",
       "  78 .. 420 7.8740077 .. 27.802877\n",
       "  64 .. 427 7.2111025 .. 29.034462\n",
       "        ...                    ...\n",
       "691 .. 3005 21.563858 .. 76.980515\n",
       "533 .. 2988  22.022715 .. 77.03895\n",
       "696 .. 2995  20.396078 .. 76.35444\n",
       "335 .. 2706  19.849434 .. 73.10267\n",
       "519 .. 2742 19.052559 .. 72.332565\n",
       "884 .. 2852  20.199009 .. 74.08778\n",
       "631 .. 2655  19.949938 .. 73.94592\n",
       "429 .. 2855  20.856653 .. 75.60423\n",
       "     0 .. 0             0.0 .. 0.0\n",
       "444 .. 2896  21.16601 .. 76.072334"
      ]
     },
     "execution_count": 31,
     "metadata": {},
     "output_type": "execute_result"
    }
   ],
   "source": [
    "with fits.open(f\"{data_path}/spi/w_smf_bkg/evts_det_spec.fits.gz\") as file:\n",
    "    t = Table.read(file[1])\n",
    "    \n",
    "t"
   ]
  },
  {
   "cell_type": "code",
   "execution_count": null,
   "metadata": {},
   "outputs": [],
   "source": [
    "# rest not necessary"
   ]
  },
  {
   "cell_type": "code",
   "execution_count": 14,
   "metadata": {},
   "outputs": [],
   "source": [
    "# energy_boundaries.fits.gz\n",
    "with fits.open(f\"{data_path}/energy_boundaries.fits\") as file:\n",
    "    t = Table.read(file[1])\n",
    "\n",
    "eb = t[e_indices[:-1]]\n",
    "eb[\"E_MAX\"] = t[\"E_MIN\"][e_indices[1:]]\n",
    "\n",
    "hdu = fits.BinTableHDU(data=eb, name=\"SPI.-EBDS-SET\")\n",
    "hdu.header[\"EBIN_NUM\"] = len(e_indices[:-1])\n",
    "hdu.writeto(f\"{spimodfit_folder}/energy_boundaries.fits.gz\", overwrite=True)"
   ]
  },
  {
   "cell_type": "code",
   "execution_count": 19,
   "metadata": {},
   "outputs": [],
   "source": [
    "# dead_time.fits.gz\n",
    "with fits.open(f\"{data_path}/dead_time.fits\") as file:\n",
    "    t = Table.read(file[1])\n",
    "    \n",
    "dt = t[se_indices]\n",
    "\n",
    "hdu = fits.BinTableHDU(data=dt, name=\"SPI.-OBS.-DTI\")\n",
    "hdu.header[\"ISOC_NUM\"] = len(p_indices)\n",
    "hdu.header[\"PT_NUM\"] = len(p_indices)\n",
    "hdu.header[\"DET_NUM\"] = 19\n",
    "hdu.writeto(f\"{spimodfit_folder}/dead_time.fits.gz\", overwrite=True)"
   ]
  },
  {
   "cell_type": "code",
   "execution_count": 21,
   "metadata": {},
   "outputs": [],
   "source": [
    "# pointing.fits.gz\n",
    "with fits.open(f\"{data_path}/pointing.fits\") as file:\n",
    "    t = Table.read(file[1])\n",
    "    \n",
    "ps = t[p_indices]\n",
    "\n",
    "hdu = fits.BinTableHDU(data=ps, name=\"SPI.-OBS.-PNT\")\n",
    "hdu.header[\"ISOC_NUM\"] = len(p_indices)\n",
    "hdu.header[\"PT_NUM\"] = len(p_indices)\n",
    "hdu.writeto(f\"{spimodfit_folder}/pointing.fits.gz\", overwrite=True)"
   ]
  },
  {
   "cell_type": "code",
   "execution_count": 23,
   "metadata": {},
   "outputs": [],
   "source": [
    "# gti.fits.gz\n",
    "with fits.open(f\"{data_path}/gti.fits\") as file:\n",
    "    t = Table.read(file[1])\n",
    "\n",
    "gt = t[se_indices]\n",
    "\n",
    "hdu = fits.BinTableHDU(data=gt, name=\"SPI.-OBS.-GTI\")\n",
    "hdu.header[\"ISOC_NUM\"] = len(p_indices)\n",
    "hdu.header[\"PT_NUM\"] = len(p_indices)\n",
    "hdu.header[\"DET_NUM\"] = 19\n",
    "hdu.writeto(f\"{spimodfit_folder}/gti.fits.gz\", overwrite=True)"
   ]
  },
  {
   "cell_type": "code",
   "execution_count": 6,
   "metadata": {},
   "outputs": [],
   "source": [
    "# simulated source\n",
    "with fits.open(f\"{data_path}/cat_crab.fits.gz\") as file:\n",
    "    t = Table.read(file[1])\n",
    "    \n",
    "ns = t.copy()\n",
    "ns[\"RA_OBJ\"] = 10.\n",
    "ns[\"DEC_OBJ\"] = -40.\n",
    "ns[\"NAME\"] = \"SimSource\"\n",
    "ns[\"CLASS\"] = 0\n",
    "ns[\"ISGRI_FLAG\"] = 1\n",
    "ns[\"SPI_FLUX_1\"] = 0.\n",
    "ns[\"SPI_FLUX_2\"] = 0.\n",
    "ns[\"ISGR_FLUX_1\"] = 0.\n",
    "ns[\"ISGR_FLUX_2\"] = 0.\n",
    "ns[\"PICS_FLUX_1\"] = 0.\n",
    "ns[\"PICS_FLUX_2\"] = 0.\n",
    "ns[\"JEMX_FLUX_1\"] = 0.\n",
    "ns[\"JEMX_FLUX_2\"] = 0.\n",
    "ns[\"BIRD_SOURCE_ID\"] = \"J000000.0+000000\"\n",
    "ns[\"SOURCE_ID\"] = \"SimSource\"\n",
    "\n",
    "hdu = fits.BinTableHDU(data=ns, name=\"SPI.-SRCL-CAT\")\n",
    "hdu.writeto(f\"{spimodfit_folder}/cat_sim.fits.gz\", overwrite=True)\n"
   ]
  },
  {
   "cell_type": "code",
   "execution_count": 31,
   "metadata": {},
   "outputs": [
    {
     "name": "stdout",
     "output_type": "stream",
     "text": [
      "XTENSION= 'BINTABLE'           / Binary table extension                         BITPIX  =                    8 / 8-bit bytes                                    NAXIS   =                    2 / 2-dimensional binary table                     NAXIS1  =                 7189 / width of table in bytes                        NAXIS2  =                   43 / number of rows in table                        PCOUNT  =                    0 / size of special data area                      GCOUNT  =                    1 / one data group (required keyword)              TFIELDS =                  349 / number of fields in each row                   TTYPE1  = 'ScwID   '           / Label for this field                           TFORM1  = '12A     '           / format of field                                TTYPE2  = 'Revolution'         / Label for this field                           TFORM2  = '1I      '           / format of field                                TZERO2  =                32768 / offset for unsigned integers                   TSCAL2  =                    1 / data are not scaled                            TTYPE3  = 'DateStart'          / Label for this field                           TFORM3  = '20A     '           / format of field                                TTYPE4  = 'DateEnd '           / Label for this field                           TFORM4  = '20A     '           / format of field                                TTYPE5  = 'OBTStart'           / Label for this field                           TFORM5  = '4I      '           / format of field                                TZERO5  =                32768 / offset for unsigned integers                   TSCAL5  =                    1 / data are not scaled                            TTYPE6  = 'OBTEnd  '           / Label for this field                           TFORM6  = '4I      '           / format of field                                TZERO6  =                32768 / offset for unsigned integers                   TSCAL6  =                    1 / data are not scaled                            TTYPE7  = 'TStart  '           / Label for this field                           TFORM7  = '1D      '           / format of field                                TTYPE8  = 'TEnd    '           / Label for this field                           TFORM8  = '1D      '           / format of field                                TTYPE9  = 'TElapse '           / Label for this field                           TFORM9  = '1D      '           / format of field                                TTYPE10 = 'ISOC_Pointing'      / Label for this field                           TFORM10 = '1I      '           / format of field                                TZERO10 =                32768 / offset for unsigned integers                   TSCAL10 =                    1 / data are not scaled                            TTYPE11 = 'Ptg_SubDivision'    / Label for this field                           TFORM11 = '1I      '           / format of field                                TZERO11 =                32768 / offset for unsigned integers                   TSCAL11 =                    1 / data are not scaled                            TTYPE12 = 'ScwType '           / Label for this field                           TFORM12 = '1I      '           / format of field                                TZERO12 =                32768 / offset for unsigned integers                   TSCAL12 =                    1 / data are not scaled                            TTYPE13 = 'SWG_End '           / Label for this field                           TFORM13 = '8A      '           / format of field                                TTYPE14 = 'Version '           / Label for this field                           TFORM14 = '1I      '           / format of field                                TZERO14 =                32768 / offset for unsigned integers                   TSCAL14 =                    1 / data are not scaled                            TTYPE15 = 'RA_SCX  '           / Label for this field                           TFORM15 = '1D      '           / format of field                                TTYPE16 = 'DEC_SCX '           / Label for this field                           TFORM16 = '1D      '           / format of field                                TTYPE17 = 'L2_SCX  '           / Label for this field                           TFORM17 = '1D      '           / format of field                                TTYPE18 = 'B2_SCX  '           / Label for this field                           TFORM18 = '1D      '           / format of field                                TTYPE19 = 'RA_SCZ  '           / Label for this field                           TFORM19 = '1D      '           / format of field                                TTYPE20 = 'DEC_SCZ '           / Label for this field                           TFORM20 = '1D      '           / format of field                                TTYPE21 = 'L2_SCZ  '           / Label for this field                           TFORM21 = '1D      '           / format of field                                TTYPE22 = 'B2_SCZ  '           / Label for this field                           TFORM22 = '1D      '           / format of field                                TTYPE23 = 'PosAngle'           / Label for this field                           TFORM23 = '1D      '           / format of field                                TTYPE24 = 'SWG_Location'       / Label for this field                           TFORM24 = '256A    '           / format of field                                TTYPE25 = 'ReadPrpSCHK'        / Label for this field                           TFORM25 = '1L      '           / format of field                                TTYPE26 = 'ReadRawSCHK'        / Label for this field                           TFORM26 = '1L      '           / format of field                                TTYPE27 = 'VetoGate'           / Label for this field                           TFORM27 = '1D      '           / format of field                                TTYPE28 = 'VetoNonSat'         / Label for this field                           TFORM28 = '1D      '           / format of field                                TTYPE29 = 'VetoSat '           / Label for this field                           TFORM29 = '1D      '           / format of field                                TTYPE30 = 'VetoGoodTime'       / Label for this field                           TFORM30 = '1D      '           / format of field                                TTYPE31 = 'DTimeCheck'         / Label for this field                           TFORM31 = '1D      '           / format of field                                TTYPE32 = 'VetoDFEEInOut'      / Label for this field                           TFORM32 = '1D      '           / format of field                                TTYPE33 = 'GeNonSatTot'        / Label for this field                           TFORM33 = '1D      '           / format of field                                TTYPE34 = 'GeNonSatD00'        / Label for this field                           TFORM34 = '1D      '           / format of field                                TTYPE35 = 'GeNonSatD01'        / Label for this field                           TFORM35 = '1D      '           / format of field                                TTYPE36 = 'GeNonSatD02'        / Label for this field                           TFORM36 = '1D      '           / format of field                                TTYPE37 = 'GeNonSatD03'        / Label for this field                           TFORM37 = '1D      '           / format of field                                TTYPE38 = 'GeNonSatD04'        / Label for this field                           TFORM38 = '1D      '           / format of field                                TTYPE39 = 'GeNonSatD05'        / Label for this field                           TFORM39 = '1D      '           / format of field                                TTYPE40 = 'GeNonSatD06'        / Label for this field                           TFORM40 = '1D      '           / format of field                                TTYPE41 = 'GeNonSatD07'        / Label for this field                           TFORM41 = '1D      '           / format of field                                TTYPE42 = 'GeNonSatD08'        / Label for this field                           TFORM42 = '1D      '           / format of field                                TTYPE43 = 'GeNonSatD09'        / Label for this field                           TFORM43 = '1D      '           / format of field                                TTYPE44 = 'GeNonSatD10'        / Label for this field                           TFORM44 = '1D      '           / format of field                                TTYPE45 = 'GeNonSatD11'        / Label for this field                           TFORM45 = '1D      '           / format of field                                TTYPE46 = 'GeNonSatD12'        / Label for this field                           TFORM46 = '1D      '           / format of field                                TTYPE47 = 'GeNonSatD13'        / Label for this field                           TFORM47 = '1D      '           / format of field                                TTYPE48 = 'GeNonSatD14'        / Label for this field                           TFORM48 = '1D      '           / format of field                                TTYPE49 = 'GeNonSatD15'        / Label for this field                           TFORM49 = '1D      '           / format of field                                TTYPE50 = 'GeNonSatD16'        / Label for this field                           TFORM50 = '1D      '           / format of field                                TTYPE51 = 'GeNonSatD17'        / Label for this field                           TFORM51 = '1D      '           / format of field                                TTYPE52 = 'GeNonSatD18'        / Label for this field                           TFORM52 = '1D      '           / format of field                                TTYPE53 = 'GeSatTot'           / Label for this field                           TFORM53 = '1D      '           / format of field                                TTYPE54 = 'GeSatD00'           / Label for this field                           TFORM54 = '1D      '           / format of field                                TTYPE55 = 'GeSatD01'           / Label for this field                           TFORM55 = '1D      '           / format of field                                TTYPE56 = 'GeSatD02'           / Label for this field                           TFORM56 = '1D      '           / format of field                                TTYPE57 = 'GeSatD03'           / Label for this field                           TFORM57 = '1D      '           / format of field                                TTYPE58 = 'GeSatD04'           / Label for this field                           TFORM58 = '1D      '           / format of field                                TTYPE59 = 'GeSatD05'           / Label for this field                           TFORM59 = '1D      '           / format of field                                TTYPE60 = 'GeSatD06'           / Label for this field                           TFORM60 = '1D      '           / format of field                                TTYPE61 = 'GeSatD07'           / Label for this field                           TFORM61 = '1D      '           / format of field                                TTYPE62 = 'GeSatD08'           / Label for this field                           TFORM62 = '1D      '           / format of field                                TTYPE63 = 'GeSatD09'           / Label for this field                           TFORM63 = '1D      '           / format of field                                TTYPE64 = 'GeSatD10'           / Label for this field                           TFORM64 = '1D      '           / format of field                                TTYPE65 = 'GeSatD11'           / Label for this field                           TFORM65 = '1D      '           / format of field                                TTYPE66 = 'GeSatD12'           / Label for this field                           TFORM66 = '1D      '           / format of field                                TTYPE67 = 'GeSatD13'           / Label for this field                           TFORM67 = '1D      '           / format of field                                TTYPE68 = 'GeSatD14'           / Label for this field                           TFORM68 = '1D      '           / format of field                                TTYPE69 = 'GeSatD15'           / Label for this field                           TFORM69 = '1D      '           / format of field                                TTYPE70 = 'GeSatD16'           / Label for this field                           TFORM70 = '1D      '           / format of field                                TTYPE71 = 'GeSatD17'           / Label for this field                           TFORM71 = '1D      '           / format of field                                TTYPE72 = 'GeSatD18'           / Label for this field                           TFORM72 = '1D      '           / format of field                                TTYPE73 = 'GeNonVetoTot'       / Label for this field                           TFORM73 = '1D      '           / format of field                                TTYPE74 = 'GeNonVetoD00'       / Label for this field                           TFORM74 = '1D      '           / format of field                                TTYPE75 = 'GeNonVetoD01'       / Label for this field                           TFORM75 = '1D      '           / format of field                                TTYPE76 = 'GeNonVetoD02'       / Label for this field                           TFORM76 = '1D      '           / format of field                                TTYPE77 = 'GeNonVetoD03'       / Label for this field                           TFORM77 = '1D      '           / format of field                                TTYPE78 = 'GeNonVetoD04'       / Label for this field                           TFORM78 = '1D      '           / format of field                                TTYPE79 = 'GeNonVetoD05'       / Label for this field                           TFORM79 = '1D      '           / format of field                                TTYPE80 = 'GeNonVetoD06'       / Label for this field                           TFORM80 = '1D      '           / format of field                                TTYPE81 = 'GeNonVetoD07'       / Label for this field                           TFORM81 = '1D      '           / format of field                                TTYPE82 = 'GeNonVetoD08'       / Label for this field                           TFORM82 = '1D      '           / format of field                                TTYPE83 = 'GeNonVetoD09'       / Label for this field                           TFORM83 = '1D      '           / format of field                                TTYPE84 = 'GeNonVetoD10'       / Label for this field                           TFORM84 = '1D      '           / format of field                                TTYPE85 = 'GeNonVetoD11'       / Label for this field                           TFORM85 = '1D      '           / format of field                                TTYPE86 = 'GeNonVetoD12'       / Label for this field                           TFORM86 = '1D      '           / format of field                                TTYPE87 = 'GeNonVetoD13'       / Label for this field                           TFORM87 = '1D      '           / format of field                                TTYPE88 = 'GeNonVetoD14'       / Label for this field                           TFORM88 = '1D      '           / format of field                                TTYPE89 = 'GeNonVetoD15'       / Label for this field                           TFORM89 = '1D      '           / format of field                                TTYPE90 = 'GeNonVetoD16'       / Label for this field                           TFORM90 = '1D      '           / format of field                                TTYPE91 = 'GeNonVetoD17'       / Label for this field                           TFORM91 = '1D      '           / format of field                                TTYPE92 = 'GeNonVetoD18'       / Label for this field                           TFORM92 = '1D      '           / format of field                                TTYPE93 = 'FracGoodEvtsTot'    / Label for this field                           TFORM93 = '1D      '           / format of field                                TTYPE94 = 'FracGoodEvtsD00'    / Label for this field                           TFORM94 = '1D      '           / format of field                                TTYPE95 = 'FracGoodEvtsD01'    / Label for this field                           TFORM95 = '1D      '           / format of field                                TTYPE96 = 'FracGoodEvtsD02'    / Label for this field                           TFORM96 = '1D      '           / format of field                                TTYPE97 = 'FracGoodEvtsD03'    / Label for this field                           TFORM97 = '1D      '           / format of field                                TTYPE98 = 'FracGoodEvtsD04'    / Label for this field                           TFORM98 = '1D      '           / format of field                                TTYPE99 = 'FracGoodEvtsD05'    / Label for this field                           TFORM99 = '1D      '           / format of field                                TTYPE100= 'FracGoodEvtsD06'    / Label for this field                           TFORM100= '1D      '           / format of field                                TTYPE101= 'FracGoodEvtsD07'    / Label for this field                           TFORM101= '1D      '           / format of field                                TTYPE102= 'FracGoodEvtsD08'    / Label for this field                           TFORM102= '1D      '           / format of field                                TTYPE103= 'FracGoodEvtsD09'    / Label for this field                           TFORM103= '1D      '           / format of field                                TTYPE104= 'FracGoodEvtsD10'    / Label for this field                           TFORM104= '1D      '           / format of field                                TTYPE105= 'FracGoodEvtsD11'    / Label for this field                           TFORM105= '1D      '           / format of field                                TTYPE106= 'FracGoodEvtsD12'    / Label for this field                           TFORM106= '1D      '           / format of field                                TTYPE107= 'FracGoodEvtsD13'    / Label for this field                           TFORM107= '1D      '           / format of field                                TTYPE108= 'FracGoodEvtsD14'    / Label for this field                           TFORM108= '1D      '           / format of field                                TTYPE109= 'FracGoodEvtsD15'    / Label for this field                           TFORM109= '1D      '           / format of field                                TTYPE110= 'FracGoodEvtsD16'    / Label for this field                           TFORM110= '1D      '           / format of field                                TTYPE111= 'FracGoodEvtsD17'    / Label for this field                           TFORM111= '1D      '           / format of field                                TTYPE112= 'FracGoodEvtsD18'    / Label for this field                           TFORM112= '1D      '           / format of field                                TTYPE113= 'ReadRawBlck'        / Label for this field                           TFORM113= '1L      '           / format of field                                TTYPE114= 'SgleEvtsNum'        / Label for this field                           TFORM114= '1D      '           / format of field                                TTYPE115= 'PSDEvtsNum'         / Label for this field                           TFORM115= '1D      '           / format of field                                TTYPE116= 'CRVEvtsNum'         / Label for this field                           TFORM116= '1D      '           / format of field                                TTYPE117= 'ME2EvtsNum'         / Label for this field                           TFORM117= '1D      '           / format of field                                TTYPE118= 'ME3EvtsNum'         / Label for this field                           TFORM118= '1D      '           / format of field                                TTYPE119= 'ME4EvtsNum'         / Label for this field                           TFORM119= '1D      '           / format of field                                TTYPE120= 'ME5EvtsNum'         / Label for this field                           TFORM120= '1D      '           / format of field                                TTYPE121= 'MEHiEvtsNum'        / Label for this field                           TFORM121= '1D      '           / format of field                                TTYPE122= 'FracEvtsDFEE'       / Label for this field                           TFORM122= '1D      '           / format of field                                TTYPE123= 'ReadPrpOBSpec'      / Label for this field                           TFORM123= '1L      '           / format of field                                TTYPE124= 'OBSpecNbDet'        / Label for this field                           TFORM124= '1I      '           / format of field                                TZERO124=                32768 / offset for unsigned integers                   TSCAL124=                    1 / data are not scaled                            TTYPE125= 'OBSpecTStart'       / Label for this field                           TFORM125= '1D      '           / format of field                                TTYPE126= 'OBSpecTStop'        / Label for this field                           TFORM126= '1D      '           / format of field                                TTYPE127= 'OBSpecOnTime'       / Label for this field                           TFORM127= '1D      '           / format of field                                TTYPE128= 'ReadRawOBSpec'      / Label for this field                           TFORM128= '1L      '           / format of field                                TTYPE129= 'OBSpecFlux1'        / Label for this field                           TFORM129= '1D      '           / format of field                                TTYPE130= 'OBSpecFlux2'        / Label for this field                           TFORM130= '1D      '           / format of field                                TTYPE131= 'ReadOrbitPar'       / Label for this field                           TFORM131= '1L      '           / format of field                                TTYPE132= 'OrbitRevPhase'      / Label for this field                           TFORM132= '1D      '           / format of field                                TTYPE133= 'OrbitRevFrac'       / Label for this field                           TFORM133= '1D      '           / format of field                                TTYPE134= 'OrbitDistance'      / Label for this field                           TFORM134= '1D      '           / format of field                                TTYPE135= 'OrbitRA_SCX'        / Label for this field                           TFORM135= '1D      '           / format of field                                TTYPE136= 'OrbitDEC_SCX'       / Label for this field                           TFORM136= '1D      '           / format of field                                TTYPE137= 'OrbitL2_SCX'        / Label for this field                           TFORM137= '1D      '           / format of field                                TTYPE138= 'OrbitB2_SCX'        / Label for this field                           TFORM138= '1D      '           / format of field                                TTYPE139= 'OrbitRA_SCZ'        / Label for this field                           TFORM139= '1D      '           / format of field                                TTYPE140= 'OrbitDEC_SCZ'       / Label for this field                           TFORM140= '1D      '           / format of field                                TTYPE141= 'OrbitL2_SCZ'        / Label for this field                           TFORM141= '1D      '           / format of field                                TTYPE142= 'OrbitB2_SCZ'        / Label for this field                           TFORM142= '1D      '           / format of field                                TTYPE143= 'OrbitPtgPerf'       / Label for this field                           TFORM143= '1D      '           / format of field                                TTYPE144= 'OrbitPosAngle'      / Label for this field                           TFORM144= '1D      '           / format of field                                TTYPE145= 'ReadSgleEvts'       / Label for this field                           TFORM145= '1L      '           / format of field                                TTYPE146= 'SgleEvtsTotRate'    / Label for this field                           TFORM146= '1D      '           / format of field                                TTYPE147= 'SgleEvtsD00Rate'    / Label for this field                           TFORM147= '1D      '           / format of field                                TTYPE148= 'SgleEvtsD01Rate'    / Label for this field                           TFORM148= '1D      '           / format of field                                TTYPE149= 'SgleEvtsD02Rate'    / Label for this field                           TFORM149= '1D      '           / format of field                                TTYPE150= 'SgleEvtsD03Rate'    / Label for this field                           TFORM150= '1D      '           / format of field                                TTYPE151= 'SgleEvtsD04Rate'    / Label for this field                           TFORM151= '1D      '           / format of field                                TTYPE152= 'SgleEvtsD05Rate'    / Label for this field                           TFORM152= '1D      '           / format of field                                TTYPE153= 'SgleEvtsD06Rate'    / Label for this field                           TFORM153= '1D      '           / format of field                                TTYPE154= 'SgleEvtsD07Rate'    / Label for this field                           TFORM154= '1D      '           / format of field                                TTYPE155= 'SgleEvtsD08Rate'    / Label for this field                           TFORM155= '1D      '           / format of field                                TTYPE156= 'SgleEvtsD09Rate'    / Label for this field                           TFORM156= '1D      '           / format of field                                TTYPE157= 'SgleEvtsD10Rate'    / Label for this field                           TFORM157= '1D      '           / format of field                                TTYPE158= 'SgleEvtsD11Rate'    / Label for this field                           TFORM158= '1D      '           / format of field                                TTYPE159= 'SgleEvtsD12Rate'    / Label for this field                           TFORM159= '1D      '           / format of field                                TTYPE160= 'SgleEvtsD13Rate'    / Label for this field                           TFORM160= '1D      '           / format of field                                TTYPE161= 'SgleEvtsD14Rate'    / Label for this field                           TFORM161= '1D      '           / format of field                                TTYPE162= 'SgleEvtsD15Rate'    / Label for this field                           TFORM162= '1D      '           / format of field                                TTYPE163= 'SgleEvtsD16Rate'    / Label for this field                           TFORM163= '1D      '           / format of field                                TTYPE164= 'SgleEvtsD17Rate'    / Label for this field                           TFORM164= '1D      '           / format of field                                TTYPE165= 'SgleEvtsD18Rate'    / Label for this field                           TFORM165= '1D      '           / format of field                                TTYPE166= 'ReadACS '           / Label for this field                           TFORM166= '1L      '           / format of field                                TTYPE167= 'ACSRate '           / Label for this field                           TFORM167= '1D      '           / format of field                                TTYPE168= 'FracACSDFEE'        / Label for this field                           TFORM168= '1D      '           / format of field                                TTYPE169= 'ReadRawFEE0'        / Label for this field                           TFORM169= '1L      '           / format of field                                TTYPE170= 'ReadRawFEE1'        / Label for this field                           TFORM170= '1L      '           / format of field                                TTYPE171= 'ReadRawFEE2'        / Label for this field                           TFORM171= '1L      '           / format of field                                TTYPE172= 'ReadRawFEE3'        / Label for this field                           TFORM172= '1L      '           / format of field                                TTYPE173= 'ReadRawFEE4'        / Label for this field                           TFORM173= '1L      '           / format of field                                TTYPE174= 'ReadRawFEE5'        / Label for this field                           TFORM174= '1L      '           / format of field                                TTYPE175= 'ReadRawFEE6'        / Label for this field                           TFORM175= '1L      '           / format of field                                TTYPE176= 'ReadRawFEE7'        / Label for this field                           TFORM176= '1L      '           / format of field                                TTYPE177= 'ReadRawFEE8'        / Label for this field                           TFORM177= '1L      '           / format of field                                TTYPE178= 'ReadRawFEE9'        / Label for this field                           TFORM178= '1L      '           / format of field                                TTYPE179= 'ReadRawFEEA'        / Label for this field                           TFORM179= '1L      '           / format of field                                TTYPE180= 'ReadRawFEEB'        / Label for this field                           TFORM180= '1L      '           / format of field                                TTYPE181= 'FEETotRate'         / Label for this field                           TFORM181= '1D      '           / format of field                                TTYPE182= 'FEERates'           / Label for this field                           TFORM182= '92D     '           / format of field                                TTYPE183= 'UCRTotRate'         / Label for this field                           TFORM183= '1D      '           / format of field                                TTYPE184= 'UCR000degRate'      / Label for this field                           TFORM184= '1D      '           / format of field                                TTYPE185= 'UCR050degRate'      / Label for this field                           TFORM185= '1D      '           / format of field                                TTYPE186= 'UCR120degRate'      / Label for this field                           TFORM186= '1D      '           / format of field                                TTYPE187= 'UCR180degRate'      / Label for this field                           TFORM187= '1D      '           / format of field                                TTYPE188= 'UCR240degRate'      / Label for this field                           TFORM188= '1D      '           / format of field                                TTYPE189= 'UCR300degRate'      / Label for this field                           TFORM189= '1D      '           / format of field                                TTYPE190= 'LCRTotRate'         / Label for this field                           TFORM190= '1D      '           / format of field                                TTYPE191= 'LCR000degRate'      / Label for this field                           TFORM191= '1D      '           / format of field                                TTYPE192= 'LCR050degRate'      / Label for this field                           TFORM192= '1D      '           / format of field                                TTYPE193= 'LCR120degRate'      / Label for this field                           TFORM193= '1D      '           / format of field                                TTYPE194= 'LCR180degRate'      / Label for this field                           TFORM194= '1D      '           / format of field                                TTYPE195= 'LCR240degRate'      / Label for this field                           TFORM195= '1D      '           / format of field                                TTYPE196= 'LCR300degRate'      / Label for this field                           TFORM196= '1D      '           / format of field                                TTYPE197= 'SSATotRate'         / Label for this field                           TFORM197= '1D      '           / format of field                                TTYPE198= 'SSA000degRate'      / Label for this field                           TFORM198= '1D      '           / format of field                                TTYPE199= 'SSA050degRate'      / Label for this field                           TFORM199= '1D      '           / format of field                                TTYPE200= 'SSA120degRate'      / Label for this field                           TFORM200= '1D      '           / format of field                                TTYPE201= 'SSA180degRate'      / Label for this field                           TFORM201= '1D      '           / format of field                                TTYPE202= 'SSA240degRate'      / Label for this field                           TFORM202= '1D      '           / format of field                                TTYPE203= 'SSA300degRate'      / Label for this field                           TFORM203= '1D      '           / format of field                                TTYPE204= 'ULVSTotRate'        / Label for this field                           TFORM204= '1D      '           / format of field                                TTYPE205= 'ULVS000degRate'     / Label for this field                           TFORM205= '1D      '           / format of field                                TTYPE206= 'ULVS050degRate'     / Label for this field                           TFORM206= '1D      '           / format of field                                TTYPE207= 'ULVS120degRate'     / Label for this field                           TFORM207= '1D      '           / format of field                                TTYPE208= 'ULVS180degRate'     / Label for this field                           TFORM208= '1D      '           / format of field                                TTYPE209= 'ULVS240degRate'     / Label for this field                           TFORM209= '1D      '           / format of field                                TTYPE210= 'ULVS300degRate'     / Label for this field                           TFORM210= '1D      '           / format of field                                TTYPE211= 'LLVSTotRate'        / Label for this field                           TFORM211= '1D      '           / format of field                                TTYPE212= 'PBGORate'           / Label for this field                           TFORM212= '1D      '           / format of field                                TTYPE213= 'PSACRate'           / Label for this field                           TFORM213= '1D      '           / format of field                                TTYPE214= 'FracACSFEE'         / Label for this field                           TFORM214= '1D      '           / format of field                                TTYPE215= 'ReadRawCDMU'        / Label for this field                           TFORM215= '1L      '           / format of field                                TTYPE216= 'IREMH1Rate'         / Label for this field                           TFORM216= '1D      '           / format of field                                TTYPE217= 'IREMH2Rate'         / Label for this field                           TFORM217= '1D      '           / format of field                                TTYPE218= 'IREMH3Rate'         / Label for this field                           TFORM218= '1D      '           / format of field                                TTYPE219= 'ReadIREMData'       / Label for this field                           TFORM219= '1L      '           / format of field                                TTYPE220= 'IREM_TC1_Rate'      / Label for this field                           TFORM220= '1D      '           / format of field                                TTYPE221= 'IREM_S12_Rate'      / Label for this field                           TFORM221= '1D      '           / format of field                                TTYPE222= 'IREM_S13_Rate'      / Label for this field                           TFORM222= '1D      '           / format of field                                TTYPE223= 'IREM_S14_Rate'      / Label for this field                           TFORM223= '1D      '           / format of field                                TTYPE224= 'IREM_S15_Rate'      / Label for this field                           TFORM224= '1D      '           / format of field                                TTYPE225= 'IREM_TC2_Rate'      / Label for this field                           TFORM225= '1D      '           / format of field                                TTYPE226= 'IREM_S25_Rate'      / Label for this field                           TFORM226= '1D      '           / format of field                                TTYPE227= 'IREM_C1_Rate'       / Label for this field                           TFORM227= '1D      '           / format of field                                TTYPE228= 'IREM_C2_Rate'       / Label for this field                           TFORM228= '1D      '           / format of field                                TTYPE229= 'IREM_C3_Rate'       / Label for this field                           TFORM229= '1D      '           / format of field                                TTYPE230= 'IREM_C4_Rate'       / Label for this field                           TFORM230= '1D      '           / format of field                                TTYPE231= 'IREM_TC3_Rate'      / Label for this field                           TFORM231= '1D      '           / format of field                                TTYPE232= 'IREM_S32_Rate'      / Label for this field                           TFORM232= '1D      '           / format of field                                TTYPE233= 'IREM_S33_Rate'      / Label for this field                           TFORM233= '1D      '           / format of field                                TTYPE234= 'IREM_S34_Rate'      / Label for this field                           TFORM234= '1D      '           / format of field                                TTYPE235= 'ReadCnv80A'         / Label for this field                           TFORM235= '1L      '           / format of field                                TTYPE236= 'ReadCnv80B'         / Label for this field                           TFORM236= '1L      '           / format of field                                TTYPE237= 'TempUCRMean'        / Label for this field                           TFORM237= '1D      '           / format of field                                TTYPE238= 'TempUCR '           / Label for this field                           TFORM238= '3D      '           / format of field                                TTYPE239= 'TempLCRMean'        / Label for this field                           TFORM239= '1D      '           / format of field                                TTYPE240= 'TempLCR '           / Label for this field                           TFORM240= '3D      '           / format of field                                TTYPE241= 'TempSSAMean'        / Label for this field                           TFORM241= '1D      '           / format of field                                TTYPE242= 'TempSSA '           / Label for this field                           TFORM242= '3D      '           / format of field                                TTYPE243= 'TempLVSMean'        / Label for this field                           TFORM243= '1D      '           / format of field                                TTYPE244= 'TempLVS '           / Label for this field                           TFORM244= '3D      '           / format of field                                TTYPE245= 'TempPSACMean'       / Label for this field                           TFORM245= '1D      '           / format of field                                TTYPE246= 'TempPSAC'           / Label for this field                           TFORM246= '3D      '           / format of field                                TTYPE247= 'TempVCU '           / Label for this field                           TFORM247= '1D      '           / format of field                                TTYPE248= 'TempPA2Mean'        / Label for this field                           TFORM248= '1D      '           / format of field                                TTYPE249= 'TempPA2 '           / Label for this field                           TFORM249= '19D     '           / format of field                                TTYPE250= 'TempAFEEMean'       / Label for this field                           TFORM250= '1D      '           / format of field                                TTYPE251= 'TempAFEE'           / Label for this field                           TFORM251= '19D     '           / format of field                                TTYPE252= 'TempColdPltMean'    / Label for this field                           TFORM252= '1D      '           / format of field                                TTYPE253= 'TempColdPlt'        / Label for this field                           TFORM253= '4D      '           / format of field                                TTYPE254= 'HVDetMean'          / Label for this field                           TFORM254= '1D      '           / format of field                                TTYPE255= 'HVDet   '           / Label for this field                           TFORM255= '19D     '           / format of field                                TTYPE256= 'LowDetThreshMean'   / Label for this field                           TFORM256= '1D      '           / format of field                                TTYPE257= 'LowDetThresh'       / Label for this field                           TFORM257= '19D     '           / format of field                                TTYPE258= 'ReadCnv480B'        / Label for this field                           TFORM258= '1L      '           / format of field                                TTYPE259= 'FEETrigThreshMean'  / Label for this field                           TFORM259= '1D      '           / format of field                                TTYPE260= 'UCRTrigThresh'      / Label for this field                           TFORM260= '1D      '           / format of field                                TTYPE261= 'LCRTrigThresh'      / Label for this field                           TFORM261= '1D      '           / format of field                                TTYPE262= 'SSATrigThresh'      / Label for this field                           TFORM262= '1D      '           / format of field                                TTYPE263= 'LVSTrigThresh'      / Label for this field                           TFORM263= '1D      '           / format of field                                TTYPE264= 'PSACTrigThresh'     / Label for this field                           TFORM264= '1D      '           / format of field                                TTYPE265= 'FEETrigThresh'      / Label for this field                           TFORM265= '92D     '           / format of field                                TTYPE266= 'HVFEEMean'          / Label for this field                           TFORM266= '1D      '           / format of field                                TTYPE267= 'HVUCR   '           / Label for this field                           TFORM267= '1D      '           / format of field                                TTYPE268= 'HVLCR   '           / Label for this field                           TFORM268= '1D      '           / format of field                                TTYPE269= 'HVSSA   '           / Label for this field                           TFORM269= '1D      '           / format of field                                TTYPE270= 'HVLVS   '           / Label for this field                           TFORM270= '1D      '           / format of field                                TTYPE271= 'HVFEE   '           / Label for this field                           TFORM271= '91D     '           / format of field                                TTYPE272= 'HVPSAC1 '           / Label for this field                           TFORM272= '1D      '           / format of field                                TTYPE273= 'HVPSAC2 '           / Label for this field                           TFORM273= '1D      '           / format of field                                TTYPE274= 'ScWProcDate'        / Label for this field                           TFORM274= '20A     '           / format of field                                TTYPE275= 'PrevScwID'          / Label for this field                           TFORM275= '12A     '           / format of field                                TTYPE276= 'PckStart'           / Label for this field                           TFORM276= '1I      '           / format of field                                TZERO276=                32768 / offset for unsigned integers                   TSCAL276=                    1 / data are not scaled                            TTYPE277= 'PckEnd  '           / Label for this field                           TFORM277= '1I      '           / format of field                                TZERO277=                32768 / offset for unsigned integers                   TSCAL277=                    1 / data are not scaled                            TTYPE278= 'ExpIDStart'         / Label for this field                           TFORM278= '8A      '           / format of field                                TTYPE279= 'ExpIDEnd'           / Label for this field                           TFORM279= '8A      '           / format of field                                TTYPE280= 'PODVStart'          / Label for this field                           TFORM280= '8A      '           / format of field                                TTYPE281= 'PODVEnd '           / Label for this field                           TFORM281= '8A      '           / format of field                                TTYPE282= 'SPIMode '           / Label for this field                           TFORM282= '1I      '           / format of field                                TZERO282=                32768 / offset for unsigned integers                   TSCAL282=                    1 / data are not scaled                            TTYPE283= 'IBISMode'           / Label for this field                           TFORM283= '1I      '           / format of field                                TZERO283=                32768 / offset for unsigned integers                   TSCAL283=                    1 / data are not scaled                            TTYPE284= 'JEM-X1Mode'         / Label for this field                           TFORM284= '1I      '           / format of field                                TZERO284=                32768 / offset for unsigned integers                   TSCAL284=                    1 / data are not scaled                            TTYPE285= 'JEM-X2Mode'         / Label for this field                           TFORM285= '1I      '           / format of field                                TZERO285=                32768 / offset for unsigned integers                   TSCAL285=                    1 / data are not scaled                            TTYPE286= 'OMCMode '           / Label for this field                           TFORM286= '1I      '           / format of field                                TZERO286=                32768 / offset for unsigned integers                   TSCAL286=                    1 / data are not scaled                            TTYPE287= 'ReadCalib'          / Label for this field                           TFORM287= '1L      '           / format of field                                TTYPE288= 'FitFuncLow'         / Label for this field                           TFORM288= '20A     '           / format of field                                TTYPE289= 'FitFuncHigh'        / Label for this field                           TFORM289= '20A     '           / format of field                                TTYPE290= 'FitFuncDeg'         / Label for this field                           TFORM290= '1I      '           / format of field                                TZERO290=                32768 / offset for unsigned integers                   TSCAL290=                    1 / data are not scaled                            TTYPE291= 'CHAN_KEV_D00_Low'   / Label for this field                           TFORM291= '5D      '           / format of field                                TTYPE292= 'CHAN_KEV_D00_High'  / Label for this field                           TFORM292= '5D      '           / format of field                                TTYPE293= 'CHAN_KEV_D01_Low'   / Label for this field                           TFORM293= '5D      '           / format of field                                TTYPE294= 'CHAN_KEV_D01_High'  / Label for this field                           TFORM294= '5D      '           / format of field                                TTYPE295= 'CHAN_KEV_D02_Low'   / Label for this field                           TFORM295= '5D      '           / format of field                                TTYPE296= 'CHAN_KEV_D02_High'  / Label for this field                           TFORM296= '5D      '           / format of field                                TTYPE297= 'CHAN_KEV_D03_Low'   / Label for this field                           TFORM297= '5D      '           / format of field                                TTYPE298= 'CHAN_KEV_D03_High'  / Label for this field                           TFORM298= '5D      '           / format of field                                TTYPE299= 'CHAN_KEV_D04_Low'   / Label for this field                           TFORM299= '5D      '           / format of field                                TTYPE300= 'CHAN_KEV_D04_High'  / Label for this field                           TFORM300= '5D      '           / format of field                                TTYPE301= 'CHAN_KEV_D05_Low'   / Label for this field                           TFORM301= '5D      '           / format of field                                TTYPE302= 'CHAN_KEV_D05_High'  / Label for this field                           TFORM302= '5D      '           / format of field                                TTYPE303= 'CHAN_KEV_D06_Low'   / Label for this field                           TFORM303= '5D      '           / format of field                                TTYPE304= 'CHAN_KEV_D06_High'  / Label for this field                           TFORM304= '5D      '           / format of field                                TTYPE305= 'CHAN_KEV_D07_Low'   / Label for this field                           TFORM305= '5D      '           / format of field                                TTYPE306= 'CHAN_KEV_D07_High'  / Label for this field                           TFORM306= '5D      '           / format of field                                TTYPE307= 'CHAN_KEV_D08_Low'   / Label for this field                           TFORM307= '5D      '           / format of field                                TTYPE308= 'CHAN_KEV_D08_High'  / Label for this field                           TFORM308= '5D      '           / format of field                                TTYPE309= 'CHAN_KEV_D09_Low'   / Label for this field                           TFORM309= '5D      '           / format of field                                TTYPE310= 'CHAN_KEV_D09_High'  / Label for this field                           TFORM310= '5D      '           / format of field                                TTYPE311= 'CHAN_KEV_D10_Low'   / Label for this field                           TFORM311= '5D      '           / format of field                                TTYPE312= 'CHAN_KEV_D10_High'  / Label for this field                           TFORM312= '5D      '           / format of field                                TTYPE313= 'CHAN_KEV_D11_Low'   / Label for this field                           TFORM313= '5D      '           / format of field                                TTYPE314= 'CHAN_KEV_D11_High'  / Label for this field                           TFORM314= '5D      '           / format of field                                TTYPE315= 'CHAN_KEV_D12_Low'   / Label for this field                           TFORM315= '5D      '           / format of field                                TTYPE316= 'CHAN_KEV_D12_High'  / Label for this field                           TFORM316= '5D      '           / format of field                                TTYPE317= 'CHAN_KEV_D13_Low'   / Label for this field                           TFORM317= '5D      '           / format of field                                TTYPE318= 'CHAN_KEV_D13_High'  / Label for this field                           TFORM318= '5D      '           / format of field                                TTYPE319= 'CHAN_KEV_D14_Low'   / Label for this field                           TFORM319= '5D      '           / format of field                                TTYPE320= 'CHAN_KEV_D14_High'  / Label for this field                           TFORM320= '5D      '           / format of field                                TTYPE321= 'CHAN_KEV_D15_Low'   / Label for this field                           TFORM321= '5D      '           / format of field                                TTYPE322= 'CHAN_KEV_D15_High'  / Label for this field                           TFORM322= '5D      '           / format of field                                TTYPE323= 'CHAN_KEV_D16_Low'   / Label for this field                           TFORM323= '5D      '           / format of field                                TTYPE324= 'CHAN_KEV_D16_High'  / Label for this field                           TFORM324= '5D      '           / format of field                                TTYPE325= 'CHAN_KEV_D17_Low'   / Label for this field                           TFORM325= '5D      '           / format of field                                TTYPE326= 'CHAN_KEV_D17_High'  / Label for this field                           TFORM326= '5D      '           / format of field                                TTYPE327= 'CHAN_KEV_D18_Low'   / Label for this field                           TFORM327= '5D      '           / format of field                                TTYPE328= 'CHAN_KEV_D18_High'  / Label for this field                           TFORM328= '5D      '           / format of field                                TTYPE329= 'G_XSoft_Rate'       / Label for this field                           TFORM329= '1D      '           / format of field                                TTYPE330= 'G_XHard_Rate'       / Label for this field                           TFORM330= '1D      '           / format of field                                TTYPE331= 'G_E2MeV_Rate'       / Label for this field                           TFORM331= '1D      '           / format of field                                TTYPE332= 'G_P1MeV_IRate'      / Label for this field                           TFORM332= '1D      '           / format of field                                TTYPE333= 'G_P5MeV_IRate'      / Label for this field                           TFORM333= '1D      '           / format of field                                TTYPE334= 'G_P10MeV_IRate'     / Label for this field                           TFORM334= '1D      '           / format of field                                TTYPE335= 'G_P30MeV_IRate'     / Label for this field                           TFORM335= '1D      '           / format of field                                TTYPE336= 'G_P50MeV_IRate'     / Label for this field                           TFORM336= '1D      '           / format of field                                TTYPE337= 'G_P60MeV_IRate'     / Label for this field                           TFORM337= '1D      '           / format of field                                TTYPE338= 'G_P100MeV_IRate'    / Label for this field                           TFORM338= '1D      '           / format of field                                TTYPE339= 'G_P08_4MeV_DRate'   / Label for this field                           TFORM339= '1D      '           / format of field                                TTYPE340= 'G_P4_9MeV_DRate'    / Label for this field                           TFORM340= '1D      '           / format of field                                TTYPE341= 'G_P9_15MeV_DRate'   / Label for this field                           TFORM341= '1D      '           / format of field                                TTYPE342= 'G_P15_40MeV_DRate'  / Label for this field                           TFORM342= '1D      '           / format of field                                TTYPE343= 'G_P40_80MeV_DRate'  / Label for this field                           TFORM343= '1D      '           / format of field                                TTYPE344= 'G_P80_165MeV_DRate' / Label for this field                           TFORM344= '1D      '           / format of field                                TTYPE345= 'G_P165_500MeV_DRate' / Label for this field                          TFORM345= '1D      '           / format of field                                TTYPE346= 'ReadPropInfo'       / Label for this field                           TFORM346= '1L      '           / format of field                                TTYPE347= 'ObsType '           / Label for this field                           TFORM347= '25A     '           / format of field                                TTYPE348= 'PIName  '           / Label for this field                           TFORM348= '256A    '           / format of field                                TTYPE349= 'Prop_Status'        / Label for this field                           TFORM349= '25A     '           / format of field                                EXTNAME = 'SPI.-SCW.-CAT'      / Extension name                                 EXTREL  = '1.0     '           / Release number                                 TELESCOP= 'INTEGRAL'           / Telescope or mission name                      ISDCLEVL= 'PRP     '           / ISDC level of data processing                  ORIGIN  = 'H.Halloin'          / Origin of FITS file                            INSTRUME= 'SPI     '           / Instrument name                                CREATOR = 'String  '           / Program that created this FITS file            CONFIGUR= 'String  '           / Software configuration                         DATE    = '2023-03-15T03:43:35' / file creation date (YYYY-MM-DDThh:mm:ss UT)   RADECSYS= 'FK5     '           / Stellar reference frame                        EQUINOX =                2000. / Coordinate system equinox                      TCMT1   = 'Science Window identifier' / Comment for this field                  TCMT2   = 'Revolution number'  / Comment for this field                         TNULL2  =                32767 / Null value of this field                       TUNIT3  = 'UTC     '           / Unit of this field                             TCMT3   = 'UTC date of ScW start' / Comment for this field                      TUNIT4  = 'UTC     '           / Unit of this field                             TCMT4   = 'UTC date of ScW end' / Comment for this field                        TCMT5   = 'OBT of the start of the Science Window' / Comment for this field     TNULL5  =                32767 / Null value of this field                       TCMT6   = 'OBT of the end of the Science Window' / Comment for this field       TNULL6  =                32767 / Null value of this field                       TUNIT7  = 'ISDC_MJD'           / Unit of this field                             TCMT7   = 'Start time of the Science Window' / Comment for this field           TUNIT8  = 'ISDC_MJD'           / Unit of this field                             TCMT8   = 'End time of the Science Window' / Comment for this field             TUNIT9  = 's       '           / Unit of this field                             TCMT9   = 'Total exposure time of the ScW' / Comment for this field             TCMT10  = 'ISOC pointing number' / Comment for this field                       TNULL10 =                32767 / Null value of this field                       TCMT11  = 'Pointing subdivision' / Comment for this field                       TNULL11 =                32767 / Null value of this field                       TCMT12  = 'Scw type (0=pointing, 1=slew, 2=non-science)' / Comment for this fielTNULL12 =                32767 / Null value of this field                       TCMT13  = 'Reason for Science Window ending' / Comment for this field           TCMT14  = 'Archive version'    / Comment for this field                         TNULL14 =                32767 / Null value of this field                       TUNIT15 = 'deg     '           / Unit of this field                             TCMT15  = 'Right ascension of the spacecraft X-axis' / Comment for this field   TUNIT16 = 'deg     '           / Unit of this field                             TCMT16  = 'Declination of the spacecraft X-axis' / Comment for this field       TUNIT17 = 'deg     '           / Unit of this field                             TCMT17  = 'Galactic longitude of the spacecraft X-axis' / Comment for this fieldTUNIT18 = 'deg     '           / Unit of this field                             TCMT18  = 'Galactic latitude of the spacecraft X-axis' / Comment for this field TUNIT19 = 'deg     '           / Unit of this field                             TCMT19  = 'Right ascension of the spacecraft Z-axis' / Comment for this field   TUNIT20 = 'deg     '           / Unit of this field                             TCMT20  = 'Declination of the spacecraft Z-axis' / Comment for this field       TUNIT21 = 'deg     '           / Unit of this field                             TCMT21  = 'Galactic longitude of the spacecraft Z-axis' / Comment for this fieldTUNIT22 = 'deg     '           / Unit of this field                             TCMT22  = 'Galactic latitude of the spacecraft Z-axis' / Comment for this field TUNIT23 = 'deg     '           / Unit of this field                             TCMT23  = 'Position angle'     / Comment for this field                         TCMT24  = 'Path to the prepared scw group' / Comment for this field             TCMT25  = 'Flag for readable prp scientific HK' / Comment for this field        TCMT26  = 'Flag for readable raw scientific HK' / Comment for this field        TUNIT27 = 'cts/s   '           / Unit of this field                             TCMT27  = 'Mean rate of all veto gate triggers' / Comment for this field        TUNIT28 = 'cts/s   '           / Unit of this field                             TCMT28  = 'Mean rate of non saturated veto gate triggers' / Comment for this fieTUNIT29 = 'cts/s   '           / Unit of this field                             TCMT29  = 'Mean rate of saturated veto gate triggers' / Comment for this field  TCMT30  = 'Fraction of good time due to veto' / Comment for this field          TCMT31  = 'Veto Dead Time check (scientific parameter)' / Comment for this fieldTCMT32  = 'Mean frac of vetos used/received in DFEE (sc. par.)' / Comment for thTUNIT33 = 'cts/s/det'          / Unit of this field                             TCMT33  = 'Mean rate of non saturating Ge events (all det)' / Comment for this fTUNIT34 = 'cts/s   '           / Unit of this field                             TCMT34  = 'Mean rate of non saturating Ge events (det 00)' / Comment for this fiTUNIT35 = 'cts/s   '           / Unit of this field                             TCMT35  = 'Mean rate of non saturating Ge events (det 01)' / Comment for this fiTUNIT36 = 'cts/s   '           / Unit of this field                             TCMT36  = 'Mean rate of non saturating Ge events (det 02)' / Comment for this fiTUNIT37 = 'cts/s   '           / Unit of this field                             TCMT37  = 'Mean rate of non saturating Ge events (det 03)' / Comment for this fiTUNIT38 = 'cts/s   '           / Unit of this field                             TCMT38  = 'Mean rate of non saturating Ge events (det 04)' / Comment for this fiTUNIT39 = 'cts/s   '           / Unit of this field                             TCMT39  = 'Mean rate of non saturating Ge events (det 05)' / Comment for this fiTUNIT40 = 'cts/s   '           / Unit of this field                             TCMT40  = 'Mean rate of non saturating Ge events (det 06)' / Comment for this fiTUNIT41 = 'cts/s   '           / Unit of this field                             TCMT41  = 'Mean rate of non saturating Ge events (det 07)' / Comment for this fiTUNIT42 = 'cts/s   '           / Unit of this field                             TCMT42  = 'Mean rate of non saturating Ge events (det 08)' / Comment for this fiTUNIT43 = 'cts/s   '           / Unit of this field                             TCMT43  = 'Mean rate of non saturating Ge events (det 09)' / Comment for this fiTUNIT44 = 'cts/s   '           / Unit of this field                             TCMT44  = 'Mean rate of non saturating Ge events (det 10)' / Comment for this fiTUNIT45 = 'cts/s   '           / Unit of this field                             TCMT45  = 'Mean rate of non saturating Ge events (det 11)' / Comment for this fiTUNIT46 = 'cts/s   '           / Unit of this field                             TCMT46  = 'Mean rate of non saturating Ge events (det 12)' / Comment for this fiTUNIT47 = 'cts/s   '           / Unit of this field                             TCMT47  = 'Mean rate of non saturating Ge events (det 13)' / Comment for this fiTUNIT48 = 'cts/s   '           / Unit of this field                             TCMT48  = 'Mean rate of non saturating Ge events (det 14)' / Comment for this fiTUNIT49 = 'cts/s   '           / Unit of this field                             TCMT49  = 'Mean rate of non saturating Ge events (det 15)' / Comment for this fiTUNIT50 = 'cts/s   '           / Unit of this field                             TCMT50  = 'Mean rate of non saturating Ge events (det 16)' / Comment for this fiTUNIT51 = 'cts/s   '           / Unit of this field                             TCMT51  = 'Mean rate of non saturating Ge events (det 17)' / Comment for this fiTUNIT52 = 'cts/s   '           / Unit of this field                             TCMT52  = 'Mean rate of non saturating Ge events (det 18)' / Comment for this fiTUNIT53 = 'cts/s/det'          / Unit of this field                             TCMT53  = 'Mean rate of saturating Ge events (all det)' / Comment for this fieldTUNIT54 = 'cts/s   '           / Unit of this field                             TCMT54  = 'Mean rate of saturating Ge events (det 00)' / Comment for this field TUNIT55 = 'cts/s   '           / Unit of this field                             TCMT55  = 'Mean rate of saturating Ge events (det 01)' / Comment for this field TUNIT56 = 'cts/s   '           / Unit of this field                             TCMT56  = 'Mean rate of saturating Ge events (det 02)' / Comment for this field TUNIT57 = 'cts/s   '           / Unit of this field                             TCMT57  = 'Mean rate of saturating Ge events (det 03)' / Comment for this field TUNIT58 = 'cts/s   '           / Unit of this field                             TCMT58  = 'Mean rate of saturating Ge events (det 04)' / Comment for this field TUNIT59 = 'cts/s   '           / Unit of this field                             TCMT59  = 'Mean rate of saturating Ge events (det 05)' / Comment for this field TUNIT60 = 'cts/s   '           / Unit of this field                             TCMT60  = 'Mean rate of saturating Ge events (det 06)' / Comment for this field TUNIT61 = 'cts/s   '           / Unit of this field                             TCMT61  = 'Mean rate of saturating Ge events (det 07)' / Comment for this field TUNIT62 = 'cts/s   '           / Unit of this field                             TCMT62  = 'Mean rate of saturating Ge events (det 08)' / Comment for this field TUNIT63 = 'cts/s   '           / Unit of this field                             TCMT63  = 'Mean rate of saturating Ge events (det 09)' / Comment for this field TUNIT64 = 'cts/s   '           / Unit of this field                             TCMT64  = 'Mean rate of saturating Ge events (det 10)' / Comment for this field TUNIT65 = 'cts/s   '           / Unit of this field                             TCMT65  = 'Mean rate of saturating Ge events (det 11)' / Comment for this field TUNIT66 = 'cts/s   '           / Unit of this field                             TCMT66  = 'Mean rate of saturating Ge events (det 12)' / Comment for this field TUNIT67 = 'cts/s   '           / Unit of this field                             TCMT67  = 'Mean rate of saturating Ge events (det 13)' / Comment for this field TUNIT68 = 'cts/s   '           / Unit of this field                             TCMT68  = 'Mean rate of saturating Ge events (det 14)' / Comment for this field TUNIT69 = 'cts/s   '           / Unit of this field                             TCMT69  = 'Mean rate of saturating Ge events (det 15)' / Comment for this field TUNIT70 = 'cts/s   '           / Unit of this field                             TCMT70  = 'Mean rate of saturating Ge events (det 16)' / Comment for this field TUNIT71 = 'cts/s   '           / Unit of this field                             TCMT71  = 'Mean rate of saturating Ge events (det 17)' / Comment for this field TUNIT72 = 'cts/s   '           / Unit of this field                             TCMT72  = 'Mean rate of saturating Ge events (det 18)' / Comment for this field TUNIT73 = 'cts/s/det'          / Unit of this field                             TCMT73  = 'Mean rate of non vetoed Ge events (all det)' / Comment for this fieldTUNIT74 = 'cts/s   '           / Unit of this field                             TCMT74  = 'Mean rate of non vetoed Ge events (det 00)' / Comment for this field TUNIT75 = 'cts/s   '           / Unit of this field                             TCMT75  = 'Mean rate of non vetoed Ge events (det 01)' / Comment for this field TUNIT76 = 'cts/s   '           / Unit of this field                             TCMT76  = 'Mean rate of non vetoed Ge events (det 02)' / Comment for this field TUNIT77 = 'cts/s   '           / Unit of this field                             TCMT77  = 'Mean rate of non vetoed Ge events (det 03)' / Comment for this field TUNIT78 = 'cts/s   '           / Unit of this field                             TCMT78  = 'Mean rate of non vetoed Ge events (det 04)' / Comment for this field TUNIT79 = 'cts/s   '           / Unit of this field                             TCMT79  = 'Mean rate of non vetoed Ge events (det 05)' / Comment for this field TUNIT80 = 'cts/s   '           / Unit of this field                             TCMT80  = 'Mean rate of non vetoed Ge events (det 06)' / Comment for this field TUNIT81 = 'cts/s   '           / Unit of this field                             TCMT81  = 'Mean rate of non vetoed Ge events (det 07)' / Comment for this field TUNIT82 = 'cts/s   '           / Unit of this field                             TCMT82  = 'Mean rate of non vetoed Ge events (det 08)' / Comment for this field TUNIT83 = 'cts/s   '           / Unit of this field                             TCMT83  = 'Mean rate of non vetoed Ge events (det 09)' / Comment for this field TUNIT84 = 'cts/s   '           / Unit of this field                             TCMT84  = 'Mean rate of non vetoed Ge events (det 10)' / Comment for this field TUNIT85 = 'cts/s   '           / Unit of this field                             TCMT85  = 'Mean rate of non vetoed Ge events (det 11)' / Comment for this field TUNIT86 = 'cts/s   '           / Unit of this field                             TCMT86  = 'Mean rate of non vetoed Ge events (det 12)' / Comment for this field TUNIT87 = 'cts/s   '           / Unit of this field                             TCMT87  = 'Mean rate of non vetoed Ge events (det 13)' / Comment for this field TUNIT88 = 'cts/s   '           / Unit of this field                             TCMT88  = 'Mean rate of non vetoed Ge events (det 14)' / Comment for this field TUNIT89 = 'cts/s   '           / Unit of this field                             TCMT89  = 'Mean rate of non vetoed Ge events (det 15)' / Comment for this field TUNIT90 = 'cts/s   '           / Unit of this field                             TCMT90  = 'Mean rate of non vetoed Ge events (det 16)' / Comment for this field TUNIT91 = 'cts/s   '           / Unit of this field                             TCMT91  = 'Mean rate of non vetoed Ge events (det 17)' / Comment for this field TUNIT92 = 'cts/s   '           / Unit of this field                             TCMT92  = 'Mean rate of non vetoed Ge events (det 18)' / Comment for this field TCMT93  = 'Mean frac of unveto/tot events (sc par)' / Comment for this field    TCMT94  = 'Mean frac of unveto/tot events Det 00 (sc par)' / Comment for this fiTCMT95  = 'Mean frac of unveto/tot events Det 01 (sc par)' / Comment for this fiTCMT96  = 'Mean frac of unveto/tot events Det 02 (sc par)' / Comment for this fiTCMT97  = 'Mean frac of unveto/tot events Det 03 (sc par)' / Comment for this fiTCMT98  = 'Mean frac of unveto/tot events Det 04 (sc par)' / Comment for this fiTCMT99  = 'Mean frac of unveto/tot events Det 05 (sc par)' / Comment for this fiTCMT100 = 'Mean frac of unveto/tot events Det 06 (sc par)' / Comment for this fiTCMT101 = 'Mean frac of unveto/tot events Det 07 (sc par)' / Comment for this fiTCMT102 = 'Mean frac of unveto/tot events Det 08 (sc par)' / Comment for this fiTCMT103 = 'Mean frac of unveto/tot events Det 09 (sc par)' / Comment for this fiTCMT104 = 'Mean frac of unveto/tot events Det 10 (sc par)' / Comment for this fiTCMT105 = 'Mean frac of unveto/tot events Det 11 (sc par)' / Comment for this fiTCMT106 = 'Mean frac of unveto/tot events Det 12 (sc par)' / Comment for this fiTCMT107 = 'Mean frac of unveto/tot events Det 13 (sc par)' / Comment for this fiTCMT108 = 'Mean frac of unveto/tot events Det 14 (sc par)' / Comment for this fiTCMT109 = 'Mean frac of unveto/tot events Det 15 (sc par)' / Comment for this fiTCMT110 = 'Mean frac of unveto/tot events Det 16 (sc par)' / Comment for this fiTCMT111 = 'Mean frac of unveto/tot events Det 17 (sc par)' / Comment for this fiTCMT112 = 'Mean frac of unveto/tot events Det 18 (sc par)' / Comment for this fiTCMT113 = 'Flag for readable evts stats' / Comment for this field               TUNIT114= 'cts/s   '           / Unit of this field                             TCMT114 = 'Mean rate of single evts' / Comment for this field                   TUNIT115= 'cts/s   '           / Unit of this field                             TCMT115 = 'Mean rate of PSD evts' / Comment for this field                      TUNIT116= 'cts/s   '           / Unit of this field                             TCMT116 = 'Mean rate of PSD curve evts' / Comment for this field                TUNIT117= 'cts/s   '           / Unit of this field                             TCMT117 = 'Mean rate of 2-multiples evts' / Comment for this field              TUNIT118= 'cts/s   '           / Unit of this field                             TCMT118 = 'Mean rate of 3-multiples evts' / Comment for this field              TUNIT119= 'cts/s   '           / Unit of this field                             TCMT119 = 'Mean rate of 4-multiples evts' / Comment for this field              TUNIT120= 'cts/s   '           / Unit of this field                             TCMT120 = 'Mean rate of 5-multiples evts' / Comment for this field              TUNIT121= 'cts/s   '           / Unit of this field                             TCMT121 = 'Mean rate of >5-multiples evts' / Comment for this field             TCMT122 = 'Mean frac of evts in data/DFEE (sc. par.)' / Comment for this field  TCMT123 = 'Flag for readable prp onboard spectra' / Comment for this field      TCMT124 = 'Number of available detectors' / Comment for this field              TNULL124=                32767 / Null value of this field                       TUNIT125= 'ISDC_MJD'           / Unit of this field                             TCMT125 = 'Start time of the onboard spectra' / Comment for this field          TUNIT126= 'ISDC_MJD'           / Unit of this field                             TCMT126 = 'Stop time of the onboard spectra' / Comment for this field           TUNIT127= 's       '           / Unit of this field                             TCMT127 = 'On time of the onboard spectra' / Comment for this field             TCMT128 = 'Flag for readable raw onboard spectra' / Comment for this field      TUNIT129= 'cts/det(/s)'        / Unit of this field                             TCMT129 = 'Total counts in the low range of the onboard spectra' / Comment for tTUNIT130= 'cts/det(/s)'        / Unit of this field                             TCMT130 = 'Total counts in the high range of the onboard spectra' / Comment for TCMT131 = 'Flag for readable orbit parameters file' / Comment for this field    TCMT132 = 'Mean revolution phase during ScW' / Comment for this field           TCMT133 = 'Mean revolution fraction during ScW' / Comment for this field        TUNIT134= 'km      '           / Unit of this field                             TCMT134 = 'Mean revolution distance during ScW' / Comment for this field        TUNIT135= 'deg     '           / Unit of this field                             TCMT135 = 'Mean RA of the spacecraft X-axis' / Comment for this field           TUNIT136= 'deg     '           / Unit of this field                             TCMT136 = 'Mean DEC of the spacecraft X-axis' / Comment for this field          TUNIT137= 'deg     '           / Unit of this field                             TCMT137 = 'Mean L2 of the spacecraft X-axis' / Comment for this field           TUNIT138= 'deg     '           / Unit of this field                             TCMT138 = 'Mean B2 of the spacecraft X-axis' / Comment for this field           TUNIT139= 'deg     '           / Unit of this field                             TCMT139 = 'Mean RA of the spacecraft Z-axis' / Comment for this field           TUNIT140= 'deg     '           / Unit of this field                             TCMT140 = 'Mean DEC of the spacecraft Z-axis' / Comment for this field          TUNIT141= 'deg     '           / Unit of this field                             TCMT141 = 'Mean L2 of the spacecraft Z-axis' / Comment for this field           TUNIT142= 'deg     '           / Unit of this field                             TCMT142 = 'Mean B2 of the spacecraft Z-axis' / Comment for this field           TUNIT143= 'deg     '           / Unit of this field                             TCMT143 = 'Mean pointing error' / Comment for this field                        TUNIT144= 'deg     '           / Unit of this field                             TCMT144 = 'Mean position angle' / Comment for this field                        TCMT145 = 'Flag for readable single events file' / Comment for this field       TUNIT146= 'cts/s/det'          / Unit of this field                             TCMT146 = 'Mean single events rate (all detectors)' / Comment for this field    TUNIT147= 'cts/s   '           / Unit of this field                             TCMT147 = 'Mean single events rate for detector 00' / Comment for this field    TUNIT148= 'cts/s   '           / Unit of this field                             TCMT148 = 'Mean single events rate for detector 01' / Comment for this field    TUNIT149= 'cts/s   '           / Unit of this field                             TCMT149 = 'Mean single events rate for detector 02' / Comment for this field    TUNIT150= 'cts/s   '           / Unit of this field                             TCMT150 = 'Mean single events rate for detector 03' / Comment for this field    TUNIT151= 'cts/s   '           / Unit of this field                             TCMT151 = 'Mean single events rate for detector 04' / Comment for this field    TUNIT152= 'cts/s   '           / Unit of this field                             TCMT152 = 'Mean single events rate for detector 05' / Comment for this field    TUNIT153= 'cts/s   '           / Unit of this field                             TCMT153 = 'Mean single events rate for detector 06' / Comment for this field    TUNIT154= 'cts/s   '           / Unit of this field                             TCMT154 = 'Mean single events rate for detector 07' / Comment for this field    TUNIT155= 'cts/s   '           / Unit of this field                             TCMT155 = 'Mean single events rate for detector 08' / Comment for this field    TUNIT156= 'cts/s   '           / Unit of this field                             TCMT156 = 'Mean single events rate for detector 09' / Comment for this field    TUNIT157= 'cts/s   '           / Unit of this field                             TCMT157 = 'Mean single events rate for detector 10' / Comment for this field    TUNIT158= 'cts/s   '           / Unit of this field                             TCMT158 = 'Mean single events rate for detector 11' / Comment for this field    TUNIT159= 'cts/s   '           / Unit of this field                             TCMT159 = 'Mean single events rate for detector 12' / Comment for this field    TUNIT160= 'cts/s   '           / Unit of this field                             TCMT160 = 'Mean single events rate for detector 13' / Comment for this field    TUNIT161= 'cts/s   '           / Unit of this field                             TCMT161 = 'Mean single events rate for detector 14' / Comment for this field    TUNIT162= 'cts/s   '           / Unit of this field                             TCMT162 = 'Mean single events rate for detector 15' / Comment for this field    TUNIT163= 'cts/s   '           / Unit of this field                             TCMT163 = 'Mean single events rate for detector 16' / Comment for this field    TUNIT164= 'cts/s   '           / Unit of this field                             TCMT164 = 'Mean single events rate for detector 17' / Comment for this field    TUNIT165= 'cts/s   '           / Unit of this field                             TCMT165 = 'Mean single events rate for detector 18' / Comment for this field    TCMT166 = 'Flag for readable acs rate file' / Comment for this field            TUNIT167= 'cts/s   '           / Unit of this field                             TCMT167 = 'Mean ACS rate'      / Comment for this field                         TCMT168 = 'Mean fraction of overall ACS cts / DFFE (sc. par.)' / Comment for thiTCMT169 = 'Readable raw FEE data (0)' / Comment for this field                  TCMT170 = 'Readable raw FEE data (1)' / Comment for this field                  TCMT171 = 'Readable raw FEE data (2)' / Comment for this field                  TCMT172 = 'Readable raw FEE data (3)' / Comment for this field                  TCMT173 = 'Readable raw FEE data (4)' / Comment for this field                  TCMT174 = 'Readable raw FEE data (5)' / Comment for this field                  TCMT175 = 'Readable raw FEE data (6)' / Comment for this field                  TCMT176 = 'Readable raw FEE data (7)' / Comment for this field                  TCMT177 = 'Readable raw FEE data (8)' / Comment for this field                  TCMT178 = 'Readable raw FEE data (9)' / Comment for this field                  TCMT179 = 'Readable raw FEE data (A)' / Comment for this field                  TCMT180 = 'Readable raw FEE data (B)' / Comment for this field                  TUNIT181= 'cts/s   '           / Unit of this field                             TCMT181 = 'Mean FEE rate'      / Comment for this field                         TUNIT182= 'cts/s   '           / Unit of this field                             TCMT182 = 'FEE rates'          / Comment for this field                         TUNIT183= 'cts/s   '           / Unit of this field                             TCMT183 = 'Total rate for UCR' / Comment for this field                         TUNIT184= 'cts/s   '           / Unit of this field                             TCMT184 = 'Rate for UCR 0 deg' / Comment for this field                         TUNIT185= 'cts/s   '           / Unit of this field                             TCMT185 = 'Rate for UCR 60 deg' / Comment for this field                        TUNIT186= 'cts/s   '           / Unit of this field                             TCMT186 = 'Rate for UCR 120 deg' / Comment for this field                       TUNIT187= 'cts/s   '           / Unit of this field                             TCMT187 = 'Rate for UCR 180 deg' / Comment for this field                       TUNIT188= 'cts/s   '           / Unit of this field                             TCMT188 = 'Rate for UCR 240 deg' / Comment for this field                       TUNIT189= 'cts/s   '           / Unit of this field                             TCMT189 = 'Rate for UCR 300 deg' / Comment for this field                       TUNIT190= 'cts/s   '           / Unit of this field                             TCMT190 = 'Total rate for LCR' / Comment for this field                         TUNIT191= 'cts/s   '           / Unit of this field                             TCMT191 = 'Rate for LCR 0 deg' / Comment for this field                         TUNIT192= 'cts/s   '           / Unit of this field                             TCMT192 = 'Rate for LCR 60 deg' / Comment for this field                        TUNIT193= 'cts/s   '           / Unit of this field                             TCMT193 = 'Rate for LCR 120 deg' / Comment for this field                       TUNIT194= 'cts/s   '           / Unit of this field                             TCMT194 = 'Rate for LCR 180 deg' / Comment for this field                       TUNIT195= 'cts/s   '           / Unit of this field                             TCMT195 = 'Rate for LCR 240 deg' / Comment for this field                       TUNIT196= 'cts/s   '           / Unit of this field                             TCMT196 = 'Rate for LCR 300 deg' / Comment for this field                       TUNIT197= 'cts/s   '           / Unit of this field                             TCMT197 = 'Total rate for SSA' / Comment for this field                         TUNIT198= 'cts/s   '           / Unit of this field                             TCMT198 = 'Rate for SSA 0 deg' / Comment for this field                         TUNIT199= 'cts/s   '           / Unit of this field                             TCMT199 = 'Rate for SSA 60 deg' / Comment for this field                        TUNIT200= 'cts/s   '           / Unit of this field                             TCMT200 = 'Rate for SSA 120 deg' / Comment for this field                       TUNIT201= 'cts/s   '           / Unit of this field                             TCMT201 = 'Rate for SSA 180 deg' / Comment for this field                       TUNIT202= 'cts/s   '           / Unit of this field                             TCMT202 = 'Rate for SSA 240 deg' / Comment for this field                       TUNIT203= 'cts/s   '           / Unit of this field                             TCMT203 = 'Rate for SSA 300 deg' / Comment for this field                       TUNIT204= 'cts/s   '           / Unit of this field                             TCMT204 = 'Total rate for upper LVS' / Comment for this field                   TUNIT205= 'cts/s   '           / Unit of this field                             TCMT205 = 'Rate for ULVS 0 deg' / Comment for this field                        TUNIT206= 'cts/s   '           / Unit of this field                             TCMT206 = 'Rate for ULVS 60 deg' / Comment for this field                       TUNIT207= 'cts/s   '           / Unit of this field                             TCMT207 = 'Rate for ULVS 120 deg' / Comment for this field                      TUNIT208= 'cts/s   '           / Unit of this field                             TCMT208 = 'Rate for ULVS 180 deg' / Comment for this field                      TUNIT209= 'cts/s   '           / Unit of this field                             TCMT209 = 'Rate for ULVS 240 deg' / Comment for this field                      TUNIT210= 'cts/s   '           / Unit of this field                             TCMT210 = 'Rate for ULVS 300 deg' / Comment for this field                      TUNIT211= 'cts/s   '           / Unit of this field                             TCMT211 = 'Total rate for lower LVS' / Comment for this field                   TUNIT212= 'cts/s   '           / Unit of this field                             TCMT212 = 'Total rate for small BGO block' / Comment for this field             TUNIT213= 'cts/s   '           / Unit of this field                             TCMT213 = 'Total rate for PSAC' / Comment for this field                        TCMT214 = 'Frac. of overall ACS / FEE counts (sc. par.)' / Comment for this fielTCMT215 = 'Readable CDMU data' / Comment for this field                         TUNIT216= 'cts/s   '           / Unit of this field                             TCMT216 = 'Rate of IREM H1'    / Comment for this field                         TUNIT217= 'cts/s   '           / Unit of this field                             TCMT217 = 'Rate of IREM H2'    / Comment for this field                         TUNIT218= 'cts/s   '           / Unit of this field                             TCMT218 = 'Rate of IREM H3'    / Comment for this field                         TCMT219 = 'Readable IREM data' / Comment for this field                         TUNIT220= 'cts/s   '           / Unit of this field                             TCMT220 = 'Mean IREM TC1 Rate (protons > 20 MeV)' / Comment for this field      TUNIT221= 'cts/s   '           / Unit of this field                             TCMT221 = 'Mean IREM S12 Rate (protons 20-550 MeV)' / Comment for this field    TUNIT222= 'cts/s   '           / Unit of this field                             TCMT222 = 'Mean IREM S13 Rate (protons 20-120 MeV)' / Comment for this field    TUNIT223= 'cts/s   '           / Unit of this field                             TCMT223 = 'Mean IREM S14 Rate (protons 20-27 MeV)' / Comment for this field     TUNIT224= 'cts/s   '           / Unit of this field                             TCMT224 = 'Mean IREM S15 Rate (protons 20-34 MeV)' / Comment for this field     TUNIT225= 'cts/s   '           / Unit of this field                             TCMT225 = 'Mean IREM TC2 Rate (protons > 39 MeV)' / Comment for this field      TUNIT226= 'cts/s   '           / Unit of this field                             TCMT226 = 'Mean IREM S25 Rate (ions 150-185 MeV)' / Comment for this field      TUNIT227= 'cts/s   '           / Unit of this field                             TCMT227 = 'Mean IREM C1 Rate (coinc. prot. 40 - 50 MeV)' / Comment for this fielTUNIT228= 'cts/s   '           / Unit of this field                             TCMT228 = 'Mean IREM C2 Rate (coinc. prot. 50 - 70 MeV)' / Comment for this fielTUNIT229= 'cts/s   '           / Unit of this field                             TCMT229 = 'Mean IREM C3 Rate (coinc. prot. 70 - 120 MeV)' / Comment for this fieTUNIT230= 'cts/s   '           / Unit of this field                             TCMT230 = 'Mean IREM C4 Rate (coinc. prot. > 130 MeV)' / Comment for this field TUNIT231= 'cts/s   '           / Unit of this field                             TCMT231 = 'Mean IREM TC3 Rate (electrons > 0.5 MeV)' / Comment for this field   TUNIT232= 'cts/s   '           / Unit of this field                             TCMT232 = 'Mean IREM S32 Rate (electrons 0.55 - 2.3 MeV)' / Comment for this fieTUNIT233= 'cts/s   '           / Unit of this field                             TCMT233 = 'Mean IREM S33 Rate (electrons 11 - 90 MeV)' / Comment for this field TUNIT234= 'cts/s   '           / Unit of this field                             TCMT234 = 'Mean IREM S34 Rate (electrons 11 - 30 MeV)' / Comment for this field TCMT235 = 'Readable Conv HK data 640s (A)' / Comment for this field             TCMT236 = 'Readable Conv HK data 640s (B)' / Comment for this field             TUNIT237= 'degC    '           / Unit of this field                             TCMT237 = 'Mean temperature of UCR' / Comment for this field                    TUNIT238= 'degC    '           / Unit of this field                             TCMT238 = 'Temperatures of UCR' / Comment for this field                        TUNIT239= 'degC    '           / Unit of this field                             TCMT239 = 'Mean temperature of LCR' / Comment for this field                    TUNIT240= 'degC    '           / Unit of this field                             TCMT240 = 'Temperatures of LCR' / Comment for this field                        TUNIT241= 'degC    '           / Unit of this field                             TCMT241 = 'Mean temperature of SSA' / Comment for this field                    TUNIT242= 'degC    '           / Unit of this field                             TCMT242 = 'Temperatures of SSA' / Comment for this field                        TUNIT243= 'degC    '           / Unit of this field                             TCMT243 = 'Mean temperature of LVS' / Comment for this field                    TUNIT244= 'degC    '           / Unit of this field                             TCMT244 = 'Temperatures of LVS' / Comment for this field                        TUNIT245= 'degC    '           / Unit of this field                             TCMT245 = 'Mean temperature of PSAC' / Comment for this field                   TUNIT246= 'degC    '           / Unit of this field                             TCMT246 = 'Temperatures of PSAC' / Comment for this field                       TUNIT247= 'degC    '           / Unit of this field                             TCMT247 = 'Temperature of VCU' / Comment for this field                         TUNIT248= 'degK    '           / Unit of this field                             TCMT248 = 'Mean temperature of PAs' / Comment for this field                    TUNIT249= 'degK    '           / Unit of this field                             TCMT249 = 'Temperatures of PAs' / Comment for this field                        TUNIT250= 'degK    '           / Unit of this field                             TCMT250 = 'Mean temperature of AFEE' / Comment for this field                   TUNIT251= 'degK    '           / Unit of this field                             TCMT251 = 'Temperatures of AFEEs' / Comment for this field                      TUNIT252= 'degK    '           / Unit of this field                             TCMT252 = 'Mean temperature of the cold plate' / Comment for this field         TUNIT253= 'degK    '           / Unit of this field                             TCMT253 = 'Temperatures of the cold plate' / Comment for this field             TUNIT254= 'kV      '           / Unit of this field                             TCMT254 = 'Mean detectors'                                                      TUNIT255= 'kV      '           / Unit of this field                             TCMT255 = 'Detectors HVs'      / Comment for this field                         TUNIT256= 'keV     '           / Unit of this field                             TCMT256 = 'Mean lower detection threshold' / Comment for this field             TUNIT257= 'keV     '           / Unit of this field                             TCMT257 = 'Detection thresholds' / Comment for this field                       TCMT258 = 'Readable Conv HK data 3840s (B)' / Comment for this field            TUNIT259= 'mV      '           / Unit of this field                             TCMT259 = 'Mean FEE trig. threshold' / Comment for this field                   TUNIT260= 'mV      '           / Unit of this field                             TCMT260 = 'Mean UCR trig. threshold' / Comment for this field                   TUNIT261= 'mV      '           / Unit of this field                             TCMT261 = 'Mean LCR trig. threshold' / Comment for this field                   TUNIT262= 'mV      '           / Unit of this field                             TCMT262 = 'Mean SSA trig. threshold' / Comment for this field                   TUNIT263= 'mV      '           / Unit of this field                             TCMT263 = 'Mean LVS trig. threshold' / Comment for this field                   TUNIT264= 'mV      '           / Unit of this field                             TCMT264 = 'Mean PSAC trig. threshold' / Comment for this field                  TUNIT265= 'mV      '           / Unit of this field                             TCMT265 = 'FEE trig. thresholds' / Comment for this field                       TUNIT266= 'V       '           / Unit of this field                             TCMT266 = 'Mean FEE HV'        / Comment for this field                         TUNIT267= 'V       '           / Unit of this field                             TCMT267 = 'Mean UCR HV'        / Comment for this field                         TUNIT268= 'V       '           / Unit of this field                             TCMT268 = 'Mean LCR HV'        / Comment for this field                         TUNIT269= 'V       '           / Unit of this field                             TCMT269 = 'Mean SSA HV'        / Comment for this field                         TUNIT270= 'V       '           / Unit of this field                             TCMT270 = 'Mean LVS HV'        / Comment for this field                         TUNIT271= 'V       '           / Unit of this field                             TCMT271 = 'FEE HVs '           / Comment for this field                         TUNIT272= 'V       '           / Unit of this field                             TCMT272 = 'PSAC HV 1'          / Comment for this field                         TUNIT273= 'V       '           / Unit of this field                             TCMT273 = 'PSAC HV 2'          / Comment for this field                         TCMT274 = 'Creation or modification date' / Comment for this field              TCMT275 = 'Identification of the previous Science Window' / Comment for this fieTCMT276 = 'Packet time of the start of the Science Window' / Comment for this fiTNULL276=                32767 / Null value of this field                       TCMT277 = 'Packet time of the end of the Science Window' / Comment for this fielTNULL277=                32767 / Null value of this field                       TCMT278 = 'Exposure identifier at the start of the ScW' / Comment for this fieldTCMT279 = 'Exposure identifier at the end of the ScW' / Comment for this field  TCMT280 = 'Planning and Obs Data version at ScW start' / Comment for this field TCMT281 = 'Planning and Obs Data version at ScW end' / Comment for this field   TCMT282 = 'Mode of the SPI instrument' / Comment for this field                 TNULL282=                32767 / Null value of this field                       TCMT283 = 'Mode of the IBIS instrument' / Comment for this field                TNULL283=                32767 / Null value of this field                       TCMT284 = 'Mode of the JEM-X 1 instrument' / Comment for this field             TNULL284=                32767 / Null value of this field                       TCMT285 = 'Mode of the JEM-X 2 instrument' / Comment for this field             TNULL285=                32767 / Null value of this field                       TCMT286 = 'Mode of the OMC instrument' / Comment for this field                 TNULL286=                32767 / Null value of this field                       TCMT287 = 'Readable calibration file' / Comment for this field                  TCMT288 = 'Calibration function (low range)' / Comment for this field           TCMT289 = 'Calibration function (high range)' / Comment for this field          TCMT290 = 'Calibration function degree' / Comment for this field                TNULL290=                32767 / Null value of this field                       TCMT291 = 'Calib. coef for det 00 (low range)' / Comment for this field         TCMT292 = 'Calib. coef for det 00 (high range)' / Comment for this field        TCMT293 = 'Calib. coef for det 01 (low range)' / Comment for this field         TCMT294 = 'Calib. coef for det 01 (high range)' / Comment for this field        TCMT295 = 'Calib. coef for det 02 (low range)' / Comment for this field         TCMT296 = 'Calib. coef for det 02 (high range)' / Comment for this field        TCMT297 = 'Calib. coef for det 03 (low range)' / Comment for this field         TCMT298 = 'Calib. coef for det 03 (high range)' / Comment for this field        TCMT299 = 'Calib. coef for det 04 (low range)' / Comment for this field         TCMT300 = 'Calib. coef for det 04 (high range)' / Comment for this field        TCMT301 = 'Calib. coef for det 05 (low range)' / Comment for this field         TCMT302 = 'Calib. coef for det 05 (high range)' / Comment for this field        TCMT303 = 'Calib. coef for det 06 (low range)' / Comment for this field         TCMT304 = 'Calib. coef for det 06 (high range)' / Comment for this field        TCMT305 = 'Calib. coef for det 07 (low range)' / Comment for this field         TCMT306 = 'Calib. coef for det 07 (high range)' / Comment for this field        TCMT307 = 'Calib. coef for det 08 (low range)' / Comment for this field         TCMT308 = 'Calib. coef for det 08 (high range)' / Comment for this field        TCMT309 = 'Calib. coef for det 09 (low range)' / Comment for this field         TCMT310 = 'Calib. coef for det 09 (high range)' / Comment for this field        TCMT311 = 'Calib. coef for det 10 (low range)' / Comment for this field         TCMT312 = 'Calib. coef for det 10 (high range)' / Comment for this field        TCMT313 = 'Calib. coef for det 11 (low range)' / Comment for this field         TCMT314 = 'Calib. coef for det 11 (high range)' / Comment for this field        TCMT315 = 'Calib. coef for det 12 (low range)' / Comment for this field         TCMT316 = 'Calib. coef for det 12 (high range)' / Comment for this field        TCMT317 = 'Calib. coef for det 13 (low range)' / Comment for this field         TCMT318 = 'Calib. coef for det 13 (high range)' / Comment for this field        TCMT319 = 'Calib. coef for det 14 (low range)' / Comment for this field         TCMT320 = 'Calib. coef for det 14 (high range)' / Comment for this field        TCMT321 = 'Calib. coef for det 15 (low range)' / Comment for this field         TCMT322 = 'Calib. coef for det 15 (high range)' / Comment for this field        TCMT323 = 'Calib. coef for det 16 (low range)' / Comment for this field         TCMT324 = 'Calib. coef for det 16 (high range)' / Comment for this field        TCMT325 = 'Calib. coef for det 17 (low range)' / Comment for this field         TCMT326 = 'Calib. coef for det 17 (high range)' / Comment for this field        TCMT327 = 'Calib. coef for det 18 (low range)' / Comment for this field         TCMT328 = 'Calib. coef for det 18 (high range)' / Comment for this field        TUNIT329= 'W/m**2  '           / Unit of this field                             TCMT329 = 'X-Ray flux in 1.5-12 keV from GOES' / Comment for this field         TUNIT330= 'W/m**2  '           / Unit of this field                             TCMT330 = 'X-Ray flux in 4.1-24 keV from GOES' / Comment for this field         TUNIT331= 'cts/(cm**2.sec.sr)' / Unit of this field                             TCMT331 = '>2 MeV electrons flux from GOES' / Comment for this field            TUNIT332= 'cts/(cm**2.sec.sr)' / Unit of this field                             TCMT332 = '>1 MeV protons flux from GOES' / Comment for this field              TUNIT333= 'cts/(cm**2.sec.sr)' / Unit of this field                             TCMT333 = '>5 MeV protons flux from GOES' / Comment for this field              TUNIT334= 'cts/(cm**2.sec.sr)' / Unit of this field                             TCMT334 = '>10 MeV protons flux from GOES' / Comment for this field             TUNIT335= 'cts/(cm**2.sec.sr)' / Unit of this field                             TCMT335 = '>30 MeV protons flux from GOES' / Comment for this field             TUNIT336= 'cts/(cm**2.sec.sr)' / Unit of this field                             TCMT336 = '>50 MeV protons flux from GOES' / Comment for this field             TUNIT337= 'cts/(cm**2.sec.sr)' / Unit of this field                             TCMT337 = '>60 MeV protons flux from GOES' / Comment for this field             TUNIT338= 'cts/(cm**2.sec.sr)' / Unit of this field                             TCMT338 = '>100 MeV protons flux from GOES' / Comment for this field            TUNIT339= 'cts/(cm**2.sec.sr.MeV)' / Unit of this field                         TCMT339 = '0.8-4 MeV protons flux from GOES' / Comment for this field           TUNIT340= 'cts/(cm**2.sec.sr.MeV)' / Unit of this field                         TCMT340 = '4-9 MeV protons flux from GOES' / Comment for this field             TUNIT341= 'cts/(cm**2.sec.sr.MeV)' / Unit of this field                         TCMT341 = '9-15 MeV protons flux from GOES' / Comment for this field            TUNIT342= 'cts/(cm**2.sec.sr.MeV)' / Unit of this field                         TCMT342 = '15-40 MeV protons flux from GOES' / Comment for this field           TUNIT343= 'cts/(cm**2.sec.sr.MeV)' / Unit of this field                         TCMT343 = '40-80 MeV protons flux from GOES' / Comment for this field           TUNIT344= 'cts/(cm**2.sec.sr.MeV)' / Unit of this field                         TCMT344 = '80-165 MeV protons flux from GOES' / Comment for this field          TUNIT345= 'cts/(cm**2.sec.sr.MeV)' / Unit of this field                         TCMT345 = '165-500 MeV protons flux from GOES' / Comment for this field         TCMT346 = 'Readable propriatry information' / Comment for this field            TCMT347 = 'Observation type'   / Comment for this field                         TCMT348 = 'PI Name of the ScW' / Comment for this field                         TCMT349 = 'Proprietary status' / Comment for this field                         EXTVER  =                    1 / auto assigned by template parser               MJDREF  =                51544 / Modified Julian Date of time origin            BASEDIR = '/afs/ipp-garching.mpg.de/mpe/gamma/instruments/integral/data/revolu&'CONTINUE  'tions   '           / Base directory                                 HISTORY 2008-05-09T01:51:03 UTC Program : spimkdbase v2.1                       CHECKSUM= 'ha2mjX1jha1jhW1j'   / HDU checksum updated 2023-03-15T03:43:35       DATASUM = '3452196009'         / data unit checksum updated 2023-03-15T03:43:35 HISTORY 2023-03-15T03:43:35 UTC - spiselectscw 4.02 : selected 43 Scw (112 deletHISTORY ed) from /afs/ipp-garching.mpg.de/mpe/gamma/instruments/integral/data/daHISTORY tabases/scw_params/revolutions.new/0374/ScWDataBase_rev0374.fits        TELAPSE = 1.120460737220812E+05 / [s] Total observation time                    HISTORY 2023-03-15T03:43:35 UTC - spiselectscw 4.02 : selected 43 Scw (112 deletHISTORY ed) from 1 fits files                                                   OBS_ID  = 'MPE observation'    / Observation identifier                         OGID    = 'MPE observation'    / Observation Group identifier                   OBJECT  = 'MPE observation'    / Observed object                                OBSERVER= 'MPE observer'       / Observer                                       PURPOSE = 'MPE observation'    / Scientific purpose of the group                HISTORY File created / modified on 2023-03-15T03:43:35 UTC with spiselectscw verHISTORY  4.02                                                                   END                                                                                                                                                                                                                                                                                                                                                                                                                                                                                                                                                                                                                                                             \n"
     ]
    }
   ],
   "source": [
    "# scw.fits.gz\n",
    "\n",
    "with fits.open(f\"{data_path}/scw.fits.gz\") as file:\n",
    "    t = Table.read(file[1])\n",
    "    \n",
    "sw = t[p_rel_indices]\n",
    "\n",
    "hdu = fits.BinTableHDU(data=ns, name=\"SPI.-SCW.-CAT\")\n",
    "hdu.writeto(f\"{spimodfit_folder}/scw.fits.gz\", overwrite=True)"
   ]
  }
 ],
 "metadata": {
  "kernelspec": {
   "display_name": "MT",
   "language": "python",
   "name": "python3"
  },
  "language_info": {
   "codemirror_mode": {
    "name": "ipython",
    "version": 3
   },
   "file_extension": ".py",
   "mimetype": "text/x-python",
   "name": "python",
   "nbconvert_exporter": "python",
   "pygments_lexer": "ipython3",
   "version": "3.9.13"
  },
  "orig_nbformat": 4,
  "vscode": {
   "interpreter": {
    "hash": "77c6aaad9a34bae581a83e51509dc60b9a05d4f3ba3ef918f772e036566f2e96"
   }
  }
 },
 "nbformat": 4,
 "nbformat_minor": 2
}
