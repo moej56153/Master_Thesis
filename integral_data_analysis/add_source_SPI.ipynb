{
 "cells": [
  {
   "cell_type": "code",
   "execution_count": 1,
   "metadata": {},
   "outputs": [
    {
     "name": "stdout",
     "output_type": "stream",
     "text": [
      "[\u001b[35mWARNING \u001b[0m]\u001b[35m The naima package is not available. Models that depend on it will not be available\u001b[0m\n",
      "[\u001b[35mWARNING \u001b[0m]\u001b[35m The GSL library or the pygsl wrapper cannot be loaded. Models that depend on it will not be available.\u001b[0m\n",
      "[\u001b[35mWARNING \u001b[0m]\u001b[35m The ebltable package is not available. Models that depend on it will not be available\u001b[0m\n",
      "[\u001b[32mINFO    \u001b[0m]\u001b[32m Starting 3ML!\u001b[0m\n",
      "[\u001b[35mWARNING \u001b[0m]\u001b[35m no display variable set. using backend for graphics without display (agg)\u001b[0m\n",
      "[\u001b[35mWARNING \u001b[0m]\u001b[35m ROOT minimizer not available\u001b[0m\n",
      "[\u001b[35mWARNING \u001b[0m]\u001b[35m PyGMO is not available\u001b[0m\n",
      "[\u001b[35mWARNING \u001b[0m]\u001b[35m The cthreeML package is not installed. You will not be able to use plugins which require the C/C++ interface (currently HAWC)\u001b[0m\n",
      "[\u001b[35mWARNING \u001b[0m]\u001b[35m Could not import plugin HAWCLike.py. Do you have the relative instrument software installed and configured?\u001b[0m\n",
      "[\u001b[35mWARNING \u001b[0m]\u001b[35m Could not import plugin FermiLATLike.py. Do you have the relative instrument software installed and configured?\u001b[0m\n",
      "[\u001b[35mWARNING \u001b[0m]\u001b[35m No fermitools installed\u001b[0m\n",
      "[\u001b[35mWARNING \u001b[0m]\u001b[35m Env. variable OMP_NUM_THREADS is not set. Please set it to 1 for optimal performances in 3ML\u001b[0m\n",
      "[\u001b[35mWARNING \u001b[0m]\u001b[35m Env. variable MKL_NUM_THREADS is not set. Please set it to 1 for optimal performances in 3ML\u001b[0m\n",
      "[\u001b[35mWARNING \u001b[0m]\u001b[35m Env. variable NUMEXPR_NUM_THREADS is not set. Please set it to 1 for optimal performances in 3ML\u001b[0m\n"
     ]
    }
   ],
   "source": [
    "import numpy as np\n",
    "import astropy.io.fits as fits\n",
    "from astropy.table import Table\n",
    "from astromodels import Powerlaw,  PointSource, SpectralComponent\n",
    "import astropy.time as at\n",
    "from datetime import datetime\n",
    "from pyspi.utils.function_utils import find_response_version\n",
    "from pyspi.utils.response.spi_response_data import ResponseDataRMF\n",
    "from pyspi.utils.response.spi_response import ResponseRMFGenerator\n",
    "from pyspi.utils.response.spi_drm import SPIDRM\n",
    "from pyspi.utils.livedets import get_live_dets\n",
    "import os"
   ]
  },
  {
   "cell_type": "code",
   "execution_count": 2,
   "metadata": {},
   "outputs": [],
   "source": [
    "data_path = \"crab_data/0374\""
   ]
  },
  {
   "cell_type": "code",
   "execution_count": 3,
   "metadata": {},
   "outputs": [],
   "source": [
    "# Energy Bins\n",
    "with fits.open(f\"{data_path}/energy_boundaries.fits\") as file:\n",
    "    t = Table.read(file[1])\n",
    "    energy_bins = np.append(t[\"E_MIN\"], t[\"E_MAX\"][-1])"
   ]
  },
  {
   "cell_type": "code",
   "execution_count": 4,
   "metadata": {},
   "outputs": [],
   "source": [
    "# Pointings and Start Times\n",
    "with fits.open(f\"{data_path}/pointing.fits\") as file:\n",
    "    t = Table.read(file[1])\n",
    "    \n",
    "    pointings = np.array(t[\"PTID_SPI\"])\n",
    "    \n",
    "    time_start = np.array(t[\"TSTART\"]) + 2451544.5\n",
    "    time_start = [at.Time(f\"{i}\", format=\"jd\").datetime for i in time_start]\n",
    "    time_start = np.array([datetime.strftime(i,'%y%m%d %H%M%S') for i in time_start])"
   ]
  },
  {
   "cell_type": "code",
   "execution_count": 5,
   "metadata": {},
   "outputs": [],
   "source": [
    "# Time Elapsed\n",
    "# det=i, pointing_index=j : index = j*85 + i\n",
    "with fits.open(f\"{data_path}/dead_time.fits\") as file:\n",
    "    t = Table.read(file[1])\n",
    "    time_elapsed = np.array(t[\"LIVETIME\"])"
   ]
  },
  {
   "cell_type": "code",
   "execution_count": 6,
   "metadata": {},
   "outputs": [],
   "source": [
    "# Define Source and Spectrum\n",
    "ra, dec = 10, -40\n",
    "K, piv, index = 8e-3, 40, -2\n",
    "    \n",
    "pl = Powerlaw()\n",
    "pl.piv = piv\n",
    "pl.K = K\n",
    "pl.index = index\n",
    "component1 = SpectralComponent(\"pl\", shape=pl)\n",
    "source = PointSource(\"Test\", ra=ra, dec=dec, components=[component1])\n",
    "\n",
    "emod = np.geomspace(10, 3000, 50)\n",
    "spec = source(emod)\n",
    "spec_binned = (emod[1:]-emod[:-1])*(spec[:-1]+spec[1:])/2"
   ]
  },
  {
   "cell_type": "code",
   "execution_count": 7,
   "metadata": {},
   "outputs": [
    {
     "name": "stdout",
     "output_type": "stream",
     "text": [
      "Using the irfs that are valid between 04/07/17 08:20:06 and 09/02/19 09:59:57 (YY/MM/DD HH:MM:SS)\n"
     ]
    }
   ],
   "source": [
    "# Generate Source Counts\n",
    "\n",
    "assert find_response_version(time_start[0]) == find_response_version(time_start[-1]), \"Versions not constant\"\n",
    "version = find_response_version(time_start[0])\n",
    "rsp_base = ResponseDataRMF.from_version(version)\n",
    "\n",
    "source_counts = np.zeros((len(pointings)*85, len(energy_bins)-1), dtype=np.uint32)\n",
    "\n",
    "for p_i, pointing in enumerate(pointings):\n",
    "    time = time_start[p_i]\n",
    "    dets = get_live_dets(time=time, event_types=[\"single\"])\n",
    "    \n",
    "    rmfs = []\n",
    "    for d in dets:\n",
    "        rmfs.append(ResponseRMFGenerator.from_time(time, d, energy_bins, emod, rsp_base))\n",
    "        \n",
    "    sds = np.empty(0)\n",
    "    for d in range(len(dets)):\n",
    "        sd = SPIDRM(rmfs[d], ra, dec)\n",
    "        sds = np.append(sds, sd.matrix.T)\n",
    "    resp_mat = sds.reshape((len(dets), len(emod)-1, len(energy_bins)-1))\n",
    "    \n",
    "    count_rates = np.dot(spec_binned, resp_mat)\n",
    "    \n",
    "    for d_i, d in enumerate(dets):\n",
    "        index = p_i * 85 + d\n",
    "        source_counts[index,:] = np.random.poisson(count_rates[d_i,:] * time_elapsed[index])    \n"
   ]
  },
  {
   "cell_type": "code",
   "execution_count": 8,
   "metadata": {},
   "outputs": [
    {
     "ename": "OSError",
     "evalue": "File crab_data/0374/evts_det_spec.fits already exists. If you mean to replace it then use the argument \"overwrite=True\".",
     "output_type": "error",
     "traceback": [
      "\u001b[0;31m---------------------------------------------------------------------------\u001b[0m",
      "\u001b[0;31mOSError\u001b[0m                                   Traceback (most recent call last)",
      "\u001b[1;32m/home/moej56153/Master_Thesis/integral_data_analysis/add_source_SPI.ipynb Cell 8\u001b[0m in \u001b[0;36m<cell line: 14>\u001b[0;34m()\u001b[0m\n\u001b[1;32m     <a href='vscode-notebook-cell://wsl%2Bubuntu/home/moej56153/Master_Thesis/integral_data_analysis/add_source_SPI.ipynb#X10sdnNjb2RlLXJlbW90ZQ%3D%3D?line=10'>11</a>\u001b[0m updated_counts[\u001b[39m\"\u001b[39m\u001b[39mCOUNTS\u001b[39m\u001b[39m\"\u001b[39m] \u001b[39m+\u001b[39m\u001b[39m=\u001b[39m source_counts\n\u001b[1;32m     <a href='vscode-notebook-cell://wsl%2Bubuntu/home/moej56153/Master_Thesis/integral_data_analysis/add_source_SPI.ipynb#X10sdnNjb2RlLXJlbW90ZQ%3D%3D?line=12'>13</a>\u001b[0m hdu \u001b[39m=\u001b[39m fits\u001b[39m.\u001b[39mBinTableHDU(data\u001b[39m=\u001b[39mupdated_counts, name\u001b[39m=\u001b[39m\u001b[39m\"\u001b[39m\u001b[39mSPI.-OBS.-DSP\u001b[39m\u001b[39m\"\u001b[39m)\n\u001b[0;32m---> <a href='vscode-notebook-cell://wsl%2Bubuntu/home/moej56153/Master_Thesis/integral_data_analysis/add_source_SPI.ipynb#X10sdnNjb2RlLXJlbW90ZQ%3D%3D?line=13'>14</a>\u001b[0m hdu\u001b[39m.\u001b[39;49mwriteto(\u001b[39mf\u001b[39;49m\u001b[39m\"\u001b[39;49m\u001b[39m{\u001b[39;49;00mdata_path\u001b[39m}\u001b[39;49;00m\u001b[39m/evts_det_spec.fits\u001b[39;49m\u001b[39m\"\u001b[39;49m)\n",
      "File \u001b[0;32m~/.pyenv/versions/MT/lib/python3.9/site-packages/astropy/io/fits/hdu/base.py:1564\u001b[0m, in \u001b[0;36mExtensionHDU.writeto\u001b[0;34m(self, name, output_verify, overwrite, checksum)\u001b[0m\n\u001b[1;32m   1561\u001b[0m \u001b[39mfrom\u001b[39;00m \u001b[39m.\u001b[39;00m\u001b[39mimage\u001b[39;00m \u001b[39mimport\u001b[39;00m PrimaryHDU\n\u001b[1;32m   1563\u001b[0m hdulist \u001b[39m=\u001b[39m HDUList([PrimaryHDU(), \u001b[39mself\u001b[39m])\n\u001b[0;32m-> 1564\u001b[0m hdulist\u001b[39m.\u001b[39;49mwriteto(name, output_verify, overwrite\u001b[39m=\u001b[39;49moverwrite,\n\u001b[1;32m   1565\u001b[0m                 checksum\u001b[39m=\u001b[39;49mchecksum)\n",
      "File \u001b[0;32m~/.pyenv/versions/MT/lib/python3.9/site-packages/astropy/io/fits/hdu/hdulist.py:939\u001b[0m, in \u001b[0;36mHDUList.writeto\u001b[0;34m(self, fileobj, output_verify, overwrite, checksum)\u001b[0m\n\u001b[1;32m    935\u001b[0m mode \u001b[39m=\u001b[39m FILE_MODES[fileobj_mode(fileobj)] \u001b[39mif\u001b[39;00m isfile(fileobj) \u001b[39melse\u001b[39;00m \u001b[39m'\u001b[39m\u001b[39mostream\u001b[39m\u001b[39m'\u001b[39m\n\u001b[1;32m    937\u001b[0m \u001b[39m# This can accept an open file object that's open to write only, or in\u001b[39;00m\n\u001b[1;32m    938\u001b[0m \u001b[39m# append/update modes but only if the file doesn't exist.\u001b[39;00m\n\u001b[0;32m--> 939\u001b[0m fileobj \u001b[39m=\u001b[39m _File(fileobj, mode\u001b[39m=\u001b[39;49mmode, overwrite\u001b[39m=\u001b[39;49moverwrite)\n\u001b[1;32m    940\u001b[0m hdulist \u001b[39m=\u001b[39m \u001b[39mself\u001b[39m\u001b[39m.\u001b[39mfromfile(fileobj)\n\u001b[1;32m    941\u001b[0m \u001b[39mtry\u001b[39;00m:\n",
      "File \u001b[0;32m~/.pyenv/versions/MT/lib/python3.9/site-packages/astropy/io/fits/file.py:170\u001b[0m, in \u001b[0;36m_File.__init__\u001b[0;34m(self, fileobj, mode, memmap, overwrite, cache)\u001b[0m\n\u001b[1;32m    168\u001b[0m     \u001b[39mself\u001b[39m\u001b[39m.\u001b[39m_open_fileobj(fileobj, mode, overwrite)\n\u001b[1;32m    169\u001b[0m \u001b[39melif\u001b[39;00m \u001b[39misinstance\u001b[39m(fileobj, (\u001b[39mstr\u001b[39m, \u001b[39mbytes\u001b[39m)):\n\u001b[0;32m--> 170\u001b[0m     \u001b[39mself\u001b[39;49m\u001b[39m.\u001b[39;49m_open_filename(fileobj, mode, overwrite)\n\u001b[1;32m    171\u001b[0m \u001b[39melse\u001b[39;00m:\n\u001b[1;32m    172\u001b[0m     \u001b[39mself\u001b[39m\u001b[39m.\u001b[39m_open_filelike(fileobj, mode, overwrite)\n",
      "File \u001b[0;32m~/.pyenv/versions/MT/lib/python3.9/site-packages/astropy/io/fits/file.py:551\u001b[0m, in \u001b[0;36m_File._open_filename\u001b[0;34m(self, filename, mode, overwrite)\u001b[0m\n\u001b[1;32m    548\u001b[0m \u001b[39m\"\"\"Open a FITS file from a filename string.\"\"\"\u001b[39;00m\n\u001b[1;32m    550\u001b[0m \u001b[39mif\u001b[39;00m mode \u001b[39m==\u001b[39m \u001b[39m'\u001b[39m\u001b[39mostream\u001b[39m\u001b[39m'\u001b[39m:\n\u001b[0;32m--> 551\u001b[0m     \u001b[39mself\u001b[39;49m\u001b[39m.\u001b[39;49m_overwrite_existing(overwrite, \u001b[39mNone\u001b[39;49;00m, \u001b[39mTrue\u001b[39;49;00m)\n\u001b[1;32m    553\u001b[0m \u001b[39mif\u001b[39;00m os\u001b[39m.\u001b[39mpath\u001b[39m.\u001b[39mexists(\u001b[39mself\u001b[39m\u001b[39m.\u001b[39mname):\n\u001b[1;32m    554\u001b[0m     \u001b[39mwith\u001b[39;00m \u001b[39mopen\u001b[39m(\u001b[39mself\u001b[39m\u001b[39m.\u001b[39mname, \u001b[39m'\u001b[39m\u001b[39mrb\u001b[39m\u001b[39m'\u001b[39m) \u001b[39mas\u001b[39;00m f:\n",
      "File \u001b[0;32m~/.pyenv/versions/MT/lib/python3.9/site-packages/astropy/io/fits/file.py:440\u001b[0m, in \u001b[0;36m_File._overwrite_existing\u001b[0;34m(self, overwrite, fileobj, closed)\u001b[0m\n\u001b[1;32m    438\u001b[0m         os\u001b[39m.\u001b[39mremove(\u001b[39mself\u001b[39m\u001b[39m.\u001b[39mname)\n\u001b[1;32m    439\u001b[0m \u001b[39melse\u001b[39;00m:\n\u001b[0;32m--> 440\u001b[0m     \u001b[39mraise\u001b[39;00m \u001b[39mOSError\u001b[39;00m(NOT_OVERWRITING_MSG\u001b[39m.\u001b[39mformat(\u001b[39mself\u001b[39m\u001b[39m.\u001b[39mname))\n",
      "\u001b[0;31mOSError\u001b[0m: File crab_data/0374/evts_det_spec.fits already exists. If you mean to replace it then use the argument \"overwrite=True\"."
     ]
    }
   ],
   "source": [
    "# Save Data for PySpi\n",
    "\n",
    "# source_counts = np.array(source_counts, dtype=np.uint32)\n",
    "\n",
    "with fits.open(f\"{data_path}/evts_det_spec_orig.fits\") as file:\n",
    "    t = Table.read(file[1])\n",
    "    \n",
    "    counts = t\n",
    "    \n",
    "updated_counts = counts.copy()\n",
    "updated_counts[\"COUNTS\"] += source_counts\n",
    "\n",
    "hdu = fits.BinTableHDU(data=updated_counts, name=\"SPI.-OBS.-DSP\")\n",
    "hdu.writeto(f\"{data_path}/evts_det_spec.fits\")"
   ]
  },
  {
   "cell_type": "code",
   "execution_count": 13,
   "metadata": {},
   "outputs": [],
   "source": [
    "spimodfit_folder = \"crab_data/0374_spimodfit\"\n",
    "\n",
    "if not os.path.exists(spimodfit_folder):\n",
    "    os.mkdir(spimodfit_folder)\n",
    "\n",
    "spimodfit_pointings = [\"03740001\",\n",
    "\"03740002\",\n",
    "\"03740003\",\n",
    "\"03740004\",\n",
    "\"03740005\",\n",
    "\"03740006\",\n",
    "\"03740007\",\n",
    "\"03740008\",\n",
    "\"03740009\",\n",
    "\"03740010\",\n",
    "\"03740011\",\n",
    "\"03740012\",\n",
    "\"03740013\",\n",
    "\"03740014\",\n",
    "\"03740015\",\n",
    "\"03740016\",\n",
    "\"03740017\",\n",
    "\"03740018\",\n",
    "\"03740019\",\n",
    "\"03740020\",\n",
    "\"03740021\",\n",
    "\"03740022\",\n",
    "\"03740023\",\n",
    "\"03740024\",\n",
    "\"03740025\",\n",
    "\"03740026\",\n",
    "\"03740027\",\n",
    "\"03740028\",\n",
    "\"03740029\",\n",
    "\"03740030\",\n",
    "\"03740031\",\n",
    "\"03740032\",\n",
    "\"03740033\",\n",
    "\"03740035\",\n",
    "\"03740036\",\n",
    "\"03740037\",\n",
    "\"03740038\",\n",
    "\"03740039\",\n",
    "\"03740040\",\n",
    "\"03740041\",\n",
    "\"03740042\",\n",
    "\"03740043\",\n",
    "\"03740045\",]\n",
    "\n",
    "spimodfit_energy_bins = [20.0, 21.5, 23.5, 25.5, 27.5, 30.0, 32.5, 35.5, 38.5, 42.0, 45.5, 49.5, 54.0, 58.5, 63.5, 69.0, 75.0, 81.5, 89.0, 96.5, 105.0, 114.0, 124.0, 134.5, 146.0, 159.0, 172.5, 187.5, 204.0, 221.5, 240.5, 261.5, 284.0, 308.5, 335.5, 364.5, 396.0, 430.0, 467.5, 508.0, 514.0, 600.0,]"
   ]
  },
  {
   "cell_type": "code",
   "execution_count": 31,
   "metadata": {},
   "outputs": [
    {
     "name": "stdout",
     "output_type": "stream",
     "text": [
      "[0, 1, 2, 3, 4, 5, 6, 7, 8, 9, 10, 11, 12, 13, 14, 15, 16, 17, 18, 19, 20, 21, 22, 23, 24, 25, 26, 27, 28, 29, 30, 31, 33, 34, 35, 36, 37, 38, 39, 40, 42]\n",
      "[0, 1, 2, 3, 4, 5, 6, 7, 8, 9, 10, 11, 12, 13, 14, 15, 16, 17, 18, 85, 86, 87, 88, 89, 90, 91, 92, 93, 94, 95, 96, 97, 98, 99, 100, 101, 102, 103, 170, 171, 172, 173, 174, 175, 176, 177, 178, 179, 180, 181, 182, 183, 184, 185, 186, 187, 188, 255, 256, 257, 258, 259, 260, 261, 262, 263, 264, 265, 266, 267, 268, 269, 270, 271, 272, 273, 340, 341, 342, 343, 344, 345, 346, 347, 348, 349, 350, 351, 352, 353, 354, 355, 356, 357, 358, 425, 426, 427, 428, 429, 430, 431, 432, 433, 434, 435, 436, 437, 438, 439, 440, 441, 442, 443, 510, 511, 512, 513, 514, 515, 516, 517, 518, 519, 520, 521, 522, 523, 524, 525, 526, 527, 528, 595, 596, 597, 598, 599, 600, 601, 602, 603, 604, 605, 606, 607, 608, 609, 610, 611, 612, 613, 680, 681, 682, 683, 684, 685, 686, 687, 688, 689, 690, 691, 692, 693, 694, 695, 696, 697, 698, 765, 766, 767, 768, 769, 770, 771, 772, 773, 774, 775, 776, 777, 778, 779, 780, 781, 782, 783, 850, 851, 852, 853, 854, 855, 856, 857, 858, 859, 860, 861, 862, 863, 864, 865, 866, 867, 868, 935, 936, 937, 938, 939, 940, 941, 942, 943, 944, 945, 946, 947, 948, 949, 950, 951, 952, 953, 1020, 1021, 1022, 1023, 1024, 1025, 1026, 1027, 1028, 1029, 1030, 1031, 1032, 1033, 1034, 1035, 1036, 1037, 1038, 1105, 1106, 1107, 1108, 1109, 1110, 1111, 1112, 1113, 1114, 1115, 1116, 1117, 1118, 1119, 1120, 1121, 1122, 1123, 1190, 1191, 1192, 1193, 1194, 1195, 1196, 1197, 1198, 1199, 1200, 1201, 1202, 1203, 1204, 1205, 1206, 1207, 1208, 1275, 1276, 1277, 1278, 1279, 1280, 1281, 1282, 1283, 1284, 1285, 1286, 1287, 1288, 1289, 1290, 1291, 1292, 1293, 1360, 1361, 1362, 1363, 1364, 1365, 1366, 1367, 1368, 1369, 1370, 1371, 1372, 1373, 1374, 1375, 1376, 1377, 1378, 1445, 1446, 1447, 1448, 1449, 1450, 1451, 1452, 1453, 1454, 1455, 1456, 1457, 1458, 1459, 1460, 1461, 1462, 1463, 1530, 1531, 1532, 1533, 1534, 1535, 1536, 1537, 1538, 1539, 1540, 1541, 1542, 1543, 1544, 1545, 1546, 1547, 1548, 1615, 1616, 1617, 1618, 1619, 1620, 1621, 1622, 1623, 1624, 1625, 1626, 1627, 1628, 1629, 1630, 1631, 1632, 1633, 1700, 1701, 1702, 1703, 1704, 1705, 1706, 1707, 1708, 1709, 1710, 1711, 1712, 1713, 1714, 1715, 1716, 1717, 1718, 1785, 1786, 1787, 1788, 1789, 1790, 1791, 1792, 1793, 1794, 1795, 1796, 1797, 1798, 1799, 1800, 1801, 1802, 1803, 1870, 1871, 1872, 1873, 1874, 1875, 1876, 1877, 1878, 1879, 1880, 1881, 1882, 1883, 1884, 1885, 1886, 1887, 1888, 1955, 1956, 1957, 1958, 1959, 1960, 1961, 1962, 1963, 1964, 1965, 1966, 1967, 1968, 1969, 1970, 1971, 1972, 1973, 2040, 2041, 2042, 2043, 2044, 2045, 2046, 2047, 2048, 2049, 2050, 2051, 2052, 2053, 2054, 2055, 2056, 2057, 2058, 2125, 2126, 2127, 2128, 2129, 2130, 2131, 2132, 2133, 2134, 2135, 2136, 2137, 2138, 2139, 2140, 2141, 2142, 2143, 2210, 2211, 2212, 2213, 2214, 2215, 2216, 2217, 2218, 2219, 2220, 2221, 2222, 2223, 2224, 2225, 2226, 2227, 2228, 2295, 2296, 2297, 2298, 2299, 2300, 2301, 2302, 2303, 2304, 2305, 2306, 2307, 2308, 2309, 2310, 2311, 2312, 2313, 2380, 2381, 2382, 2383, 2384, 2385, 2386, 2387, 2388, 2389, 2390, 2391, 2392, 2393, 2394, 2395, 2396, 2397, 2398, 2465, 2466, 2467, 2468, 2469, 2470, 2471, 2472, 2473, 2474, 2475, 2476, 2477, 2478, 2479, 2480, 2481, 2482, 2483, 2550, 2551, 2552, 2553, 2554, 2555, 2556, 2557, 2558, 2559, 2560, 2561, 2562, 2563, 2564, 2565, 2566, 2567, 2568, 2635, 2636, 2637, 2638, 2639, 2640, 2641, 2642, 2643, 2644, 2645, 2646, 2647, 2648, 2649, 2650, 2651, 2652, 2653, 2805, 2806, 2807, 2808, 2809, 2810, 2811, 2812, 2813, 2814, 2815, 2816, 2817, 2818, 2819, 2820, 2821, 2822, 2823, 2890, 2891, 2892, 2893, 2894, 2895, 2896, 2897, 2898, 2899, 2900, 2901, 2902, 2903, 2904, 2905, 2906, 2907, 2908, 2975, 2976, 2977, 2978, 2979, 2980, 2981, 2982, 2983, 2984, 2985, 2986, 2987, 2988, 2989, 2990, 2991, 2992, 2993, 3060, 3061, 3062, 3063, 3064, 3065, 3066, 3067, 3068, 3069, 3070, 3071, 3072, 3073, 3074, 3075, 3076, 3077, 3078, 3145, 3146, 3147, 3148, 3149, 3150, 3151, 3152, 3153, 3154, 3155, 3156, 3157, 3158, 3159, 3160, 3161, 3162, 3163, 3230, 3231, 3232, 3233, 3234, 3235, 3236, 3237, 3238, 3239, 3240, 3241, 3242, 3243, 3244, 3245, 3246, 3247, 3248, 3315, 3316, 3317, 3318, 3319, 3320, 3321, 3322, 3323, 3324, 3325, 3326, 3327, 3328, 3329, 3330, 3331, 3332, 3333, 3400, 3401, 3402, 3403, 3404, 3405, 3406, 3407, 3408, 3409, 3410, 3411, 3412, 3413, 3414, 3415, 3416, 3417, 3418, 3570, 3571, 3572, 3573, 3574, 3575, 3576, 3577, 3578, 3579, 3580, 3581, 3582, 3583, 3584, 3585, 3586, 3587, 3588]\n"
     ]
    }
   ],
   "source": [
    "# Pointing Indices\n",
    "with fits.open(f\"{data_path}/pointing.fits\") as file:\n",
    "    t = Table.read(file[1])\n",
    "    p_indices = []\n",
    "    for p in spimodfit_pointings:\n",
    "        temp = np.argwhere(t[\"PTID_ISOC\"]==p)\n",
    "        if len(temp)>0:\n",
    "            p_indices.append(temp[0][0])\n",
    "\n",
    "# Energy Indices\n",
    "with fits.open(f\"{data_path}/energy_boundaries.fits\") as file:\n",
    "    t = Table.read(file[1])\n",
    "    e_indices = []\n",
    "    for e in spimodfit_energy_bins:\n",
    "        temp = np.argwhere(t[\"E_MIN\"]==e)\n",
    "        if len(temp)>0:\n",
    "            e_indices.append(temp[0][0])\n",
    "            \n",
    "# Single Event Indices\n",
    "se_indices = []\n",
    "for i in p_indices:\n",
    "    for j in range(19):\n",
    "        se_indices.append(i*85 + j)"
   ]
  },
  {
   "cell_type": "code",
   "execution_count": 79,
   "metadata": {},
   "outputs": [],
   "source": [
    "# energy_boundaries.fits.gz\n",
    "with fits.open(f\"{data_path}/energy_boundaries.fits\") as file:\n",
    "    t = Table.read(file[1])\n",
    "\n",
    "eb = t[e_indices[:-1]]\n",
    "eb[\"E_MAX\"] = t[\"E_MIN\"][e_indices[1:]]\n",
    "\n",
    "hdu = fits.BinTableHDU(data=eb, name=\"SPI.-EBDS-SET\")\n",
    "hdu.writeto(f\"{spimodfit_folder}/energy_boundaries.fits.gz\")"
   ]
  },
  {
   "cell_type": "code",
   "execution_count": 33,
   "metadata": {},
   "outputs": [],
   "source": [
    "# dead_time.fits.gz\n",
    "with fits.open(f\"{data_path}/dead_time.fits\") as file:\n",
    "    t = Table.read(file[1])\n",
    "    \n",
    "dt = t[se_indices]\n",
    "\n",
    "hdu = fits.BinTableHDU(data=dt, name=\"SPI.-OBS.-DTI\")\n",
    "hdu.writeto(f\"{spimodfit_folder}/dead_time.fits.gz\")"
   ]
  },
  {
   "cell_type": "code",
   "execution_count": 36,
   "metadata": {},
   "outputs": [],
   "source": [
    "# pointing.fits.gz\n",
    "with fits.open(f\"{data_path}/pointing.fits\") as file:\n",
    "    t = Table.read(file[1])\n",
    "    \n",
    "ps = t[p_indices]\n",
    "\n",
    "hdu = fits.BinTableHDU(data=ps, name=\"SPI.-OBS.-PNT\")\n",
    "hdu.writeto(f\"{spimodfit_folder}/pointing.fits.gz\")"
   ]
  },
  {
   "cell_type": "code",
   "execution_count": 65,
   "metadata": {},
   "outputs": [],
   "source": [
    "# evts_det_spec.fits.gz\n",
    "with fits.open(f\"{data_path}/evts_det_spec.fits\") as file:\n",
    "    t = Table.read(file[1])\n",
    "    \n",
    "eds_temp = t[se_indices]\n",
    "eds = eds_temp.copy()\n",
    "eds[\"COUNTS\"] = eds[\"COUNTS\"][:,e_indices[:-1]]\n",
    "\n",
    "for i in range(len(e_indices)-1):\n",
    "    eds[\"COUNTS\"][:,i] = np.sum(eds_temp[\"COUNTS\"][ : , e_indices[i] : e_indices[i+1]], axis=1)\n",
    "    \n",
    "hdu = fits.BinTableHDU(data=eds, name=\"SPI.-OBS.-DSP\")\n",
    "hdu.writeto(f\"{spimodfit_folder}/evts_det_spec.fits.gz\")"
   ]
  },
  {
   "cell_type": "code",
   "execution_count": 82,
   "metadata": {},
   "outputs": [],
   "source": [
    "# gti.fits.gz\n",
    "with fits.open(f\"{data_path}/gti.fits\") as file:\n",
    "    t = Table.read(file[1])\n",
    "\n",
    "gt = t[se_indices]\n",
    "\n",
    "hdu = fits.BinTableHDU(data=gt, name=\"SPI.-OBS.-GTI\")\n",
    "hdu.writeto(f\"{spimodfit_folder}/gti.fits.gz\")"
   ]
  },
  {
   "cell_type": "code",
   "execution_count": 78,
   "metadata": {},
   "outputs": [],
   "source": [
    "# simulated source\n",
    "with fits.open(f\"{data_path}/cat_crab.fits.gz\") as file:\n",
    "    t = Table.read(file[1])\n",
    "    \n",
    "ns = t.copy()\n",
    "ns[\"RA_OBJ\"] = 10.\n",
    "ns[\"DEC_OBJ\"] = -40.\n",
    "ns[\"NAME\"] = \"SimSource\"\n",
    "ns[\"CLASS\"] = 0\n",
    "ns[\"ISGRI_FLAG\"] = 1\n",
    "ns[\"SPI_FLUX_1\"] = 0.\n",
    "ns[\"SPI_FLUX_2\"] = 0.\n",
    "ns[\"ISGR_FLUX_1\"] = 0.\n",
    "ns[\"ISGR_FLUX_2\"] = 0.\n",
    "ns[\"PICS_FLUX_1\"] = 0.\n",
    "ns[\"PICS_FLUX_2\"] = 0.\n",
    "ns[\"JEMX_FLUX_1\"] = 0.\n",
    "ns[\"JEMX_FLUX_2\"] = 0.\n",
    "ns[\"BIRD_SOURCE_ID\"] = \"J000000.0+000000\"\n",
    "ns[\"SOURCE_ID\"] = \"SimSource\"\n",
    "\n",
    "hdu = fits.BinTableHDU(data=ns, name=\"SPI.-SRCL-CAT\")\n",
    "hdu.writeto(f\"{spimodfit_folder}/cat_sim.fits.gz\")\n"
   ]
  },
  {
   "cell_type": "code",
   "execution_count": null,
   "metadata": {},
   "outputs": [],
   "source": []
  }
 ],
 "metadata": {
  "kernelspec": {
   "display_name": "MT",
   "language": "python",
   "name": "python3"
  },
  "language_info": {
   "codemirror_mode": {
    "name": "ipython",
    "version": 3
   },
   "file_extension": ".py",
   "mimetype": "text/x-python",
   "name": "python",
   "nbconvert_exporter": "python",
   "pygments_lexer": "ipython3",
   "version": "3.9.13"
  },
  "orig_nbformat": 4
 },
 "nbformat": 4,
 "nbformat_minor": 2
}
