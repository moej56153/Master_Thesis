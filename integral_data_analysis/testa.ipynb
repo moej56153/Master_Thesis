{
 "cells": [
  {
   "cell_type": "code",
   "execution_count": 5,
   "metadata": {},
   "outputs": [
    {
     "name": "stderr",
     "output_type": "stream",
     "text": [
      "WARNING: UnitsWarning: 'ISO' did not parse as fits unit: At col 0, Unit 'ISO' not supported by the FITS standard.  If this is meant to be a custom unit, define it with 'u.def_unit'. To have it recognized inside a file reader or other code, enable it with 'u.add_enabled_units'. For details, see https://docs.astropy.org/en/latest/units/combining_and_defining.html [astropy.units.core]\n",
      "WARNING: UnitsWarning: 'ISO' did not parse as fits unit: At col 0, Unit 'ISO' not supported by the FITS standard.  If this is meant to be a custom unit, define it with 'u.def_unit'. To have it recognized inside a file reader or other code, enable it with 'u.add_enabled_units'. For details, see https://docs.astropy.org/en/latest/units/combining_and_defining.html [astropy.units.core]\n"
     ]
    }
   ],
   "source": [
    "def test_integral_query():\n",
    "    from astropy.coordinates import SkyCoord\n",
    "    import numpy as np\n",
    "    from datetime import datetime\n",
    "    import pandas as pd\n",
    "    from IntegralQuery import SearchQuery, IntegralQuery, Filter, Range\n",
    "    \n",
    "    p = SkyCoord(83.6333, 22.0144, frame=\"icrs\", unit=\"deg\")\n",
    "    searchquerry = SearchQuery(position=p, radius=\"10 degree\")\n",
    "\n",
    "    cat = IntegralQuery(searchquerry)\n",
    "    f = Filter(SCW_TYPE=\"POINTING\")\n",
    "    scw_ids = cat.apply_filter(f,return_coordinates=True, remove_duplicates=False)\n",
    "        \n",
    "    assert scw_ids.shape == (8087, 4), \"The number of pointings found is not what we expect\"\n",
    "    \n",
    "    assert np.array_equal(scw_ids[3], np.array(['003900020030', 83.635201, 22.012722,\n",
    "                                                datetime(2003, 2, 7, 7, 56, 16)], dtype=object)), \\\n",
    "        \"A content of scw_ids is not what we expect\"\n",
    "        \n",
    "    cat.sort_by(\"DEC_X\")\n",
    "    \n",
    "    assert np.array_equal(np.array(cat.table.iloc[1114]),\n",
    "                          np.array(['115900130010', 1, 'POINTING', 82.235039, 16.914862, \n",
    "                                    pd.Timestamp('2012-04-10 11:09:23'), pd.Timestamp('2012-04-10 11:44:04'), \n",
    "                                    '88602500001', 'CALIBRATION', 'PUBLIC', 'PUBLIC', 2053.0, 2038.0, \n",
    "                                    2051.0, 2053.0, 2053.0, 2053.0, 2052.0, 81747968.0, 316.022])), \\\n",
    "                                        \"Sort_by did not produce the correct table\"\n",
    "                                        \n",
    "    f = Filter(RA_X=Range(78., None),\n",
    "           DEC_X=Range(None, 30.),\n",
    "           TIME=Range(min_val='2009-11-04T00:05:23', max_val='2015-09-04T00:05:23'),\n",
    "           OBS_TYPE=\"CALIBRATION\",\n",
    "           PS=\"PUBLIC\",\n",
    "           PI_NAME=\"PUBLIC\",\n",
    "           GOOD_SPI=Range(None, 500))\n",
    "    \n",
    "    cat.sort_by(\"DSIZE\")\n",
    "    \n",
    "    scw_ids = cat.apply_filter(f,return_coordinates=False, remove_duplicates=True)\n",
    "    \n",
    "    assert (scw_ids.shape == (1511,)) and (scw_ids[1000]=='132700450021'), \\\n",
    "        \"Filter gave wrong results\"\n",
    "                                        \n",
    "    searchquerry = SearchQuery(object_name=\"Cyg X-1\")\n",
    "    cat = IntegralQuery(searchquerry)\n",
    "    f = Filter()\n",
    "    scw_ids = cat.apply_filter(f,return_coordinates=False, remove_duplicates=True)\n",
    "    \n",
    "    assert scw_ids.shape == (19151,), \"Object Query gave wrong number of pointings\"\n",
    "    \n",
    "    f = Filter(SCW_ID='004000100010',\n",
    "               SCW_VER=2)\n",
    "    \n",
    "    scw_ids = cat.apply_filter(f,return_coordinates=False, remove_duplicates=True)\n",
    "    \n",
    "    assert scw_ids.shape == (0,), \"SCW_ID or SCW_VER filter gave wrong result\"\n",
    "    \n",
    "                                \n",
    "test_integral_query()"
   ]
  },
  {
   "cell_type": "code",
   "execution_count": 4,
   "metadata": {},
   "outputs": [
    {
     "name": "stderr",
     "output_type": "stream",
     "text": [
      "WARNING: UnitsWarning: 'ISO' did not parse as fits unit: At col 0, Unit 'ISO' not supported by the FITS standard.  If this is meant to be a custom unit, define it with 'u.def_unit'. To have it recognized inside a file reader or other code, enable it with 'u.add_enabled_units'. For details, see https://docs.astropy.org/en/latest/units/combining_and_defining.html [astropy.units.core]\n"
     ]
    },
    {
     "name": "stdout",
     "output_type": "stream",
     "text": [
      "Performance Review!\n",
      "\n",
      "Run Time:\n",
      "40.14s\n",
      "\n",
      "Region Sizes:\n",
      "[(1, 129), (2, 32), (3, 4), (4, 7), (5, 1), (6, 5), (7, 3), (9, 2), (11, 2), (13, 1), (14, 2), (15, 1), (17, 2), (21, 2), (24, 2), (26, 1), (27, 1), (28, 2), (41, 1), (54, 2), (57, 1), (58, 3), (59, 3), (101, 2), (120, 1), (126, 1), (146, 1), (150, 1), (160, 2), (161, 1), (182, 1), (204, 2), (235, 2), (238, 1), (268, 1), (273, 1), (284, 1), (292, 2), (306, 1), (369, 1), (393, 1), (431, 1), (433, 1), (497, 1), (541, 1), (783, 1), (836, 1)]\n",
      "\n",
      "Initial Cluster Sizes:\n",
      "{1: 483, 2: 124, 3: 52, 4: 61, 5: 1713}\n",
      "\n",
      "Final Cluster Sizes:\n",
      "{1: 440, 2: 123, 3: 56, 4: 73, 5: 1710}\n",
      "\n",
      "Attempted Improvements:\n",
      "140\n",
      "\n",
      "Implemented Improvements:\n",
      "56\n",
      "\n",
      "Dead-End Clustering Paths:\n",
      "7\n"
     ]
    }
   ],
   "source": [
    "def test_clustering():\n",
    "    import numpy as np\n",
    "    from IntegralQuery import SearchQuery, IntegralQuery, Filter, Range\n",
    "    from IntegralPointingClustering import ClusteredQuery\n",
    "    \n",
    "    searchquerry = SearchQuery(object_name=\"Cyg X-1\")\n",
    "    cat = IntegralQuery(searchquerry)\n",
    "    f = Filter(SCW_TYPE=\"POINTING\")\n",
    "    scw_ids = cat.apply_filter(f, return_coordinates=True, remove_duplicates=True)\n",
    "    \n",
    "    np.random.seed(0)\n",
    "    \n",
    "    cq = ClusteredQuery(scw_ids, 1/6, 1/15, 1, 0.3,\n",
    "                        cluster_size_range = (5,5),\n",
    "                        cluster_size_preference_threshold = (),\n",
    "                        failed_improvements_max=2,\n",
    "                        suboptimal_cluster_size = 2,\n",
    "                        close_suboptimal_cluster_size = 3,\n",
    "                        track_performance=True)\n",
    "    \n",
    "    region_sizes = [len(cq.clusters[i+1]) for i in range(5)]\n",
    "    \n",
    "    assert region_sizes == [440, 123, 56, 73, 1710], \"Cluster Sizes are not what we expect\"\n",
    "    \n",
    "    \n",
    "    clustered = set()\n",
    "    n = 0\n",
    "    for key, value in cq.clusters.items():\n",
    "        for c in value:\n",
    "            clustered = clustered | set(c.indices)\n",
    "            n += c.num_pointings\n",
    "            \n",
    "    missing = [i for i in range(cq._num_pointings) if i not in clustered]\n",
    "    \n",
    "    assert missing == [], \"Not all pointings were clustered\"\n",
    "    \n",
    "    assert cq._num_pointings == n, \"Some pointings are in multiple clusters\"\n",
    "    \n",
    "    ss = cq.get_clustered_scw_ids()\n",
    "    \n",
    "    assert (ss[1][0], ss[5][-1]) == (['001130001060'], \n",
    "                                     ['250300020010',\n",
    "                                      '250300090010',\n",
    "                                      '250300100010',\n",
    "                                      '250300110010',\n",
    "                                      '250300120010']), \\\n",
    "                                        \"The clusters are not what we expect\"\n",
    "    \n",
    "    \n",
    "test_clustering()"
   ]
  },
  {
   "cell_type": "code",
   "execution_count": 3,
   "metadata": {},
   "outputs": [
    {
     "name": "stderr",
     "output_type": "stream",
     "text": [
      "WARNING: UnitsWarning: 'ISO' did not parse as fits unit: At col 0, Unit 'ISO' not supported by the FITS standard.  If this is meant to be a custom unit, define it with 'u.def_unit'. To have it recognized inside a file reader or other code, enable it with 'u.add_enabled_units'. For details, see https://docs.astropy.org/en/latest/units/combining_and_defining.html [astropy.units.core]\n"
     ]
    },
    {
     "name": "stdout",
     "output_type": "stream",
     "text": [
      "Performance Review!\n",
      "\n",
      "Run Time:\n",
      "50.19s\n",
      "\n",
      "Region Sizes:\n",
      "[(1, 95), (2, 22), (3, 4), (4, 4), (5, 1), (6, 5), (7, 2), (8, 1), (9, 1), (11, 2), (14, 2), (15, 1), (17, 2), (20, 1), (21, 1), (24, 2), (26, 1), (27, 1), (28, 2), (30, 1), (43, 1), (54, 2), (57, 1), (58, 1), (59, 4), (72, 1), (101, 1), (125, 1), (126, 1), (146, 1), (150, 1), (160, 2), (162, 1), (182, 1), (205, 1), (213, 1), (235, 1), (238, 1), (243, 1), (268, 1), (273, 1), (284, 1), (292, 2), (306, 1), (369, 1), (393, 1), (431, 1), (448, 1), (499, 1), (642, 1), (783, 1), (836, 1)]\n",
      "\n",
      "Initial Cluster Sizes:\n",
      "{1: 420, 2: 130, 3: 58, 4: 48, 5: 1730}\n",
      "\n",
      "Final Cluster Sizes:\n",
      "{1: 399, 2: 121, 3: 55, 4: 60, 5: 1730}\n",
      "\n",
      "Attempted Improvements:\n",
      "123\n",
      "\n",
      "Implemented Improvements:\n",
      "42\n",
      "\n",
      "Dead-End Clustering Paths:\n",
      "6\n"
     ]
    }
   ],
   "source": [
    "import numpy as np\n",
    "from IntegralQuery import SearchQuery, IntegralQuery, Filter, Range\n",
    "from IntegralPointingClustering import ClusteredQuery\n",
    "\n",
    "searchquerry = SearchQuery(object_name=\"Cyg X-1\")\n",
    "cat = IntegralQuery(searchquerry)\n",
    "f = Filter(SCW_TYPE=\"POINTING\")\n",
    "scw_ids = cat.apply_filter(f, return_coordinates=True, remove_duplicates=True)\n",
    "\n",
    "np.random.seed(0)\n",
    "\n",
    "cq = ClusteredQuery(scw_ids, 0, 1/15, 1, 0.3, 6,\n",
    "                    cluster_size_range = (5,5),\n",
    "                    cluster_size_preference_threshold = (),\n",
    "                    failed_improvements_max=2,\n",
    "                    suboptimal_cluster_size = 2,\n",
    "                    close_suboptimal_cluster_size = 3,\n",
    "                    track_performance=True)"
   ]
  }
 ],
 "metadata": {
  "kernelspec": {
   "display_name": "Python 3.9.13 64-bit ('MT')",
   "language": "python",
   "name": "python3"
  },
  "language_info": {
   "codemirror_mode": {
    "name": "ipython",
    "version": 3
   },
   "file_extension": ".py",
   "mimetype": "text/x-python",
   "name": "python",
   "nbconvert_exporter": "python",
   "pygments_lexer": "ipython3",
   "version": "3.9.13"
  },
  "orig_nbformat": 4,
  "vscode": {
   "interpreter": {
    "hash": "77c6aaad9a34bae581a83e51509dc60b9a05d4f3ba3ef918f772e036566f2e96"
   }
  }
 },
 "nbformat": 4,
 "nbformat_minor": 2
}
