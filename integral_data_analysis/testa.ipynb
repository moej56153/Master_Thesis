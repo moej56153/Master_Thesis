{
 "cells": [
  {
   "cell_type": "code",
   "execution_count": 25,
   "metadata": {},
   "outputs": [
    {
     "name": "stderr",
     "output_type": "stream",
     "text": [
      "WARNING: UnitsWarning: 'ISO' did not parse as fits unit: At col 0, Unit 'ISO' not supported by the FITS standard.  If this is meant to be a custom unit, define it with 'u.def_unit'. To have it recognized inside a file reader or other code, enable it with 'u.add_enabled_units'. For details, see https://docs.astropy.org/en/latest/units/combining_and_defining.html [astropy.units.core]\n",
      "WARNING: UnitsWarning: 'ISO' did not parse as fits unit: At col 0, Unit 'ISO' not supported by the FITS standard.  If this is meant to be a custom unit, define it with 'u.def_unit'. To have it recognized inside a file reader or other code, enable it with 'u.add_enabled_units'. For details, see https://docs.astropy.org/en/latest/units/combining_and_defining.html [astropy.units.core]\n"
     ]
    }
   ],
   "source": [
    "from astropy.coordinates import SkyCoord\n",
    "import numpy as np\n",
    "from datetime import datetime\n",
    "import pandas as pd\n",
    "\n",
    "def test_integral_query():\n",
    "    from IntegralQuery import SearchQuery, IntegralQuery, Filter, Range\n",
    "    \n",
    "    p = SkyCoord(83.6333, 22.0144, frame=\"icrs\", unit=\"deg\")\n",
    "    searchquerry = SearchQuery(position=p, radius=\"10 degree\")\n",
    "\n",
    "    cat = IntegralQuery(searchquerry)\n",
    "    f = Filter(SCW_TYPE=\"POINTING\")\n",
    "    scw_ids = cat.apply_filter(f,return_coordinates=True, remove_duplicates=False)\n",
    "        \n",
    "    assert scw_ids.shape == (8087, 4), \"The number of pointings found is not what we expect\"\n",
    "    \n",
    "    assert np.array_equal(scw_ids[3], np.array(['003900020030', 83.635201, 22.012722,\n",
    "                                                datetime(2003, 2, 7, 7, 56, 16)], dtype=object)), \\\n",
    "        \"A content of scw_ids is not what we expect\"\n",
    "        \n",
    "    cat.sort_by(\"DEC_X\")\n",
    "    \n",
    "    assert np.array_equal(np.array(cat.table.iloc[1114]),\n",
    "                          np.array(['115900130010', 1, 'POINTING', 82.235039, 16.914862, \n",
    "                                    pd.Timestamp('2012-04-10 11:09:23'), pd.Timestamp('2012-04-10 11:44:04'), \n",
    "                                    '88602500001', 'CALIBRATION', 'PUBLIC', 'PUBLIC', 2053.0, 2038.0, \n",
    "                                    2051.0, 2053.0, 2053.0, 2053.0, 2052.0, 81747968.0, 316.022])), \\\n",
    "                                        \"Sort_by did not produce the correct table\"\n",
    "                                        \n",
    "    f = Filter(RA_X=Range(78., None),\n",
    "           DEC_X=Range(None, 30.),\n",
    "           TIME=Range(min_val='2009-11-04T00:05:23', max_val='2015-09-04T00:05:23'),\n",
    "           OBS_TYPE=\"CALIBRATION\",\n",
    "           PS=\"PUBLIC\",\n",
    "           PI_NAME=\"PUBLIC\",\n",
    "           GOOD_SPI=Range(None, 500))\n",
    "    \n",
    "    scw_ids = cat.apply_filter(f,return_coordinates=False, remove_duplicates=True)\n",
    "    \n",
    "    assert scw_ids.shape == (1511,), \"Filter gave wrong results\"\n",
    "                                        \n",
    "    searchquerry = SearchQuery(object_name=\"Cyg X-1\")\n",
    "    cat = IntegralQuery(searchquerry)\n",
    "    f = Filter()\n",
    "    scw_ids = cat.apply_filter(f,return_coordinates=False, remove_duplicates=True)\n",
    "    \n",
    "    assert scw_ids.shape == (19151,), \"Object Query gave wrong number of pointings\"\n",
    "    \n",
    "    f = Filter(SCW_ID='004000100010',\n",
    "               SCW_VER=2)\n",
    "    \n",
    "    scw_ids = cat.apply_filter(f,return_coordinates=False, remove_duplicates=True)\n",
    "    \n",
    "    assert scw_ids.shape == (0,), \"SCW_ID or SCW_VER filter gave wrong result\"\n",
    "    \n",
    "    \n",
    "    \n",
    "    \n",
    "                          \n",
    "                                       \n",
    "test_integral_query()"
   ]
  },
  {
   "cell_type": "code",
   "execution_count": 24,
   "metadata": {},
   "outputs": [
    {
     "name": "stderr",
     "output_type": "stream",
     "text": [
      "WARNING: UnitsWarning: 'ISO' did not parse as fits unit: At col 0, Unit 'ISO' not supported by the FITS standard.  If this is meant to be a custom unit, define it with 'u.def_unit'. To have it recognized inside a file reader or other code, enable it with 'u.add_enabled_units'. For details, see https://docs.astropy.org/en/latest/units/combining_and_defining.html [astropy.units.core]\n"
     ]
    },
    {
     "data": {
      "text/plain": [
       "(             SCW_ID  SCW_VER  SCW_TYPE        RA_X      DEC_X  \\\n",
       " 0      001130000050        1  POINTING  299.543488  35.301971   \n",
       " 1      001130000061        1      SLEW  299.567740  35.250057   \n",
       " 2      001130000070        1  POINTING  299.590179  35.201195   \n",
       " 3      001130000080        1  POINTING  299.590179  35.201195   \n",
       " 4      001130000091        1      SLEW  300.101460  36.279747   \n",
       " ...             ...      ...       ...         ...        ...   \n",
       " 19161  250300240010        1  POINTING  306.328033  35.514473   \n",
       " 19162  250300240021        1      SLEW  307.154813  34.567347   \n",
       " 19163  250300250010        1  POINTING  307.853790  33.744278   \n",
       " 19164  250300250021        1      SLEW  307.185148  33.354976   \n",
       " 19165  250300260010        1  POINTING  305.735168  32.485390   \n",
       " \n",
       "                START_DATE            END_DATE       OBS_ID     OBS_TYPE  \\\n",
       " 0     2002-11-16 20:06:11 2002-11-16 20:16:53                             \n",
       " 1     2002-11-16 20:16:53 2002-11-16 20:18:23                             \n",
       " 2     2002-11-16 20:18:23 2002-11-16 20:55:43  00600030001  CALIBRATION   \n",
       " 3     2002-11-16 20:55:43 2002-11-16 21:53:21  00600030001  CALIBRATION   \n",
       " 4     2002-11-16 21:53:21 2002-11-16 21:55:17  00600030001  CALIBRATION   \n",
       " ...                   ...                 ...          ...          ...   \n",
       " 19161 2022-05-16 13:17:35 2022-05-16 14:13:10  19200110001      GENERAL   \n",
       " 19162 2022-05-16 14:13:10 2022-05-16 14:15:05  19200110001      GENERAL   \n",
       " 19163 2022-05-16 14:15:05 2022-05-16 15:10:39  19200110001      GENERAL   \n",
       " 19164 2022-05-16 15:10:39 2022-05-16 15:12:35  19200110001      GENERAL   \n",
       " 19165 2022-05-16 15:12:35 2022-05-16 16:08:09  19200110001      GENERAL   \n",
       " \n",
       "             PS              PI_NAME  GOOD_SPI  GOOD_PICSIT  GOOD_ISGRI  \\\n",
       " 0       PUBLIC                          575.0          0.0         0.0   \n",
       " 1       PUBLIC                           89.0          1.0        12.0   \n",
       " 2       PUBLIC               PUBLIC    1861.0       1815.0      1330.0   \n",
       " 3       PUBLIC               PUBLIC    3455.0       3432.0      2161.0   \n",
       " 4       PUBLIC               PUBLIC     116.0          0.0        72.0   \n",
       " ...        ...                  ...       ...          ...         ...   \n",
       " 19161  PRIVATE  PROF.\\nJOERN\\nWILMS    3297.0       3271.0      3296.0   \n",
       " 19162  PRIVATE  PROF.\\nJOERN\\nWILMS     114.0          0.0       115.0   \n",
       " 19163  PRIVATE  PROF.\\nJOERN\\nWILMS    3274.0       3247.0      3273.0   \n",
       " 19164  PRIVATE  PROF.\\nJOERN\\nWILMS     115.0          0.0       116.0   \n",
       " 19165  PRIVATE  PROF.\\nJOERN\\nWILMS    3276.0       3255.0      3275.0   \n",
       " \n",
       "        GOOD_JEMX  GOOD_JEMX1  GOOD_JEMX2  GOOD_OMC        DSIZE  \\\n",
       " 0          571.0       571.0       571.0     575.0   13746176.0   \n",
       " 1           75.0        74.0        75.0      90.0    3153920.0   \n",
       " 2         2221.0      2212.0      2221.0    2196.0   69844992.0   \n",
       " 3         3456.0      3456.0      2704.0    3458.0  117604352.0   \n",
       " 4          116.0       116.0         0.0       0.0    4890624.0   \n",
       " ...          ...         ...         ...       ...          ...   \n",
       " 19161     3231.0      3231.0      3156.0       0.0  146329600.0   \n",
       " 19162      113.0       113.0         0.0       0.0    5840896.0   \n",
       " 19163     3274.0      3274.0      3274.0       0.0  144752640.0   \n",
       " 19164      116.0       116.0       114.0       0.0    6094848.0   \n",
       " 19165     3276.0      3276.0      3276.0       0.0  146124800.0   \n",
       " \n",
       "        _SEARCH_OFFSET  \n",
       " 0               6.444  \n",
       " 1               3.111  \n",
       " 2               0.026  \n",
       " 3               0.026  \n",
       " 4              69.312  \n",
       " ...               ...  \n",
       " 19161         330.167  \n",
       " 19162         374.160  \n",
       " 19163         417.852  \n",
       " 19164         392.383  \n",
       " 19165         346.788  \n",
       " \n",
       " [19166 rows x 20 columns],\n",
       " (0,))"
      ]
     },
     "execution_count": 24,
     "metadata": {},
     "output_type": "execute_result"
    }
   ],
   "source": [
    "from astropy.coordinates import SkyCoord\n",
    "import numpy as np\n",
    "from IntegralQuery import SearchQuery, IntegralQuery, Filter, Range\n",
    "import pandas as pd\n",
    "\n",
    "p = SkyCoord(83.6333, 22.0144, frame=\"icrs\", unit=\"deg\")\n",
    "searchquerry = SearchQuery(position=p, radius=\"10 degree\")\n",
    "searchquerry = SearchQuery(object_name=\"Cyg X-1\")\n",
    "cat = IntegralQuery(searchquerry)\n",
    "f = Filter(RA_X=Range(78., None),\n",
    "           DEC_X=Range(None, 30.),\n",
    "           TIME=Range(min_val='2009-11-04T00:05:23', max_val='2015-09-04T00:05:23'),\n",
    "           OBS_TYPE=\"CALIBRATION\",\n",
    "           PS=\"PUBLIC\",\n",
    "           PI_NAME=\"PUBLIC\",\n",
    "           GOOD_SPI=Range(None, 500))\n",
    "    \n",
    "scw_ids = cat.apply_filter(f,return_coordinates=False, remove_duplicates=True)\n",
    "cat.table, scw_ids.shape\n",
    "\n",
    "\n"
   ]
  },
  {
   "cell_type": "code",
   "execution_count": 13,
   "metadata": {},
   "outputs": [
    {
     "name": "stderr",
     "output_type": "stream",
     "text": [
      "WARNING: UnitsWarning: 'ISO' did not parse as fits unit: At col 0, Unit 'ISO' not supported by the FITS standard.  If this is meant to be a custom unit, define it with 'u.def_unit'. To have it recognized inside a file reader or other code, enable it with 'u.add_enabled_units'. For details, see https://docs.astropy.org/en/latest/units/combining_and_defining.html [astropy.units.core]\n"
     ]
    },
    {
     "data": {
      "text/plain": [
       "(19151,)"
      ]
     },
     "execution_count": 13,
     "metadata": {},
     "output_type": "execute_result"
    }
   ],
   "source": [
    "searchquerry = SearchQuery(object_name=\"Cyg X-1\")\n",
    "cat = IntegralQuery(searchquerry)\n",
    "f = Filter()\n",
    "scw_ids = cat.apply_filter(f,return_coordinates=False, remove_duplicates=True)\n",
    "scw_ids.shape"
   ]
  },
  {
   "cell_type": "code",
   "execution_count": null,
   "metadata": {},
   "outputs": [],
   "source": []
  }
 ],
 "metadata": {
  "kernelspec": {
   "display_name": "Python 3.9.13 64-bit ('MT')",
   "language": "python",
   "name": "python3"
  },
  "language_info": {
   "codemirror_mode": {
    "name": "ipython",
    "version": 3
   },
   "file_extension": ".py",
   "mimetype": "text/x-python",
   "name": "python",
   "nbconvert_exporter": "python",
   "pygments_lexer": "ipython3",
   "version": "3.9.13"
  },
  "orig_nbformat": 4,
  "vscode": {
   "interpreter": {
    "hash": "77c6aaad9a34bae581a83e51509dc60b9a05d4f3ba3ef918f772e036566f2e96"
   }
  }
 },
 "nbformat": 4,
 "nbformat_minor": 2
}
