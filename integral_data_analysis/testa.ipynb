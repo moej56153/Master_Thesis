{
 "cells": [
  {
   "cell_type": "code",
   "execution_count": 37,
   "metadata": {},
   "outputs": [
    {
     "name": "stderr",
     "output_type": "stream",
     "text": [
      "WARNING: UnitsWarning: 'ISO' did not parse as fits unit: At col 0, Unit 'ISO' not supported by the FITS standard.  If this is meant to be a custom unit, define it with 'u.def_unit'. To have it recognized inside a file reader or other code, enable it with 'u.add_enabled_units'. For details, see https://docs.astropy.org/en/latest/units/combining_and_defining.html [astropy.units.core]\n",
      "WARNING: UnitsWarning: 'ISO' did not parse as fits unit: At col 0, Unit 'ISO' not supported by the FITS standard.  If this is meant to be a custom unit, define it with 'u.def_unit'. To have it recognized inside a file reader or other code, enable it with 'u.add_enabled_units'. For details, see https://docs.astropy.org/en/latest/units/combining_and_defining.html [astropy.units.core]\n"
     ]
    }
   ],
   "source": [
    "from astropy.coordinates import SkyCoord\n",
    "import numpy as np\n",
    "from datetime import datetime\n",
    "import pandas as pd\n",
    "\n",
    "def test_integral_query():\n",
    "    from IntegralQuery import SearchQuery, IntegralQuery, Filter, Range\n",
    "    \n",
    "    p = SkyCoord(83.6333, 22.0144, frame=\"icrs\", unit=\"deg\")\n",
    "    searchquerry = SearchQuery(position=p, radius=\"10 degree\")\n",
    "\n",
    "    cat = IntegralQuery(searchquerry)\n",
    "    f = Filter(SCW_TYPE=\"POINTING\")\n",
    "    scw_ids = cat.apply_filter(f,return_coordinates=True, remove_duplicates=False)\n",
    "        \n",
    "    assert scw_ids.shape == (8087, 4), \"The number of pointings found is not what we expect\"\n",
    "    \n",
    "    assert np.array_equal(scw_ids[3], np.array(['003900020030', 83.635201, 22.012722,\n",
    "                                                datetime(2003, 2, 7, 7, 56, 16)], dtype=object)), \\\n",
    "        \"A content of scw_ids is not what we expect\"\n",
    "        \n",
    "    cat.sort_by(\"DEC_X\")\n",
    "    \n",
    "    assert np.array_equal(np.array(cat.table.iloc[1114]),\n",
    "                          np.array(['115900130010', 1, 'POINTING', 82.235039, 16.914862, \n",
    "                                    pd.Timestamp('2012-04-10 11:09:23'), pd.Timestamp('2012-04-10 11:44:04'), \n",
    "                                    '88602500001', 'CALIBRATION', 'PUBLIC', 'PUBLIC', 2053.0, 2038.0, \n",
    "                                    2051.0, 2053.0, 2053.0, 2053.0, 2052.0, 81747968.0, 316.022])), \\\n",
    "                                        \"Sort_by did not produce the correct table\"\n",
    "                                        \n",
    "    f = Filter(RA_X=Range(78., None),\n",
    "           DEC_X=Range(None, 30.),\n",
    "           TIME=Range(min_val='2009-11-04T00:05:23', max_val='2015-09-04T00:05:23'),\n",
    "           OBS_TYPE=\"CALIBRATION\",\n",
    "           PS=\"PUBLIC\",\n",
    "           PI_NAME=\"PUBLIC\",\n",
    "           GOOD_SPI=Range(None, 500))\n",
    "    \n",
    "    cat.sort_by(\"DSIZE\")\n",
    "    \n",
    "    scw_ids = cat.apply_filter(f,return_coordinates=False, remove_duplicates=True)\n",
    "    \n",
    "    assert (scw_ids.shape == (1511,)) and (scw_ids[1000]=='132700450021'), \\\n",
    "        \"Filter gave wrong results\"\n",
    "                                        \n",
    "    searchquerry = SearchQuery(object_name=\"Cyg X-1\")\n",
    "    cat = IntegralQuery(searchquerry)\n",
    "    f = Filter()\n",
    "    scw_ids = cat.apply_filter(f,return_coordinates=False, remove_duplicates=True)\n",
    "    \n",
    "    assert scw_ids.shape == (19151,), \"Object Query gave wrong number of pointings\"\n",
    "    \n",
    "    f = Filter(SCW_ID='004000100010',\n",
    "               SCW_VER=2)\n",
    "    \n",
    "    scw_ids = cat.apply_filter(f,return_coordinates=False, remove_duplicates=True)\n",
    "    \n",
    "    assert scw_ids.shape == (0,), \"SCW_ID or SCW_VER filter gave wrong result\"\n",
    "    \n",
    "    \n",
    "    \n",
    "    \n",
    "                          \n",
    "                                       \n",
    "test_integral_query()"
   ]
  },
  {
   "cell_type": "code",
   "execution_count": 31,
   "metadata": {},
   "outputs": [
    {
     "name": "stderr",
     "output_type": "stream",
     "text": [
      "WARNING: UnitsWarning: 'ISO' did not parse as fits unit: At col 0, Unit 'ISO' not supported by the FITS standard.  If this is meant to be a custom unit, define it with 'u.def_unit'. To have it recognized inside a file reader or other code, enable it with 'u.add_enabled_units'. For details, see https://docs.astropy.org/en/latest/units/combining_and_defining.html [astropy.units.core]\n"
     ]
    },
    {
     "data": {
      "text/plain": [
       "'132700570021'"
      ]
     },
     "execution_count": 31,
     "metadata": {},
     "output_type": "execute_result"
    }
   ],
   "source": [
    "from astropy.coordinates import SkyCoord\n",
    "import numpy as np\n",
    "from IntegralQuery import SearchQuery, IntegralQuery, Filter, Range\n",
    "import pandas as pd\n",
    "\n",
    "p = SkyCoord(83.6333, 22.0144, frame=\"icrs\", unit=\"deg\")\n",
    "searchquerry = SearchQuery(position=p, radius=\"10 degree\")\n",
    "cat = IntegralQuery(searchquerry)\n",
    "f = Filter(RA_X=Range(78., None),\n",
    "           DEC_X=Range(None, 30.),\n",
    "           TIME=Range(min_val='2009-11-04T00:05:23', max_val='2015-09-04T00:05:23'),\n",
    "           OBS_TYPE=\"CALIBRATION\",\n",
    "           PS=\"PUBLIC\",\n",
    "           PI_NAME=\"PUBLIC\",\n",
    "           GOOD_SPI=Range(None, 500))\n",
    "    \n",
    "scw_ids = cat.apply_filter(f,return_coordinates=False, remove_duplicates=True)\n",
    "scw_ids[1000]\n",
    "\n",
    "\n"
   ]
  },
  {
   "cell_type": "code",
   "execution_count": 13,
   "metadata": {},
   "outputs": [
    {
     "name": "stderr",
     "output_type": "stream",
     "text": [
      "WARNING: UnitsWarning: 'ISO' did not parse as fits unit: At col 0, Unit 'ISO' not supported by the FITS standard.  If this is meant to be a custom unit, define it with 'u.def_unit'. To have it recognized inside a file reader or other code, enable it with 'u.add_enabled_units'. For details, see https://docs.astropy.org/en/latest/units/combining_and_defining.html [astropy.units.core]\n"
     ]
    },
    {
     "data": {
      "text/plain": [
       "(19151,)"
      ]
     },
     "execution_count": 13,
     "metadata": {},
     "output_type": "execute_result"
    }
   ],
   "source": [
    "searchquerry = SearchQuery(object_name=\"Cyg X-1\")\n",
    "cat = IntegralQuery(searchquerry)\n",
    "f = Filter()\n",
    "scw_ids = cat.apply_filter(f,return_coordinates=False, remove_duplicates=True)\n",
    "scw_ids.shape"
   ]
  },
  {
   "cell_type": "code",
   "execution_count": 35,
   "metadata": {},
   "outputs": [
    {
     "name": "stdout",
     "output_type": "stream",
     "text": [
      "132700450021\n",
      "132700570021\n",
      "False\n"
     ]
    },
    {
     "name": "stderr",
     "output_type": "stream",
     "text": [
      "WARNING: UnitsWarning: 'ISO' did not parse as fits unit: At col 0, Unit 'ISO' not supported by the FITS standard.  If this is meant to be a custom unit, define it with 'u.def_unit'. To have it recognized inside a file reader or other code, enable it with 'u.add_enabled_units'. For details, see https://docs.astropy.org/en/latest/units/combining_and_defining.html [astropy.units.core]\n"
     ]
    }
   ],
   "source": [
    "from IntegralQuery import SearchQuery, IntegralQuery, Filter, Range\n",
    "    \n",
    "p = SkyCoord(83.6333, 22.0144, frame=\"icrs\", unit=\"deg\")\n",
    "searchquerry = SearchQuery(position=p, radius=\"10 degree\")\n",
    "\n",
    "cat = IntegralQuery(searchquerry)\n",
    "f = Filter(SCW_TYPE=\"POINTING\")\n",
    "scw_ids = cat.apply_filter(f,return_coordinates=True, remove_duplicates=False)\n",
    "    \n",
    "assert scw_ids.shape == (8087, 4), \"The number of pointings found is not what we expect\"\n",
    "\n",
    "assert np.array_equal(scw_ids[3], np.array(['003900020030', 83.635201, 22.012722,\n",
    "                                            datetime(2003, 2, 7, 7, 56, 16)], dtype=object)), \\\n",
    "    \"A content of scw_ids is not what we expect\"\n",
    "    \n",
    "cat.sort_by(\"DSIZE\")\n",
    "\n",
    "\n",
    "                                    \n",
    "f = Filter(RA_X=Range(78., None),\n",
    "        DEC_X=Range(None, 30.),\n",
    "        TIME=Range(min_val='2009-11-04T00:05:23', max_val='2015-09-04T00:05:23'),\n",
    "        OBS_TYPE=\"CALIBRATION\",\n",
    "        PS=\"PUBLIC\",\n",
    "        PI_NAME=\"PUBLIC\",\n",
    "        GOOD_SPI=Range(None, 500))\n",
    "\n",
    "scw_ids = cat.apply_filter(f,return_coordinates=False, remove_duplicates=True)\n",
    "\n",
    "print(scw_ids[1000])\n",
    "print('132700570021')\n",
    "print(scw_ids[1000]=='132700570021')"
   ]
  }
 ],
 "metadata": {
  "kernelspec": {
   "display_name": "Python 3.9.13 64-bit ('MT')",
   "language": "python",
   "name": "python3"
  },
  "language_info": {
   "codemirror_mode": {
    "name": "ipython",
    "version": 3
   },
   "file_extension": ".py",
   "mimetype": "text/x-python",
   "name": "python",
   "nbconvert_exporter": "python",
   "pygments_lexer": "ipython3",
   "version": "3.9.13"
  },
  "orig_nbformat": 4,
  "vscode": {
   "interpreter": {
    "hash": "77c6aaad9a34bae581a83e51509dc60b9a05d4f3ba3ef918f772e036566f2e96"
   }
  }
 },
 "nbformat": 4,
 "nbformat_minor": 2
}
