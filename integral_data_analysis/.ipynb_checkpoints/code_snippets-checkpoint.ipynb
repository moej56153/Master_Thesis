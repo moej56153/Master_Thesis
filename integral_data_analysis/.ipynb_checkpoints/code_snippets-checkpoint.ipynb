{
 "cells": [
  {
   "cell_type": "code",
   "execution_count": 1,
   "metadata": {},
   "outputs": [
    {
     "data": {
      "image/png": "[encoded data removed]",
      "text/plain": [
       "<Figure size 640x480 with 1 Axes>"
      ]
     },
     "metadata": {},
     "output_type": "display_data"
    }
   ],
   "source": [
    "# PPC Distribution Test\n",
    "\n",
    "import numpy as np\n",
    "import matplotlib.pyplot as plt\n",
    "from scipy.stats import norm\n",
    "\n",
    "normal_dist = lambda x, m, s: 1 / (np.sqrt(2*np.pi) * s) * np.exp(-1/2 * ((x - m) / s)**2)\n",
    "\n",
    "s1 = 5\n",
    "s2 = 10\n",
    "b = 20\n",
    "\n",
    "true_counts = np.array([s1, s2, b, b])\n",
    "\n",
    "# Normal Distributions, True Source Known, Background is Average\n",
    "num_samples = 1000000\n",
    "measured_counts = np.random.normal(true_counts, np.sqrt(true_counts), (num_samples, len(true_counts)))\n",
    "b_max_L = b + np.average(measured_counts - true_counts[np.newaxis,:], axis=1)\n",
    "std_b = np.sqrt(np.sum(true_counts) / len(true_counts)**2)\n",
    "\n",
    "# n, bins, _ = plt.hist(b_max_L, bins=50)\n",
    "# xs = np.linspace(b-3*std_b, b+3*std_b, 100)\n",
    "# ys = normal_dist(xs, b, std_b)\n",
    "# plt.plot(xs, ys*np.amax(n)/np.amax(ys))\n",
    "# plt.title(\"b_max_L\")\n",
    "\n",
    "available_data = np.zeros((num_samples, 4))\n",
    "available_data[:,:2] = np.repeat(true_counts[:2][np.newaxis,:], num_samples, axis=0)\n",
    "available_data[:,2:] = np.repeat(b_max_L[:,np.newaxis], 2, axis=1)\n",
    "\n",
    "expected_mean_variance = np.sum(available_data, axis=1) / available_data.shape[1]**2\n",
    "expected_std = np.sqrt((2*expected_mean_variance[:,np.newaxis] + available_data) / 2)\n",
    "\n",
    "expected_counts = available_data[:,:2] + available_data[:,2:]\n",
    "expected_counts_std = np.sqrt(available_data[:,:2] + expected_std[:,2:]**2)\n",
    "# expected_counts_std = np.sqrt(available_data[:,:2] + available_data[:,2:]**2)\n",
    "\n",
    "\n",
    "counts = measured_counts[:,:2] + measured_counts[:,2:]\n",
    "\n",
    "cdf = norm.cdf(counts, expected_counts, expected_counts_std)\n",
    "_ = plt.hist(cdf[:,1], bins=20)"
   ]
  },
  {
   "cell_type": "code",
   "execution_count": 5,
   "metadata": {},
   "outputs": [],
   "source": [
    "# convert scw.list into pointing array\n",
    "\n",
    "import numpy as np\n",
    "import astropy.io.fits as fits\n",
    "from astropy.table import Table\n",
    "import astropy.time as at\n",
    "from datetime import datetime\n",
    "from PointingClusters import save_clusters\n",
    "from IntegralPointingClustering import ClusteredQuery\n",
    "\n",
    "\n",
    "with open(\"scw.list\",\"r\") as scw_file:\n",
    "    scws = []\n",
    "    with fits.open(\"crab_data/1667/pointing.fits\") as file:\n",
    "        tab = Table.read(file[1])\n",
    "        for line in scw_file:\n",
    "            scw = line[9:21]\n",
    "            pointing_fits_info = tab[tab[\"PTID_ISOC\"]==scw[:8]]\n",
    "            t = at.Time(f'{pointing_fits_info[\"TSTART\"][0]+2451544.5}', format='jd').iso[:-4]\n",
    "            y, m, d, h, mi, s = int(t[:4]), int(t[5:7]), int(t[8:10]), int(t[11:13]), int(t[14:16]), int(t[17:19])\n",
    "            tstart = datetime(y, m, d, h, mi, s)\n",
    "            rax, decx= pointing_fits_info[\"RA_SPIX\", \"DEC_SPIX\"].as_array()[0]\n",
    "            \n",
    "            scws.append(np.array([scw, rax, decx, tstart]))\n",
    "            \n",
    "    scws = np.array(scws)\n",
    "    \n",
    "cq = ClusteredQuery(\n",
    "    scws,\n",
    "    angle_weight=0.,\n",
    "    time_weight=5.,\n",
    "    max_distance=1.,\n",
    "    min_ang_distance=1.5,\n",
    "    max_ang_distance=7.5,\n",
    "    cluster_size_range = (2,2),\n",
    "    failed_improvements_max=3,\n",
    "    suboptimal_cluster_size=1,\n",
    "    close_suboptimal_cluster_size=1\n",
    ").get_clustered_scw_ids()\n",
    "\n",
    "pointings = []\n",
    "for size in range(2, 3):\n",
    "    for cluster in cq[size]:\n",
    "        pointings.append(tuple([(i, f\"crab_data/{i[:4]}\") for i in cluster]))\n",
    "pointings = tuple(pointings)\n",
    "\n",
    "folder = \"orbit_1667_spimodfit_scws\"\n",
    "\n",
    "save_clusters(pointings, folder)\n"
   ]
  },
  {
   "cell_type": "code",
   "execution_count": 2,
   "metadata": {},
   "outputs": [],
   "source": [
    "# quartic root\n",
    "\n",
    "import matplotlib.pyplot as plt\n",
    "import math\n",
    "import numpy as np\n",
    "\n",
    "def quartic_root(A, B, C, D, E):\n",
    "    alpha = -3 * B**2 / (8 * A**2) + C/A\n",
    "    beta = B**3 / (8 * A**3) - B * C / (2 * A**2) + D/A\n",
    "    gamma = -3 * B**4 / (256 * A**4) + C * B**2 / (16 * A**3) - B * D / (4 * A**2) + E / A\n",
    "    \n",
    "    if beta == 0.:\n",
    "        s1 = (alpha**2 - 4*gamma)**0.5\n",
    "        s2 = ((-alpha + s1) / 2)**0.5\n",
    "        x = -B/(4*A) + s2\n",
    "        return x\n",
    "    \n",
    "    P = -(alpha**2)/12 - gamma\n",
    "    Q = -(alpha**3)/108 + alpha*gamma/3 - (beta**2) / 8\n",
    "    R = -Q/2 + (Q**2 / 4 + P**3 / 27)**0.5\n",
    "    U = R**(1/3)\n",
    "    if U == 0.:\n",
    "        y = -5/6*alpha - (Q**(1/3))\n",
    "    else:\n",
    "        y = -5/6*alpha + U - P/(3*U)\n",
    "    W = (alpha + 2*y)**0.5\n",
    "    \n",
    "    s1 = 2*beta/W\n",
    "    s2 = (-(3*alpha + 2*y + s1))**0.5\n",
    "    s3 = (W + s2) / 2\n",
    "    x = -B / (4*A) + s3\n",
    "    return x"
   ]
  },
  {
   "cell_type": "code",
   "execution_count": 12,
   "metadata": {},
   "outputs": [
    {
     "data": {
      "text/plain": [
       "(7.145137971906084-1.6766410874710565e-18j)"
      ]
     },
     "execution_count": 12,
     "metadata": {},
     "output_type": "execute_result"
    }
   ],
   "source": [
    "quartic_root(-20.144230141415672, -10.332401583717097, 749.272358187044, 2301.1616043142335, 1578.436366036694)"
   ]
  },
  {
   "cell_type": "code",
   "execution_count": 17,
   "metadata": {},
   "outputs": [],
   "source": [
    "def b_maxL_4(m, t, C):\n",
    "    t_t = np.sum(t)\n",
    "    C_ = np.zeros(4)\n",
    "    m_plus = np.zeros(4)\n",
    "    m_cross = np.zeros(4)\n",
    "    m_dot = np.zeros(4)\n",
    "    \n",
    "    for i in range(4):\n",
    "        C_[i] = C[i] - t[i] * m[i]\n",
    "        m_plus[i] = m[(i+1) % 4] + m[(i+2) % 4] + m[(i+3) % 4]\n",
    "        m_cross[i] = (m[(i+1) % 4] * m[(i+2) % 4]\n",
    "                      + m[(i+2) % 4] * m[(i+3) % 4]\n",
    "                      + m[(i+3) % 4] * m[(i+1) % 4])\n",
    "        m_dot[i] = m[(i+1) % 4] * m[(i+2) % 4] * m[(i+3) % 4]\n",
    "        \n",
    "    A = -t_t.item()\n",
    "    B = np.sum(C_ - t * m_plus).item()\n",
    "    C = np.sum(C_ * m_plus - t * m_cross).item()\n",
    "    D = np.sum(C_ * m_cross - t * m_dot).item()\n",
    "    E = np.sum(C_ * m_dot).item()\n",
    "    \n",
    "    # print(A,B,C,D,E)\n",
    "    \n",
    "    alpha = -3 * B**2 / (8 * A**2) + C/A\n",
    "    beta = B**3 / (8 * A**3) - B * C / (2 * A**2) + D/A\n",
    "    gamma = -3 * B**4 / (256 * A**4) + C * B**2 / (16 * A**3) - B * D / (4 * A**2) + E / A\n",
    "    \n",
    "    if beta == 0.:\n",
    "        s1 = (alpha**2 - 4*gamma)**0.5\n",
    "        s2 = ((-alpha + s1) / 2)**0.5\n",
    "        x = -B/(4*A) + s2\n",
    "        return x\n",
    "    \n",
    "    P = -(alpha**2)/12 - gamma\n",
    "    Q = -(alpha**3)/108 + alpha*gamma/3 - (beta**2) / 8\n",
    "    R = -Q/2 + (Q**2 / 4 + P**3 / 27)**0.5\n",
    "    U = R**(1/3)\n",
    "    if U == 0.:\n",
    "        y = -5/6*alpha - (Q**(1/3))\n",
    "    else:\n",
    "        y = -5/6*alpha + U - P/(3*U)\n",
    "    W = (alpha + 2*y)**0.5\n",
    "    \n",
    "    s1 = 2*beta/W\n",
    "    s2 = (-(3*alpha + 2*y + s1))**0.5\n",
    "    s3 = (W + s2) / 2\n",
    "    x = -B / (4*A) + s3\n",
    "    return x.real\n",
    "    "
   ]
  },
  {
   "cell_type": "code",
   "execution_count": 18,
   "metadata": {},
   "outputs": [
    {
     "data": {
      "text/plain": [
       "<matplotlib.collections.PathCollection at 0x121490a90>"
      ]
     },
     "execution_count": 18,
     "metadata": {},
     "output_type": "execute_result"
    },
    {
     "data": {
      "image/png": "[encoded data removed]",
      "text/plain": [
       "<Figure size 640x480 with 1 Axes>"
      ]
     },
     "metadata": {},
     "output_type": "display_data"
    }
   ],
   "source": [
    "# b_maxl_4 tester\n",
    "res = []\n",
    "\n",
    "for i in range(100000):\n",
    "    m = np.random.random(4) * 10\n",
    "    t = np.random.random(4) * 10\n",
    "    C = np.random.random(4) * 100\n",
    "    \n",
    "    res.append(b_maxL_4(m, t, C))\n",
    "    \n",
    "plt.scatter([i.real for i in res], [i.imag for i in res])"
   ]
  },
  {
   "cell_type": "code",
   "execution_count": 3,
   "metadata": {},
   "outputs": [
    {
     "name": "stdout",
     "output_type": "stream",
     "text": [
      "-0.002419432406213673 328.4167336591813 30.581394336596986 92.33436282645096 370.06679559099564 135741.32433394087 -4.97781741087249\n",
      "-0.0006417204079411931 240.36756980397183 -297.6800538266573 -228.0812799130336 81.0339501403796 (374566.20063040097+8.21100664341263e-27j) (2102.0038811617123-2.7690230815135403e-13j)\n",
      "-0.004201386158740661 -372.8498086483811 -144.53879866595253 -201.13093884564103 -19.86373154500967 (-0.1452607999126485+0.7000881309888265j) (-1.3491680326185254-0.00014285282406945043j)\n",
      "0.008645912093015795 -438.5045411596967 -96.37837600535516 -228.02232193731908 -460.6160536213556 50718.35531022401 -3.350407662872385\n",
      "0.0001258145736642291 -368.67328741445925 292.8827294132702 -109.78312368111034 135.16703983169964 2930290.003193867 3236.82488634211\n",
      "33.96298316434297 69.56653122525506 -191.93309800250103 -234.2033070878755 -210.33239468290134 (1.389894873088009-0.027421174940243716j) (-593.4653616177065+6.217248937900877e-15j)\n",
      "-54.82293796481099 42.51828012353826 443.623656334164 147.0069773483309 270.65365175456327 3.5134304067092503 -246.50419545789214\n",
      "48.58556412222265 -25.305962922457923 -428.5050704776595 111.6206108010141 -329.97225614732815 3.06775851313701 -447.6767107501848\n",
      "0.001240095295656829 492.5997601698573 -425.1692332925396 160.6351903574615 345.1559711456499 (0.7210703614982776+0.8007455213065997j) (13.964941757691406-0.0001732876860671695j)\n"
     ]
    },
    {
     "data": {
      "text/plain": [
       "<matplotlib.collections.PathCollection at 0x161c2ae80>"
      ]
     },
     "execution_count": 3,
     "metadata": {},
     "output_type": "execute_result"
    },
    {
     "data": {
      "image/png": "[encoded data removed]",
      "text/plain": [
       "<Figure size 640x480 with 1 Axes>"
      ]
     },
     "metadata": {},
     "output_type": "display_data"
    }
   ],
   "source": [
    "# quartic root tester\n",
    "\n",
    "res = []\n",
    "for i in range(1000000):\n",
    "    arg = np.random.random(5)*1000-500\n",
    "    A = float(arg[0])\n",
    "    B = float(arg[1])\n",
    "    C = float(arg[2])\n",
    "    D = float(arg[3])\n",
    "    E = float(arg[4])\n",
    "    x = quartic_root(A, B, C, D, E)\n",
    "\n",
    "            \n",
    "    res.append(\n",
    "        (A*x**4 + B*x**3 + C*x**2 + D*x + E)\n",
    "    )\n",
    "    if abs(res[-1]) > 1.:\n",
    "        print(A, B, C, D, E, x, res[-1])\n",
    "plt.scatter([i.real for i in res], [i.imag for i in res])"
   ]
  },
  {
   "cell_type": "code",
   "execution_count": null,
   "metadata": {},
   "outputs": [],
   "source": [
    "# number of scws in crab FOV per revolulution\n",
    "\n",
    "from IntegralQuery import SearchQuery, IntegralQuery, Filter, Range\n",
    "from astropy.coordinates import SkyCoord\n",
    "\n",
    "p = SkyCoord(83.6333, 22.0144, frame=\"icrs\", unit=\"deg\")\n",
    "searchquerry = SearchQuery(position=p, radius=\"5 degree\",)\n",
    "cat = IntegralQuery(searchquerry)\n",
    "f = Filter(SCW_TYPE=\"POINTING\")\n",
    "scw_ids_all = cat.apply_filter_on_revolutions(f)\n",
    "for orbit, count in scw_ids_all.items():\n",
    "    print(orbit, count)"
   ]
  },
  {
   "cell_type": "code",
   "execution_count": null,
   "metadata": {},
   "outputs": [],
   "source": [
    "# create fits file with only some rows\n",
    "\n",
    "from astropy.io import fits\n",
    "t = fits.open('sec_source_test.fits.gz')\n",
    "tbdata = t[1].data\n",
    "mask = [False for i in range(len(tbdata))]\n",
    "mask[0] = True\n",
    "mask[1] = True\n",
    "newtbdata = tbdata[mask]\n",
    "hdu = fits.BinTableHDU(data=newtbdata, name=\"SPI.-SRCL-CAT\")\n",
    "hdu.writeto('new_sec_source_test.fits.gz')"
   ]
  }
 ],
 "metadata": {
  "kernelspec": {
   "display_name": "Python 3 (ipykernel)",
   "language": "python",
   "name": "python3"
  },
  "language_info": {
   "codemirror_mode": {
    "name": "ipython",
    "version": 3
   },
   "file_extension": ".py",
   "mimetype": "text/x-python",
   "name": "python",
   "nbconvert_exporter": "python",
   "pygments_lexer": "ipython3",
   "version": "3.9.13"
  },
  "vscode": {
   "interpreter": {
    "hash": "3039a3459533209a69fdcd0eca4a82e0380b08faf874289ddcd789b1853692ba"
   }
  }
 },
 "nbformat": 4,
 "nbformat_minor": 2
}
