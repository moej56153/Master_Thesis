{
 "cells": [
  {
   "cell_type": "code",
   "execution_count": 1,
   "metadata": {},
   "outputs": [],
   "source": [
    "import numpy as np"
   ]
  },
  {
   "cell_type": "code",
   "execution_count": 2,
   "metadata": {},
   "outputs": [],
   "source": [
    "# @njit\n",
    "def interpolate_powerlaw(x1, x2, y1, y2, x):\n",
    "    B = np.log(y2 / y1) / np.log(x2 / x1)\n",
    "    print(B)\n",
    "    # A = y1 * x1**(-B)\n",
    "    # print(A)\n",
    "    # if np.isnan(A * x**B).any():\n",
    "    #     print(x1, x2, y1, y2, x)\n",
    "    #     print(A * x**B)\n",
    "    #     print()\n",
    "    return A * x**B"
   ]
  },
  {
   "cell_type": "code",
   "execution_count": 4,
   "metadata": {},
   "outputs": [],
   "source": [
    "x1 = 2285.7003237080803\n",
    "x2 = 2288.4158886292576\n",
    "y1 = -0.03741178\n",
    "y2 = 0.00561136\n",
    "x = 2286.1948843688656\n",
    "\n"
   ]
  },
  {
   "cell_type": "code",
   "execution_count": 6,
   "metadata": {},
   "outputs": [
    {
     "name": "stdout",
     "output_type": "stream",
     "text": [
      "nan\n",
      "nan\n"
     ]
    },
    {
     "name": "stderr",
     "output_type": "stream",
     "text": [
      "/tmp/ipykernel_3817/1931906495.py:3: RuntimeWarning: invalid value encountered in log\n",
      "  B = np.log(y2 / y1) / np.log(x2 / x1)\n"
     ]
    },
    {
     "data": {
      "text/plain": [
       "nan"
      ]
     },
     "execution_count": 6,
     "metadata": {},
     "output_type": "execute_result"
    }
   ],
   "source": [
    "interpolate_powerlaw(x1, x2, y1, y2, x)"
   ]
  },
  {
   "cell_type": "code",
   "execution_count": 5,
   "metadata": {},
   "outputs": [
    {
     "data": {
      "text/plain": [
       "-0.0361456457040072"
      ]
     },
     "execution_count": 5,
     "metadata": {},
     "output_type": "execute_result"
    }
   ],
   "source": [
    "y1*(x/x1)**(-159.1376152060229)"
   ]
  }
 ],
 "metadata": {
  "kernelspec": {
   "display_name": "MT",
   "language": "python",
   "name": "python3"
  },
  "language_info": {
   "codemirror_mode": {
    "name": "ipython",
    "version": 3
   },
   "file_extension": ".py",
   "mimetype": "text/x-python",
   "name": "python",
   "nbconvert_exporter": "python",
   "pygments_lexer": "ipython3",
   "version": "3.9.13"
  },
  "orig_nbformat": 4
 },
 "nbformat": 4,
 "nbformat_minor": 2
}
