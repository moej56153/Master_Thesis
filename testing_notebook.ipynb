{
 "cells": [
  {
   "cell_type": "code",
   "execution_count": 35,
   "metadata": {},
   "outputs": [],
   "source": [
    "from pyspi.utils.function_utils import find_response_version\n",
    "from pyspi.utils.response.spi_response_data import ResponseDataRMF\n",
    "from pyspi.utils.response.spi_response import ResponseRMFGenerator\n",
    "from pyspi.utils.response.spi_drm import SPIDRM\n",
    "from pyspi.utils.livedets import get_live_dets\n",
    "\n",
    "import numpy as np\n"
   ]
  },
  {
   "cell_type": "code",
   "execution_count": 36,
   "metadata": {},
   "outputs": [],
   "source": [
    "time1 = \"051105 061512\"\n",
    "ra, dec = 10., -40."
   ]
  },
  {
   "cell_type": "code",
   "execution_count": 37,
   "metadata": {},
   "outputs": [
    {
     "name": "stdout",
     "output_type": "stream",
     "text": [
      "Using the irfs that are valid between 04/07/17 08:20:06 and 09/02/19 09:59:57 (YY/MM/DD HH:MM:SS)\n"
     ]
    }
   ],
   "source": [
    "version = find_response_version(time1)\n",
    "rsp_base = ResponseDataRMF.from_version(version)\n",
    "dets = get_live_dets(time=time1, event_types=[\"single\"])"
   ]
  },
  {
   "cell_type": "code",
   "execution_count": 38,
   "metadata": {},
   "outputs": [],
   "source": [
    "ein = np.array(np.linspace(20,1000,4))\n",
    "ebounds = np.array(np.linspace(20,1000,4))\n",
    "d = 0"
   ]
  },
  {
   "cell_type": "code",
   "execution_count": 39,
   "metadata": {},
   "outputs": [
    {
     "name": "stdout",
     "output_type": "stream",
     "text": [
      "[  20.          346.66666667  673.33333333 1000.        ]\n",
      "[[13.823791    2.70435285  1.79275684]\n",
      " [ 0.          8.53337789  1.70787271]\n",
      " [ 0.          0.          6.04052616]]\n"
     ]
    }
   ],
   "source": [
    "rsp1 = ResponseRMFGenerator.from_time(time1,  d,\n",
    "                                            ebounds, ein,\n",
    "                                            rsp_base)\n",
    "sd1 = SPIDRM(rsp1, ra, dec)\n",
    "print(ein)\n",
    "print(sd1.matrix)"
   ]
  },
  {
   "cell_type": "code",
   "execution_count": 40,
   "metadata": {},
   "outputs": [],
   "source": [
    "ein = np.array(np.linspace(20,1000,7))\n",
    "ebounds = np.array(np.linspace(20,1000,4))\n"
   ]
  },
  {
   "cell_type": "code",
   "execution_count": 41,
   "metadata": {},
   "outputs": [
    {
     "name": "stdout",
     "output_type": "stream",
     "text": [
      "[  20.          183.33333333  346.66666667  510.          673.33333333\n",
      "  836.66666667 1000.        ]\n",
      "[[14.06299834 15.31597976  2.85573938  2.29760791  1.91975918  1.63880981]\n",
      " [ 0.          0.          8.38959361  8.25712902  1.8686086   1.15987021]\n",
      " [ 0.          0.          0.          0.          5.73556994  5.82934172]]\n"
     ]
    }
   ],
   "source": [
    "rsp2 = ResponseRMFGenerator.from_time(time1,  d,\n",
    "                                            ebounds, ein,\n",
    "                                            rsp_base)\n",
    "sd2 = SPIDRM(rsp2, ra, dec)\n",
    "print(ein)\n",
    "print(sd2.matrix)"
   ]
  },
  {
   "cell_type": "code",
   "execution_count": 42,
   "metadata": {},
   "outputs": [
    {
     "name": "stdout",
     "output_type": "stream",
     "text": [
      "13.82379100056793\n",
      "[14.06299834 15.31597976]\n"
     ]
    }
   ],
   "source": [
    "print(sd1.matrix[0,0])\n",
    "print(sd2.matrix[0,:2])"
   ]
  },
  {
   "cell_type": "code",
   "execution_count": 43,
   "metadata": {},
   "outputs": [],
   "source": [
    "# should the value from sd1 not lie inbetween the two sd2 values?"
   ]
  },
  {
   "cell_type": "code",
   "execution_count": 1,
   "metadata": {},
   "outputs": [],
   "source": [
    "import astropy.io.fits as fits\n",
    "from astropy.table import Table\n",
    "import astropy.time as at\n",
    "from datetime import datetime\n",
    "import numpy as np\n"
   ]
  },
  {
   "cell_type": "code",
   "execution_count": 4,
   "metadata": {},
   "outputs": [],
   "source": [
    "data_path = \"./main_files/SPI_data/0374\"\n",
    "\n",
    "# Pointings and Start Times\n",
    "with fits.open(f\"{data_path}/pointing.fits\") as file:\n",
    "    t = Table.read(file[1])\n",
    "    \n",
    "    pointings = np.array(t[\"PTID_SPI\"])\n",
    "    \n",
    "    time_start = np.array(t[\"TSTART\"]) + 2451544.5\n",
    "    time_start = [at.Time(f\"{i}\", format=\"jd\").datetime for i in time_start]\n",
    "    time_start = np.array([datetime.strftime(i,'%y%m%d %H%M%S') for i in time_start])"
   ]
  },
  {
   "cell_type": "code",
   "execution_count": 5,
   "metadata": {},
   "outputs": [
    {
     "data": {
      "text/html": [
       "<div><i>Table length=71</i>\n",
       "<table id=\"table139937624440256\" class=\"table-striped table-bordered table-condensed\">\n",
       "<thead><tr><th>PTID_ISOC</th><th>PTID_SPI</th><th>OBT_START</th><th>OBT_END</th><th>TSTART</th><th>TSTOP</th><th>TELAPSE</th><th>RA_SPIX</th><th>DEC_SPIX</th><th>RA_SPIZ</th><th>DEC_SPIZ</th></tr></thead>\n",
       "<thead><tr><th></th><th></th><th></th><th></th><th>d</th><th>d</th><th>s</th><th>deg</th><th>deg</th><th>deg</th><th>deg</th></tr></thead>\n",
       "<thead><tr><th>str8</th><th>str15</th><th>uint16[4]</th><th>uint16[4]</th><th>float64</th><th>float64</th><th>float64</th><th>float32</th><th>float32</th><th>float32</th><th>float32</th></tr></thead>\n",
       "<tr><td>03740001</td><td>03740001.000000</td><td>0 .. 63737</td><td>0 .. 43300</td><td>2135.2520391666667</td><td>2135.2588705421003</td><td>590.230837467243</td><td>14.359367</td><td>-46.588104</td><td>229.94302</td><td>-37.57425</td></tr>\n",
       "<tr><td>03740002</td><td>03740002.000000</td><td>0 .. 63308</td><td>0 .. 46651</td><td>2135.260557685185</td><td>2135.291722883317</td><td>2692.673118598759</td><td>13.767507</td><td>-46.369335</td><td>230.1961</td><td>-37.48927</td></tr>\n",
       "<tr><td>03740003</td><td>03740003.000000</td><td>0 .. 61659</td><td>0 .. 57115</td><td>2135.293150277778</td><td>2135.3240407251647</td><td>2668.9346542203566</td><td>11.059443</td><td>-45.68437</td><td>230.99942</td><td>-36.81915</td></tr>\n",
       "<tr><td>03740004</td><td>03740004.000000</td><td>0 .. 60025</td><td>0 .. 15008</td><td>2135.3254650925924</td><td>2135.3563160307904</td><td>2665.521060307219</td><td>8.418544</td><td>-44.942196</td><td>231.72835</td><td>-36.096745</td></tr>\n",
       "<tr><td>03740005</td><td>03740005.000000</td><td>0 .. 58374</td><td>0 .. 31713</td><td>2135.358057685185</td><td>2135.3885297749794</td><td>2632.788558230095</td><td>5.848483</td><td>-44.144936</td><td>232.3689</td><td>-35.334618</td></tr>\n",
       "<tr><td>03740006</td><td>03740006.000000</td><td>0 .. 56748</td><td>0 .. 32146</td><td>2135.389909537037</td><td>2135.420778061946</td><td>2667.0405521188513</td><td>3.3409438</td><td>-43.29776</td><td>232.92168</td><td>-34.53164</td></tr>\n",
       "<tr><td>03740007</td><td>03740007.000000</td><td>0 .. 55089</td><td>0 .. 44763</td><td>2135.422131759259</td><td>2135.4530923111793</td><td>2674.9916858956567</td><td>4.515532</td><td>-41.49371</td><td>234.48235</td><td>-36.024696</td></tr>\n",
       "<tr><td>03740008</td><td>03740008.000000</td><td>0 .. 53411</td><td>0 .. 51792</td><td>2135.454446574074</td><td>2135.4853493518517</td><td>2669.9999999807915</td><td>6.964257</td><td>-42.318604</td><td>233.91713</td><td>-36.858116</td></tr>\n",
       "<tr><td>03740009</td><td>03740009.000000</td><td>0 .. 51716</td><td>0 .. 56845</td><td>2135.486772962963</td><td>2135.5177257286396</td><td>2674.318954438786</td><td>9.474769</td><td>-43.092133</td><td>233.2629</td><td>-37.65576</td></tr>\n",
       "<tr><td>...</td><td>...</td><td>...</td><td>...</td><td>...</td><td>...</td><td>...</td><td>...</td><td>...</td><td>...</td><td>...</td></tr>\n",
       "<tr><td>03740064</td><td>03740064.000000</td><td>0 .. 2317</td><td>0 .. 61706</td><td>2137.402212777778</td><td>2137.443072831432</td><td>3530.3086356958374</td><td>129.96204</td><td>-47.77922</td><td>229.69748</td><td>-8.723521</td></tr>\n",
       "<tr><td>03740065</td><td>03740065.000000</td><td>0 .. 152</td><td>0 .. 61398</td><td>2137.444435</td><td>2137.4853883900905</td><td>3538.3729038308957</td><td>129.87248</td><td>-49.778072</td><td>229.7015</td><td>-8.215153</td></tr>\n",
       "<tr><td>03740066</td><td>03740066.000000</td><td>0 .. 63525</td><td>0 .. 37099</td><td>2137.4867498148146</td><td>2137.52768776951</td><td>3537.0392856857507</td><td>132.97067</td><td>-49.795628</td><td>231.0554</td><td>-6.7787395</td></tr>\n",
       "<tr><td>03740067</td><td>03740067.000000</td><td>0 .. 61371</td><td>0 .. 54584</td><td>2137.52906462963</td><td>2137.5699760359967</td><td>3534.745510094217</td><td>132.93883</td><td>-47.795155</td><td>231.15605</td><td>-7.3855114</td></tr>\n",
       "<tr><td>03740068</td><td>03740068.000000</td><td>0 .. 59222</td><td>0 .. 23025</td><td>2137.5713794444446</td><td>2137.6122753351706</td><td>3533.4049587268964</td><td>132.90977</td><td>-45.79515</td><td>231.21161</td><td>-7.9940715</td></tr>\n",
       "<tr><td>03740069</td><td>03740069.000000</td><td>0 .. 57075</td><td>0 .. 58106</td><td>2137.6136942592593</td><td>2137.6545746464863</td><td>3532.0654564071447</td><td>132.883</td><td>-43.79564</td><td>231.2231</td><td>-8.602393</td></tr>\n",
       "<tr><td>03740070</td><td>03740070.000000</td><td>0 .. 54933</td><td>0 .. 28197</td><td>2137.656009074074</td><td>2137.696878304084</td><td>3531.1014728446025</td><td>132.85779</td><td>-41.795567</td><td>231.19104</td><td>-9.208782</td></tr>\n",
       "<tr><td>03740071</td><td>03740071.000000</td><td>0 .. 52799</td><td>0 .. 45488</td><td>2137.6982312962964</td><td>2137.7391651215517</td><td>3536.6825020537362</td><td>135.53822</td><td>-41.743732</td><td>232.73563</td><td>-7.9923353</td></tr>\n",
       "<tr><td>03740072</td><td>03740072.000000</td><td>0 .. 50650</td><td>0 .. 56842</td><td>2137.7407312962964</td><td>2137.7974269981073</td><td>4898.508636461338</td><td>135.70149</td><td>-43.77455</td><td>232.80838</td><td>-7.357876</td></tr>\n",
       "<tr><td>03740073</td><td>03740073.000000</td><td>0 .. 47715</td><td>0 .. 45877</td><td>2137.7987984259257</td><td>2137.9219661536376</td><td>10641.69167430955</td><td>135.77722</td><td>-45.774334</td><td>232.78235</td><td>-6.769658</td></tr>\n",
       "</table></div>"
      ],
      "text/plain": [
       "<Table length=71>\n",
       "PTID_ISOC     PTID_SPI    OBT_START  ...  DEC_SPIX   RA_SPIZ   DEC_SPIZ \n",
       "                                     ...    deg        deg       deg    \n",
       "   str8        str15      uint16[4]  ...  float32    float32   float32  \n",
       "--------- --------------- ---------- ... ---------- --------- ----------\n",
       " 03740001 03740001.000000 0 .. 63737 ... -46.588104 229.94302  -37.57425\n",
       " 03740002 03740002.000000 0 .. 63308 ... -46.369335  230.1961  -37.48927\n",
       " 03740003 03740003.000000 0 .. 61659 ...  -45.68437 230.99942  -36.81915\n",
       " 03740004 03740004.000000 0 .. 60025 ... -44.942196 231.72835 -36.096745\n",
       " 03740005 03740005.000000 0 .. 58374 ... -44.144936  232.3689 -35.334618\n",
       " 03740006 03740006.000000 0 .. 56748 ...  -43.29776 232.92168  -34.53164\n",
       " 03740007 03740007.000000 0 .. 55089 ...  -41.49371 234.48235 -36.024696\n",
       " 03740008 03740008.000000 0 .. 53411 ... -42.318604 233.91713 -36.858116\n",
       " 03740009 03740009.000000 0 .. 51716 ... -43.092133  233.2629  -37.65576\n",
       "      ...             ...        ... ...        ...       ...        ...\n",
       " 03740064 03740064.000000  0 .. 2317 ...  -47.77922 229.69748  -8.723521\n",
       " 03740065 03740065.000000   0 .. 152 ... -49.778072  229.7015  -8.215153\n",
       " 03740066 03740066.000000 0 .. 63525 ... -49.795628  231.0554 -6.7787395\n",
       " 03740067 03740067.000000 0 .. 61371 ... -47.795155 231.15605 -7.3855114\n",
       " 03740068 03740068.000000 0 .. 59222 ...  -45.79515 231.21161 -7.9940715\n",
       " 03740069 03740069.000000 0 .. 57075 ...  -43.79564  231.2231  -8.602393\n",
       " 03740070 03740070.000000 0 .. 54933 ... -41.795567 231.19104  -9.208782\n",
       " 03740071 03740071.000000 0 .. 52799 ... -41.743732 232.73563 -7.9923353\n",
       " 03740072 03740072.000000 0 .. 50650 ...  -43.77455 232.80838  -7.357876\n",
       " 03740073 03740073.000000 0 .. 47715 ... -45.774334 232.78235  -6.769658"
      ]
     },
     "execution_count": 5,
     "metadata": {},
     "output_type": "execute_result"
    }
   ],
   "source": [
    "t"
   ]
  },
  {
   "cell_type": "code",
   "execution_count": null,
   "metadata": {},
   "outputs": [],
   "source": []
  }
 ],
 "metadata": {
  "kernelspec": {
   "display_name": "MT",
   "language": "python",
   "name": "python3"
  },
  "language_info": {
   "codemirror_mode": {
    "name": "ipython",
    "version": 3
   },
   "file_extension": ".py",
   "mimetype": "text/x-python",
   "name": "python",
   "nbconvert_exporter": "python",
   "pygments_lexer": "ipython3",
   "version": "3.9.13"
  },
  "orig_nbformat": 4
 },
 "nbformat": 4,
 "nbformat_minor": 2
}
