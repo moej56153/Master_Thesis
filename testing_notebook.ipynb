{
 "cells": [
  {
   "cell_type": "code",
   "execution_count": 19,
   "metadata": {},
   "outputs": [],
   "source": [
    "import numpy as np\n",
    "import pickle"
   ]
  },
  {
   "cell_type": "code",
   "execution_count": 20,
   "metadata": {},
   "outputs": [],
   "source": [
    "path_pyspi = \"main_files/crab_fits/only_weak_pulsar/0043_4_5/pl_w_p_50_100/source_parameters.pickle\"\n",
    "path_smf = \"main_files/spimodfit_fits/0043_4_5/crab_med_energy_pl_fit.pickle\""
   ]
  },
  {
   "cell_type": "code",
   "execution_count": 29,
   "metadata": {},
   "outputs": [
    {
     "data": {
      "text/plain": [
       "(array([ 7.04188104e-04, -2.07821939e+00,  2.35104652e-08, -3.49777828e+00]),\n",
       " array([ 6.73557456e-04, -2.11996004e+00]))"
      ]
     },
     "execution_count": 29,
     "metadata": {},
     "output_type": "execute_result"
    }
   ],
   "source": [
    "with open(f\"{path_pyspi}\", \"rb\") as f:\n",
    "    pyspi_val, pyspi_cov = pickle.load(f)\n",
    "    \n",
    "with open(f\"{path_smf}\", \"rb\") as f:\n",
    "    smf_val, smf_cov = pickle.load(f)\n",
    "\n",
    "pyspi_val, smf_val"
   ]
  },
  {
   "cell_type": "code",
   "execution_count": 30,
   "metadata": {},
   "outputs": [
    {
     "name": "stderr",
     "output_type": "stream",
     "text": [
      "/tmp/ipykernel_25263/3762676499.py:1: RuntimeWarning: invalid value encountered in sqrt\n",
      "  np.sqrt(pyspi_cov), np.sqrt(smf_cov)\n"
     ]
    },
    {
     "data": {
      "text/plain": [
       "(array([[3.99257198e-06, 2.22380289e-04, 1.10166148e-07,            nan],\n",
       "        [2.22380289e-04, 1.45186929e-02,            nan,            nan],\n",
       "        [1.10166148e-07,            nan, 5.14966562e-07, 4.72757070e-04],\n",
       "        [           nan,            nan, 4.72757070e-04, 2.26295548e+00]]),\n",
       " array([[3.34797161e-06, 1.97489284e-04],\n",
       "        [1.97489284e-04, 1.38441392e-02]]))"
      ]
     },
     "execution_count": 30,
     "metadata": {},
     "output_type": "execute_result"
    }
   ],
   "source": [
    "np.sqrt(pyspi_cov), np.sqrt(smf_cov)"
   ]
  },
  {
   "cell_type": "code",
   "execution_count": 26,
   "metadata": {},
   "outputs": [],
   "source": [
    "def powerlaw_binned_spectrum(energy_bins, spectrum):\n",
    "    assert np.amin(energy_bins) > 0, \"All energy bin values must be greater 0\"\n",
    "    assert np.amin(spectrum) > 0, \"All spectrum values must be greater 0\"\n",
    "    \n",
    "    B = np.log(spectrum[1:] / spectrum[:-1]) / np.log(energy_bins[1:] / energy_bins[:-1])\n",
    "    A = spectrum[:-1] / (energy_bins[:-1] ** B)\n",
    "    \n",
    "    C = B + 1.\n",
    "    # prevent rounding errors\n",
    "    C[np.abs(C) < 1e-7] = 0\n",
    "    \n",
    "    regular = np.nonzero(C)[0]\n",
    "    non_regular = []\n",
    "    for i in range(len(energy_bins) - 1):\n",
    "        if not i in regular:\n",
    "            non_regular.append(i)\n",
    "    # non_regular = np.array(non_regular)\n",
    "    \n",
    "    binned_spectrum = np.zeros(len(energy_bins) - 1)\n",
    "    binned_spectrum[regular] = A[regular] / (C[regular]) * (energy_bins[regular+1]**(C[regular]) - energy_bins[regular]**(C[regular]))\n",
    "    # binned_spectrum[non_regular] = A[non_regular] * (np.log(energy_bins[non_regular+1]) - np.log(energy_bins[non_regular]))\n",
    "    \n",
    "    return binned_spectrum"
   ]
  },
  {
   "cell_type": "code",
   "execution_count": 23,
   "metadata": {},
   "outputs": [],
   "source": [
    "def pl(norm, index, x):\n",
    "    return norm*(x/100)**index"
   ]
  },
  {
   "cell_type": "code",
   "execution_count": 24,
   "metadata": {},
   "outputs": [
    {
     "data": {
      "text/plain": [
       "(0.0029736856585033875, 0.0029278323813110583)"
      ]
     },
     "execution_count": 24,
     "metadata": {},
     "output_type": "execute_result"
    }
   ],
   "source": [
    "pyspi_50 = pl(pyspi_val[0], pyspi_val[1], 50)\n",
    "smf_50 = pl(smf_val[0], smf_val[1], 50)\n",
    "pyspi_50, smf_50"
   ]
  },
  {
   "cell_type": "code",
   "execution_count": 27,
   "metadata": {},
   "outputs": [
    {
     "data": {
      "text/plain": [
       "array([0.07258771])"
      ]
     },
     "execution_count": 27,
     "metadata": {},
     "output_type": "execute_result"
    }
   ],
   "source": [
    "powerlaw_binned_spectrum(\n",
    "    np.array([50, 100]),\n",
    "    np.array([pyspi_50, pyspi_val[0]])\n",
    ")"
   ]
  },
  {
   "cell_type": "code",
   "execution_count": 28,
   "metadata": {},
   "outputs": [
    {
     "data": {
      "text/plain": [
       "array([0.07057026])"
      ]
     },
     "execution_count": 28,
     "metadata": {},
     "output_type": "execute_result"
    }
   ],
   "source": [
    "powerlaw_binned_spectrum(\n",
    "    np.array([50, 100]),\n",
    "    np.array([smf_50, smf_val[0]])\n",
    ")"
   ]
  }
 ],
 "metadata": {
  "kernelspec": {
   "display_name": "MT",
   "language": "python",
   "name": "python3"
  },
  "language_info": {
   "codemirror_mode": {
    "name": "ipython",
    "version": 3
   },
   "file_extension": ".py",
   "mimetype": "text/x-python",
   "name": "python",
   "nbconvert_exporter": "python",
   "pygments_lexer": "ipython3",
   "version": "3.9.13"
  },
  "orig_nbformat": 4
 },
 "nbformat": 4,
 "nbformat_minor": 2
}
