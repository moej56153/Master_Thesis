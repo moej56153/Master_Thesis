{
 "cells": [
  {
   "cell_type": "code",
   "execution_count": 1,
   "metadata": {},
   "outputs": [],
   "source": [
    "import numpy as np"
   ]
  },
  {
   "cell_type": "code",
   "execution_count": 1,
   "metadata": {},
   "outputs": [],
   "source": [
    "a = [43,44,45,422,966,967,970,1327,1328,1657,1658,1661,1662,1664,1667,1996,1999,2000]\n",
    "a+= [1268,1269,1278,1461,1462,1466,1468,1515,1516,1520,1528,1593,1597,1598,1599,1781,1784,1785,1789,1850,1856,1857,1921,1925,1927,1930,2058,2062,2063,2066]"
   ]
  },
  {
   "cell_type": "code",
   "execution_count": 2,
   "metadata": {},
   "outputs": [
    {
     "data": {
      "text/plain": [
       "[43,\n",
       " 44,\n",
       " 45,\n",
       " 422,\n",
       " 966,\n",
       " 967,\n",
       " 970,\n",
       " 1268,\n",
       " 1269,\n",
       " 1278,\n",
       " 1327,\n",
       " 1328,\n",
       " 1461,\n",
       " 1462,\n",
       " 1466,\n",
       " 1468,\n",
       " 1515,\n",
       " 1516,\n",
       " 1520,\n",
       " 1528,\n",
       " 1593,\n",
       " 1597,\n",
       " 1598,\n",
       " 1599,\n",
       " 1657,\n",
       " 1658,\n",
       " 1661,\n",
       " 1662,\n",
       " 1664,\n",
       " 1667,\n",
       " 1781,\n",
       " 1784,\n",
       " 1785,\n",
       " 1789,\n",
       " 1850,\n",
       " 1856,\n",
       " 1857,\n",
       " 1921,\n",
       " 1925,\n",
       " 1927,\n",
       " 1930,\n",
       " 1996,\n",
       " 1999,\n",
       " 2000,\n",
       " 2058,\n",
       " 2062,\n",
       " 2063,\n",
       " 2066]"
      ]
     },
     "execution_count": 2,
     "metadata": {},
     "output_type": "execute_result"
    }
   ],
   "source": [
    "sorted(a)"
   ]
  }
 ],
 "metadata": {
  "kernelspec": {
   "display_name": "MT",
   "language": "python",
   "name": "python3"
  },
  "language_info": {
   "codemirror_mode": {
    "name": "ipython",
    "version": 3
   },
   "file_extension": ".py",
   "mimetype": "text/x-python",
   "name": "python",
   "nbconvert_exporter": "python",
   "pygments_lexer": "ipython3",
   "version": "3.9.13"
  },
  "orig_nbformat": 4
 },
 "nbformat": 4,
 "nbformat_minor": 2
}
