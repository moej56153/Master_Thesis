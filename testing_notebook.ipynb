{
 "cells": [
  {
   "cell_type": "code",
   "execution_count": 35,
   "metadata": {},
   "outputs": [],
   "source": [
    "from pyspi.utils.function_utils import find_response_version\n",
    "from pyspi.utils.response.spi_response_data import ResponseDataRMF\n",
    "from pyspi.utils.response.spi_response import ResponseRMFGenerator\n",
    "from pyspi.utils.response.spi_drm import SPIDRM\n",
    "from pyspi.utils.livedets import get_live_dets\n",
    "\n",
    "import numpy as np\n"
   ]
  },
  {
   "cell_type": "code",
   "execution_count": 36,
   "metadata": {},
   "outputs": [],
   "source": [
    "time1 = \"051105 061512\"\n",
    "ra, dec = 10., -40."
   ]
  },
  {
   "cell_type": "code",
   "execution_count": 37,
   "metadata": {},
   "outputs": [
    {
     "name": "stdout",
     "output_type": "stream",
     "text": [
      "Using the irfs that are valid between 04/07/17 08:20:06 and 09/02/19 09:59:57 (YY/MM/DD HH:MM:SS)\n"
     ]
    }
   ],
   "source": [
    "version = find_response_version(time1)\n",
    "rsp_base = ResponseDataRMF.from_version(version)\n",
    "dets = get_live_dets(time=time1, event_types=[\"single\"])"
   ]
  },
  {
   "cell_type": "code",
   "execution_count": 38,
   "metadata": {},
   "outputs": [],
   "source": [
    "ein = np.array(np.linspace(20,1000,4))\n",
    "ebounds = np.array(np.linspace(20,1000,4))\n",
    "d = 0"
   ]
  },
  {
   "cell_type": "code",
   "execution_count": 39,
   "metadata": {},
   "outputs": [
    {
     "name": "stdout",
     "output_type": "stream",
     "text": [
      "[  20.          346.66666667  673.33333333 1000.        ]\n",
      "[[13.823791    2.70435285  1.79275684]\n",
      " [ 0.          8.53337789  1.70787271]\n",
      " [ 0.          0.          6.04052616]]\n"
     ]
    }
   ],
   "source": [
    "rsp1 = ResponseRMFGenerator.from_time(time1,  d,\n",
    "                                            ebounds, ein,\n",
    "                                            rsp_base)\n",
    "sd1 = SPIDRM(rsp1, ra, dec)\n",
    "print(ein)\n",
    "print(sd1.matrix)"
   ]
  },
  {
   "cell_type": "code",
   "execution_count": 40,
   "metadata": {},
   "outputs": [],
   "source": [
    "ein = np.array(np.linspace(20,1000,7))\n",
    "ebounds = np.array(np.linspace(20,1000,4))\n"
   ]
  },
  {
   "cell_type": "code",
   "execution_count": 41,
   "metadata": {},
   "outputs": [
    {
     "name": "stdout",
     "output_type": "stream",
     "text": [
      "[  20.          183.33333333  346.66666667  510.          673.33333333\n",
      "  836.66666667 1000.        ]\n",
      "[[14.06299834 15.31597976  2.85573938  2.29760791  1.91975918  1.63880981]\n",
      " [ 0.          0.          8.38959361  8.25712902  1.8686086   1.15987021]\n",
      " [ 0.          0.          0.          0.          5.73556994  5.82934172]]\n"
     ]
    }
   ],
   "source": [
    "rsp2 = ResponseRMFGenerator.from_time(time1,  d,\n",
    "                                            ebounds, ein,\n",
    "                                            rsp_base)\n",
    "sd2 = SPIDRM(rsp2, ra, dec)\n",
    "print(ein)\n",
    "print(sd2.matrix)"
   ]
  },
  {
   "cell_type": "code",
   "execution_count": 42,
   "metadata": {},
   "outputs": [
    {
     "name": "stdout",
     "output_type": "stream",
     "text": [
      "13.82379100056793\n",
      "[14.06299834 15.31597976]\n"
     ]
    }
   ],
   "source": [
    "print(sd1.matrix[0,0])\n",
    "print(sd2.matrix[0,:2])"
   ]
  },
  {
   "cell_type": "code",
   "execution_count": 43,
   "metadata": {},
   "outputs": [],
   "source": [
    "# should the value from sd1 not lie inbetween the two sd2 values?"
   ]
  },
  {
   "cell_type": "code",
   "execution_count": 3,
   "metadata": {},
   "outputs": [],
   "source": [
    "import astropy.io.fits as fits\n",
    "from astropy.table import Table\n",
    "import astropy.time as at\n",
    "from datetime import datetime\n",
    "import numpy as np\n"
   ]
  },
  {
   "cell_type": "code",
   "execution_count": 4,
   "metadata": {},
   "outputs": [],
   "source": [
    "data_path = \"./main_files/spimodfit_comparison_sim_source/pyspi_real_bkg/0374\"\n",
    "\n",
    "# Pointings and Start Times\n",
    "with fits.open(f\"{data_path}/pointing.fits\") as file:\n",
    "    t = Table.read(file[1])\n",
    "    \n",
    "    pointings = np.array(t[\"PTID_SPI\"])\n",
    "    \n",
    "    time_start = np.array(t[\"TSTART\"]) + 2451544.5\n",
    "    time_start = [at.Time(f\"{i}\", format=\"jd\").datetime for i in time_start]\n",
    "    time_start = np.array([datetime.strftime(i,'%y%m%d %H%M%S') for i in time_start])"
   ]
  },
  {
   "cell_type": "code",
   "execution_count": 5,
   "metadata": {},
   "outputs": [
    {
     "data": {
      "text/html": [
       "<div><i>Table length=71</i>\n",
       "<table id=\"table139720729390384\" class=\"table-striped table-bordered table-condensed\">\n",
       "<thead><tr><th>PTID_ISOC</th><th>PTID_SPI</th><th>OBT_START</th><th>OBT_END</th><th>TSTART</th><th>TSTOP</th><th>TELAPSE</th><th>RA_SPIX</th><th>DEC_SPIX</th><th>RA_SPIZ</th><th>DEC_SPIZ</th></tr></thead>\n",
       "<thead><tr><th></th><th></th><th></th><th></th><th>d</th><th>d</th><th>s</th><th>deg</th><th>deg</th><th>deg</th><th>deg</th></tr></thead>\n",
       "<thead><tr><th>str8</th><th>str15</th><th>uint16[4]</th><th>uint16[4]</th><th>float64</th><th>float64</th><th>float64</th><th>float32</th><th>float32</th><th>float32</th><th>float32</th></tr></thead>\n",
       "<tr><td>03740001</td><td>03740001.000000</td><td>0 .. 63737</td><td>0 .. 43300</td><td>2135.2520391666667</td><td>2135.2588705421003</td><td>590.230837467243</td><td>14.359367</td><td>-46.588104</td><td>229.94302</td><td>-37.57425</td></tr>\n",
       "<tr><td>03740002</td><td>03740002.000000</td><td>0 .. 63308</td><td>0 .. 46651</td><td>2135.260557685185</td><td>2135.291722883317</td><td>2692.673118598759</td><td>13.767507</td><td>-46.369335</td><td>230.1961</td><td>-37.48927</td></tr>\n",
       "<tr><td>03740003</td><td>03740003.000000</td><td>0 .. 61659</td><td>0 .. 57115</td><td>2135.293150277778</td><td>2135.3240407251647</td><td>2668.9346542203566</td><td>11.059443</td><td>-45.68437</td><td>230.99942</td><td>-36.81915</td></tr>\n",
       "<tr><td>03740004</td><td>03740004.000000</td><td>0 .. 60025</td><td>0 .. 15008</td><td>2135.3254650925924</td><td>2135.3563160307904</td><td>2665.521060307219</td><td>8.418544</td><td>-44.942196</td><td>231.72835</td><td>-36.096745</td></tr>\n",
       "<tr><td>03740005</td><td>03740005.000000</td><td>0 .. 58374</td><td>0 .. 31713</td><td>2135.358057685185</td><td>2135.3885297749794</td><td>2632.788558230095</td><td>5.848483</td><td>-44.144936</td><td>232.3689</td><td>-35.334618</td></tr>\n",
       "<tr><td>03740006</td><td>03740006.000000</td><td>0 .. 56748</td><td>0 .. 32146</td><td>2135.389909537037</td><td>2135.420778061946</td><td>2667.0405521188513</td><td>3.3409438</td><td>-43.29776</td><td>232.92168</td><td>-34.53164</td></tr>\n",
       "<tr><td>03740007</td><td>03740007.000000</td><td>0 .. 55089</td><td>0 .. 44763</td><td>2135.422131759259</td><td>2135.4530923111793</td><td>2674.9916858956567</td><td>4.515532</td><td>-41.49371</td><td>234.48235</td><td>-36.024696</td></tr>\n",
       "<tr><td>03740008</td><td>03740008.000000</td><td>0 .. 53411</td><td>0 .. 51792</td><td>2135.454446574074</td><td>2135.4853493518517</td><td>2669.9999999807915</td><td>6.964257</td><td>-42.318604</td><td>233.91713</td><td>-36.858116</td></tr>\n",
       "<tr><td>03740009</td><td>03740009.000000</td><td>0 .. 51716</td><td>0 .. 56845</td><td>2135.486772962963</td><td>2135.5177257286396</td><td>2674.318954438786</td><td>9.474769</td><td>-43.092133</td><td>233.2629</td><td>-37.65576</td></tr>\n",
       "<tr><td>...</td><td>...</td><td>...</td><td>...</td><td>...</td><td>...</td><td>...</td><td>...</td><td>...</td><td>...</td><td>...</td></tr>\n",
       "<tr><td>03740064</td><td>03740064.000000</td><td>0 .. 2317</td><td>0 .. 61706</td><td>2137.402212777778</td><td>2137.443072831432</td><td>3530.3086356958374</td><td>129.96204</td><td>-47.77922</td><td>229.69748</td><td>-8.723521</td></tr>\n",
       "<tr><td>03740065</td><td>03740065.000000</td><td>0 .. 152</td><td>0 .. 61398</td><td>2137.444435</td><td>2137.4853883900905</td><td>3538.3729038308957</td><td>129.87248</td><td>-49.778072</td><td>229.7015</td><td>-8.215153</td></tr>\n",
       "<tr><td>03740066</td><td>03740066.000000</td><td>0 .. 63525</td><td>0 .. 37099</td><td>2137.4867498148146</td><td>2137.52768776951</td><td>3537.0392856857507</td><td>132.97067</td><td>-49.795628</td><td>231.0554</td><td>-6.7787395</td></tr>\n",
       "<tr><td>03740067</td><td>03740067.000000</td><td>0 .. 61371</td><td>0 .. 54584</td><td>2137.52906462963</td><td>2137.5699760359967</td><td>3534.745510094217</td><td>132.93883</td><td>-47.795155</td><td>231.15605</td><td>-7.3855114</td></tr>\n",
       "<tr><td>03740068</td><td>03740068.000000</td><td>0 .. 59222</td><td>0 .. 23025</td><td>2137.5713794444446</td><td>2137.6122753351706</td><td>3533.4049587268964</td><td>132.90977</td><td>-45.79515</td><td>231.21161</td><td>-7.9940715</td></tr>\n",
       "<tr><td>03740069</td><td>03740069.000000</td><td>0 .. 57075</td><td>0 .. 58106</td><td>2137.6136942592593</td><td>2137.6545746464863</td><td>3532.0654564071447</td><td>132.883</td><td>-43.79564</td><td>231.2231</td><td>-8.602393</td></tr>\n",
       "<tr><td>03740070</td><td>03740070.000000</td><td>0 .. 54933</td><td>0 .. 28197</td><td>2137.656009074074</td><td>2137.696878304084</td><td>3531.1014728446025</td><td>132.85779</td><td>-41.795567</td><td>231.19104</td><td>-9.208782</td></tr>\n",
       "<tr><td>03740071</td><td>03740071.000000</td><td>0 .. 52799</td><td>0 .. 45488</td><td>2137.6982312962964</td><td>2137.7391651215517</td><td>3536.6825020537362</td><td>135.53822</td><td>-41.743732</td><td>232.73563</td><td>-7.9923353</td></tr>\n",
       "<tr><td>03740072</td><td>03740072.000000</td><td>0 .. 50650</td><td>0 .. 56842</td><td>2137.7407312962964</td><td>2137.7974269981073</td><td>4898.508636461338</td><td>135.70149</td><td>-43.77455</td><td>232.80838</td><td>-7.357876</td></tr>\n",
       "<tr><td>03740073</td><td>03740073.000000</td><td>0 .. 47715</td><td>0 .. 45877</td><td>2137.7987984259257</td><td>2137.9219661536376</td><td>10641.69167430955</td><td>135.77722</td><td>-45.774334</td><td>232.78235</td><td>-6.769658</td></tr>\n",
       "</table></div>"
      ],
      "text/plain": [
       "<Table length=71>\n",
       "PTID_ISOC     PTID_SPI    OBT_START  ...  DEC_SPIX   RA_SPIZ   DEC_SPIZ \n",
       "                                     ...    deg        deg       deg    \n",
       "   str8        str15      uint16[4]  ...  float32    float32   float32  \n",
       "--------- --------------- ---------- ... ---------- --------- ----------\n",
       " 03740001 03740001.000000 0 .. 63737 ... -46.588104 229.94302  -37.57425\n",
       " 03740002 03740002.000000 0 .. 63308 ... -46.369335  230.1961  -37.48927\n",
       " 03740003 03740003.000000 0 .. 61659 ...  -45.68437 230.99942  -36.81915\n",
       " 03740004 03740004.000000 0 .. 60025 ... -44.942196 231.72835 -36.096745\n",
       " 03740005 03740005.000000 0 .. 58374 ... -44.144936  232.3689 -35.334618\n",
       " 03740006 03740006.000000 0 .. 56748 ...  -43.29776 232.92168  -34.53164\n",
       " 03740007 03740007.000000 0 .. 55089 ...  -41.49371 234.48235 -36.024696\n",
       " 03740008 03740008.000000 0 .. 53411 ... -42.318604 233.91713 -36.858116\n",
       " 03740009 03740009.000000 0 .. 51716 ... -43.092133  233.2629  -37.65576\n",
       "      ...             ...        ... ...        ...       ...        ...\n",
       " 03740064 03740064.000000  0 .. 2317 ...  -47.77922 229.69748  -8.723521\n",
       " 03740065 03740065.000000   0 .. 152 ... -49.778072  229.7015  -8.215153\n",
       " 03740066 03740066.000000 0 .. 63525 ... -49.795628  231.0554 -6.7787395\n",
       " 03740067 03740067.000000 0 .. 61371 ... -47.795155 231.15605 -7.3855114\n",
       " 03740068 03740068.000000 0 .. 59222 ...  -45.79515 231.21161 -7.9940715\n",
       " 03740069 03740069.000000 0 .. 57075 ...  -43.79564  231.2231  -8.602393\n",
       " 03740070 03740070.000000 0 .. 54933 ... -41.795567 231.19104  -9.208782\n",
       " 03740071 03740071.000000 0 .. 52799 ... -41.743732 232.73563 -7.9923353\n",
       " 03740072 03740072.000000 0 .. 50650 ...  -43.77455 232.80838  -7.357876\n",
       " 03740073 03740073.000000 0 .. 47715 ... -45.774334 232.78235  -6.769658"
      ]
     },
     "execution_count": 5,
     "metadata": {},
     "output_type": "execute_result"
    }
   ],
   "source": [
    "t"
   ]
  },
  {
   "cell_type": "code",
   "execution_count": 2,
   "metadata": {},
   "outputs": [
    {
     "name": "stdout",
     "output_type": "stream",
     "text": [
      "[  18.           18.87716284   19.79707094   20.76180732   21.77355654\n",
      "   22.83460958   23.94736907   25.11435476   26.33820913   27.62170348\n",
      "   28.96774414   30.37937907   31.85980476   33.41237347   35.04060082\n",
      "   36.74817376   38.5389589    40.41701127   42.38658351   44.45213551\n",
      "   46.61834447   48.89011555   51.27259292   53.77117143   56.39150884\n",
      "   59.13953862   62.02148337   65.04386896   68.21353922   71.53767154\n",
      "   75.02379305   78.67979768   82.51396405   86.53497422   90.75193331\n",
      "   95.17439018   99.81235897  104.67634187  109.77735283  115.12694253\n",
      "  120.73722452  126.62090267  132.79129992  139.26238846  146.04882135\n",
      "  153.16596573  160.62993759  168.45763826  176.66679273  185.2759897\n",
      "  194.30472377  203.7734395   213.70357777  224.11762428  235.03916048\n",
      "  246.49291701  258.50482962  271.10209797  284.3132472   298.16819249\n",
      "  312.69830684  327.9364921   343.91725347  360.67677762  378.25301464\n",
      "  396.68576399  416.01676461  436.28978942  457.55074445  479.84777279\n",
      "  503.23136362  527.7544665   553.4726113   580.44403393  608.72980821\n",
      "  638.39398416  669.50373304  702.12949946  736.34516087  772.22819488\n",
      "  809.85985467  849.32535299  890.71405512  934.11968122  979.64051855\n",
      " 1027.37964405 1077.44515771 1129.95042737 1185.01434545 1242.76159812\n",
      " 1303.32294769 1366.83552867 1433.44315831 1503.29666225 1576.55421608\n",
      " 1653.38170346 1733.95309178 1818.45082609 1907.06624221 2000.        ]\n"
     ]
    }
   ],
   "source": [
    "import numpy as np\n",
    "\n",
    "a = np.geomspace(18,2000,100)\n",
    "print(a)"
   ]
  },
  {
   "cell_type": "code",
   "execution_count": 4,
   "metadata": {},
   "outputs": [
    {
     "name": "stdout",
     "output_type": "stream",
     "text": [
      "[ 18.          18.87716284  19.79707094  20.76180732  21.77355654\n",
      "  22.83460958  23.94736907  25.11435476  26.33820913  27.62170348\n",
      "  28.96774414  30.37937907  31.85980476  33.41237347  35.04060082\n",
      "  36.74817376  38.5389589   40.41701127  42.38658351  44.45213551\n",
      "  46.61834447  48.89011555  51.27259292  53.77117143  56.39150884\n",
      "  59.13953862  62.02148337  65.04386896  68.21353922  71.53767154\n",
      "  75.02379305  78.67979768  82.51396405  86.53497422  90.75193331\n",
      "  95.17439018  99.81235897 104.67634187 109.77735283 115.12694253\n",
      " 120.73722452 126.62090267 132.79129992 139.26238846 146.04882135\n",
      " 153.16596573 160.62993759 168.45763826 176.66679273 185.2759897\n",
      " 194.30472377 203.7734395  213.70357777 224.11762428 235.03916048\n",
      " 246.49291701 258.50482962 271.10209797 284.3132472  298.16819249\n",
      " 312.69830684 327.9364921  343.91725347 360.67677762 378.25301464\n",
      " 396.68576399 416.01676461 436.28978942 457.55074445 479.84777279]\n"
     ]
    }
   ],
   "source": [
    "print(a[:70])"
   ]
  },
  {
   "cell_type": "code",
   "execution_count": 5,
   "metadata": {},
   "outputs": [
    {
     "name": "stdout",
     "output_type": "stream",
     "text": [
      "[  18.           19.28845704   20.66914306   22.1486599    23.73408195\n",
      "   25.43299001   27.25350751   29.20433939   31.29481366   33.53492605\n",
      "   35.93538782   38.5076769    41.26409288   44.21781572   47.38296884\n",
      "   50.77468662   54.40918677   58.30384788   62.47729252   66.94947628\n",
      "   71.74178319   76.87712797   82.38006558   88.27690869   94.5958534\n",
      "  101.36711416  108.62306818  116.39841026  124.73031869  133.65863301\n",
      "  143.22604453  153.47830042  164.4644225   176.2369416   188.85214876\n",
      "  202.3703644   216.85622672  232.37900077  249.01290969  266.83748957\n",
      "  285.93796975  306.40568039  328.33848913  351.8412691   377.02640031\n",
      "  404.01430706  432.93403374  463.92386183  497.13197116  532.71714841\n",
      "  570.84954634  611.71149742  655.49838565  702.41958081  752.69943954\n",
      "  806.57837818  864.31402226  926.18243842  992.4794544  1063.52207355\n",
      " 1139.64999066 1221.22721616 1308.64381671 1402.3177803  1502.69701491\n",
      " 1610.26149019 1725.52553247 1849.04028403 1981.39633848 2123.22656463\n",
      " 2275.20913267 2438.07075685 2612.59017031 2799.60184865 3000.        ]\n"
     ]
    }
   ],
   "source": [
    "b = np.geomspace(18, 3000, 75)\n",
    "print(b)"
   ]
  },
  {
   "cell_type": "code",
   "execution_count": 8,
   "metadata": {},
   "outputs": [
    {
     "name": "stdout",
     "output_type": "stream",
     "text": [
      "[ 18.          19.28845704  20.66914306  22.1486599   23.73408195\n",
      "  25.43299001  27.25350751  29.20433939  31.29481366  33.53492605\n",
      "  35.93538782  38.5076769   41.26409288  44.21781572  47.38296884\n",
      "  50.77468662  54.40918677  58.30384788  62.47729252  66.94947628\n",
      "  71.74178319  76.87712797  82.38006558  88.27690869  94.5958534\n",
      " 101.36711416 108.62306818 116.39841026 124.73031869 133.65863301\n",
      " 143.22604453 153.47830042 164.4644225  176.2369416  188.85214876\n",
      " 202.3703644  216.85622672 232.37900077 249.01290969 266.83748957\n",
      " 285.93796975 306.40568039 328.33848913 351.8412691  377.02640031\n",
      " 404.01430706 432.93403374 463.92386183 497.13197116 532.71714841]\n"
     ]
    }
   ],
   "source": [
    "print(b[:50])"
   ]
  },
  {
   "cell_type": "code",
   "execution_count": 1,
   "metadata": {},
   "outputs": [
    {
     "name": "stderr",
     "output_type": "stream",
     "text": [
      "/home/moej56153/.pyenv/versions/3.9.13/envs/MT2/lib/python3.9/site-packages/numba/core/decorators.py:262: NumbaDeprecationWarning: \u001b[1mnumba.generated_jit is deprecated. Please see the documentation at: https://numba.readthedocs.io/en/stable/reference/deprecation.html#deprecation-of-generated-jit for more information and advice on a suitable replacement.\u001b[0m\n",
      "  warnings.warn(msg, NumbaDeprecationWarning)\n"
     ]
    },
    {
     "name": "stdout",
     "output_type": "stream",
     "text": [
      "Using the irfs that are valid between Start and 03/07/06 06:00:00 (YY/MM/DD HH:MM:SS)\n",
      "Using the irfs that are valid between 03/07/06 06:00:00 and 04/07/17 08:20:06 (YY/MM/DD HH:MM:SS)\n",
      "Using the irfs that are valid between 04/07/17 08:20:06 and 09/02/19 09:59:57 (YY/MM/DD HH:MM:SS)\n",
      "Using the irfs that are valid between 09/02/19 09:59:57 and 10/05/27 12:45:00 (YY/MM/DD HH:MM:SS)\n",
      "Using the irfs that are valid between 10/05/27 12:45:00 and present (YY/MM/DD HH:MM:SS)\n"
     ]
    }
   ],
   "source": [
    "import sys, os\n",
    "sys.path.insert(0, os.path.abspath('./main_files'))\n",
    "\n",
    "from PointingClusters import *\n",
    "\n"
   ]
  },
  {
   "cell_type": "code",
   "execution_count": 9,
   "metadata": {},
   "outputs": [],
   "source": [
    "data_folder = \"./main_files/SPI_data/0043\"\n",
    "\n",
    "outliers = load_outliers(\"./main_files/SPI_data/low_energy_outliers.pickle\",\"0043\")\n",
    "pointings = load_clusters(data_folder)"
   ]
  },
  {
   "cell_type": "code",
   "execution_count": 10,
   "metadata": {},
   "outputs": [
    {
     "data": {
      "text/plain": [
       "(((('004300060010', './main_files/SPI_data/0043'),\n",
       "   ('004300080010', './main_files/SPI_data/0043')),\n",
       "  (('004300070010', './main_files/SPI_data/0043'),\n",
       "   ('004300090010', './main_files/SPI_data/0043')),\n",
       "  (('004300100010', './main_files/SPI_data/0043'),\n",
       "   ('004300130010', './main_files/SPI_data/0043')),\n",
       "  (('004300110010', './main_files/SPI_data/0043'),\n",
       "   ('004300140010', './main_files/SPI_data/0043')),\n",
       "  (('004300150010', './main_files/SPI_data/0043'),\n",
       "   ('004300170010', './main_files/SPI_data/0043')),\n",
       "  (('004300160010', './main_files/SPI_data/0043'),\n",
       "   ('004300180010', './main_files/SPI_data/0043')),\n",
       "  (('004300200010', './main_files/SPI_data/0043'),\n",
       "   ('004300220010', './main_files/SPI_data/0043')),\n",
       "  (('004300210010', './main_files/SPI_data/0043'),\n",
       "   ('004300230010', './main_files/SPI_data/0043')),\n",
       "  (('004300240010', './main_files/SPI_data/0043'),\n",
       "   ('004300270010', './main_files/SPI_data/0043')),\n",
       "  (('004300250010', './main_files/SPI_data/0043'),\n",
       "   ('004300280010', './main_files/SPI_data/0043')),\n",
       "  (('004300260010', './main_files/SPI_data/0043'),\n",
       "   ('004300330010', './main_files/SPI_data/0043')),\n",
       "  (('004300290010', './main_files/SPI_data/0043'),\n",
       "   ('004300310010', './main_files/SPI_data/0043')),\n",
       "  (('004300300010', './main_files/SPI_data/0043'),\n",
       "   ('004300320010', './main_files/SPI_data/0043')),\n",
       "  (('004300340010', './main_files/SPI_data/0043'),\n",
       "   ('004300360010', './main_files/SPI_data/0043')),\n",
       "  (('004300350010', './main_files/SPI_data/0043'),\n",
       "   ('004300370010', './main_files/SPI_data/0043')),\n",
       "  (('004300380010', './main_files/SPI_data/0043'),\n",
       "   ('004300400010', './main_files/SPI_data/0043')),\n",
       "  (('004300390010', './main_files/SPI_data/0043'),\n",
       "   ('004300410010', './main_files/SPI_data/0043')),\n",
       "  (('004300420010', './main_files/SPI_data/0043'),\n",
       "   ('004300440010', './main_files/SPI_data/0043')),\n",
       "  (('004300430010', './main_files/SPI_data/0043'),\n",
       "   ('004300450010', './main_files/SPI_data/0043')),\n",
       "  (('004300460010', './main_files/SPI_data/0043'),\n",
       "   ('004300480010', './main_files/SPI_data/0043')),\n",
       "  (('004300470010', './main_files/SPI_data/0043'),\n",
       "   ('004300490010', './main_files/SPI_data/0043')),\n",
       "  (('004300500010', './main_files/SPI_data/0043'),\n",
       "   ('004300520010', './main_files/SPI_data/0043')),\n",
       "  (('004300510010', './main_files/SPI_data/0043'),\n",
       "   ('004300530010', './main_files/SPI_data/0043')),\n",
       "  (('004300540010', './main_files/SPI_data/0043'),\n",
       "   ('004300560010', './main_files/SPI_data/0043')),\n",
       "  (('004300550010', './main_files/SPI_data/0043'),\n",
       "   ('004300570010', './main_files/SPI_data/0043')),\n",
       "  (('004300580010', './main_files/SPI_data/0043'),\n",
       "   ('004300600010', './main_files/SPI_data/0043')),\n",
       "  (('004300590010', './main_files/SPI_data/0043'),\n",
       "   ('004300610010', './main_files/SPI_data/0043')),\n",
       "  (('004300620010', './main_files/SPI_data/0043'),\n",
       "   ('004300640010', './main_files/SPI_data/0043')),\n",
       "  (('004300630010', './main_files/SPI_data/0043'),\n",
       "   ('004300650010', './main_files/SPI_data/0043')),\n",
       "  (('004300660010', './main_files/SPI_data/0043'),\n",
       "   ('004300700010', './main_files/SPI_data/0043')),\n",
       "  (('004300670010', './main_files/SPI_data/0043'),\n",
       "   ('004300690010', './main_files/SPI_data/0043')),\n",
       "  (('004300710010', './main_files/SPI_data/0043'),\n",
       "   ('004300730010', './main_files/SPI_data/0043')),\n",
       "  (('004300720010', './main_files/SPI_data/0043'),\n",
       "   ('004300740010', './main_files/SPI_data/0043')),\n",
       "  (('004300750010', './main_files/SPI_data/0043'),\n",
       "   ('004300770010', './main_files/SPI_data/0043')),\n",
       "  (('004300760010', './main_files/SPI_data/0043'),\n",
       "   ('004300780010', './main_files/SPI_data/0043')),\n",
       "  (('004300790010', './main_files/SPI_data/0043'),\n",
       "   ('004300810010', './main_files/SPI_data/0043'))),\n",
       " (('004300060010', '004300080020'),))"
      ]
     },
     "execution_count": 10,
     "metadata": {},
     "output_type": "execute_result"
    }
   ],
   "source": [
    "pointings, outliers"
   ]
  },
  {
   "cell_type": "code",
   "execution_count": 11,
   "metadata": {},
   "outputs": [
    {
     "ename": "AssertionError",
     "evalue": "Outliers do not correspond to Clusters",
     "output_type": "error",
     "traceback": [
      "\u001b[0;31m---------------------------------------------------------------------------\u001b[0m",
      "\u001b[0;31mAssertionError\u001b[0m                            Traceback (most recent call last)",
      "Cell \u001b[0;32mIn[11], line 1\u001b[0m\n\u001b[0;32m----> 1\u001b[0m remove_outlier_clusters(pointings, outliers)\n",
      "File \u001b[0;32m~/Master_Thesis/main_files/PointingClusters.py:42\u001b[0m, in \u001b[0;36mremove_outlier_clusters\u001b[0;34m(pointings, outliers)\u001b[0m\n\u001b[1;32m     40\u001b[0m     \u001b[39mif\u001b[39;00m cluster2[\u001b[39m0\u001b[39m] \u001b[39m==\u001b[39m cluster[\u001b[39m0\u001b[39m][\u001b[39m0\u001b[39m]:\n\u001b[1;32m     41\u001b[0m         was_in \u001b[39m=\u001b[39m \u001b[39mTrue\u001b[39;00m\n\u001b[0;32m---> 42\u001b[0m         \u001b[39massert\u001b[39;00m cluster2[\u001b[39m1\u001b[39m] \u001b[39m==\u001b[39m cluster[\u001b[39m1\u001b[39m][\u001b[39m0\u001b[39m], \u001b[39m\"\u001b[39m\u001b[39mOutliers do not correspond to Clusters\u001b[39m\u001b[39m\"\u001b[39m\n\u001b[1;32m     43\u001b[0m         \u001b[39m# continue\u001b[39;00m\n\u001b[1;32m     44\u001b[0m \u001b[39mif\u001b[39;00m \u001b[39mnot\u001b[39;00m was_in:\n",
      "\u001b[0;31mAssertionError\u001b[0m: Outliers do not correspond to Clusters"
     ]
    }
   ],
   "source": [
    "remove_outlier_clusters(pointings, outliers)"
   ]
  }
 ],
 "metadata": {
  "kernelspec": {
   "display_name": "MT",
   "language": "python",
   "name": "python3"
  },
  "language_info": {
   "codemirror_mode": {
    "name": "ipython",
    "version": 3
   },
   "file_extension": ".py",
   "mimetype": "text/x-python",
   "name": "python",
   "nbconvert_exporter": "python",
   "pygments_lexer": "ipython3",
   "version": "3.9.13"
  },
  "orig_nbformat": 4
 },
 "nbformat": 4,
 "nbformat_minor": 2
}
