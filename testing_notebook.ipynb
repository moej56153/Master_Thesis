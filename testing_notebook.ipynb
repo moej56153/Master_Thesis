{
 "cells": [
  {
   "cell_type": "code",
   "execution_count": 57,
   "metadata": {},
   "outputs": [],
   "source": [
    "from pyspi.utils.function_utils import find_response_version\n",
    "from pyspi.utils.response.spi_response_data import ResponseDataRMF\n",
    "from pyspi.utils.response.spi_response import ResponseRMFGenerator\n",
    "from pyspi.utils.response.spi_drm import SPIDRM\n",
    "from pyspi.utils.livedets import get_live_dets\n",
    "\n",
    "import numpy as np\n"
   ]
  },
  {
   "cell_type": "code",
   "execution_count": 58,
   "metadata": {},
   "outputs": [],
   "source": [
    "time1 = \"051105 061512\"\n",
    "ra, dec = 10., -40."
   ]
  },
  {
   "cell_type": "code",
   "execution_count": 59,
   "metadata": {},
   "outputs": [
    {
     "name": "stdout",
     "output_type": "stream",
     "text": [
      "Using the irfs that are valid between 04/07/17 08:20:06 and 09/02/19 09:59:57 (YY/MM/DD HH:MM:SS)\n"
     ]
    }
   ],
   "source": [
    "version = find_response_version(time1)\n",
    "rsp_base = ResponseDataRMF.from_version(version)\n",
    "dets = get_live_dets(time=time1, event_types=[\"single\"])"
   ]
  },
  {
   "cell_type": "code",
   "execution_count": 60,
   "metadata": {},
   "outputs": [],
   "source": [
    "ein = np.geomspace(20,800,6)\n",
    "ebounds = np.geomspace(20,200, 6)\n",
    "d = 0\n"
   ]
  },
  {
   "cell_type": "code",
   "execution_count": 61,
   "metadata": {},
   "outputs": [
    {
     "name": "stdout",
     "output_type": "stream",
     "text": [
      "[[3.36413208 0.13080862 0.074996   0.10984525 0.15860172]\n",
      " [3.68511853 3.59088075 0.07487477 0.19133634 0.25866502]\n",
      " [0.         8.73891479 1.00888777 0.57688616 0.47322423]\n",
      " [0.         2.12014682 5.83787191 0.76633158 0.93230756]\n",
      " [0.         0.         9.03481842 2.94091853 2.33429362]]\n"
     ]
    }
   ],
   "source": [
    "rsp1 = ResponseRMFGenerator.from_time(time1,  d,\n",
    "                                            ebounds, ein,\n",
    "                                            rsp_base)\n",
    "sd1 = SPIDRM(rsp1, ra, dec)\n",
    "print(sd1.matrix)"
   ]
  },
  {
   "cell_type": "code",
   "execution_count": 62,
   "metadata": {},
   "outputs": [
    {
     "name": "stdout",
     "output_type": "stream",
     "text": [
      "[[ 0.         10.18791689  1.09634603  0.70162617  0.54210095]\n",
      " [ 0.          2.12014682  5.85688712  0.82075417  1.04374185]\n",
      " [ 0.          0.          9.07821572  3.06293752  2.57124935]]\n"
     ]
    }
   ],
   "source": [
    "rsp2 = ResponseRMFGenerator.from_time(time1,  d,\n",
    "                                            ebounds[2:], ein,\n",
    "                                            rsp_base)\n",
    "sd2 = SPIDRM(rsp2, ra, dec)\n",
    "print(sd2.matrix)"
   ]
  },
  {
   "cell_type": "code",
   "execution_count": 63,
   "metadata": {},
   "outputs": [
    {
     "name": "stdout",
     "output_type": "stream",
     "text": [
      "[[0.         8.73891479 1.00888777 0.57688616 0.47322423]\n",
      " [0.         2.12014682 5.83787191 0.76633158 0.93230756]\n",
      " [0.         0.         9.03481842 2.94091853 2.33429362]]\n"
     ]
    }
   ],
   "source": [
    "print(sd1.matrix[2:, :])"
   ]
  },
  {
   "cell_type": "code",
   "execution_count": 64,
   "metadata": {},
   "outputs": [
    {
     "name": "stdout",
     "output_type": "stream",
     "text": [
      "False\n"
     ]
    }
   ],
   "source": [
    "print(np.array_equal(sd1.matrix[2:, :], sd2.matrix))"
   ]
  },
  {
   "cell_type": "code",
   "execution_count": 65,
   "metadata": {},
   "outputs": [],
   "source": [
    "# Therefore the response matrix changes even if we simply cut off part of the observed energy range\n",
    "# These should be independent of each other"
   ]
  }
 ],
 "metadata": {
  "kernelspec": {
   "display_name": "MT",
   "language": "python",
   "name": "python3"
  },
  "language_info": {
   "codemirror_mode": {
    "name": "ipython",
    "version": 3
   },
   "file_extension": ".py",
   "mimetype": "text/x-python",
   "name": "python",
   "nbconvert_exporter": "python",
   "pygments_lexer": "ipython3",
   "version": "3.9.13"
  },
  "orig_nbformat": 4
 },
 "nbformat": 4,
 "nbformat_minor": 2
}
