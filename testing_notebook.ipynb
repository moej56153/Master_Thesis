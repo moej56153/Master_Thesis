{
 "cells": [
  {
   "cell_type": "code",
   "execution_count": 35,
   "metadata": {},
   "outputs": [],
   "source": [
    "from pyspi.utils.function_utils import find_response_version\n",
    "from pyspi.utils.response.spi_response_data import ResponseDataRMF\n",
    "from pyspi.utils.response.spi_response import ResponseRMFGenerator\n",
    "from pyspi.utils.response.spi_drm import SPIDRM\n",
    "from pyspi.utils.livedets import get_live_dets\n",
    "\n",
    "import numpy as np\n"
   ]
  },
  {
   "cell_type": "code",
   "execution_count": 36,
   "metadata": {},
   "outputs": [],
   "source": [
    "time1 = \"051105 061512\"\n",
    "ra, dec = 10., -40."
   ]
  },
  {
   "cell_type": "code",
   "execution_count": 37,
   "metadata": {},
   "outputs": [
    {
     "name": "stdout",
     "output_type": "stream",
     "text": [
      "Using the irfs that are valid between 04/07/17 08:20:06 and 09/02/19 09:59:57 (YY/MM/DD HH:MM:SS)\n"
     ]
    }
   ],
   "source": [
    "version = find_response_version(time1)\n",
    "rsp_base = ResponseDataRMF.from_version(version)\n",
    "dets = get_live_dets(time=time1, event_types=[\"single\"])"
   ]
  },
  {
   "cell_type": "code",
   "execution_count": 38,
   "metadata": {},
   "outputs": [],
   "source": [
    "ein = np.array(np.linspace(20,1000,4))\n",
    "ebounds = np.array(np.linspace(20,1000,4))\n",
    "d = 0"
   ]
  },
  {
   "cell_type": "code",
   "execution_count": 39,
   "metadata": {},
   "outputs": [
    {
     "name": "stdout",
     "output_type": "stream",
     "text": [
      "[  20.          346.66666667  673.33333333 1000.        ]\n",
      "[[13.823791    2.70435285  1.79275684]\n",
      " [ 0.          8.53337789  1.70787271]\n",
      " [ 0.          0.          6.04052616]]\n"
     ]
    }
   ],
   "source": [
    "rsp1 = ResponseRMFGenerator.from_time(time1,  d,\n",
    "                                            ebounds, ein,\n",
    "                                            rsp_base)\n",
    "sd1 = SPIDRM(rsp1, ra, dec)\n",
    "print(ein)\n",
    "print(sd1.matrix)"
   ]
  },
  {
   "cell_type": "code",
   "execution_count": 40,
   "metadata": {},
   "outputs": [],
   "source": [
    "ein = np.array(np.linspace(20,1000,7))\n",
    "ebounds = np.array(np.linspace(20,1000,4))\n"
   ]
  },
  {
   "cell_type": "code",
   "execution_count": 41,
   "metadata": {},
   "outputs": [
    {
     "name": "stdout",
     "output_type": "stream",
     "text": [
      "[  20.          183.33333333  346.66666667  510.          673.33333333\n",
      "  836.66666667 1000.        ]\n",
      "[[14.06299834 15.31597976  2.85573938  2.29760791  1.91975918  1.63880981]\n",
      " [ 0.          0.          8.38959361  8.25712902  1.8686086   1.15987021]\n",
      " [ 0.          0.          0.          0.          5.73556994  5.82934172]]\n"
     ]
    }
   ],
   "source": [
    "rsp2 = ResponseRMFGenerator.from_time(time1,  d,\n",
    "                                            ebounds, ein,\n",
    "                                            rsp_base)\n",
    "sd2 = SPIDRM(rsp2, ra, dec)\n",
    "print(ein)\n",
    "print(sd2.matrix)"
   ]
  },
  {
   "cell_type": "code",
   "execution_count": 42,
   "metadata": {},
   "outputs": [
    {
     "name": "stdout",
     "output_type": "stream",
     "text": [
      "13.82379100056793\n",
      "[14.06299834 15.31597976]\n"
     ]
    }
   ],
   "source": [
    "print(sd1.matrix[0,0])\n",
    "print(sd2.matrix[0,:2])"
   ]
  },
  {
   "cell_type": "code",
   "execution_count": 43,
   "metadata": {},
   "outputs": [],
   "source": [
    "# should the value from sd1 not lie inbetween the two sd2 values?"
   ]
  }
 ],
 "metadata": {
  "kernelspec": {
   "display_name": "MT",
   "language": "python",
   "name": "python3"
  },
  "language_info": {
   "codemirror_mode": {
    "name": "ipython",
    "version": 3
   },
   "file_extension": ".py",
   "mimetype": "text/x-python",
   "name": "python",
   "nbconvert_exporter": "python",
   "pygments_lexer": "ipython3",
   "version": "3.9.13"
  },
  "orig_nbformat": 4
 },
 "nbformat": 4,
 "nbformat_minor": 2
}
