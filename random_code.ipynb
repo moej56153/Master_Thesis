{
 "cells": [
  {
   "cell_type": "code",
   "execution_count": 1,
   "metadata": {},
   "outputs": [],
   "source": [
    "import numpy as np\n",
    "from numba import njit"
   ]
  },
  {
   "cell_type": "code",
   "execution_count": 2,
   "metadata": {},
   "outputs": [
    {
     "data": {
      "text/plain": [
       "(array([[50., 49., 48., 47., 46., 45., 44., 43., 42., 41., 40., 39., 38.,\n",
       "         37., 36., 35., 34., 33., 32., 31., 30., 29., 28., 27., 26.],\n",
       "        [25., 24., 23., 22., 21., 20., 19., 18., 17., 16., 15., 14., 13.,\n",
       "         12., 11., 10.,  9.,  8.,  7.,  6.,  5.,  4.,  3.,  2.,  1.]]),\n",
       " array([[ 1.,  2.,  3.,  4.,  5.,  6.,  7.,  8.,  9., 10., 11., 12., 13.,\n",
       "         14., 15., 16., 17., 18., 19., 20., 21., 22., 23., 24., 25.],\n",
       "        [26., 27., 28., 29., 30., 31., 32., 33., 34., 35., 36., 37., 38.,\n",
       "         39., 40., 41., 42., 43., 44., 45., 46., 47., 48., 49., 50.],\n",
       "        [51., 52., 53., 54., 55., 56., 57., 58., 59., 60., 61., 62., 63.,\n",
       "         64., 65., 66., 67., 68., 69., 70., 71., 72., 73., 74., 75.]]))"
      ]
     },
     "execution_count": 2,
     "metadata": {},
     "output_type": "execute_result"
    }
   ],
   "source": [
    "a = np.reshape(np.linspace(50,1,50), (2,25))\n",
    "b = np.reshape(np.linspace(1,75,75), (3,25))\n",
    "a, b"
   ]
  },
  {
   "cell_type": "code",
   "execution_count": 3,
   "metadata": {},
   "outputs": [
    {
     "data": {
      "text/plain": [
       "array([[50., 49., 48., 47., 46., 45., 44., 43., 42., 41., 40., 39., 38.,\n",
       "        37., 36., 35., 34., 33., 32., 31., 30., 29., 28., 27., 26.],\n",
       "       [25., 24., 23., 22., 21., 20., 19., 18., 17., 16., 15., 14., 13.,\n",
       "        12., 11., 10.,  9.,  8.,  7.,  6.,  5.,  4.,  3.,  2.,  1.],\n",
       "       [ 1.,  2.,  3.,  4.,  5.,  6.,  7.,  8.,  9., 10., 11., 12., 13.,\n",
       "        14., 15., 16., 17., 18., 19., 20., 21., 22., 23., 24., 25.],\n",
       "       [26., 27., 28., 29., 30., 31., 32., 33., 34., 35., 36., 37., 38.,\n",
       "        39., 40., 41., 42., 43., 44., 45., 46., 47., 48., 49., 50.],\n",
       "       [51., 52., 53., 54., 55., 56., 57., 58., 59., 60., 61., 62., 63.,\n",
       "        64., 65., 66., 67., 68., 69., 70., 71., 72., 73., 74., 75.]])"
      ]
     },
     "execution_count": 3,
     "metadata": {},
     "output_type": "execute_result"
    }
   ],
   "source": [
    "np.append(a, b, axis=0)"
   ]
  },
  {
   "cell_type": "code",
   "execution_count": 12,
   "metadata": {},
   "outputs": [
    {
     "name": "stdout",
     "output_type": "stream",
     "text": [
      "[array([0., 0., 0., 0., 0.]), array([1., 2., 3., 4., 5.]), array([ 2.,  4.,  6.,  8., 10.]), array([ 3.,  6.,  9., 12., 15.]), array([ 4.,  8., 12., 16., 20.]), array([ 5., 10., 15., 20., 25.]), array([ 6., 12., 18., 24., 30.]), array([ 7., 14., 21., 28., 35.]), array([ 8., 16., 24., 32., 40.]), array([ 9., 18., 27., 36., 45.])]\n",
      "\n",
      "[0. 0. 0. 0. 0.]\n",
      "[1. 2. 3. 4. 5.]\n",
      "[ 2.  4.  6.  8. 10.]\n",
      "[ 3.  6.  9. 12. 15.]\n",
      "[ 4.  8. 12. 16. 20.]\n"
     ]
    }
   ],
   "source": [
    "a = []\n",
    "for i in range(10):\n",
    "    a.append(np.linspace(i,i*5,5))\n",
    "print(a)\n",
    "print()\n",
    "a = tuple(a)\n",
    "@njit\n",
    "def test():\n",
    "    # a = []\n",
    "    # for i in range(10):\n",
    "    #     a.append(np.linspace(i,i*5,5))\n",
    "    for i in range(5):\n",
    "        print(a[i])\n",
    "\n",
    "test()"
   ]
  }
 ],
 "metadata": {
  "kernelspec": {
   "display_name": "Python 3.9.13 64-bit ('MT')",
   "language": "python",
   "name": "python3"
  },
  "language_info": {
   "codemirror_mode": {
    "name": "ipython",
    "version": 3
   },
   "file_extension": ".py",
   "mimetype": "text/x-python",
   "name": "python",
   "nbconvert_exporter": "python",
   "pygments_lexer": "ipython3",
   "version": "3.9.13"
  },
  "orig_nbformat": 4,
  "vscode": {
   "interpreter": {
    "hash": "77c6aaad9a34bae581a83e51509dc60b9a05d4f3ba3ef918f772e036566f2e96"
   }
  }
 },
 "nbformat": 4,
 "nbformat_minor": 2
}
